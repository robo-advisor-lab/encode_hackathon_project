{
 "cells": [
  {
   "cell_type": "markdown",
   "metadata": {},
   "source": [
    "# Single iteration example\n",
    "Once you're happy with the first version of your functionality, you can build a scheduler around this to run on a regular basis or listen for events. The simplest possible version of a scheduler is a while loop. "
   ]
  },
  {
   "cell_type": "markdown",
   "metadata": {},
   "source": [
    "## Setup openai client\n",
    "We use Openai's GPT-4o model for this example, but you are free to use any model you want."
   ]
  },
  {
   "cell_type": "code",
   "execution_count": 1,
   "metadata": {},
   "outputs": [
    {
     "data": {
      "text/plain": [
       "True"
      ]
     },
     "execution_count": 1,
     "metadata": {},
     "output_type": "execute_result"
    }
   ],
   "source": [
    "from dotenv import load_dotenv\n",
    "import os\n",
    "\n",
    "load_dotenv()"
   ]
  },
  {
   "cell_type": "code",
   "execution_count": 2,
   "metadata": {},
   "outputs": [],
   "source": [
    "OPENAI_API_KEY = os.getenv('OPENAI_API_KEY')"
   ]
  },
  {
   "cell_type": "code",
   "execution_count": 3,
   "metadata": {},
   "outputs": [],
   "source": [
    "from openai import OpenAI\n",
    "openai_client = OpenAI(api_key=OPENAI_API_KEY)\n",
    "\n",
    "# if you're getting an error here, ensure your envirornment is setup and that you have exported an openai api key\n",
    "# export OPENAI_API_KEY=\"your_api_key_here\""
   ]
  },
  {
   "cell_type": "markdown",
   "metadata": {},
   "source": [
    "## Setup hyperliquid sdk \n",
    "We use the hyperliquid L1 netowrk for this example, but you are free to use any app/chain you want.\n",
    "Hyperliquid offers a great SDK for python, fast settlement times for trades, and friendly user interface."
   ]
  },
  {
   "cell_type": "code",
   "execution_count": 4,
   "metadata": {},
   "outputs": [
    {
     "name": "stdout",
     "output_type": "stream",
     "text": [
      "{\n",
      "  \"marginSummary\": {\n",
      "    \"accountValue\": \"327254.764901\",\n",
      "    \"totalNtlPos\": \"50718.863775\",\n",
      "    \"totalRawUsd\": \"352482.534706\",\n",
      "    \"totalMarginUsed\": \"2556.203051\"\n",
      "  },\n",
      "  \"crossMarginSummary\": {\n",
      "    \"accountValue\": \"327254.764901\",\n",
      "    \"totalNtlPos\": \"50718.863775\",\n",
      "    \"totalRawUsd\": \"352482.534706\",\n",
      "    \"totalMarginUsed\": \"2556.203051\"\n",
      "  },\n",
      "  \"crossMaintenanceMarginUsed\": \"507.188635\",\n",
      "  \"withdrawable\": \"324698.56185\",\n",
      "  \"assetPositions\": [\n",
      "    {\n",
      "      \"type\": \"oneWay\",\n",
      "      \"position\": {\n",
      "        \"coin\": \"ATOM\",\n",
      "        \"szi\": \"491.45\",\n",
      "        \"leverage\": {\n",
      "          \"type\": \"cross\",\n",
      "          \"value\": 20\n",
      "        },\n",
      "        \"entryPx\": \"10.9725\",\n",
      "        \"positionValue\": \"4382.013925\",\n",
      "        \"unrealizedPnl\": \"-1010.4212\",\n",
      "        \"returnOnEquity\": \"-3.74755069\",\n",
      "        \"liquidationPx\": null,\n",
      "        \"marginUsed\": \"219.100696\",\n",
      "        \"maxLeverage\": 50,\n",
      "        \"cumFunding\": {\n",
      "          \"allTime\": \"-1689.259767\",\n",
      "          \"sinceOpen\": \"-1689.259767\",\n",
      "          \"sinceChange\": \"14.24621\"\n",
      "        }\n",
      "      }\n",
      "    },\n",
      "    {\n",
      "      \"type\": \"oneWay\",\n",
      "      \"position\": {\n",
      "        \"coin\": \"BTC\",\n",
      "        \"szi\": \"-0.15792\",\n",
      "        \"leverage\": {\n",
      "          \"type\": \"cross\",\n",
      "          \"value\": 20\n",
      "        },\n",
      "        \"entryPx\": \"31538.2\",\n",
      "        \"positionValue\": \"15962.07984\",\n",
      "        \"unrealizedPnl\": \"-10981.567296\",\n",
      "        \"returnOnEquity\": \"-44.0981413\",\n",
      "        \"liquidationPx\": \"2149661.42089992\",\n",
      "        \"marginUsed\": \"798.103992\",\n",
      "        \"maxLeverage\": 50,\n",
      "        \"cumFunding\": {\n",
      "          \"allTime\": \"-7281.73415\",\n",
      "          \"sinceOpen\": \"-7281.73415\",\n",
      "          \"sinceChange\": \"-7484.359752\"\n",
      "        }\n",
      "      }\n",
      "    },\n",
      "    {\n",
      "      \"type\": \"oneWay\",\n",
      "      \"position\": {\n",
      "        \"coin\": \"ETH\",\n",
      "        \"szi\": \"-2.8225\",\n",
      "        \"leverage\": {\n",
      "          \"type\": \"cross\",\n",
      "          \"value\": 20\n",
      "        },\n",
      "        \"entryPx\": \"2008.46\",\n",
      "        \"positionValue\": \"10965.977\",\n",
      "        \"unrealizedPnl\": \"-5297.09865\",\n",
      "        \"returnOnEquity\": \"-18.68834829\",\n",
      "        \"liquidationPx\": \"118504.3148799\",\n",
      "        \"marginUsed\": \"548.29885\",\n",
      "        \"maxLeverage\": 50,\n",
      "        \"cumFunding\": {\n",
      "          \"allTime\": \"-8755.581232\",\n",
      "          \"sinceOpen\": \"-8755.581232\",\n",
      "          \"sinceChange\": \"-8915.939326\"\n",
      "        }\n",
      "      }\n",
      "    },\n",
      "    {\n",
      "      \"type\": \"oneWay\",\n",
      "      \"position\": {\n",
      "        \"coin\": \"BNB\",\n",
      "        \"szi\": \"-14.872\",\n",
      "        \"leverage\": {\n",
      "          \"type\": \"cross\",\n",
      "          \"value\": 20\n",
      "        },\n",
      "        \"entryPx\": \"346.33\",\n",
      "        \"positionValue\": \"10627.38248\",\n",
      "        \"unrealizedPnl\": \"-5476.757247\",\n",
      "        \"returnOnEquity\": \"-21.26637835\",\n",
      "        \"liquidationPx\": \"22467.71343656\",\n",
      "        \"marginUsed\": \"531.369124\",\n",
      "        \"maxLeverage\": 50,\n",
      "        \"cumFunding\": {\n",
      "          \"allTime\": \"-2412.873243\",\n",
      "          \"sinceOpen\": \"-2412.873243\",\n",
      "          \"sinceChange\": \"-2428.818024\"\n",
      "        }\n",
      "      }\n",
      "    },\n",
      "    {\n",
      "      \"type\": \"oneWay\",\n",
      "      \"position\": {\n",
      "        \"coin\": \"GMT\",\n",
      "        \"szi\": \"232.0\",\n",
      "        \"leverage\": {\n",
      "          \"type\": \"cross\",\n",
      "          \"value\": 2\n",
      "        },\n",
      "        \"entryPx\": \"0.323488\",\n",
      "        \"positionValue\": \"45.02192\",\n",
      "        \"unrealizedPnl\": \"-30.027296\",\n",
      "        \"returnOnEquity\": \"-0.80020279\",\n",
      "        \"liquidationPx\": null,\n",
      "        \"marginUsed\": \"22.51096\",\n",
      "        \"maxLeverage\": 50,\n",
      "        \"cumFunding\": {\n",
      "          \"allTime\": \"189.069681\",\n",
      "          \"sinceOpen\": \"189.069681\",\n",
      "          \"sinceChange\": \"6.353075\"\n",
      "        }\n",
      "      }\n",
      "    },\n",
      "    {\n",
      "      \"type\": \"oneWay\",\n",
      "      \"position\": {\n",
      "        \"coin\": \"DYDX\",\n",
      "        \"szi\": \"-200.7\",\n",
      "        \"leverage\": {\n",
      "          \"type\": \"cross\",\n",
      "          \"value\": 20\n",
      "        },\n",
      "        \"entryPx\": \"3.0287\",\n",
      "        \"positionValue\": \"417.87747\",\n",
      "        \"unrealizedPnl\": \"189.98262\",\n",
      "        \"returnOnEquity\": \"6.25086671\",\n",
      "        \"liquidationPx\": \"1614.00263686\",\n",
      "        \"marginUsed\": \"20.893873\",\n",
      "        \"maxLeverage\": 50,\n",
      "        \"cumFunding\": {\n",
      "          \"allTime\": \"-1117.907083\",\n",
      "          \"sinceOpen\": \"-43.847049\",\n",
      "          \"sinceChange\": \"-43.847049\"\n",
      "        }\n",
      "      }\n",
      "    },\n",
      "    {\n",
      "      \"type\": \"oneWay\",\n",
      "      \"position\": {\n",
      "        \"coin\": \"APE\",\n",
      "        \"szi\": \"2689.3\",\n",
      "        \"leverage\": {\n",
      "          \"type\": \"cross\",\n",
      "          \"value\": 20\n",
      "        },\n",
      "        \"entryPx\": \"3.82611\",\n",
      "        \"positionValue\": \"4162.22961\",\n",
      "        \"unrealizedPnl\": \"-6127.328013\",\n",
      "        \"returnOnEquity\": \"-11.90979873\",\n",
      "        \"liquidationPx\": null,\n",
      "        \"marginUsed\": \"208.11148\",\n",
      "        \"maxLeverage\": 50,\n",
      "        \"cumFunding\": {\n",
      "          \"allTime\": \"312.630039\",\n",
      "          \"sinceOpen\": \"312.630039\",\n",
      "          \"sinceChange\": \"312.630039\"\n",
      "        }\n",
      "      }\n",
      "    },\n",
      "    {\n",
      "      \"type\": \"oneWay\",\n",
      "      \"position\": {\n",
      "        \"coin\": \"OP\",\n",
      "        \"szi\": \"1646.9\",\n",
      "        \"leverage\": {\n",
      "          \"type\": \"cross\",\n",
      "          \"value\": 20\n",
      "        },\n",
      "        \"entryPx\": \"2.0938\",\n",
      "        \"positionValue\": \"4156.28153\",\n",
      "        \"unrealizedPnl\": \"707.985842\",\n",
      "        \"returnOnEquity\": \"4.10629427\",\n",
      "        \"liquidationPx\": null,\n",
      "        \"marginUsed\": \"207.814076\",\n",
      "        \"maxLeverage\": 50,\n",
      "        \"cumFunding\": {\n",
      "          \"allTime\": \"825.061556\",\n",
      "          \"sinceOpen\": \"825.061556\",\n",
      "          \"sinceChange\": \"667.25986\"\n",
      "        }\n",
      "      }\n",
      "    }\n",
      "  ],\n",
      "  \"time\": 1734188987795\n",
      "}\n"
     ]
    }
   ],
   "source": [
    "from hyperliquid.info import Info\n",
    "from hyperliquid.utils import constants\n",
    "import json\n",
    "\n",
    "info = Info(constants.TESTNET_API_URL, skip_ws=True)\n",
    "\n",
    "# This is an example address, when you start trading this should be replaced with your address\n",
    "user_state = info.user_state(\"0xcd5051944f780a621ee62e39e493c489668acf4d\") \n",
    "print(json.dumps(user_state, indent=2))\n",
    "\n",
    "# if you're getting an error or no user_state here make sure your environment variables are set correctly and that all requirements are installed"
   ]
  },
  {
   "cell_type": "markdown",
   "metadata": {},
   "source": [
    "## Define example identity of a user\n",
    "This can be personalized for each individual user. We'll end up passing these fields to our prompts later, so that the same agent system can be used by many people with different goals and values. \n",
    "\n",
    "\n",
    "To think about: what other fields might be useful here? Are there sources of data you could gather from users instead of asking these questions directly? Ex: If I gave you my wallet address, what info would be helpful there? How would you gather and analyze that?"
   ]
  },
  {
   "cell_type": "code",
   "execution_count": 5,
   "metadata": {},
   "outputs": [],
   "source": [
    "\n",
    "identity_map = {\n",
    "    \"risk_level\": \"Moderate risk, willing to risk some money for the right investments but not chasing every new opportunity.\",\n",
    "    \"token_preferences\": \"Likes ETH more than BTC, doesnt like SOL\",\n",
    "    \"mission_statement\": \"Accumulate as much ETH as possible given the available funds.\",\n",
    "}"
   ]
  },
  {
   "cell_type": "markdown",
   "metadata": {},
   "source": [
    "## Gather onchain data for the user's wallet\n",
    "Info on prices, balances, available assets, etc.\n"
   ]
  },
  {
   "cell_type": "code",
   "execution_count": 6,
   "metadata": {},
   "outputs": [],
   "source": [
    "# the amount available to withdraw is approximately equal to the balance available to trade\n",
    "# there is room for a better way to track this\n",
    "available_balance = user_state.get('withdrawable') # denominated in USD"
   ]
  },
  {
   "cell_type": "code",
   "execution_count": 7,
   "metadata": {},
   "outputs": [],
   "source": [
    "# We're also going to take a look at the current positions that are open, and format them for use with our models\n",
    "positions = user_state.get('assetPositions')\n",
    "positions_for_llm = ''\n",
    "if positions:\n",
    "    for position in positions:\n",
    "        position = position.get('position')\n",
    "        position_for_llm = f\"Current {position.get('coin')} position: size {position.get('szi')} {position.get('coin')}, value of {position.get('positionValue')} usd, leverage {position.get('leverage').get('value')}, and unrealizedPnl {position.get('unrealizedPnl')} usd. The max leverage for this position is {position.get('maxLeverage')}.\\n\"\n",
    "        positions_for_llm += position_for_llm"
   ]
  },
  {
   "cell_type": "markdown",
   "metadata": {},
   "source": [
    "## Gather all additional information\n",
    "This is a great place to experiment with different data sources, for this example we'll simulate a summarization of a chat users might have with in chat, and some recent headlines."
   ]
  },
  {
   "cell_type": "code",
   "execution_count": 8,
   "metadata": {},
   "outputs": [],
   "source": [
    "recent_headlines = (\"*ROBINHOOD: CRYPTO TRADING VOLUMES OVER $30B, UP 600% YOY\\n\"\n",
    "                     \"*FED’S MUSALEM: TIME MAY BE APPROACHING TO SLOW OR PAUSE RATE CUTS\\n\")\n",
    "\n",
    "chat_summary = \"Bob is happy with the Ethereum roadmap and has been hearing more people talk about it.\\n\"\n",
    "\n",
    "chat_and_data_summary = chat_summary + recent_headlines"
   ]
  },
  {
   "cell_type": "markdown",
   "metadata": {},
   "source": [
    "## Create our prompts\n",
    "\n",
    "We do this with markdown because OpenAI models respond well to this format, however you can use any format you like.\n",
    "\n",
    "This is structured as a system prompt that remains fixed for all users, and a user prompt unique to each user."
   ]
  },
  {
   "cell_type": "code",
   "execution_count": 9,
   "metadata": {},
   "outputs": [],
   "source": [
    "system_prompt = (\n",
    "    \"# Instructions:\\n\"\n",
    "    \"Act as a helpful cryptocurrency assistant helping users manage their trading portfolio.\\n\"\n",
    "    \"They understand it is inherently risky to trade cryptocurrency, and they want to make sure they are making informed decisions.\\n\"\n",
    "    \"You will be given a `available_balance` representing the user's total available value to make new trades with, a list of available assets, a risk level, and a list of their current positions.\\n\"\n",
    "    \"Think carefully through all scenarios and please provide your best guidance and reasoning for this decision.\\n\"\n",
    "    \"The USD value of each individual trade should not exceed the `available_balance`, and trades should be sized to allow for sufficient 'available_balance' to handle market volatility or unforeseen events.\\n\"\n",
    "    \"Do not suggest or provide reasoning for order where your suggested order size (for both new and addition to existing positions) is less than 10 USD.\\n\"\n",
    "    \"Ensure that there is enough margin available to support the trade size and leverage. Adjust leverage or order size accordingly, if required, while remaining within the 10 USD per order limit. If not possible, then do not suggest a new position and instead recommend to the user to deposit additional funds.\\n\"\n",
    "    \"# Available Options:\\n\"\n",
    "    \"- create a new position which should be tracked in the list ```positions_to_open```\\n\"\n",
    "    \"- modify or close an existing position which should be tracked in the list ```positions_to_modify```\\n\"\n",
    "    \"- maintain an existing position without changes which should be tracked in the list ```positions_to_maintain```\\n\"\n",
    "    \"# Fields for each option:\\n\"\n",
    "    \"- asset: the asset to trade\\n\"\n",
    "    \"\\t- example: ETH\\n\"\n",
    "    \"- direction: the direction to trade\\n\"\n",
    "    \"\\t- example: long, short\\n\"\n",
    "    \"- size: the size of the trade denominated in USD. It has to be bigger than 10 and should not use up the entire 'available_balance', leaving enough funds available for risk management and flexibility.\\n\"\n",
    "    \"\\t- the trade size should be greater than 10 USD even when modifying an existing position.\\n\"\n",
    "    \"\\t- example: 90 # If the 'available_balance' is 90, use at most 80 for the sum of all trades, keeping 10 as a buffer. Ensure trades are sized to allow for sufficient 'available_balance' to handle market volatility or unforeseen events.\\n\"\n",
    "    \"- leverage: the leverage to use for the trade\\n\"\n",
    "    \"\\t- example: 10\\n\"\n",
    "    \"- reasoning: the reasoning for the decision\\n\"\n",
    "    \"\\t- example: ['People value Alice's opinion and she really likes ETH here.', 'ETH price is low right now, volume is high compared to yesterday.', 'ETH is a solid long term investment.']\\n\"\n",
    ")"
   ]
  },
  {
   "cell_type": "code",
   "execution_count": 10,
   "metadata": {},
   "outputs": [],
   "source": [
    "user_message = (\n",
    "    \"# Instructions:\\n\"\n",
    "    \"Here are some details about me, can you help me make decisions about my trading portfolio?\\n\"\n",
    "    \"# Personality\\n\"\n",
    "    f\"{identity_map.get('chat_personality')}\\n\"\n",
    "    \"# Risk Level\\n\"\n",
    "    f\"{identity_map.get('risk_level')}\\n\"\n",
    "    \"This represents the total $USD value of the account, including positions, margin, and available funds.\\n\"\n",
    "    \"# Available Balance\\n\"\n",
    "    f\"{available_balance}\\n\"\n",
    "    \"Portions of this 'available_balance' can be used for placing new orders or modifying existing positions.\\n\"\n",
    "    \"Always leave a fraction of total 'available_balance' as a safety buffer for unforeseen volatility.\\n\"\n",
    "    \"The 'available_balance' is shared by all positions, so it is important to keep track of the available value and adjust your position sizes accordingly.\\n\"\n",
    "    \"# Open Positions\\n\"\n",
    "    f\"{positions_for_llm}\\n\"\n",
    "    \"# Here is the most recent information I want to base my decisions on:\\n\"\n",
    "    f\"{chat_and_data_summary}\\n\"\n",
    ")\n",
    "\n"
   ]
  },
  {
   "cell_type": "code",
   "execution_count": 11,
   "metadata": {},
   "outputs": [],
   "source": [
    "# append our messages to the chat\n",
    "model = \"gpt-4o-2024-08-06\"\n",
    "messages = [\n",
    "    {\"role\": \"system\", \"content\": system_prompt},\n",
    "    {\"role\": \"user\", \"content\": user_message},\n",
    "]\n"
   ]
  },
  {
   "cell_type": "markdown",
   "metadata": {},
   "source": [
    "# Define our response format\n",
    "\n",
    "We don't want to receive a response of unstructured text, so we'll define a custom response format.\n",
    "We need to be able to act on this information, and need the result in a consistent format. \n",
    "\n",
    "You could choose to use tool calling here as well, however we choose not to because we don't always need to call a tool. Ex: if we're maintaining a positioin we might as well do nothing, instead of calling some position to maintain tool.\n",
    "\n",
    "\n",
    "You can read more about structured output vs. tool calling [here](https://platform.openai.com/docs/guides/structured-outputs)"
   ]
  },
  {
   "cell_type": "code",
   "execution_count": 12,
   "metadata": {},
   "outputs": [],
   "source": [
    "from pydantic import BaseModel, Field\n",
    "from typing import Literal\n",
    "\n",
    "# This class will be used to submit the trades\n",
    "class Position(BaseModel):\n",
    "    market: str = Field(..., description=\"The asset to trade\")\n",
    "    direction: Literal[\"long\", \"short\"] = Field(\n",
    "        ...,\n",
    "        description=\"The direction to trade\",\n",
    "    )\n",
    "    size: float = Field(\n",
    "        ...,\n",
    "        description=\"The size of the trade denominated in USD. It should be greater than 10.\",\n",
    "    )\n",
    "    reasoning: list[str] = Field(\n",
    "        default_factory=list,\n",
    "        description=\"The reasoning for the decision\",\n",
    "    )\n",
    "    leverage: int | None = Field(None, description=\"Optional leverage multiplier\")\n",
    "\n",
    "\n",
    "class PositionReasoning(BaseModel):\n",
    "    positions_to_maintain: list[Position] = Field(\n",
    "        default_factory=list,\n",
    "        description=\"Positions to maintain without changes\",\n",
    "    )\n",
    "    positions_to_modify: list[Position] = Field(\n",
    "        default_factory=list,\n",
    "        description=\"Positions to modify or close\",\n",
    "    )\n",
    "    positions_to_open: list[Position] = Field(\n",
    "        default_factory=list,\n",
    "        description=\"Positions to open\",\n",
    "    )"
   ]
  },
  {
   "cell_type": "markdown",
   "metadata": {},
   "source": [
    "## Make our call"
   ]
  },
  {
   "cell_type": "code",
   "execution_count": 13,
   "metadata": {},
   "outputs": [
    {
     "ename": "NotFoundError",
     "evalue": "Error code: 404 - {'error': {'message': 'The model `gpt-4o-2024-08-06` does not exist or you do not have access to it.', 'type': 'invalid_request_error', 'param': None, 'code': 'model_not_found'}}",
     "output_type": "error",
     "traceback": [
      "\u001b[1;31m---------------------------------------------------------------------------\u001b[0m",
      "\u001b[1;31mNotFoundError\u001b[0m                             Traceback (most recent call last)",
      "Cell \u001b[1;32mIn[13], line 1\u001b[0m\n\u001b[1;32m----> 1\u001b[0m completion \u001b[38;5;241m=\u001b[39m \u001b[43mopenai_client\u001b[49m\u001b[38;5;241;43m.\u001b[39;49m\u001b[43mbeta\u001b[49m\u001b[38;5;241;43m.\u001b[39;49m\u001b[43mchat\u001b[49m\u001b[38;5;241;43m.\u001b[39;49m\u001b[43mcompletions\u001b[49m\u001b[38;5;241;43m.\u001b[39;49m\u001b[43mparse\u001b[49m\u001b[43m(\u001b[49m\n\u001b[0;32m      2\u001b[0m \u001b[43m    \u001b[49m\u001b[43mmodel\u001b[49m\u001b[38;5;241;43m=\u001b[39;49m\u001b[43mmodel\u001b[49m\u001b[43m,\u001b[49m\n\u001b[0;32m      3\u001b[0m \u001b[43m    \u001b[49m\u001b[43mmessages\u001b[49m\u001b[38;5;241;43m=\u001b[39;49m\u001b[43mmessages\u001b[49m\u001b[43m,\u001b[49m\n\u001b[0;32m      4\u001b[0m \u001b[43m    \u001b[49m\u001b[43mresponse_format\u001b[49m\u001b[38;5;241;43m=\u001b[39;49m\u001b[43mPositionReasoning\u001b[49m\u001b[43m,\u001b[49m\n\u001b[0;32m      5\u001b[0m \u001b[43m)\u001b[49m\n\u001b[0;32m      7\u001b[0m result \u001b[38;5;241m=\u001b[39m completion\u001b[38;5;241m.\u001b[39mchoices[\u001b[38;5;241m0\u001b[39m]\u001b[38;5;241m.\u001b[39mmessage\u001b[38;5;241m.\u001b[39mparsed\n\u001b[0;32m      8\u001b[0m result\u001b[38;5;241m.\u001b[39mmodel_dump()\n",
      "File \u001b[1;32me:\\Projects\\encode hackathon\\encode_hack\\Lib\\site-packages\\openai\\resources\\beta\\chat\\completions.py:156\u001b[0m, in \u001b[0;36mCompletions.parse\u001b[1;34m(self, messages, model, audio, response_format, frequency_penalty, function_call, functions, logit_bias, logprobs, max_completion_tokens, max_tokens, metadata, modalities, n, parallel_tool_calls, prediction, presence_penalty, seed, service_tier, stop, store, stream_options, temperature, tool_choice, tools, top_logprobs, top_p, user, extra_headers, extra_query, extra_body, timeout)\u001b[0m\n\u001b[0;32m    149\u001b[0m \u001b[38;5;28;01mdef\u001b[39;00m \u001b[38;5;21mparser\u001b[39m(raw_completion: ChatCompletion) \u001b[38;5;241m-\u001b[39m\u001b[38;5;241m>\u001b[39m ParsedChatCompletion[ResponseFormatT]:\n\u001b[0;32m    150\u001b[0m     \u001b[38;5;28;01mreturn\u001b[39;00m _parse_chat_completion(\n\u001b[0;32m    151\u001b[0m         response_format\u001b[38;5;241m=\u001b[39mresponse_format,\n\u001b[0;32m    152\u001b[0m         chat_completion\u001b[38;5;241m=\u001b[39mraw_completion,\n\u001b[0;32m    153\u001b[0m         input_tools\u001b[38;5;241m=\u001b[39mtools,\n\u001b[0;32m    154\u001b[0m     )\n\u001b[1;32m--> 156\u001b[0m \u001b[38;5;28;01mreturn\u001b[39;00m \u001b[38;5;28;43mself\u001b[39;49m\u001b[38;5;241;43m.\u001b[39;49m\u001b[43m_post\u001b[49m\u001b[43m(\u001b[49m\n\u001b[0;32m    157\u001b[0m \u001b[43m    \u001b[49m\u001b[38;5;124;43m\"\u001b[39;49m\u001b[38;5;124;43m/chat/completions\u001b[39;49m\u001b[38;5;124;43m\"\u001b[39;49m\u001b[43m,\u001b[49m\n\u001b[0;32m    158\u001b[0m \u001b[43m    \u001b[49m\u001b[43mbody\u001b[49m\u001b[38;5;241;43m=\u001b[39;49m\u001b[43mmaybe_transform\u001b[49m\u001b[43m(\u001b[49m\n\u001b[0;32m    159\u001b[0m \u001b[43m        \u001b[49m\u001b[43m{\u001b[49m\n\u001b[0;32m    160\u001b[0m \u001b[43m            \u001b[49m\u001b[38;5;124;43m\"\u001b[39;49m\u001b[38;5;124;43mmessages\u001b[39;49m\u001b[38;5;124;43m\"\u001b[39;49m\u001b[43m:\u001b[49m\u001b[43m \u001b[49m\u001b[43mmessages\u001b[49m\u001b[43m,\u001b[49m\n\u001b[0;32m    161\u001b[0m \u001b[43m            \u001b[49m\u001b[38;5;124;43m\"\u001b[39;49m\u001b[38;5;124;43mmodel\u001b[39;49m\u001b[38;5;124;43m\"\u001b[39;49m\u001b[43m:\u001b[49m\u001b[43m \u001b[49m\u001b[43mmodel\u001b[49m\u001b[43m,\u001b[49m\n\u001b[0;32m    162\u001b[0m \u001b[43m            \u001b[49m\u001b[38;5;124;43m\"\u001b[39;49m\u001b[38;5;124;43maudio\u001b[39;49m\u001b[38;5;124;43m\"\u001b[39;49m\u001b[43m:\u001b[49m\u001b[43m \u001b[49m\u001b[43maudio\u001b[49m\u001b[43m,\u001b[49m\n\u001b[0;32m    163\u001b[0m \u001b[43m            \u001b[49m\u001b[38;5;124;43m\"\u001b[39;49m\u001b[38;5;124;43mfrequency_penalty\u001b[39;49m\u001b[38;5;124;43m\"\u001b[39;49m\u001b[43m:\u001b[49m\u001b[43m \u001b[49m\u001b[43mfrequency_penalty\u001b[49m\u001b[43m,\u001b[49m\n\u001b[0;32m    164\u001b[0m \u001b[43m            \u001b[49m\u001b[38;5;124;43m\"\u001b[39;49m\u001b[38;5;124;43mfunction_call\u001b[39;49m\u001b[38;5;124;43m\"\u001b[39;49m\u001b[43m:\u001b[49m\u001b[43m \u001b[49m\u001b[43mfunction_call\u001b[49m\u001b[43m,\u001b[49m\n\u001b[0;32m    165\u001b[0m \u001b[43m            \u001b[49m\u001b[38;5;124;43m\"\u001b[39;49m\u001b[38;5;124;43mfunctions\u001b[39;49m\u001b[38;5;124;43m\"\u001b[39;49m\u001b[43m:\u001b[49m\u001b[43m \u001b[49m\u001b[43mfunctions\u001b[49m\u001b[43m,\u001b[49m\n\u001b[0;32m    166\u001b[0m \u001b[43m            \u001b[49m\u001b[38;5;124;43m\"\u001b[39;49m\u001b[38;5;124;43mlogit_bias\u001b[39;49m\u001b[38;5;124;43m\"\u001b[39;49m\u001b[43m:\u001b[49m\u001b[43m \u001b[49m\u001b[43mlogit_bias\u001b[49m\u001b[43m,\u001b[49m\n\u001b[0;32m    167\u001b[0m \u001b[43m            \u001b[49m\u001b[38;5;124;43m\"\u001b[39;49m\u001b[38;5;124;43mlogprobs\u001b[39;49m\u001b[38;5;124;43m\"\u001b[39;49m\u001b[43m:\u001b[49m\u001b[43m \u001b[49m\u001b[43mlogprobs\u001b[49m\u001b[43m,\u001b[49m\n\u001b[0;32m    168\u001b[0m \u001b[43m            \u001b[49m\u001b[38;5;124;43m\"\u001b[39;49m\u001b[38;5;124;43mmax_completion_tokens\u001b[39;49m\u001b[38;5;124;43m\"\u001b[39;49m\u001b[43m:\u001b[49m\u001b[43m \u001b[49m\u001b[43mmax_completion_tokens\u001b[49m\u001b[43m,\u001b[49m\n\u001b[0;32m    169\u001b[0m \u001b[43m            \u001b[49m\u001b[38;5;124;43m\"\u001b[39;49m\u001b[38;5;124;43mmax_tokens\u001b[39;49m\u001b[38;5;124;43m\"\u001b[39;49m\u001b[43m:\u001b[49m\u001b[43m \u001b[49m\u001b[43mmax_tokens\u001b[49m\u001b[43m,\u001b[49m\n\u001b[0;32m    170\u001b[0m \u001b[43m            \u001b[49m\u001b[38;5;124;43m\"\u001b[39;49m\u001b[38;5;124;43mmetadata\u001b[39;49m\u001b[38;5;124;43m\"\u001b[39;49m\u001b[43m:\u001b[49m\u001b[43m \u001b[49m\u001b[43mmetadata\u001b[49m\u001b[43m,\u001b[49m\n\u001b[0;32m    171\u001b[0m \u001b[43m            \u001b[49m\u001b[38;5;124;43m\"\u001b[39;49m\u001b[38;5;124;43mmodalities\u001b[39;49m\u001b[38;5;124;43m\"\u001b[39;49m\u001b[43m:\u001b[49m\u001b[43m \u001b[49m\u001b[43mmodalities\u001b[49m\u001b[43m,\u001b[49m\n\u001b[0;32m    172\u001b[0m \u001b[43m            \u001b[49m\u001b[38;5;124;43m\"\u001b[39;49m\u001b[38;5;124;43mn\u001b[39;49m\u001b[38;5;124;43m\"\u001b[39;49m\u001b[43m:\u001b[49m\u001b[43m \u001b[49m\u001b[43mn\u001b[49m\u001b[43m,\u001b[49m\n\u001b[0;32m    173\u001b[0m \u001b[43m            \u001b[49m\u001b[38;5;124;43m\"\u001b[39;49m\u001b[38;5;124;43mparallel_tool_calls\u001b[39;49m\u001b[38;5;124;43m\"\u001b[39;49m\u001b[43m:\u001b[49m\u001b[43m \u001b[49m\u001b[43mparallel_tool_calls\u001b[49m\u001b[43m,\u001b[49m\n\u001b[0;32m    174\u001b[0m \u001b[43m            \u001b[49m\u001b[38;5;124;43m\"\u001b[39;49m\u001b[38;5;124;43mprediction\u001b[39;49m\u001b[38;5;124;43m\"\u001b[39;49m\u001b[43m:\u001b[49m\u001b[43m \u001b[49m\u001b[43mprediction\u001b[49m\u001b[43m,\u001b[49m\n\u001b[0;32m    175\u001b[0m \u001b[43m            \u001b[49m\u001b[38;5;124;43m\"\u001b[39;49m\u001b[38;5;124;43mpresence_penalty\u001b[39;49m\u001b[38;5;124;43m\"\u001b[39;49m\u001b[43m:\u001b[49m\u001b[43m \u001b[49m\u001b[43mpresence_penalty\u001b[49m\u001b[43m,\u001b[49m\n\u001b[0;32m    176\u001b[0m \u001b[43m            \u001b[49m\u001b[38;5;124;43m\"\u001b[39;49m\u001b[38;5;124;43mresponse_format\u001b[39;49m\u001b[38;5;124;43m\"\u001b[39;49m\u001b[43m:\u001b[49m\u001b[43m \u001b[49m\u001b[43m_type_to_response_format\u001b[49m\u001b[43m(\u001b[49m\u001b[43mresponse_format\u001b[49m\u001b[43m)\u001b[49m\u001b[43m,\u001b[49m\n\u001b[0;32m    177\u001b[0m \u001b[43m            \u001b[49m\u001b[38;5;124;43m\"\u001b[39;49m\u001b[38;5;124;43mseed\u001b[39;49m\u001b[38;5;124;43m\"\u001b[39;49m\u001b[43m:\u001b[49m\u001b[43m \u001b[49m\u001b[43mseed\u001b[49m\u001b[43m,\u001b[49m\n\u001b[0;32m    178\u001b[0m \u001b[43m            \u001b[49m\u001b[38;5;124;43m\"\u001b[39;49m\u001b[38;5;124;43mservice_tier\u001b[39;49m\u001b[38;5;124;43m\"\u001b[39;49m\u001b[43m:\u001b[49m\u001b[43m \u001b[49m\u001b[43mservice_tier\u001b[49m\u001b[43m,\u001b[49m\n\u001b[0;32m    179\u001b[0m \u001b[43m            \u001b[49m\u001b[38;5;124;43m\"\u001b[39;49m\u001b[38;5;124;43mstop\u001b[39;49m\u001b[38;5;124;43m\"\u001b[39;49m\u001b[43m:\u001b[49m\u001b[43m \u001b[49m\u001b[43mstop\u001b[49m\u001b[43m,\u001b[49m\n\u001b[0;32m    180\u001b[0m \u001b[43m            \u001b[49m\u001b[38;5;124;43m\"\u001b[39;49m\u001b[38;5;124;43mstore\u001b[39;49m\u001b[38;5;124;43m\"\u001b[39;49m\u001b[43m:\u001b[49m\u001b[43m \u001b[49m\u001b[43mstore\u001b[49m\u001b[43m,\u001b[49m\n\u001b[0;32m    181\u001b[0m \u001b[43m            \u001b[49m\u001b[38;5;124;43m\"\u001b[39;49m\u001b[38;5;124;43mstream\u001b[39;49m\u001b[38;5;124;43m\"\u001b[39;49m\u001b[43m:\u001b[49m\u001b[43m \u001b[49m\u001b[38;5;28;43;01mFalse\u001b[39;49;00m\u001b[43m,\u001b[49m\n\u001b[0;32m    182\u001b[0m \u001b[43m            \u001b[49m\u001b[38;5;124;43m\"\u001b[39;49m\u001b[38;5;124;43mstream_options\u001b[39;49m\u001b[38;5;124;43m\"\u001b[39;49m\u001b[43m:\u001b[49m\u001b[43m \u001b[49m\u001b[43mstream_options\u001b[49m\u001b[43m,\u001b[49m\n\u001b[0;32m    183\u001b[0m \u001b[43m            \u001b[49m\u001b[38;5;124;43m\"\u001b[39;49m\u001b[38;5;124;43mtemperature\u001b[39;49m\u001b[38;5;124;43m\"\u001b[39;49m\u001b[43m:\u001b[49m\u001b[43m \u001b[49m\u001b[43mtemperature\u001b[49m\u001b[43m,\u001b[49m\n\u001b[0;32m    184\u001b[0m \u001b[43m            \u001b[49m\u001b[38;5;124;43m\"\u001b[39;49m\u001b[38;5;124;43mtool_choice\u001b[39;49m\u001b[38;5;124;43m\"\u001b[39;49m\u001b[43m:\u001b[49m\u001b[43m \u001b[49m\u001b[43mtool_choice\u001b[49m\u001b[43m,\u001b[49m\n\u001b[0;32m    185\u001b[0m \u001b[43m            \u001b[49m\u001b[38;5;124;43m\"\u001b[39;49m\u001b[38;5;124;43mtools\u001b[39;49m\u001b[38;5;124;43m\"\u001b[39;49m\u001b[43m:\u001b[49m\u001b[43m \u001b[49m\u001b[43mtools\u001b[49m\u001b[43m,\u001b[49m\n\u001b[0;32m    186\u001b[0m \u001b[43m            \u001b[49m\u001b[38;5;124;43m\"\u001b[39;49m\u001b[38;5;124;43mtop_logprobs\u001b[39;49m\u001b[38;5;124;43m\"\u001b[39;49m\u001b[43m:\u001b[49m\u001b[43m \u001b[49m\u001b[43mtop_logprobs\u001b[49m\u001b[43m,\u001b[49m\n\u001b[0;32m    187\u001b[0m \u001b[43m            \u001b[49m\u001b[38;5;124;43m\"\u001b[39;49m\u001b[38;5;124;43mtop_p\u001b[39;49m\u001b[38;5;124;43m\"\u001b[39;49m\u001b[43m:\u001b[49m\u001b[43m \u001b[49m\u001b[43mtop_p\u001b[49m\u001b[43m,\u001b[49m\n\u001b[0;32m    188\u001b[0m \u001b[43m            \u001b[49m\u001b[38;5;124;43m\"\u001b[39;49m\u001b[38;5;124;43muser\u001b[39;49m\u001b[38;5;124;43m\"\u001b[39;49m\u001b[43m:\u001b[49m\u001b[43m \u001b[49m\u001b[43muser\u001b[49m\u001b[43m,\u001b[49m\n\u001b[0;32m    189\u001b[0m \u001b[43m        \u001b[49m\u001b[43m}\u001b[49m\u001b[43m,\u001b[49m\n\u001b[0;32m    190\u001b[0m \u001b[43m        \u001b[49m\u001b[43mcompletion_create_params\u001b[49m\u001b[38;5;241;43m.\u001b[39;49m\u001b[43mCompletionCreateParams\u001b[49m\u001b[43m,\u001b[49m\n\u001b[0;32m    191\u001b[0m \u001b[43m    \u001b[49m\u001b[43m)\u001b[49m\u001b[43m,\u001b[49m\n\u001b[0;32m    192\u001b[0m \u001b[43m    \u001b[49m\u001b[43moptions\u001b[49m\u001b[38;5;241;43m=\u001b[39;49m\u001b[43mmake_request_options\u001b[49m\u001b[43m(\u001b[49m\n\u001b[0;32m    193\u001b[0m \u001b[43m        \u001b[49m\u001b[43mextra_headers\u001b[49m\u001b[38;5;241;43m=\u001b[39;49m\u001b[43mextra_headers\u001b[49m\u001b[43m,\u001b[49m\n\u001b[0;32m    194\u001b[0m \u001b[43m        \u001b[49m\u001b[43mextra_query\u001b[49m\u001b[38;5;241;43m=\u001b[39;49m\u001b[43mextra_query\u001b[49m\u001b[43m,\u001b[49m\n\u001b[0;32m    195\u001b[0m \u001b[43m        \u001b[49m\u001b[43mextra_body\u001b[49m\u001b[38;5;241;43m=\u001b[39;49m\u001b[43mextra_body\u001b[49m\u001b[43m,\u001b[49m\n\u001b[0;32m    196\u001b[0m \u001b[43m        \u001b[49m\u001b[43mtimeout\u001b[49m\u001b[38;5;241;43m=\u001b[39;49m\u001b[43mtimeout\u001b[49m\u001b[43m,\u001b[49m\n\u001b[0;32m    197\u001b[0m \u001b[43m        \u001b[49m\u001b[43mpost_parser\u001b[49m\u001b[38;5;241;43m=\u001b[39;49m\u001b[43mparser\u001b[49m\u001b[43m,\u001b[49m\n\u001b[0;32m    198\u001b[0m \u001b[43m    \u001b[49m\u001b[43m)\u001b[49m\u001b[43m,\u001b[49m\n\u001b[0;32m    199\u001b[0m \u001b[43m    \u001b[49m\u001b[38;5;66;43;03m# we turn the `ChatCompletion` instance into a `ParsedChatCompletion`\u001b[39;49;00m\n\u001b[0;32m    200\u001b[0m \u001b[43m    \u001b[49m\u001b[38;5;66;43;03m# in the `parser` function above\u001b[39;49;00m\n\u001b[0;32m    201\u001b[0m \u001b[43m    \u001b[49m\u001b[43mcast_to\u001b[49m\u001b[38;5;241;43m=\u001b[39;49m\u001b[43mcast\u001b[49m\u001b[43m(\u001b[49m\u001b[43mType\u001b[49m\u001b[43m[\u001b[49m\u001b[43mParsedChatCompletion\u001b[49m\u001b[43m[\u001b[49m\u001b[43mResponseFormatT\u001b[49m\u001b[43m]\u001b[49m\u001b[43m]\u001b[49m\u001b[43m,\u001b[49m\u001b[43m \u001b[49m\u001b[43mChatCompletion\u001b[49m\u001b[43m)\u001b[49m\u001b[43m,\u001b[49m\n\u001b[0;32m    202\u001b[0m \u001b[43m    \u001b[49m\u001b[43mstream\u001b[49m\u001b[38;5;241;43m=\u001b[39;49m\u001b[38;5;28;43;01mFalse\u001b[39;49;00m\u001b[43m,\u001b[49m\n\u001b[0;32m    203\u001b[0m \u001b[43m\u001b[49m\u001b[43m)\u001b[49m\n",
      "File \u001b[1;32me:\\Projects\\encode hackathon\\encode_hack\\Lib\\site-packages\\openai\\_base_client.py:1280\u001b[0m, in \u001b[0;36mSyncAPIClient.post\u001b[1;34m(self, path, cast_to, body, options, files, stream, stream_cls)\u001b[0m\n\u001b[0;32m   1266\u001b[0m \u001b[38;5;28;01mdef\u001b[39;00m \u001b[38;5;21mpost\u001b[39m(\n\u001b[0;32m   1267\u001b[0m     \u001b[38;5;28mself\u001b[39m,\n\u001b[0;32m   1268\u001b[0m     path: \u001b[38;5;28mstr\u001b[39m,\n\u001b[1;32m   (...)\u001b[0m\n\u001b[0;32m   1275\u001b[0m     stream_cls: \u001b[38;5;28mtype\u001b[39m[_StreamT] \u001b[38;5;241m|\u001b[39m \u001b[38;5;28;01mNone\u001b[39;00m \u001b[38;5;241m=\u001b[39m \u001b[38;5;28;01mNone\u001b[39;00m,\n\u001b[0;32m   1276\u001b[0m ) \u001b[38;5;241m-\u001b[39m\u001b[38;5;241m>\u001b[39m ResponseT \u001b[38;5;241m|\u001b[39m _StreamT:\n\u001b[0;32m   1277\u001b[0m     opts \u001b[38;5;241m=\u001b[39m FinalRequestOptions\u001b[38;5;241m.\u001b[39mconstruct(\n\u001b[0;32m   1278\u001b[0m         method\u001b[38;5;241m=\u001b[39m\u001b[38;5;124m\"\u001b[39m\u001b[38;5;124mpost\u001b[39m\u001b[38;5;124m\"\u001b[39m, url\u001b[38;5;241m=\u001b[39mpath, json_data\u001b[38;5;241m=\u001b[39mbody, files\u001b[38;5;241m=\u001b[39mto_httpx_files(files), \u001b[38;5;241m*\u001b[39m\u001b[38;5;241m*\u001b[39moptions\n\u001b[0;32m   1279\u001b[0m     )\n\u001b[1;32m-> 1280\u001b[0m     \u001b[38;5;28;01mreturn\u001b[39;00m cast(ResponseT, \u001b[38;5;28;43mself\u001b[39;49m\u001b[38;5;241;43m.\u001b[39;49m\u001b[43mrequest\u001b[49m\u001b[43m(\u001b[49m\u001b[43mcast_to\u001b[49m\u001b[43m,\u001b[49m\u001b[43m \u001b[49m\u001b[43mopts\u001b[49m\u001b[43m,\u001b[49m\u001b[43m \u001b[49m\u001b[43mstream\u001b[49m\u001b[38;5;241;43m=\u001b[39;49m\u001b[43mstream\u001b[49m\u001b[43m,\u001b[49m\u001b[43m \u001b[49m\u001b[43mstream_cls\u001b[49m\u001b[38;5;241;43m=\u001b[39;49m\u001b[43mstream_cls\u001b[49m\u001b[43m)\u001b[49m)\n",
      "File \u001b[1;32me:\\Projects\\encode hackathon\\encode_hack\\Lib\\site-packages\\openai\\_base_client.py:957\u001b[0m, in \u001b[0;36mSyncAPIClient.request\u001b[1;34m(self, cast_to, options, remaining_retries, stream, stream_cls)\u001b[0m\n\u001b[0;32m    954\u001b[0m \u001b[38;5;28;01melse\u001b[39;00m:\n\u001b[0;32m    955\u001b[0m     retries_taken \u001b[38;5;241m=\u001b[39m \u001b[38;5;241m0\u001b[39m\n\u001b[1;32m--> 957\u001b[0m \u001b[38;5;28;01mreturn\u001b[39;00m \u001b[38;5;28;43mself\u001b[39;49m\u001b[38;5;241;43m.\u001b[39;49m\u001b[43m_request\u001b[49m\u001b[43m(\u001b[49m\n\u001b[0;32m    958\u001b[0m \u001b[43m    \u001b[49m\u001b[43mcast_to\u001b[49m\u001b[38;5;241;43m=\u001b[39;49m\u001b[43mcast_to\u001b[49m\u001b[43m,\u001b[49m\n\u001b[0;32m    959\u001b[0m \u001b[43m    \u001b[49m\u001b[43moptions\u001b[49m\u001b[38;5;241;43m=\u001b[39;49m\u001b[43moptions\u001b[49m\u001b[43m,\u001b[49m\n\u001b[0;32m    960\u001b[0m \u001b[43m    \u001b[49m\u001b[43mstream\u001b[49m\u001b[38;5;241;43m=\u001b[39;49m\u001b[43mstream\u001b[49m\u001b[43m,\u001b[49m\n\u001b[0;32m    961\u001b[0m \u001b[43m    \u001b[49m\u001b[43mstream_cls\u001b[49m\u001b[38;5;241;43m=\u001b[39;49m\u001b[43mstream_cls\u001b[49m\u001b[43m,\u001b[49m\n\u001b[0;32m    962\u001b[0m \u001b[43m    \u001b[49m\u001b[43mretries_taken\u001b[49m\u001b[38;5;241;43m=\u001b[39;49m\u001b[43mretries_taken\u001b[49m\u001b[43m,\u001b[49m\n\u001b[0;32m    963\u001b[0m \u001b[43m\u001b[49m\u001b[43m)\u001b[49m\n",
      "File \u001b[1;32me:\\Projects\\encode hackathon\\encode_hack\\Lib\\site-packages\\openai\\_base_client.py:1061\u001b[0m, in \u001b[0;36mSyncAPIClient._request\u001b[1;34m(self, cast_to, options, retries_taken, stream, stream_cls)\u001b[0m\n\u001b[0;32m   1058\u001b[0m         err\u001b[38;5;241m.\u001b[39mresponse\u001b[38;5;241m.\u001b[39mread()\n\u001b[0;32m   1060\u001b[0m     log\u001b[38;5;241m.\u001b[39mdebug(\u001b[38;5;124m\"\u001b[39m\u001b[38;5;124mRe-raising status error\u001b[39m\u001b[38;5;124m\"\u001b[39m)\n\u001b[1;32m-> 1061\u001b[0m     \u001b[38;5;28;01mraise\u001b[39;00m \u001b[38;5;28mself\u001b[39m\u001b[38;5;241m.\u001b[39m_make_status_error_from_response(err\u001b[38;5;241m.\u001b[39mresponse) \u001b[38;5;28;01mfrom\u001b[39;00m \u001b[38;5;28;01mNone\u001b[39;00m\n\u001b[0;32m   1063\u001b[0m \u001b[38;5;28;01mreturn\u001b[39;00m \u001b[38;5;28mself\u001b[39m\u001b[38;5;241m.\u001b[39m_process_response(\n\u001b[0;32m   1064\u001b[0m     cast_to\u001b[38;5;241m=\u001b[39mcast_to,\n\u001b[0;32m   1065\u001b[0m     options\u001b[38;5;241m=\u001b[39moptions,\n\u001b[1;32m   (...)\u001b[0m\n\u001b[0;32m   1069\u001b[0m     retries_taken\u001b[38;5;241m=\u001b[39mretries_taken,\n\u001b[0;32m   1070\u001b[0m )\n",
      "\u001b[1;31mNotFoundError\u001b[0m: Error code: 404 - {'error': {'message': 'The model `gpt-4o-2024-08-06` does not exist or you do not have access to it.', 'type': 'invalid_request_error', 'param': None, 'code': 'model_not_found'}}"
     ]
    }
   ],
   "source": [
    "completion = openai_client.beta.chat.completions.parse(\n",
    "    model=model,\n",
    "    messages=messages,\n",
    "    response_format=PositionReasoning,\n",
    ")\n",
    "\n",
    "result = completion.choices[0].message.parsed\n",
    "result.model_dump()"
   ]
  },
  {
   "cell_type": "markdown",
   "metadata": {},
   "source": [
    "## Submit our trades (Incomplete example for testing)\n",
    "\n",
    "For positions_to_maintain there is no action required, but it's helpful to log and explain the \"reasoning\" to users\n",
    "positions_to_open and positions_to_modify both require submitting orders onchain. \n",
    "\n",
    "\n",
    "If you wish to start trading before updates to this notebook are available, you can refer to the [hyperliquid-python-sdk.](https://github.com/hyperliquid-dex/hyperliquid-python-sdk) "
   ]
  },
  {
   "cell_type": "code",
   "execution_count": 12,
   "metadata": {},
   "outputs": [
    {
     "data": {
      "text/plain": [
       "[Position(market='APE', direction='long', size=5375.64177, reasoning=[\"The APE position is currently at a significant loss. Given the available balance and the potential upside due to Robinhood's increased trading volume, converting this into a long position might capture upside potential.\", \"Additionally, with overall market conditions looking more favorable, there's an expectation that altcoins like APE could rally.\"], leverage=5)]"
      ]
     },
     "execution_count": 12,
     "metadata": {},
     "output_type": "execute_result"
    }
   ],
   "source": [
    "result.positions_to_open"
   ]
  },
  {
   "cell_type": "code",
   "execution_count": 13,
   "metadata": {},
   "outputs": [
    {
     "data": {
      "text/plain": [
       "'APE'"
      ]
     },
     "execution_count": 13,
     "metadata": {},
     "output_type": "execute_result"
    }
   ],
   "source": [
    "result.positions_to_open[0].market"
   ]
  },
  {
   "cell_type": "code",
   "execution_count": 14,
   "metadata": {},
   "outputs": [
    {
     "data": {
      "text/plain": [
       "'long'"
      ]
     },
     "execution_count": 14,
     "metadata": {},
     "output_type": "execute_result"
    }
   ],
   "source": [
    "result.positions_to_open[0].direction"
   ]
  },
  {
   "cell_type": "code",
   "execution_count": 15,
   "metadata": {},
   "outputs": [
    {
     "data": {
      "text/plain": [
       "5375.64177"
      ]
     },
     "execution_count": 15,
     "metadata": {},
     "output_type": "execute_result"
    }
   ],
   "source": [
    "result.positions_to_open[0].size"
   ]
  },
  {
   "cell_type": "code",
   "execution_count": 16,
   "metadata": {},
   "outputs": [
    {
     "data": {
      "text/plain": [
       "5"
      ]
     },
     "execution_count": 16,
     "metadata": {},
     "output_type": "execute_result"
    }
   ],
   "source": [
    "result.positions_to_open[0].leverage"
   ]
  },
  {
   "cell_type": "code",
   "execution_count": 17,
   "metadata": {},
   "outputs": [
    {
     "data": {
      "text/plain": [
       "[\"The APE position is currently at a significant loss. Given the available balance and the potential upside due to Robinhood's increased trading volume, converting this into a long position might capture upside potential.\",\n",
       " \"Additionally, with overall market conditions looking more favorable, there's an expectation that altcoins like APE could rally.\"]"
      ]
     },
     "execution_count": 17,
     "metadata": {},
     "output_type": "execute_result"
    }
   ],
   "source": [
    "result.positions_to_open[0].reasoning"
   ]
  }
 ],
 "metadata": {
  "kernelspec": {
   "display_name": "encode_env",
   "language": "python",
   "name": "encode_env"
  },
  "language_info": {
   "codemirror_mode": {
    "name": "ipython",
    "version": 3
   },
   "file_extension": ".py",
   "mimetype": "text/x-python",
   "name": "python",
   "nbconvert_exporter": "python",
   "pygments_lexer": "ipython3",
   "version": "3.11.9"
  }
 },
 "nbformat": 4,
 "nbformat_minor": 2
}
