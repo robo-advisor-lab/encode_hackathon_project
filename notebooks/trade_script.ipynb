{
 "cells": [
  {
   "cell_type": "code",
   "execution_count": 1,
   "metadata": {},
   "outputs": [
    {
     "data": {
      "text/plain": [
       "True"
      ]
     },
     "execution_count": 1,
     "metadata": {},
     "output_type": "execute_result"
    }
   ],
   "source": [
    "from dotenv import load_dotenv\n",
    "import os\n",
    "from web3 import Web3\n",
    "from eth_account import Account\n",
    "import pandas as pd\n",
    "import time\n",
    "import random\n",
    "import math\n",
    "from diskcache import Cache\n",
    "import datetime as dt\n",
    "from datetime import timedelta\n",
    "from uniswap import Uniswap\n",
    "\n",
    "load_dotenv()"
   ]
  },
  {
   "cell_type": "code",
   "execution_count": 2,
   "metadata": {},
   "outputs": [],
   "source": [
    "OPENAI_API_KEY = os.getenv('OPENAI_API_KEY')\n",
    "flipside_api_key = os.getenv(\"FLIPSIDE_API_KEY\")\n",
    "FRED_API_KEY = os.getenv('FRED_API_KEY')\n",
    "\n",
    "ACCOUNT_ADDRESS = os.getenv('ACCOUNT_ADDRESS')\n",
    "PRIVATE_KEY = os.getenv('PRIVATE_KEY')\n",
    "GATEWAY = os.getenv('ARBITRUM_GATEWAY')"
   ]
  },
  {
   "cell_type": "code",
   "execution_count": 3,
   "metadata": {},
   "outputs": [],
   "source": [
    "from openai import OpenAI\n",
    "openai_client = OpenAI(api_key=OPENAI_API_KEY)"
   ]
  },
  {
   "cell_type": "code",
   "execution_count": 4,
   "metadata": {},
   "outputs": [],
   "source": [
    "os.chdir('..')"
   ]
  },
  {
   "cell_type": "code",
   "execution_count": 5,
   "metadata": {},
   "outputs": [
    {
     "name": "stderr",
     "output_type": "stream",
     "text": [
      "2025-01-11 14:14:36.671 WARNING streamlit.runtime.caching.cache_data_api: No runtime found, using MemoryCacheStorageManager\n"
     ]
    },
    {
     "name": "stdout",
     "output_type": "stream",
     "text": [
      "Current Directory: e:\\Projects\\encode hackathon\n"
     ]
    }
   ],
   "source": [
    "from python_scripts.web3_utils import *\n",
    "from python_scripts.apis import token_classifier_portfolio, flipside_api_results\n",
    "from python_scripts.macro_data import main as macro_main\n",
    "from sql_queries.queries import latest_portfolio_metrics\n",
    "from python_scripts.utils import fetch_and_process_tbill_data, prepare_data_for_simulation"
   ]
  },
  {
   "cell_type": "code",
   "execution_count": 6,
   "metadata": {},
   "outputs": [],
   "source": [
    "cache = Cache('classifier_data')"
   ]
  },
  {
   "cell_type": "code",
   "execution_count": 7,
   "metadata": {},
   "outputs": [],
   "source": [
    "def network(chain):\n",
    "        if chain == 'gnosis':\n",
    "            primary_gateway = GNOSIS_GATEWAY  # Replace with your Infura URL\n",
    "            backup_gateway = 'https://lb.nodies.app/v1/406d8dcc043f4cb3959ed7d6673d311a'  # Your backup gateway\n",
    "        elif chain == 'arbitrum':\n",
    "            primary_gateway = GATEWAY  # Replace with your Infura URL\n",
    "            backup_gateway = GATEWAY\n",
    "        elif chain == 'optimism':\n",
    "            primary_gateway = OPTIMISM_GATEWAY  # Replace with your Infura URL\n",
    "            backup_gateway = OPTIMISM_GATEWAY\n",
    "        elif chain == 'ethereum':\n",
    "            primary_gateway = ETHEREUM_GATEWAY  # Replace with your Infura URL\n",
    "            backup_gateway = ETHEREUM_GATEWAY\n",
    "\n",
    "        print(f'Gateway: {primary_gateway}')\n",
    "\n",
    "        for gateway in [primary_gateway, backup_gateway]:\n",
    "            w3 = Web3(Web3.HTTPProvider(gateway))\n",
    "            if w3.is_connected():\n",
    "                try:\n",
    "                    latest_block = w3.eth.get_block('latest')['number']  # Only try this if connected\n",
    "                    print(f\"Connected to {chain} via {gateway}: {latest_block} block\")\n",
    "                    return w3, gateway\n",
    "                except Exception as e:\n",
    "                    print(f\"Connected to {gateway} but failed to fetch latest block. Error: {e}\")\n",
    "            else:\n",
    "                print(f\"Failed to connect to {chain} via {gateway}. Trying next gateway...\")\n",
    "\n",
    "        raise ConnectionError(f\"Failed to connect to {chain} network using both primary and backup gateways.\")"
   ]
  },
  {
   "cell_type": "code",
   "execution_count": 8,
   "metadata": {},
   "outputs": [
    {
     "name": "stdout",
     "output_type": "stream",
     "text": [
      "Gateway: https://arb-mainnet.g.alchemy.com/v2/sDx1aRO1I82_YWxxUK9S_jnDXHTXEqFl\n",
      "Connected to arbitrum via https://arb-mainnet.g.alchemy.com/v2/sDx1aRO1I82_YWxxUK9S_jnDXHTXEqFl: 294400524 block\n"
     ]
    }
   ],
   "source": [
    "chain = 'arbitrum'\n",
    "\n",
    "w3, gateway = network(chain)\n",
    "\n",
    "account = Account.from_key(PRIVATE_KEY)\n",
    "w3.eth.default_account = account.address"
   ]
  },
  {
   "cell_type": "code",
   "execution_count": 9,
   "metadata": {},
   "outputs": [
    {
     "name": "stdout",
     "output_type": "stream",
     "text": [
      "3-month T-bill data fetched:            realtime_start realtime_end  value  decimal\n",
      "date                                                  \n",
      "2024-08-01     2025-01-09   2025-01-09   5.05   0.0505\n",
      "2024-09-01     2025-01-09   2025-01-09   4.72   0.0472\n",
      "2024-10-01     2025-01-09   2025-01-09   4.51   0.0451\n",
      "2024-11-01     2025-01-09   2025-01-09   4.42   0.0442\n",
      "2024-12-01     2025-01-09   2025-01-09   4.27   0.0427\n"
     ]
    }
   ],
   "source": [
    "three_month_tbill_historical_api = \"https://api.stlouisfed.org/fred/series/observations?series_id=TB3MS&file_type=json\"\n",
    "\n",
    "try: \n",
    "    three_month_tbill = fetch_and_process_tbill_data(api_url=three_month_tbill_historical_api, api_key=FRED_API_KEY,\n",
    "                                                     data_key=\"observations\",\n",
    "                                                       date_column=\"date\", \n",
    "                                                       value_column=\"value\")\n",
    "    three_month_tbill['decimal'] = three_month_tbill['value'] / 100\n",
    "    current_risk_free = three_month_tbill['decimal'].iloc[-1]\n",
    "    print(f\"3-month T-bill data fetched: {three_month_tbill.tail()}\")\n",
    "except Exception as e:\n",
    "    print(f\"Error in fetching tbill data: {e}\")"
   ]
  },
  {
   "cell_type": "code",
   "execution_count": 10,
   "metadata": {},
   "outputs": [],
   "source": [
    "# import json\n",
    "\n",
    "# # Define the path to your ABI file\n",
    "# mlAMPL_abi_file_path = \"abi/mlAMPL.json\"\n",
    "# WETH_abi_file_path = \"abi/weth_abi.json\"\n",
    "# bonding_abi_file_path = \"abi/bonding_contract_abi.json\"\n",
    "# lp_manager_path = 'abi/nftmanager.json'\n",
    "# staking_path = 'abi/staking_abi.json'\n",
    "# erc20_abi_path = 'abi/erc20_abi.json'\n",
    "# nft_factory_path = 'abi/nft_factory.json'\n",
    "# pool_abi_path = 'abi/pool_abi.json'\n",
    "\n",
    "# abi_paths = [mlAMPL_abi_file_path, WETH_abi_file_path, bonding_abi_file_path,lp_manager_path,staking_path,erc20_abi_path,nft_factory_path,pool_abi_path]\n",
    "# abis = {}\n",
    "\n",
    "# for path in abi_paths:\n",
    "#     with open(path, \"r\") as file:\n",
    "#         abis[path] = json.load(file)\n",
    "\n",
    "# print(abis)\n"
   ]
  },
  {
   "cell_type": "code",
   "execution_count": 11,
   "metadata": {},
   "outputs": [],
   "source": [
    "def data_cleaning(df,dropna=True,ffill=False):\n",
    "    clean_df = clean_prices(df)\n",
    "    clean_df = to_time(clean_df)\n",
    "    if dropna == True:\n",
    "        # clean_df = clean_df.dropna(axis=1, how='any')\n",
    "        clean_df = clean_df.dropna()\n",
    "    if ffill == True:\n",
    "        clean_df = clean_df.resample('h').ffill().bfill()\n",
    "\n",
    "    if '__row_index' in clean_df.columns:\n",
    "        clean_df.drop(columns=['__row_index'], inplace=True)\n",
    "\n",
    "    return clean_df\n",
    "\n",
    "def to_time(df):\n",
    "    time_cols = ['date','dt','hour','time','day','month','year','week','timestamp','date(utc)','block_timestamp']\n",
    "    for col in df.columns:\n",
    "        if col.lower() in time_cols and col.lower() != 'timestamp':\n",
    "            df[col] = pd.to_datetime(df[col])\n",
    "            df.set_index(col, inplace=True)\n",
    "        elif col.lower() == 'timestamp':\n",
    "            df[col] = pd.to_datetime(df[col], unit='ms')\n",
    "            df.set_index(col, inplace=True)\n",
    "    print(df.index)\n",
    "    return df \n",
    "\n",
    "def clean_prices(prices_df):\n",
    "    print('cleaning prices')\n",
    "    # Pivot the dataframe\n",
    "    prices_df = prices_df.drop_duplicates(subset=['hour', 'symbol'])\n",
    "    prices_df_pivot = prices_df.pivot(\n",
    "        index='hour',\n",
    "        columns='symbol',\n",
    "        values='price'\n",
    "    )\n",
    "    prices_df_pivot = prices_df_pivot.reset_index()\n",
    "\n",
    "    # Rename the columns by combining 'symbol' with a suffix\n",
    "    prices_df_pivot.columns = ['hour'] + [f'{col}_Price' for col in prices_df_pivot.columns[1:]]\n",
    "    \n",
    "    print(f'cleaned prices: {prices_df_pivot}')\n",
    "    return prices_df_pivot"
   ]
  },
  {
   "cell_type": "code",
   "execution_count": 12,
   "metadata": {},
   "outputs": [],
   "source": [
    "def pull_data(function,path,model_name, api=False,start_date=None):\n",
    "    print(f'function:{function},start_date:{start_date},path:{path},api:{api},model_name: {model_name}')\n",
    "\n",
    "    if api:\n",
    "        print(f'api True')\n",
    "        # Parse dates into datetime format for consistency\n",
    "        start_date = dt.datetime.strptime(start_date, '%Y-%m-%d %H:%M:%S')\n",
    "        \n",
    "        # Use formatted date strings as needed in the dao_advisor_portfolio and lst_portfolio_prices functions\n",
    "        prices = function(start_date.strftime('%Y-%m-%d %H:%M:%S'))\n",
    "        \n",
    "        prices_df = flipside_api_results(prices, flipside_api_key)\n",
    "\n",
    "        prices_df.to_csv(path)\n",
    "    else:\n",
    "        print(f'api False')\n",
    "        prices_df = pd.read_csv(path)\n",
    "\n",
    "    dataset = {\n",
    "        f'portfolio': prices_df\n",
    "    }\n",
    "\n",
    "    return dataset"
   ]
  },
  {
   "cell_type": "code",
   "execution_count": 13,
   "metadata": {},
   "outputs": [],
   "source": [
    "def prices_data_func(network,\n",
    "                     api_key,use_cached_data,name,days=None,\n",
    "                     function=None,start_date=None,\n",
    "                     backtest_period=None,filtered_assets=None):\n",
    "    \n",
    "    if start_date is None and backtest_period is None:\n",
    "        raise KeyError(\"Provide either a start date or backtest_period\")\n",
    "    \n",
    "    print(f\"backtest days: {(pd.to_datetime(dt.datetime.now(dt.timezone.utc).strftime('%Y-%m-%d %H:00:00')) - pd.to_datetime(start_date)).days}\")\n",
    "    \n",
    "    if backtest_period is None:\n",
    "        backtest_period = (pd.to_datetime(dt.datetime.now(dt.timezone.utc).strftime('%Y-%m-%d %H:00:00')) - pd.to_datetime(start_date)).days * 24\n",
    "        if backtest_period < 1:\n",
    "            backtest_period = 1\n",
    "\n",
    "    if function is None:\n",
    "\n",
    "        data = token_classifier_portfolio(\n",
    "            network=network,\n",
    "            days=days,\n",
    "            name=name,\n",
    "            api_key = api_key,\n",
    "            use_cached_data=use_cached_data,\n",
    "            start_date = start_date,\n",
    "            prices_only=True\n",
    "        )\n",
    "\n",
    "        prices_df = data_cleaning(data['portfolio'])\n",
    "        prices_df\n",
    "    else: \n",
    "        data = pull_data(function=function,start_date=start_date, path=f'data/{name}.csv', api=not use_cached_data,model_name=name)\n",
    "        prices_df = data_cleaning(data['portfolio'])\n",
    "        prices_df = prices_df[prices_df.index >= start_date].dropna()\n",
    "        prices_df\n",
    "\n",
    "    # prices_df.columns = prices_df.columns.str.replace('_Price','')\n",
    "    filtered_assets_with_price = [f\"{asset}_Price\" for asset in filtered_assets]\n",
    "\n",
    "\n",
    "    return data, prices_df[filtered_assets_with_price]"
   ]
  },
  {
   "cell_type": "code",
   "execution_count": 14,
   "metadata": {},
   "outputs": [],
   "source": [
    "def prepare_data_for_simulation(price_timeseries, start_date, end_date):\n",
    "    \"\"\"\n",
    "    Ensure price_timeseries has entries for start_date and end_date.\n",
    "    If not, fill in these dates using the last available data.\n",
    "    \"\"\"\n",
    "    # Ensure 'ds' is in datetime format\n",
    "    # price_timeseries['hour'] = pd.to_datetime(price_timeseries['hour'])\n",
    "    \n",
    "    # Set the index to 'ds' for easier manipulation\n",
    "    # if price_timeseries.index.name != 'hour':\n",
    "    #     price_timeseries.set_index('hour', inplace=True)\n",
    "\n",
    "    print(f'price index: {price_timeseries.index}')\n",
    "\n",
    "    price_timeseries.index = price_timeseries.index.tz_localize(None)\n",
    "    \n",
    "    # Check if start_date and end_date exist in the data\n",
    "    required_dates = pd.date_range(start=start_date, end=end_date, freq='H')\n",
    "    all_dates = price_timeseries.index.union(required_dates)\n",
    "    \n",
    "    # Reindex the dataframe to ensure all dates from start to end are present\n",
    "    price_timeseries = price_timeseries.reindex(all_dates)\n",
    "    \n",
    "    # Forward fill to handle NaN values if any dates were missing\n",
    "    price_timeseries.fillna(method='ffill', inplace=True)\n",
    "\n",
    "    # Reset index if necessary or keep the datetime index based on further needs\n",
    "    # price_timeseries.reset_index(inplace=True, drop=False)\n",
    "    # price_timeseries.rename(columns={'index': 'hour'}, inplace=True)\n",
    "    # price_timeseries.set_index('hour',inplace=True)\n",
    "    \n",
    "    return price_timeseries\n"
   ]
  },
  {
   "cell_type": "code",
   "execution_count": 15,
   "metadata": {},
   "outputs": [],
   "source": [
    "network = chain\n",
    "\n",
    "model = f'{network}_classifier'\n",
    "\n",
    "params = cache.get(f'{model} params')\n",
    "classifier_data = cache.get(f'{model}_portfolio')\n",
    "original_prices_df = cache.get(f'{model}_prices')\n",
    "days = params['days']"
   ]
  },
  {
   "cell_type": "code",
   "execution_count": 16,
   "metadata": {},
   "outputs": [
    {
     "data": {
      "text/plain": [
       "{'model': 'arbitrum_classifier',\n",
       " 'days': 7,\n",
       " 'top': 20,\n",
       " 'network': 'arbitrum',\n",
       " 'backtest_period': 4380,\n",
       " 'start_date': '2024-07-08'}"
      ]
     },
     "execution_count": 16,
     "metadata": {},
     "output_type": "execute_result"
    }
   ],
   "source": [
    "params"
   ]
  },
  {
   "cell_type": "code",
   "execution_count": 17,
   "metadata": {},
   "outputs": [
    {
     "data": {
      "text/html": [
       "<div>\n",
       "<style scoped>\n",
       "    .dataframe tbody tr th:only-of-type {\n",
       "        vertical-align: middle;\n",
       "    }\n",
       "\n",
       "    .dataframe tbody tr th {\n",
       "        vertical-align: top;\n",
       "    }\n",
       "\n",
       "    .dataframe thead th {\n",
       "        text-align: right;\n",
       "    }\n",
       "</style>\n",
       "<table border=\"1\" class=\"dataframe\">\n",
       "  <thead>\n",
       "    <tr style=\"text-align: right;\">\n",
       "      <th></th>\n",
       "      <th>symbol</th>\n",
       "      <th>token_address</th>\n",
       "      <th>sharpe_ratio</th>\n",
       "      <th>excess_return</th>\n",
       "      <th>latest_price</th>\n",
       "      <th>latest_hour</th>\n",
       "      <th>stddev_30d</th>\n",
       "      <th>volume</th>\n",
       "      <th>average_order</th>\n",
       "      <th>sixty_d_return</th>\n",
       "      <th>__row_index</th>\n",
       "      <th>original_latest_hour</th>\n",
       "    </tr>\n",
       "  </thead>\n",
       "  <tbody>\n",
       "    <tr>\n",
       "      <th>0</th>\n",
       "      <td>LAVA</td>\n",
       "      <td>0x11e969e9b3f89cb16d686a03cd8508c9fc0361af</td>\n",
       "      <td>31.123394</td>\n",
       "      <td>0.891667</td>\n",
       "      <td>0.173335</td>\n",
       "      <td>2025-01-06 16:00:00+00:00</td>\n",
       "      <td>0.028649</td>\n",
       "      <td>2.867698e+06</td>\n",
       "      <td>163.262081</td>\n",
       "      <td>0.892469</td>\n",
       "      <td>0</td>\n",
       "      <td>2025-01-06 16:00:00+00:00</td>\n",
       "    </tr>\n",
       "    <tr>\n",
       "      <th>1</th>\n",
       "      <td>MAGIC</td>\n",
       "      <td>0x539bde0d7dbd336b79148aa742883198bbf60342</td>\n",
       "      <td>4.465459</td>\n",
       "      <td>0.399587</td>\n",
       "      <td>0.611536</td>\n",
       "      <td>2025-01-06 16:00:00+00:00</td>\n",
       "      <td>0.089484</td>\n",
       "      <td>8.264843e+06</td>\n",
       "      <td>271.361034</td>\n",
       "      <td>0.400389</td>\n",
       "      <td>1</td>\n",
       "      <td>2025-01-06 16:00:00+00:00</td>\n",
       "    </tr>\n",
       "    <tr>\n",
       "      <th>2</th>\n",
       "      <td>STG</td>\n",
       "      <td>0x6694340fc020c5e6b96567843da2df01b2ce1eb6</td>\n",
       "      <td>4.262890</td>\n",
       "      <td>0.228900</td>\n",
       "      <td>0.491961</td>\n",
       "      <td>2025-01-06 16:00:00+00:00</td>\n",
       "      <td>0.053696</td>\n",
       "      <td>2.324067e+06</td>\n",
       "      <td>192.341905</td>\n",
       "      <td>0.229703</td>\n",
       "      <td>2</td>\n",
       "      <td>2025-01-06 16:00:00+00:00</td>\n",
       "    </tr>\n",
       "    <tr>\n",
       "      <th>3</th>\n",
       "      <td>USDC</td>\n",
       "      <td>0xaf88d065e77c8cc2239327c5edb3a432268e5831</td>\n",
       "      <td>3.525502</td>\n",
       "      <td>0.003190</td>\n",
       "      <td>1.006000</td>\n",
       "      <td>2025-01-06 16:00:00+00:00</td>\n",
       "      <td>0.000905</td>\n",
       "      <td>8.806350e+08</td>\n",
       "      <td>1827.297492</td>\n",
       "      <td>0.003992</td>\n",
       "      <td>3</td>\n",
       "      <td>2025-01-06 16:00:00+00:00</td>\n",
       "    </tr>\n",
       "    <tr>\n",
       "      <th>4</th>\n",
       "      <td>DAI</td>\n",
       "      <td>0xda10009cbd5d07dd0cecc66161fc93d7c9000da1</td>\n",
       "      <td>3.177627</td>\n",
       "      <td>0.005553</td>\n",
       "      <td>1.005000</td>\n",
       "      <td>2025-01-06 16:00:00+00:00</td>\n",
       "      <td>0.001748</td>\n",
       "      <td>1.192044e+07</td>\n",
       "      <td>1055.560284</td>\n",
       "      <td>0.006356</td>\n",
       "      <td>4</td>\n",
       "      <td>2025-01-06 16:00:00+00:00</td>\n",
       "    </tr>\n",
       "    <tr>\n",
       "      <th>5</th>\n",
       "      <td>USDC</td>\n",
       "      <td>0xff970a61a04b1ca14834a43f5de4533ebddb5cc8</td>\n",
       "      <td>2.392183</td>\n",
       "      <td>0.004193</td>\n",
       "      <td>1.006000</td>\n",
       "      <td>2025-01-06 16:00:00+00:00</td>\n",
       "      <td>0.001753</td>\n",
       "      <td>1.330199e+08</td>\n",
       "      <td>831.166548</td>\n",
       "      <td>0.004995</td>\n",
       "      <td>5</td>\n",
       "      <td>2025-01-06 16:00:00+00:00</td>\n",
       "    </tr>\n",
       "    <tr>\n",
       "      <th>6</th>\n",
       "      <td>ARB</td>\n",
       "      <td>0x912ce59144191c1204e64559fe8253a0e49e6548</td>\n",
       "      <td>2.121842</td>\n",
       "      <td>0.271495</td>\n",
       "      <td>0.943365</td>\n",
       "      <td>2025-01-06 16:00:00+00:00</td>\n",
       "      <td>0.127952</td>\n",
       "      <td>1.828342e+08</td>\n",
       "      <td>820.870725</td>\n",
       "      <td>0.272297</td>\n",
       "      <td>6</td>\n",
       "      <td>2025-01-06 16:00:00+00:00</td>\n",
       "    </tr>\n",
       "    <tr>\n",
       "      <th>7</th>\n",
       "      <td>USDT</td>\n",
       "      <td>0xfd086bc7cd5c481dcc9c85ebe478a1c0b69fcbb9</td>\n",
       "      <td>0.905344</td>\n",
       "      <td>0.001566</td>\n",
       "      <td>1.002000</td>\n",
       "      <td>2025-01-06 16:00:00+00:00</td>\n",
       "      <td>0.001729</td>\n",
       "      <td>4.616128e+08</td>\n",
       "      <td>1353.754784</td>\n",
       "      <td>0.002368</td>\n",
       "      <td>7</td>\n",
       "      <td>2025-01-06 16:00:00+00:00</td>\n",
       "    </tr>\n",
       "    <tr>\n",
       "      <th>8</th>\n",
       "      <td>CRV</td>\n",
       "      <td>0x11cdb42b0eb46d95f990bedd4695a6e3fa034978</td>\n",
       "      <td>0.605335</td>\n",
       "      <td>0.069327</td>\n",
       "      <td>1.011000</td>\n",
       "      <td>2025-01-06 16:00:00+00:00</td>\n",
       "      <td>0.114526</td>\n",
       "      <td>9.694287e+06</td>\n",
       "      <td>927.682998</td>\n",
       "      <td>0.070129</td>\n",
       "      <td>8</td>\n",
       "      <td>2025-01-06 16:00:00+00:00</td>\n",
       "    </tr>\n",
       "    <tr>\n",
       "      <th>9</th>\n",
       "      <td>ZRO</td>\n",
       "      <td>0x6985884c4392d348587b19cb9eaaf157f13271cd</td>\n",
       "      <td>0.244965</td>\n",
       "      <td>0.136865</td>\n",
       "      <td>5.950000</td>\n",
       "      <td>2025-01-06 16:00:00+00:00</td>\n",
       "      <td>0.558713</td>\n",
       "      <td>6.521666e+06</td>\n",
       "      <td>468.611463</td>\n",
       "      <td>0.137667</td>\n",
       "      <td>9</td>\n",
       "      <td>2025-01-06 16:00:00+00:00</td>\n",
       "    </tr>\n",
       "  </tbody>\n",
       "</table>\n",
       "</div>"
      ],
      "text/plain": [
       "  symbol                               token_address  sharpe_ratio  \\\n",
       "0   LAVA  0x11e969e9b3f89cb16d686a03cd8508c9fc0361af     31.123394   \n",
       "1  MAGIC  0x539bde0d7dbd336b79148aa742883198bbf60342      4.465459   \n",
       "2    STG  0x6694340fc020c5e6b96567843da2df01b2ce1eb6      4.262890   \n",
       "3   USDC  0xaf88d065e77c8cc2239327c5edb3a432268e5831      3.525502   \n",
       "4    DAI  0xda10009cbd5d07dd0cecc66161fc93d7c9000da1      3.177627   \n",
       "5   USDC  0xff970a61a04b1ca14834a43f5de4533ebddb5cc8      2.392183   \n",
       "6    ARB  0x912ce59144191c1204e64559fe8253a0e49e6548      2.121842   \n",
       "7   USDT  0xfd086bc7cd5c481dcc9c85ebe478a1c0b69fcbb9      0.905344   \n",
       "8    CRV  0x11cdb42b0eb46d95f990bedd4695a6e3fa034978      0.605335   \n",
       "9    ZRO  0x6985884c4392d348587b19cb9eaaf157f13271cd      0.244965   \n",
       "\n",
       "   excess_return  latest_price                latest_hour  stddev_30d  \\\n",
       "0       0.891667      0.173335  2025-01-06 16:00:00+00:00    0.028649   \n",
       "1       0.399587      0.611536  2025-01-06 16:00:00+00:00    0.089484   \n",
       "2       0.228900      0.491961  2025-01-06 16:00:00+00:00    0.053696   \n",
       "3       0.003190      1.006000  2025-01-06 16:00:00+00:00    0.000905   \n",
       "4       0.005553      1.005000  2025-01-06 16:00:00+00:00    0.001748   \n",
       "5       0.004193      1.006000  2025-01-06 16:00:00+00:00    0.001753   \n",
       "6       0.271495      0.943365  2025-01-06 16:00:00+00:00    0.127952   \n",
       "7       0.001566      1.002000  2025-01-06 16:00:00+00:00    0.001729   \n",
       "8       0.069327      1.011000  2025-01-06 16:00:00+00:00    0.114526   \n",
       "9       0.136865      5.950000  2025-01-06 16:00:00+00:00    0.558713   \n",
       "\n",
       "         volume  average_order  sixty_d_return  __row_index  \\\n",
       "0  2.867698e+06     163.262081        0.892469            0   \n",
       "1  8.264843e+06     271.361034        0.400389            1   \n",
       "2  2.324067e+06     192.341905        0.229703            2   \n",
       "3  8.806350e+08    1827.297492        0.003992            3   \n",
       "4  1.192044e+07    1055.560284        0.006356            4   \n",
       "5  1.330199e+08     831.166548        0.004995            5   \n",
       "6  1.828342e+08     820.870725        0.272297            6   \n",
       "7  4.616128e+08    1353.754784        0.002368            7   \n",
       "8  9.694287e+06     927.682998        0.070129            8   \n",
       "9  6.521666e+06     468.611463        0.137667            9   \n",
       "\n",
       "        original_latest_hour  \n",
       "0  2025-01-06 16:00:00+00:00  \n",
       "1  2025-01-06 16:00:00+00:00  \n",
       "2  2025-01-06 16:00:00+00:00  \n",
       "3  2025-01-06 16:00:00+00:00  \n",
       "4  2025-01-06 16:00:00+00:00  \n",
       "5  2025-01-06 16:00:00+00:00  \n",
       "6  2025-01-06 16:00:00+00:00  \n",
       "7  2025-01-06 16:00:00+00:00  \n",
       "8  2025-01-06 16:00:00+00:00  \n",
       "9  2025-01-06 16:00:00+00:00  "
      ]
     },
     "execution_count": 17,
     "metadata": {},
     "output_type": "execute_result"
    }
   ],
   "source": [
    "classifier_data"
   ]
  },
  {
   "cell_type": "code",
   "execution_count": 18,
   "metadata": {},
   "outputs": [
    {
     "data": {
      "text/plain": [
       "'2024-07-30 13:00:00'"
      ]
     },
     "execution_count": 18,
     "metadata": {},
     "output_type": "execute_result"
    }
   ],
   "source": [
    "full_start = original_prices_df.index.min().strftime('%Y-%m-%d %H:00:00')\n",
    "full_start"
   ]
  },
  {
   "cell_type": "code",
   "execution_count": 19,
   "metadata": {},
   "outputs": [
    {
     "data": {
      "text/plain": [
       "array(['LAVA', 'MAGIC', 'STG', 'USDC', 'DAI', 'ARB', 'USDT', 'CRV', 'ZRO'],\n",
       "      dtype=object)"
      ]
     },
     "execution_count": 19,
     "metadata": {},
     "output_type": "execute_result"
    }
   ],
   "source": [
    "filtered_assets = classifier_data['symbol'].unique()\n",
    "filtered_assets"
   ]
  },
  {
   "cell_type": "code",
   "execution_count": 20,
   "metadata": {},
   "outputs": [],
   "source": [
    "data_start_date = dt.datetime.now(dt.timezone.utc) - timedelta(hours=5)\n",
    "data_start_date = data_start_date.strftime('%Y-%m-%d %H:00:00')\n",
    "\n",
    "today_utc = dt.datetime.now(dt.timezone.utc) \n",
    "formatted_today_utc = today_utc.strftime('%Y-%m-%d %H:00:00')\n",
    "\n",
    "data_version = dt.datetime.now(dt.timezone.utc).strftime('%Y-%m-%d %H-00-00')\n",
    "data_version_comp = dt.datetime.now(dt.timezone.utc).strftime('%Y-%m-%d %H:00:00') "
   ]
  },
  {
   "cell_type": "code",
   "execution_count": 21,
   "metadata": {},
   "outputs": [
    {
     "name": "stdout",
     "output_type": "stream",
     "text": [
      "Loading data from CSVs...\n"
     ]
    }
   ],
   "source": [
    "interest_rate_dict, cpi_data_df_clean_prepared = macro_main(formatted_today_utc, api=False)"
   ]
  },
  {
   "cell_type": "code",
   "execution_count": 22,
   "metadata": {},
   "outputs": [
    {
     "data": {
      "text/html": [
       "<div>\n",
       "<style scoped>\n",
       "    .dataframe tbody tr th:only-of-type {\n",
       "        vertical-align: middle;\n",
       "    }\n",
       "\n",
       "    .dataframe tbody tr th {\n",
       "        vertical-align: top;\n",
       "    }\n",
       "\n",
       "    .dataframe thead th {\n",
       "        text-align: right;\n",
       "    }\n",
       "</style>\n",
       "<table border=\"1\" class=\"dataframe\">\n",
       "  <thead>\n",
       "    <tr style=\"text-align: right;\">\n",
       "      <th></th>\n",
       "      <th>date</th>\n",
       "      <th>value</th>\n",
       "      <th>country</th>\n",
       "    </tr>\n",
       "  </thead>\n",
       "  <tbody>\n",
       "    <tr>\n",
       "      <th>0</th>\n",
       "      <td>2024-12-01</td>\n",
       "      <td>0.0448</td>\n",
       "      <td>united_states</td>\n",
       "    </tr>\n",
       "  </tbody>\n",
       "</table>\n",
       "</div>"
      ],
      "text/plain": [
       "         date   value        country\n",
       "0  2024-12-01  0.0448  united_states"
      ]
     },
     "execution_count": 22,
     "metadata": {},
     "output_type": "execute_result"
    }
   ],
   "source": [
    "interest_rate_dict['Overnight Interbank Rate']"
   ]
  },
  {
   "cell_type": "code",
   "execution_count": 23,
   "metadata": {},
   "outputs": [
    {
     "data": {
      "text/html": [
       "<div>\n",
       "<style scoped>\n",
       "    .dataframe tbody tr th:only-of-type {\n",
       "        vertical-align: middle;\n",
       "    }\n",
       "\n",
       "    .dataframe tbody tr th {\n",
       "        vertical-align: top;\n",
       "    }\n",
       "\n",
       "    .dataframe thead th {\n",
       "        text-align: right;\n",
       "    }\n",
       "</style>\n",
       "<table border=\"1\" class=\"dataframe\">\n",
       "  <thead>\n",
       "    <tr style=\"text-align: right;\">\n",
       "      <th></th>\n",
       "      <th>country</th>\n",
       "      <th>value</th>\n",
       "      <th>expenditure</th>\n",
       "    </tr>\n",
       "  </thead>\n",
       "  <tbody>\n",
       "    <tr>\n",
       "      <th>0</th>\n",
       "      <td>united_states</td>\n",
       "      <td>0.027494</td>\n",
       "      <td>total</td>\n",
       "    </tr>\n",
       "  </tbody>\n",
       "</table>\n",
       "</div>"
      ],
      "text/plain": [
       "         country     value expenditure\n",
       "0  united_states  0.027494       total"
      ]
     },
     "execution_count": 23,
     "metadata": {},
     "output_type": "execute_result"
    }
   ],
   "source": [
    "cpi_data_df_clean_prepared"
   ]
  },
  {
   "cell_type": "code",
   "execution_count": 24,
   "metadata": {},
   "outputs": [
    {
     "data": {
      "text/plain": [
       "'2025-01-11 14:00:00'"
      ]
     },
     "execution_count": 24,
     "metadata": {},
     "output_type": "execute_result"
    }
   ],
   "source": [
    "start_date = str(data_start_date)\n",
    "end_date = dt.datetime.now(dt.timezone.utc).strftime('%Y-%m-%d %H:00:00') \n",
    "\n",
    "start_date"
   ]
  },
  {
   "cell_type": "code",
   "execution_count": 25,
   "metadata": {},
   "outputs": [
    {
     "data": {
      "text/plain": [
       "'2025-01-11 19:00:00'"
      ]
     },
     "execution_count": 25,
     "metadata": {},
     "output_type": "execute_result"
    }
   ],
   "source": [
    "end_date"
   ]
  },
  {
   "cell_type": "code",
   "execution_count": 26,
   "metadata": {},
   "outputs": [
    {
     "name": "stdout",
     "output_type": "stream",
     "text": [
      "backtest days: 0\n",
      "use_cached_data: False\n",
      "volume_threshold: 1\n",
      "start_date: 2025-01-11 14:00:00\n",
      "data_start_str: 2024-07-08 04:00:00\n",
      "Beginning: '2025-01-11 14:00:00'\n",
      "Query not completed. Retrying in 30 seconds...\n",
      "cleaning prices\n",
      "cleaned prices:                        hour  ARB_Price  CRV_Price  DAI_Price  LAVA_Price  \\\n",
      "0  2025-01-11T14:00:00.000Z   0.737405   0.819361   0.999276    0.146359   \n",
      "1  2025-01-11T15:00:00.000Z   0.732249   0.811187   1.000000    0.146579   \n",
      "2  2025-01-11T16:00:00.000Z   0.736068   0.814135   1.000000    0.150335   \n",
      "3  2025-01-11T17:00:00.000Z   0.731897   0.808624   0.999876    0.152158   \n",
      "4  2025-01-11T18:00:00.000Z   0.733322   0.806520   1.000000    0.154930   \n",
      "5  2025-01-11T19:00:00.000Z   0.729853   0.800173   1.001000    0.155837   \n",
      "\n",
      "   MAGIC_Price  STG_Price  USDC_Price  USDT_Price  ZRO_Price  \n",
      "0     0.474871   0.409888    0.999998    0.999796       4.68  \n",
      "1     0.471421   0.410636    0.999902    0.999450       4.64  \n",
      "2     0.472452   0.413655    0.999745    0.999651       4.63  \n",
      "3     0.469234   0.428116    1.000000    0.999552       4.62  \n",
      "4     0.470230   0.436000    0.999198    0.998871       4.63  \n",
      "5     0.466724   0.431855    0.999999    0.999192       4.61  \n",
      "DatetimeIndex(['2025-01-11 14:00:00+00:00', '2025-01-11 15:00:00+00:00',\n",
      "               '2025-01-11 16:00:00+00:00', '2025-01-11 17:00:00+00:00',\n",
      "               '2025-01-11 18:00:00+00:00', '2025-01-11 19:00:00+00:00'],\n",
      "              dtype='datetime64[ns, UTC]', name='hour', freq=None)\n",
      "price index: DatetimeIndex(['2025-01-11 14:00:00+00:00', '2025-01-11 15:00:00+00:00',\n",
      "               '2025-01-11 16:00:00+00:00', '2025-01-11 17:00:00+00:00',\n",
      "               '2025-01-11 18:00:00+00:00', '2025-01-11 19:00:00+00:00'],\n",
      "              dtype='datetime64[ns, UTC]', name='hour', freq=None)\n"
     ]
    },
    {
     "name": "stderr",
     "output_type": "stream",
     "text": [
      "C:\\Users\\brandyns pc\\AppData\\Local\\Temp\\ipykernel_20656\\3188632879.py:18: FutureWarning: 'H' is deprecated and will be removed in a future version, please use 'h' instead.\n",
      "  required_dates = pd.date_range(start=start_date, end=end_date, freq='H')\n",
      "C:\\Users\\brandyns pc\\AppData\\Local\\Temp\\ipykernel_20656\\3188632879.py:25: FutureWarning: DataFrame.fillna with 'method' is deprecated and will raise in a future version. Use obj.ffill() or obj.bfill() instead.\n",
      "  price_timeseries.fillna(method='ffill', inplace=True)\n"
     ]
    }
   ],
   "source": [
    "data, prices_df = prices_data_func(\n",
    "                            network=network, \n",
    "                            name=model,\n",
    "                            api_key=flipside_api_key,\n",
    "                            use_cached_data=False,\n",
    "                            function=None,\n",
    "                            start_date=start_date,\n",
    "                            filtered_assets=filtered_assets\n",
    "                            )\n",
    "        \n",
    "prices_df = prepare_data_for_simulation(prices_df, start_date, end_date)"
   ]
  },
  {
   "cell_type": "code",
   "execution_count": 27,
   "metadata": {},
   "outputs": [],
   "source": [
    "# prices_df.columns"
   ]
  },
  {
   "cell_type": "code",
   "execution_count": 28,
   "metadata": {},
   "outputs": [],
   "source": [
    "# import pandas as pd\n",
    "# print(pd.__version__)\n"
   ]
  },
  {
   "cell_type": "code",
   "execution_count": 29,
   "metadata": {},
   "outputs": [
    {
     "data": {
      "text/html": [
       "<div>\n",
       "<style scoped>\n",
       "    .dataframe tbody tr th:only-of-type {\n",
       "        vertical-align: middle;\n",
       "    }\n",
       "\n",
       "    .dataframe tbody tr th {\n",
       "        vertical-align: top;\n",
       "    }\n",
       "\n",
       "    .dataframe thead th {\n",
       "        text-align: right;\n",
       "    }\n",
       "</style>\n",
       "<table border=\"1\" class=\"dataframe\">\n",
       "  <thead>\n",
       "    <tr style=\"text-align: right;\">\n",
       "      <th></th>\n",
       "      <th>LAVA</th>\n",
       "      <th>MAGIC</th>\n",
       "      <th>STG</th>\n",
       "      <th>USDC</th>\n",
       "      <th>DAI</th>\n",
       "      <th>ARB</th>\n",
       "      <th>USDT</th>\n",
       "      <th>CRV</th>\n",
       "      <th>ZRO</th>\n",
       "    </tr>\n",
       "  </thead>\n",
       "  <tbody>\n",
       "    <tr>\n",
       "      <th>2025-01-11 14:00:00</th>\n",
       "      <td>0.146359</td>\n",
       "      <td>0.474871</td>\n",
       "      <td>0.409888</td>\n",
       "      <td>0.999998</td>\n",
       "      <td>0.999276</td>\n",
       "      <td>0.737405</td>\n",
       "      <td>0.999796</td>\n",
       "      <td>0.819361</td>\n",
       "      <td>4.68</td>\n",
       "    </tr>\n",
       "    <tr>\n",
       "      <th>2025-01-11 15:00:00</th>\n",
       "      <td>0.146579</td>\n",
       "      <td>0.471421</td>\n",
       "      <td>0.410636</td>\n",
       "      <td>0.999902</td>\n",
       "      <td>1.000000</td>\n",
       "      <td>0.732249</td>\n",
       "      <td>0.999450</td>\n",
       "      <td>0.811187</td>\n",
       "      <td>4.64</td>\n",
       "    </tr>\n",
       "    <tr>\n",
       "      <th>2025-01-11 16:00:00</th>\n",
       "      <td>0.150335</td>\n",
       "      <td>0.472452</td>\n",
       "      <td>0.413655</td>\n",
       "      <td>0.999745</td>\n",
       "      <td>1.000000</td>\n",
       "      <td>0.736068</td>\n",
       "      <td>0.999651</td>\n",
       "      <td>0.814135</td>\n",
       "      <td>4.63</td>\n",
       "    </tr>\n",
       "    <tr>\n",
       "      <th>2025-01-11 17:00:00</th>\n",
       "      <td>0.152158</td>\n",
       "      <td>0.469234</td>\n",
       "      <td>0.428116</td>\n",
       "      <td>1.000000</td>\n",
       "      <td>0.999876</td>\n",
       "      <td>0.731897</td>\n",
       "      <td>0.999552</td>\n",
       "      <td>0.808624</td>\n",
       "      <td>4.62</td>\n",
       "    </tr>\n",
       "    <tr>\n",
       "      <th>2025-01-11 18:00:00</th>\n",
       "      <td>0.154930</td>\n",
       "      <td>0.470230</td>\n",
       "      <td>0.436000</td>\n",
       "      <td>0.999198</td>\n",
       "      <td>1.000000</td>\n",
       "      <td>0.733322</td>\n",
       "      <td>0.998871</td>\n",
       "      <td>0.806520</td>\n",
       "      <td>4.63</td>\n",
       "    </tr>\n",
       "    <tr>\n",
       "      <th>2025-01-11 19:00:00</th>\n",
       "      <td>0.155837</td>\n",
       "      <td>0.466724</td>\n",
       "      <td>0.431855</td>\n",
       "      <td>0.999999</td>\n",
       "      <td>1.001000</td>\n",
       "      <td>0.729853</td>\n",
       "      <td>0.999192</td>\n",
       "      <td>0.800173</td>\n",
       "      <td>4.61</td>\n",
       "    </tr>\n",
       "  </tbody>\n",
       "</table>\n",
       "</div>"
      ],
      "text/plain": [
       "                         LAVA     MAGIC       STG      USDC       DAI  \\\n",
       "2025-01-11 14:00:00  0.146359  0.474871  0.409888  0.999998  0.999276   \n",
       "2025-01-11 15:00:00  0.146579  0.471421  0.410636  0.999902  1.000000   \n",
       "2025-01-11 16:00:00  0.150335  0.472452  0.413655  0.999745  1.000000   \n",
       "2025-01-11 17:00:00  0.152158  0.469234  0.428116  1.000000  0.999876   \n",
       "2025-01-11 18:00:00  0.154930  0.470230  0.436000  0.999198  1.000000   \n",
       "2025-01-11 19:00:00  0.155837  0.466724  0.431855  0.999999  1.001000   \n",
       "\n",
       "                          ARB      USDT       CRV   ZRO  \n",
       "2025-01-11 14:00:00  0.737405  0.999796  0.819361  4.68  \n",
       "2025-01-11 15:00:00  0.732249  0.999450  0.811187  4.64  \n",
       "2025-01-11 16:00:00  0.736068  0.999651  0.814135  4.63  \n",
       "2025-01-11 17:00:00  0.731897  0.999552  0.808624  4.62  \n",
       "2025-01-11 18:00:00  0.733322  0.998871  0.806520  4.63  \n",
       "2025-01-11 19:00:00  0.729853  0.999192  0.800173  4.61  "
      ]
     },
     "execution_count": 29,
     "metadata": {},
     "output_type": "execute_result"
    }
   ],
   "source": [
    "prices_df.columns = [col.replace('_Price', '') for col in prices_df.columns]\n",
    "prices_df"
   ]
  },
  {
   "cell_type": "code",
   "execution_count": 30,
   "metadata": {},
   "outputs": [
    {
     "data": {
      "text/html": [
       "<div>\n",
       "<style scoped>\n",
       "    .dataframe tbody tr th:only-of-type {\n",
       "        vertical-align: middle;\n",
       "    }\n",
       "\n",
       "    .dataframe tbody tr th {\n",
       "        vertical-align: top;\n",
       "    }\n",
       "\n",
       "    .dataframe thead th {\n",
       "        text-align: right;\n",
       "    }\n",
       "</style>\n",
       "<table border=\"1\" class=\"dataframe\">\n",
       "  <thead>\n",
       "    <tr style=\"text-align: right;\">\n",
       "      <th></th>\n",
       "      <th>realtime_start</th>\n",
       "      <th>realtime_end</th>\n",
       "      <th>value</th>\n",
       "      <th>decimal</th>\n",
       "    </tr>\n",
       "    <tr>\n",
       "      <th>date</th>\n",
       "      <th></th>\n",
       "      <th></th>\n",
       "      <th></th>\n",
       "      <th></th>\n",
       "    </tr>\n",
       "  </thead>\n",
       "  <tbody>\n",
       "    <tr>\n",
       "      <th>1934-01-01</th>\n",
       "      <td>2025-01-09</td>\n",
       "      <td>2025-01-09</td>\n",
       "      <td>0.72</td>\n",
       "      <td>0.0072</td>\n",
       "    </tr>\n",
       "    <tr>\n",
       "      <th>1934-02-01</th>\n",
       "      <td>2025-01-09</td>\n",
       "      <td>2025-01-09</td>\n",
       "      <td>0.62</td>\n",
       "      <td>0.0062</td>\n",
       "    </tr>\n",
       "    <tr>\n",
       "      <th>1934-03-01</th>\n",
       "      <td>2025-01-09</td>\n",
       "      <td>2025-01-09</td>\n",
       "      <td>0.24</td>\n",
       "      <td>0.0024</td>\n",
       "    </tr>\n",
       "    <tr>\n",
       "      <th>1934-04-01</th>\n",
       "      <td>2025-01-09</td>\n",
       "      <td>2025-01-09</td>\n",
       "      <td>0.15</td>\n",
       "      <td>0.0015</td>\n",
       "    </tr>\n",
       "    <tr>\n",
       "      <th>1934-05-01</th>\n",
       "      <td>2025-01-09</td>\n",
       "      <td>2025-01-09</td>\n",
       "      <td>0.16</td>\n",
       "      <td>0.0016</td>\n",
       "    </tr>\n",
       "    <tr>\n",
       "      <th>...</th>\n",
       "      <td>...</td>\n",
       "      <td>...</td>\n",
       "      <td>...</td>\n",
       "      <td>...</td>\n",
       "    </tr>\n",
       "    <tr>\n",
       "      <th>2024-08-01</th>\n",
       "      <td>2025-01-09</td>\n",
       "      <td>2025-01-09</td>\n",
       "      <td>5.05</td>\n",
       "      <td>0.0505</td>\n",
       "    </tr>\n",
       "    <tr>\n",
       "      <th>2024-09-01</th>\n",
       "      <td>2025-01-09</td>\n",
       "      <td>2025-01-09</td>\n",
       "      <td>4.72</td>\n",
       "      <td>0.0472</td>\n",
       "    </tr>\n",
       "    <tr>\n",
       "      <th>2024-10-01</th>\n",
       "      <td>2025-01-09</td>\n",
       "      <td>2025-01-09</td>\n",
       "      <td>4.51</td>\n",
       "      <td>0.0451</td>\n",
       "    </tr>\n",
       "    <tr>\n",
       "      <th>2024-11-01</th>\n",
       "      <td>2025-01-09</td>\n",
       "      <td>2025-01-09</td>\n",
       "      <td>4.42</td>\n",
       "      <td>0.0442</td>\n",
       "    </tr>\n",
       "    <tr>\n",
       "      <th>2024-12-01</th>\n",
       "      <td>2025-01-09</td>\n",
       "      <td>2025-01-09</td>\n",
       "      <td>4.27</td>\n",
       "      <td>0.0427</td>\n",
       "    </tr>\n",
       "  </tbody>\n",
       "</table>\n",
       "<p>1092 rows × 4 columns</p>\n",
       "</div>"
      ],
      "text/plain": [
       "           realtime_start realtime_end  value  decimal\n",
       "date                                                  \n",
       "1934-01-01     2025-01-09   2025-01-09   0.72   0.0072\n",
       "1934-02-01     2025-01-09   2025-01-09   0.62   0.0062\n",
       "1934-03-01     2025-01-09   2025-01-09   0.24   0.0024\n",
       "1934-04-01     2025-01-09   2025-01-09   0.15   0.0015\n",
       "1934-05-01     2025-01-09   2025-01-09   0.16   0.0016\n",
       "...                   ...          ...    ...      ...\n",
       "2024-08-01     2025-01-09   2025-01-09   5.05   0.0505\n",
       "2024-09-01     2025-01-09   2025-01-09   4.72   0.0472\n",
       "2024-10-01     2025-01-09   2025-01-09   4.51   0.0451\n",
       "2024-11-01     2025-01-09   2025-01-09   4.42   0.0442\n",
       "2024-12-01     2025-01-09   2025-01-09   4.27   0.0427\n",
       "\n",
       "[1092 rows x 4 columns]"
      ]
     },
     "execution_count": 30,
     "metadata": {},
     "output_type": "execute_result"
    }
   ],
   "source": [
    "three_month_tbill"
   ]
  },
  {
   "cell_type": "code",
   "execution_count": 31,
   "metadata": {},
   "outputs": [
    {
     "data": {
      "text/plain": [
       "<web3.main.Web3 at 0x29e4ed3cb90>"
      ]
     },
     "execution_count": 31,
     "metadata": {},
     "output_type": "execute_result"
    }
   ],
   "source": [
    "w3"
   ]
  },
  {
   "cell_type": "code",
   "execution_count": 32,
   "metadata": {},
   "outputs": [],
   "source": [
    "def rebalance_portfolio(\n",
    "    uniswap, \n",
    "    token_contracts, \n",
    "    token_decimals, \n",
    "    target_compositions, \n",
    "    account_address, \n",
    "):\n",
    "    \"\"\"\n",
    "    Rebalances the portfolio by selling all tokens into WETH and then buying target allocations using WETH.\n",
    "\n",
    "    Parameters:\n",
    "    - uniswap: Initialized Uniswap class instance.\n",
    "    - token_contracts: Dict of token addresses.\n",
    "    - token_decimals: Dict of token decimals.\n",
    "    - target_compositions: Dict of target compositions as fractions summing to 1.\n",
    "    - account_address: ETH wallet address.\n",
    "    - web3: Initialized Web3 instance.\n",
    "    \"\"\"\n",
    "\n",
    "    # WETH address and checksum\n",
    "    WETH_ADDRESS = '0x82aF49447D8a07e3bd95BD0d56f35241523fBab1'\n",
    "    checksum_weth_address = Web3.to_checksum_address(WETH_ADDRESS)\n",
    "\n",
    "    # Step 1: Convert Token Addresses to Checksum Format\n",
    "    checksum_addresses = {token: Web3.to_checksum_address(address) for token, address in token_contracts.items()}\n",
    "\n",
    "    # Step 2: Sell All Current Token Holdings into WETH\n",
    "    for token, address in checksum_addresses.items():\n",
    "        try:\n",
    "            balance_wei = uniswap.get_token_balance(address)\n",
    "            balance = balance_wei / 10**token_decimals[token]\n",
    "            \n",
    "            # Adjust the balance to avoid precision issues (round down to 6 decimal places)\n",
    "            adjusted_balance = math.floor(balance * 10**8) / 10**8\n",
    "            \n",
    "            if adjusted_balance > 0:\n",
    "                amount_to_sell = int(adjusted_balance * 10**token_decimals[token])\n",
    "                print(f\"Selling {adjusted_balance:.6f} {token} for WETH\")\n",
    "                uniswap.make_trade(\n",
    "                    checksum_addresses[token],\n",
    "                    checksum_weth_address,  # WETH as output token\n",
    "                    amount_to_sell\n",
    "                )\n",
    "                wait_time = random.randint(15, 30)\n",
    "                print(f\"Waiting {wait_time} seconds before the next call...\")\n",
    "                time.sleep(wait_time)\n",
    "        except Exception as e:\n",
    "            print(f\"Error selling {token}: {e}\")\n",
    "\n",
    "    # Step 3: Get Current WETH Balance\n",
    "    weth_balance_wei = uniswap.get_token_balance(checksum_weth_address)\n",
    "    weth_balance = weth_balance_wei / 10**18\n",
    "    print(f\"Total WETH balance after selling: {weth_balance:.6f} WETH\")\n",
    "\n",
    "    # Step 4: Buy Target Tokens Based on Target Compositions\n",
    "    for token, target_weight in target_compositions.items():\n",
    "        if target_weight > 0:\n",
    "            weth_to_spend = weth_balance * target_weight\n",
    "            \n",
    "            # Adjust the WETH amount to avoid precision issues (round down to 6 decimal places)\n",
    "            adjusted_weth_to_spend = math.floor(weth_to_spend * 10**8) / 10**8\n",
    "\n",
    "            if adjusted_weth_to_spend <= 0:\n",
    "                continue\n",
    "\n",
    "            try:\n",
    "                print(f\"Buying {token} with {adjusted_weth_to_spend:.6f} WETH\")\n",
    "\n",
    "                uniswap.make_trade(\n",
    "                    checksum_weth_address,        # WETH as input token\n",
    "                    checksum_addresses[token],    # Target token\n",
    "                    int(adjusted_weth_to_spend * 10**18),  # Convert WETH amount to wei\n",
    "                    fee=3000                      # Assuming 0.3% fee pool for Uniswap V3\n",
    "                )\n",
    "\n",
    "                wait_time = random.randint(15, 30)\n",
    "                print(f\"Waiting {wait_time} seconds before the next call...\")\n",
    "                time.sleep(wait_time)\n",
    "\n",
    "            except Exception as e:\n",
    "                print(f\"Error buying {token}: {e}\")\n",
    "\n",
    "    # Step 5: Log the Rebalancing Info\n",
    "    final_weth_balance = uniswap.get_token_balance(checksum_weth_address) / 10**18\n",
    "    print(f\"Final WETH balance: {final_weth_balance:.6f} WETH\")\n",
    "\n",
    "    rebal_info = {\n",
    "        \"account_address\": account_address,\n",
    "        \"initial_weth_balance\": weth_balance,\n",
    "        \"final_weth_balance\": final_weth_balance,\n",
    "        \"purchases\": target_compositions,\n",
    "    }\n",
    "\n",
    "    # Save rebalancing info to CSV\n",
    "    rebal_df = pd.DataFrame([rebal_info])\n",
    "    rebal_df.to_csv('data/live_rebal_results.csv', index=False)\n",
    "    print(\"Rebalancing info saved to 'data/live_rebal_results.csv'.\")"
   ]
  },
  {
   "cell_type": "code",
   "execution_count": 33,
   "metadata": {},
   "outputs": [],
   "source": [
    "metrics_query = latest_portfolio_metrics(classifier_data['token_address'], network, days, dt.datetime.now(dt.timezone.utc).strftime('%Y-%m-%d'))"
   ]
  },
  {
   "cell_type": "code",
   "execution_count": 34,
   "metadata": {},
   "outputs": [
    {
     "name": "stdout",
     "output_type": "stream",
     "text": [
      "Query not completed. Retrying in 30 seconds...\n"
     ]
    }
   ],
   "source": [
    "latest_metrics_df = flipside_api_results(metrics_query, flipside_api_key)"
   ]
  },
  {
   "cell_type": "code",
   "execution_count": 35,
   "metadata": {},
   "outputs": [
    {
     "data": {
      "text/html": [
       "<div>\n",
       "<style scoped>\n",
       "    .dataframe tbody tr th:only-of-type {\n",
       "        vertical-align: middle;\n",
       "    }\n",
       "\n",
       "    .dataframe tbody tr th {\n",
       "        vertical-align: top;\n",
       "    }\n",
       "\n",
       "    .dataframe thead th {\n",
       "        text-align: right;\n",
       "    }\n",
       "</style>\n",
       "<table border=\"1\" class=\"dataframe\">\n",
       "  <thead>\n",
       "    <tr style=\"text-align: right;\">\n",
       "      <th></th>\n",
       "      <th>symbol</th>\n",
       "      <th>token_address</th>\n",
       "      <th>sharpe_ratio</th>\n",
       "      <th>excess_return</th>\n",
       "      <th>latest_price</th>\n",
       "      <th>latest_hour</th>\n",
       "      <th>sixty_day_price</th>\n",
       "      <th>stddev_30d</th>\n",
       "      <th>rolling_7d_avg</th>\n",
       "      <th>token_return</th>\n",
       "      <th>rolling_30d_avg</th>\n",
       "      <th>avg_vol</th>\n",
       "      <th>sum_vol</th>\n",
       "      <th>__row_index</th>\n",
       "    </tr>\n",
       "  </thead>\n",
       "  <tbody>\n",
       "    <tr>\n",
       "      <th>0</th>\n",
       "      <td>LAVA</td>\n",
       "      <td>0x11e969e9b3f89cb16d686a03cd8508c9fc0361af</td>\n",
       "      <td>None</td>\n",
       "      <td>None</td>\n",
       "      <td>0.155837</td>\n",
       "      <td>2025-01-11T19:00:00.000Z</td>\n",
       "      <td>0.155225</td>\n",
       "      <td>0.036859</td>\n",
       "      <td>0.165599</td>\n",
       "      <td>0.003943</td>\n",
       "      <td>0.165804</td>\n",
       "      <td>215.330862</td>\n",
       "      <td>3.855930e+06</td>\n",
       "      <td>0</td>\n",
       "    </tr>\n",
       "    <tr>\n",
       "      <th>1</th>\n",
       "      <td>STG</td>\n",
       "      <td>0x6694340fc020c5e6b96567843da2df01b2ce1eb6</td>\n",
       "      <td>None</td>\n",
       "      <td>None</td>\n",
       "      <td>0.431855</td>\n",
       "      <td>2025-01-11T19:00:00.000Z</td>\n",
       "      <td>0.421014</td>\n",
       "      <td>0.058209</td>\n",
       "      <td>0.451722</td>\n",
       "      <td>0.025750</td>\n",
       "      <td>0.453080</td>\n",
       "      <td>189.897801</td>\n",
       "      <td>2.226932e+06</td>\n",
       "      <td>1</td>\n",
       "    </tr>\n",
       "    <tr>\n",
       "      <th>2</th>\n",
       "      <td>USDC</td>\n",
       "      <td>0xff970a61a04b1ca14834a43f5de4533ebddb5cc8</td>\n",
       "      <td>None</td>\n",
       "      <td>None</td>\n",
       "      <td>1.000000</td>\n",
       "      <td>2025-01-11T19:00:00.000Z</td>\n",
       "      <td>0.998867</td>\n",
       "      <td>0.001695</td>\n",
       "      <td>1.000034</td>\n",
       "      <td>0.001134</td>\n",
       "      <td>1.000025</td>\n",
       "      <td>794.366441</td>\n",
       "      <td>1.608401e+08</td>\n",
       "      <td>2</td>\n",
       "    </tr>\n",
       "    <tr>\n",
       "      <th>3</th>\n",
       "      <td>ZRO</td>\n",
       "      <td>0x6985884c4392d348587b19cb9eaaf157f13271cd</td>\n",
       "      <td>None</td>\n",
       "      <td>None</td>\n",
       "      <td>4.610000</td>\n",
       "      <td>2025-01-11T19:00:00.000Z</td>\n",
       "      <td>5.780000</td>\n",
       "      <td>0.601652</td>\n",
       "      <td>5.204911</td>\n",
       "      <td>-0.202422</td>\n",
       "      <td>5.257553</td>\n",
       "      <td>484.841270</td>\n",
       "      <td>6.153121e+06</td>\n",
       "      <td>3</td>\n",
       "    </tr>\n",
       "    <tr>\n",
       "      <th>4</th>\n",
       "      <td>USDT</td>\n",
       "      <td>0xfd086bc7cd5c481dcc9c85ebe478a1c0b69fcbb9</td>\n",
       "      <td>None</td>\n",
       "      <td>None</td>\n",
       "      <td>0.999192</td>\n",
       "      <td>2025-01-11T19:00:00.000Z</td>\n",
       "      <td>0.999334</td>\n",
       "      <td>0.001437</td>\n",
       "      <td>0.999970</td>\n",
       "      <td>-0.000142</td>\n",
       "      <td>0.999961</td>\n",
       "      <td>1395.118420</td>\n",
       "      <td>6.058985e+08</td>\n",
       "      <td>4</td>\n",
       "    </tr>\n",
       "    <tr>\n",
       "      <th>5</th>\n",
       "      <td>DAI</td>\n",
       "      <td>0xda10009cbd5d07dd0cecc66161fc93d7c9000da1</td>\n",
       "      <td>None</td>\n",
       "      <td>None</td>\n",
       "      <td>1.001000</td>\n",
       "      <td>2025-01-11T19:00:00.000Z</td>\n",
       "      <td>0.999981</td>\n",
       "      <td>0.001609</td>\n",
       "      <td>1.000090</td>\n",
       "      <td>0.001019</td>\n",
       "      <td>1.000011</td>\n",
       "      <td>820.129601</td>\n",
       "      <td>1.134977e+07</td>\n",
       "      <td>5</td>\n",
       "    </tr>\n",
       "    <tr>\n",
       "      <th>6</th>\n",
       "      <td>CRV</td>\n",
       "      <td>0x11cdb42b0eb46d95f990bedd4695a6e3fa034978</td>\n",
       "      <td>None</td>\n",
       "      <td>None</td>\n",
       "      <td>0.800173</td>\n",
       "      <td>2025-01-11T19:00:00.000Z</td>\n",
       "      <td>1.090000</td>\n",
       "      <td>0.113512</td>\n",
       "      <td>0.915789</td>\n",
       "      <td>-0.265896</td>\n",
       "      <td>0.931492</td>\n",
       "      <td>883.966083</td>\n",
       "      <td>6.262900e+06</td>\n",
       "      <td>6</td>\n",
       "    </tr>\n",
       "    <tr>\n",
       "      <th>7</th>\n",
       "      <td>MAGIC</td>\n",
       "      <td>0x539bde0d7dbd336b79148aa742883198bbf60342</td>\n",
       "      <td>None</td>\n",
       "      <td>None</td>\n",
       "      <td>0.466724</td>\n",
       "      <td>2025-01-11T19:00:00.000Z</td>\n",
       "      <td>0.536896</td>\n",
       "      <td>0.071141</td>\n",
       "      <td>0.535271</td>\n",
       "      <td>-0.130699</td>\n",
       "      <td>0.537334</td>\n",
       "      <td>288.138052</td>\n",
       "      <td>5.849779e+06</td>\n",
       "      <td>7</td>\n",
       "    </tr>\n",
       "    <tr>\n",
       "      <th>8</th>\n",
       "      <td>USDC</td>\n",
       "      <td>0xaf88d065e77c8cc2239327c5edb3a432268e5831</td>\n",
       "      <td>None</td>\n",
       "      <td>None</td>\n",
       "      <td>0.999999</td>\n",
       "      <td>2025-01-11T19:00:00.000Z</td>\n",
       "      <td>0.999459</td>\n",
       "      <td>0.000844</td>\n",
       "      <td>1.000024</td>\n",
       "      <td>0.000540</td>\n",
       "      <td>1.000011</td>\n",
       "      <td>2010.084340</td>\n",
       "      <td>1.249788e+09</td>\n",
       "      <td>8</td>\n",
       "    </tr>\n",
       "    <tr>\n",
       "      <th>9</th>\n",
       "      <td>ARB</td>\n",
       "      <td>0x912ce59144191c1204e64559fe8253a0e49e6548</td>\n",
       "      <td>None</td>\n",
       "      <td>None</td>\n",
       "      <td>0.729853</td>\n",
       "      <td>2025-01-11T19:00:00.000Z</td>\n",
       "      <td>0.833937</td>\n",
       "      <td>0.098473</td>\n",
       "      <td>0.829243</td>\n",
       "      <td>-0.124810</td>\n",
       "      <td>0.830663</td>\n",
       "      <td>823.798768</td>\n",
       "      <td>2.233796e+08</td>\n",
       "      <td>9</td>\n",
       "    </tr>\n",
       "  </tbody>\n",
       "</table>\n",
       "</div>"
      ],
      "text/plain": [
       "  symbol                               token_address sharpe_ratio  \\\n",
       "0   LAVA  0x11e969e9b3f89cb16d686a03cd8508c9fc0361af         None   \n",
       "1    STG  0x6694340fc020c5e6b96567843da2df01b2ce1eb6         None   \n",
       "2   USDC  0xff970a61a04b1ca14834a43f5de4533ebddb5cc8         None   \n",
       "3    ZRO  0x6985884c4392d348587b19cb9eaaf157f13271cd         None   \n",
       "4   USDT  0xfd086bc7cd5c481dcc9c85ebe478a1c0b69fcbb9         None   \n",
       "5    DAI  0xda10009cbd5d07dd0cecc66161fc93d7c9000da1         None   \n",
       "6    CRV  0x11cdb42b0eb46d95f990bedd4695a6e3fa034978         None   \n",
       "7  MAGIC  0x539bde0d7dbd336b79148aa742883198bbf60342         None   \n",
       "8   USDC  0xaf88d065e77c8cc2239327c5edb3a432268e5831         None   \n",
       "9    ARB  0x912ce59144191c1204e64559fe8253a0e49e6548         None   \n",
       "\n",
       "  excess_return  latest_price               latest_hour  sixty_day_price  \\\n",
       "0          None      0.155837  2025-01-11T19:00:00.000Z         0.155225   \n",
       "1          None      0.431855  2025-01-11T19:00:00.000Z         0.421014   \n",
       "2          None      1.000000  2025-01-11T19:00:00.000Z         0.998867   \n",
       "3          None      4.610000  2025-01-11T19:00:00.000Z         5.780000   \n",
       "4          None      0.999192  2025-01-11T19:00:00.000Z         0.999334   \n",
       "5          None      1.001000  2025-01-11T19:00:00.000Z         0.999981   \n",
       "6          None      0.800173  2025-01-11T19:00:00.000Z         1.090000   \n",
       "7          None      0.466724  2025-01-11T19:00:00.000Z         0.536896   \n",
       "8          None      0.999999  2025-01-11T19:00:00.000Z         0.999459   \n",
       "9          None      0.729853  2025-01-11T19:00:00.000Z         0.833937   \n",
       "\n",
       "   stddev_30d  rolling_7d_avg  token_return  rolling_30d_avg      avg_vol  \\\n",
       "0    0.036859        0.165599      0.003943         0.165804   215.330862   \n",
       "1    0.058209        0.451722      0.025750         0.453080   189.897801   \n",
       "2    0.001695        1.000034      0.001134         1.000025   794.366441   \n",
       "3    0.601652        5.204911     -0.202422         5.257553   484.841270   \n",
       "4    0.001437        0.999970     -0.000142         0.999961  1395.118420   \n",
       "5    0.001609        1.000090      0.001019         1.000011   820.129601   \n",
       "6    0.113512        0.915789     -0.265896         0.931492   883.966083   \n",
       "7    0.071141        0.535271     -0.130699         0.537334   288.138052   \n",
       "8    0.000844        1.000024      0.000540         1.000011  2010.084340   \n",
       "9    0.098473        0.829243     -0.124810         0.830663   823.798768   \n",
       "\n",
       "        sum_vol  __row_index  \n",
       "0  3.855930e+06            0  \n",
       "1  2.226932e+06            1  \n",
       "2  1.608401e+08            2  \n",
       "3  6.153121e+06            3  \n",
       "4  6.058985e+08            4  \n",
       "5  1.134977e+07            5  \n",
       "6  6.262900e+06            6  \n",
       "7  5.849779e+06            7  \n",
       "8  1.249788e+09            8  \n",
       "9  2.233796e+08            9  "
      ]
     },
     "execution_count": 35,
     "metadata": {},
     "output_type": "execute_result"
    }
   ],
   "source": [
    "latest_metrics_df"
   ]
  },
  {
   "cell_type": "code",
   "execution_count": 36,
   "metadata": {},
   "outputs": [
    {
     "data": {
      "text/html": [
       "<div>\n",
       "<style scoped>\n",
       "    .dataframe tbody tr th:only-of-type {\n",
       "        vertical-align: middle;\n",
       "    }\n",
       "\n",
       "    .dataframe tbody tr th {\n",
       "        vertical-align: top;\n",
       "    }\n",
       "\n",
       "    .dataframe thead th {\n",
       "        text-align: right;\n",
       "    }\n",
       "</style>\n",
       "<table border=\"1\" class=\"dataframe\">\n",
       "  <thead>\n",
       "    <tr style=\"text-align: right;\">\n",
       "      <th></th>\n",
       "      <th>LAVA</th>\n",
       "      <th>MAGIC</th>\n",
       "      <th>STG</th>\n",
       "      <th>USDC</th>\n",
       "      <th>DAI</th>\n",
       "      <th>ARB</th>\n",
       "      <th>USDT</th>\n",
       "      <th>CRV</th>\n",
       "      <th>ZRO</th>\n",
       "    </tr>\n",
       "  </thead>\n",
       "  <tbody>\n",
       "    <tr>\n",
       "      <th>2025-01-11 14:00:00</th>\n",
       "      <td>0.146359</td>\n",
       "      <td>0.474871</td>\n",
       "      <td>0.409888</td>\n",
       "      <td>0.999998</td>\n",
       "      <td>0.999276</td>\n",
       "      <td>0.737405</td>\n",
       "      <td>0.999796</td>\n",
       "      <td>0.819361</td>\n",
       "      <td>4.68</td>\n",
       "    </tr>\n",
       "    <tr>\n",
       "      <th>2025-01-11 15:00:00</th>\n",
       "      <td>0.146579</td>\n",
       "      <td>0.471421</td>\n",
       "      <td>0.410636</td>\n",
       "      <td>0.999902</td>\n",
       "      <td>1.000000</td>\n",
       "      <td>0.732249</td>\n",
       "      <td>0.999450</td>\n",
       "      <td>0.811187</td>\n",
       "      <td>4.64</td>\n",
       "    </tr>\n",
       "    <tr>\n",
       "      <th>2025-01-11 16:00:00</th>\n",
       "      <td>0.150335</td>\n",
       "      <td>0.472452</td>\n",
       "      <td>0.413655</td>\n",
       "      <td>0.999745</td>\n",
       "      <td>1.000000</td>\n",
       "      <td>0.736068</td>\n",
       "      <td>0.999651</td>\n",
       "      <td>0.814135</td>\n",
       "      <td>4.63</td>\n",
       "    </tr>\n",
       "    <tr>\n",
       "      <th>2025-01-11 17:00:00</th>\n",
       "      <td>0.152158</td>\n",
       "      <td>0.469234</td>\n",
       "      <td>0.428116</td>\n",
       "      <td>1.000000</td>\n",
       "      <td>0.999876</td>\n",
       "      <td>0.731897</td>\n",
       "      <td>0.999552</td>\n",
       "      <td>0.808624</td>\n",
       "      <td>4.62</td>\n",
       "    </tr>\n",
       "    <tr>\n",
       "      <th>2025-01-11 18:00:00</th>\n",
       "      <td>0.154930</td>\n",
       "      <td>0.470230</td>\n",
       "      <td>0.436000</td>\n",
       "      <td>0.999198</td>\n",
       "      <td>1.000000</td>\n",
       "      <td>0.733322</td>\n",
       "      <td>0.998871</td>\n",
       "      <td>0.806520</td>\n",
       "      <td>4.63</td>\n",
       "    </tr>\n",
       "    <tr>\n",
       "      <th>2025-01-11 19:00:00</th>\n",
       "      <td>0.155837</td>\n",
       "      <td>0.466724</td>\n",
       "      <td>0.431855</td>\n",
       "      <td>0.999999</td>\n",
       "      <td>1.001000</td>\n",
       "      <td>0.729853</td>\n",
       "      <td>0.999192</td>\n",
       "      <td>0.800173</td>\n",
       "      <td>4.61</td>\n",
       "    </tr>\n",
       "  </tbody>\n",
       "</table>\n",
       "</div>"
      ],
      "text/plain": [
       "                         LAVA     MAGIC       STG      USDC       DAI  \\\n",
       "2025-01-11 14:00:00  0.146359  0.474871  0.409888  0.999998  0.999276   \n",
       "2025-01-11 15:00:00  0.146579  0.471421  0.410636  0.999902  1.000000   \n",
       "2025-01-11 16:00:00  0.150335  0.472452  0.413655  0.999745  1.000000   \n",
       "2025-01-11 17:00:00  0.152158  0.469234  0.428116  1.000000  0.999876   \n",
       "2025-01-11 18:00:00  0.154930  0.470230  0.436000  0.999198  1.000000   \n",
       "2025-01-11 19:00:00  0.155837  0.466724  0.431855  0.999999  1.001000   \n",
       "\n",
       "                          ARB      USDT       CRV   ZRO  \n",
       "2025-01-11 14:00:00  0.737405  0.999796  0.819361  4.68  \n",
       "2025-01-11 15:00:00  0.732249  0.999450  0.811187  4.64  \n",
       "2025-01-11 16:00:00  0.736068  0.999651  0.814135  4.63  \n",
       "2025-01-11 17:00:00  0.731897  0.999552  0.808624  4.62  \n",
       "2025-01-11 18:00:00  0.733322  0.998871  0.806520  4.63  \n",
       "2025-01-11 19:00:00  0.729853  0.999192  0.800173  4.61  "
      ]
     },
     "execution_count": 36,
     "metadata": {},
     "output_type": "execute_result"
    }
   ],
   "source": [
    "prices_df"
   ]
  },
  {
   "cell_type": "code",
   "execution_count": 37,
   "metadata": {},
   "outputs": [
    {
     "name": "stdout",
     "output_type": "stream",
     "text": [
      "0.0008022244036880455\n"
     ]
    }
   ],
   "source": [
    "tbill_xd = (1 + current_risk_free) ** (days / 365.0) - 1\n",
    "print(tbill_xd)"
   ]
  },
  {
   "cell_type": "code",
   "execution_count": 38,
   "metadata": {},
   "outputs": [
    {
     "data": {
      "text/html": [
       "<div>\n",
       "<style scoped>\n",
       "    .dataframe tbody tr th:only-of-type {\n",
       "        vertical-align: middle;\n",
       "    }\n",
       "\n",
       "    .dataframe tbody tr th {\n",
       "        vertical-align: top;\n",
       "    }\n",
       "\n",
       "    .dataframe thead th {\n",
       "        text-align: right;\n",
       "    }\n",
       "</style>\n",
       "<table border=\"1\" class=\"dataframe\">\n",
       "  <thead>\n",
       "    <tr style=\"text-align: right;\">\n",
       "      <th></th>\n",
       "      <th>symbol</th>\n",
       "      <th>token_address</th>\n",
       "      <th>sharpe_ratio</th>\n",
       "      <th>excess_return</th>\n",
       "      <th>latest_price</th>\n",
       "      <th>latest_hour</th>\n",
       "      <th>sixty_day_price</th>\n",
       "      <th>stddev_30d</th>\n",
       "      <th>rolling_7d_avg</th>\n",
       "      <th>token_return</th>\n",
       "      <th>rolling_30d_avg</th>\n",
       "      <th>avg_vol</th>\n",
       "      <th>sum_vol</th>\n",
       "      <th>__row_index</th>\n",
       "    </tr>\n",
       "  </thead>\n",
       "  <tbody>\n",
       "    <tr>\n",
       "      <th>0</th>\n",
       "      <td>LAVA</td>\n",
       "      <td>0x11e969e9b3f89cb16d686a03cd8508c9fc0361af</td>\n",
       "      <td>0.085202</td>\n",
       "      <td>0.003140</td>\n",
       "      <td>0.155837</td>\n",
       "      <td>2025-01-11T19:00:00.000Z</td>\n",
       "      <td>0.155225</td>\n",
       "      <td>0.036859</td>\n",
       "      <td>0.165599</td>\n",
       "      <td>0.003943</td>\n",
       "      <td>0.165804</td>\n",
       "      <td>215.330862</td>\n",
       "      <td>3.855930e+06</td>\n",
       "      <td>0</td>\n",
       "    </tr>\n",
       "    <tr>\n",
       "      <th>1</th>\n",
       "      <td>STG</td>\n",
       "      <td>0x6694340fc020c5e6b96567843da2df01b2ce1eb6</td>\n",
       "      <td>0.428583</td>\n",
       "      <td>0.024948</td>\n",
       "      <td>0.431855</td>\n",
       "      <td>2025-01-11T19:00:00.000Z</td>\n",
       "      <td>0.421014</td>\n",
       "      <td>0.058209</td>\n",
       "      <td>0.451722</td>\n",
       "      <td>0.025750</td>\n",
       "      <td>0.453080</td>\n",
       "      <td>189.897801</td>\n",
       "      <td>2.226932e+06</td>\n",
       "      <td>1</td>\n",
       "    </tr>\n",
       "    <tr>\n",
       "      <th>2</th>\n",
       "      <td>USDC</td>\n",
       "      <td>0xff970a61a04b1ca14834a43f5de4533ebddb5cc8</td>\n",
       "      <td>0.195934</td>\n",
       "      <td>0.000332</td>\n",
       "      <td>1.000000</td>\n",
       "      <td>2025-01-11T19:00:00.000Z</td>\n",
       "      <td>0.998867</td>\n",
       "      <td>0.001695</td>\n",
       "      <td>1.000034</td>\n",
       "      <td>0.001134</td>\n",
       "      <td>1.000025</td>\n",
       "      <td>794.366441</td>\n",
       "      <td>1.608401e+08</td>\n",
       "      <td>2</td>\n",
       "    </tr>\n",
       "    <tr>\n",
       "      <th>3</th>\n",
       "      <td>ZRO</td>\n",
       "      <td>0x6985884c4392d348587b19cb9eaaf157f13271cd</td>\n",
       "      <td>-0.337777</td>\n",
       "      <td>-0.203224</td>\n",
       "      <td>4.610000</td>\n",
       "      <td>2025-01-11T19:00:00.000Z</td>\n",
       "      <td>5.780000</td>\n",
       "      <td>0.601652</td>\n",
       "      <td>5.204911</td>\n",
       "      <td>-0.202422</td>\n",
       "      <td>5.257553</td>\n",
       "      <td>484.841270</td>\n",
       "      <td>6.153121e+06</td>\n",
       "      <td>3</td>\n",
       "    </tr>\n",
       "    <tr>\n",
       "      <th>4</th>\n",
       "      <td>USDT</td>\n",
       "      <td>0xfd086bc7cd5c481dcc9c85ebe478a1c0b69fcbb9</td>\n",
       "      <td>-0.657171</td>\n",
       "      <td>-0.000944</td>\n",
       "      <td>0.999192</td>\n",
       "      <td>2025-01-11T19:00:00.000Z</td>\n",
       "      <td>0.999334</td>\n",
       "      <td>0.001437</td>\n",
       "      <td>0.999970</td>\n",
       "      <td>-0.000142</td>\n",
       "      <td>0.999961</td>\n",
       "      <td>1395.118420</td>\n",
       "      <td>6.058985e+08</td>\n",
       "      <td>4</td>\n",
       "    </tr>\n",
       "    <tr>\n",
       "      <th>5</th>\n",
       "      <td>DAI</td>\n",
       "      <td>0xda10009cbd5d07dd0cecc66161fc93d7c9000da1</td>\n",
       "      <td>0.134769</td>\n",
       "      <td>0.000217</td>\n",
       "      <td>1.001000</td>\n",
       "      <td>2025-01-11T19:00:00.000Z</td>\n",
       "      <td>0.999981</td>\n",
       "      <td>0.001609</td>\n",
       "      <td>1.000090</td>\n",
       "      <td>0.001019</td>\n",
       "      <td>1.000011</td>\n",
       "      <td>820.129601</td>\n",
       "      <td>1.134977e+07</td>\n",
       "      <td>5</td>\n",
       "    </tr>\n",
       "    <tr>\n",
       "      <th>6</th>\n",
       "      <td>CRV</td>\n",
       "      <td>0x11cdb42b0eb46d95f990bedd4695a6e3fa034978</td>\n",
       "      <td>-2.349520</td>\n",
       "      <td>-0.266699</td>\n",
       "      <td>0.800173</td>\n",
       "      <td>2025-01-11T19:00:00.000Z</td>\n",
       "      <td>1.090000</td>\n",
       "      <td>0.113512</td>\n",
       "      <td>0.915789</td>\n",
       "      <td>-0.265896</td>\n",
       "      <td>0.931492</td>\n",
       "      <td>883.966083</td>\n",
       "      <td>6.262900e+06</td>\n",
       "      <td>6</td>\n",
       "    </tr>\n",
       "    <tr>\n",
       "      <th>7</th>\n",
       "      <td>MAGIC</td>\n",
       "      <td>0x539bde0d7dbd336b79148aa742883198bbf60342</td>\n",
       "      <td>-1.848460</td>\n",
       "      <td>-0.131502</td>\n",
       "      <td>0.466724</td>\n",
       "      <td>2025-01-11T19:00:00.000Z</td>\n",
       "      <td>0.536896</td>\n",
       "      <td>0.071141</td>\n",
       "      <td>0.535271</td>\n",
       "      <td>-0.130699</td>\n",
       "      <td>0.537334</td>\n",
       "      <td>288.138052</td>\n",
       "      <td>5.849779e+06</td>\n",
       "      <td>7</td>\n",
       "    </tr>\n",
       "    <tr>\n",
       "      <th>8</th>\n",
       "      <td>USDC</td>\n",
       "      <td>0xaf88d065e77c8cc2239327c5edb3a432268e5831</td>\n",
       "      <td>-0.310431</td>\n",
       "      <td>-0.000262</td>\n",
       "      <td>0.999999</td>\n",
       "      <td>2025-01-11T19:00:00.000Z</td>\n",
       "      <td>0.999459</td>\n",
       "      <td>0.000844</td>\n",
       "      <td>1.000024</td>\n",
       "      <td>0.000540</td>\n",
       "      <td>1.000011</td>\n",
       "      <td>2010.084340</td>\n",
       "      <td>1.249788e+09</td>\n",
       "      <td>8</td>\n",
       "    </tr>\n",
       "    <tr>\n",
       "      <th>9</th>\n",
       "      <td>ARB</td>\n",
       "      <td>0x912ce59144191c1204e64559fe8253a0e49e6548</td>\n",
       "      <td>-1.275598</td>\n",
       "      <td>-0.125613</td>\n",
       "      <td>0.729853</td>\n",
       "      <td>2025-01-11T19:00:00.000Z</td>\n",
       "      <td>0.833937</td>\n",
       "      <td>0.098473</td>\n",
       "      <td>0.829243</td>\n",
       "      <td>-0.124810</td>\n",
       "      <td>0.830663</td>\n",
       "      <td>823.798768</td>\n",
       "      <td>2.233796e+08</td>\n",
       "      <td>9</td>\n",
       "    </tr>\n",
       "  </tbody>\n",
       "</table>\n",
       "</div>"
      ],
      "text/plain": [
       "  symbol                               token_address  sharpe_ratio  \\\n",
       "0   LAVA  0x11e969e9b3f89cb16d686a03cd8508c9fc0361af      0.085202   \n",
       "1    STG  0x6694340fc020c5e6b96567843da2df01b2ce1eb6      0.428583   \n",
       "2   USDC  0xff970a61a04b1ca14834a43f5de4533ebddb5cc8      0.195934   \n",
       "3    ZRO  0x6985884c4392d348587b19cb9eaaf157f13271cd     -0.337777   \n",
       "4   USDT  0xfd086bc7cd5c481dcc9c85ebe478a1c0b69fcbb9     -0.657171   \n",
       "5    DAI  0xda10009cbd5d07dd0cecc66161fc93d7c9000da1      0.134769   \n",
       "6    CRV  0x11cdb42b0eb46d95f990bedd4695a6e3fa034978     -2.349520   \n",
       "7  MAGIC  0x539bde0d7dbd336b79148aa742883198bbf60342     -1.848460   \n",
       "8   USDC  0xaf88d065e77c8cc2239327c5edb3a432268e5831     -0.310431   \n",
       "9    ARB  0x912ce59144191c1204e64559fe8253a0e49e6548     -1.275598   \n",
       "\n",
       "   excess_return  latest_price               latest_hour  sixty_day_price  \\\n",
       "0       0.003140      0.155837  2025-01-11T19:00:00.000Z         0.155225   \n",
       "1       0.024948      0.431855  2025-01-11T19:00:00.000Z         0.421014   \n",
       "2       0.000332      1.000000  2025-01-11T19:00:00.000Z         0.998867   \n",
       "3      -0.203224      4.610000  2025-01-11T19:00:00.000Z         5.780000   \n",
       "4      -0.000944      0.999192  2025-01-11T19:00:00.000Z         0.999334   \n",
       "5       0.000217      1.001000  2025-01-11T19:00:00.000Z         0.999981   \n",
       "6      -0.266699      0.800173  2025-01-11T19:00:00.000Z         1.090000   \n",
       "7      -0.131502      0.466724  2025-01-11T19:00:00.000Z         0.536896   \n",
       "8      -0.000262      0.999999  2025-01-11T19:00:00.000Z         0.999459   \n",
       "9      -0.125613      0.729853  2025-01-11T19:00:00.000Z         0.833937   \n",
       "\n",
       "   stddev_30d  rolling_7d_avg  token_return  rolling_30d_avg      avg_vol  \\\n",
       "0    0.036859        0.165599      0.003943         0.165804   215.330862   \n",
       "1    0.058209        0.451722      0.025750         0.453080   189.897801   \n",
       "2    0.001695        1.000034      0.001134         1.000025   794.366441   \n",
       "3    0.601652        5.204911     -0.202422         5.257553   484.841270   \n",
       "4    0.001437        0.999970     -0.000142         0.999961  1395.118420   \n",
       "5    0.001609        1.000090      0.001019         1.000011   820.129601   \n",
       "6    0.113512        0.915789     -0.265896         0.931492   883.966083   \n",
       "7    0.071141        0.535271     -0.130699         0.537334   288.138052   \n",
       "8    0.000844        1.000024      0.000540         1.000011  2010.084340   \n",
       "9    0.098473        0.829243     -0.124810         0.830663   823.798768   \n",
       "\n",
       "        sum_vol  __row_index  \n",
       "0  3.855930e+06            0  \n",
       "1  2.226932e+06            1  \n",
       "2  1.608401e+08            2  \n",
       "3  6.153121e+06            3  \n",
       "4  6.058985e+08            4  \n",
       "5  1.134977e+07            5  \n",
       "6  6.262900e+06            6  \n",
       "7  5.849779e+06            7  \n",
       "8  1.249788e+09            8  \n",
       "9  2.233796e+08            9  "
      ]
     },
     "execution_count": 38,
     "metadata": {},
     "output_type": "execute_result"
    }
   ],
   "source": [
    "latest_metrics_df['excess_return'] = latest_metrics_df['token_return'] - tbill_xd\n",
    "latest_metrics_df['sharpe_ratio'] = (latest_metrics_df['excess_return']  / latest_metrics_df['stddev_30d'])\n",
    "latest_metrics_df"
   ]
  },
  {
   "cell_type": "code",
   "execution_count": 39,
   "metadata": {},
   "outputs": [
    {
     "data": {
      "text/plain": [
       "7"
      ]
     },
     "execution_count": 39,
     "metadata": {},
     "output_type": "execute_result"
    }
   ],
   "source": [
    "days"
   ]
  },
  {
   "cell_type": "code",
   "execution_count": 40,
   "metadata": {},
   "outputs": [
    {
     "data": {
      "text/plain": [
       "{'LAVA': '0x11e969e9b3f89cb16d686a03cd8508c9fc0361af',\n",
       " 'MAGIC': '0x539bde0d7dbd336b79148aa742883198bbf60342',\n",
       " 'STG': '0x6694340fc020c5e6b96567843da2df01b2ce1eb6',\n",
       " 'USDC': '0xff970a61a04b1ca14834a43f5de4533ebddb5cc8',\n",
       " 'DAI': '0xda10009cbd5d07dd0cecc66161fc93d7c9000da1',\n",
       " 'ARB': '0x912ce59144191c1204e64559fe8253a0e49e6548',\n",
       " 'USDT': '0xfd086bc7cd5c481dcc9c85ebe478a1c0b69fcbb9',\n",
       " 'CRV': '0x11cdb42b0eb46d95f990bedd4695a6e3fa034978',\n",
       " 'ZRO': '0x6985884c4392d348587b19cb9eaaf157f13271cd'}"
      ]
     },
     "execution_count": 40,
     "metadata": {},
     "output_type": "execute_result"
    }
   ],
   "source": [
    "portfolio = classifier_data[['symbol','token_address']]\n",
    "\n",
    "TOKEN_CONTRACTS = {\n",
    "    row['symbol']: row['token_address'] for _, row in portfolio.iterrows()\n",
    "}\n",
    "\n",
    "TOKEN_DECIMALS = get_token_decimals(TOKEN_CONTRACTS,w3)\n",
    "\n",
    "\n",
    "TOKEN_CONTRACTS"
   ]
  },
  {
   "cell_type": "code",
   "execution_count": 41,
   "metadata": {},
   "outputs": [
    {
     "data": {
      "text/plain": [
       "{'LAVA': 6,\n",
       " 'MAGIC': 18,\n",
       " 'STG': 18,\n",
       " 'USDC': 6,\n",
       " 'DAI': 18,\n",
       " 'ARB': 18,\n",
       " 'USDT': 6,\n",
       " 'CRV': 18,\n",
       " 'ZRO': 18}"
      ]
     },
     "execution_count": 41,
     "metadata": {},
     "output_type": "execute_result"
    }
   ],
   "source": [
    "TOKEN_DECIMALS"
   ]
  },
  {
   "cell_type": "code",
   "execution_count": null,
   "metadata": {},
   "outputs": [
    {
     "name": "stdout",
     "output_type": "stream",
     "text": [
      "Balances for account 0xFA475d5FB90C4b90D929a64732DA6De38a966416: {'LAVA': 10.548743, 'MAGIC': 0.0, 'STG': 0.0, 'USDC': 0.0, 'DAI': 0.0, 'ARB': 0.0, 'USDT': 0.0, 'CRV': 0.0, 'ZRO': 0.0}\n"
     ]
    },
    {
     "data": {
      "text/plain": [
       "{'LAVA': 10.548743,\n",
       " 'MAGIC': 0.0,\n",
       " 'STG': 0.0,\n",
       " 'USDC': 0.0,\n",
       " 'DAI': 0.0,\n",
       " 'ARB': 0.0,\n",
       " 'USDT': 0.0,\n",
       " 'CRV': 0.0,\n",
       " 'ZRO': 0.0}"
      ]
     },
     "execution_count": 42,
     "metadata": {},
     "output_type": "execute_result"
    }
   ],
   "source": []
  },
  {
   "cell_type": "code",
   "execution_count": 43,
   "metadata": {},
   "outputs": [
    {
     "data": {
      "text/html": [
       "<div>\n",
       "<style scoped>\n",
       "    .dataframe tbody tr th:only-of-type {\n",
       "        vertical-align: middle;\n",
       "    }\n",
       "\n",
       "    .dataframe tbody tr th {\n",
       "        vertical-align: top;\n",
       "    }\n",
       "\n",
       "    .dataframe thead th {\n",
       "        text-align: right;\n",
       "    }\n",
       "</style>\n",
       "<table border=\"1\" class=\"dataframe\">\n",
       "  <thead>\n",
       "    <tr style=\"text-align: right;\">\n",
       "      <th></th>\n",
       "      <th>LAVA</th>\n",
       "      <th>MAGIC</th>\n",
       "      <th>STG</th>\n",
       "      <th>USDC</th>\n",
       "      <th>DAI</th>\n",
       "      <th>ARB</th>\n",
       "      <th>USDT</th>\n",
       "      <th>CRV</th>\n",
       "      <th>ZRO</th>\n",
       "    </tr>\n",
       "  </thead>\n",
       "  <tbody>\n",
       "    <tr>\n",
       "      <th>2025-01-11 14:00:00</th>\n",
       "      <td>0.146359</td>\n",
       "      <td>0.474871</td>\n",
       "      <td>0.409888</td>\n",
       "      <td>0.999998</td>\n",
       "      <td>0.999276</td>\n",
       "      <td>0.737405</td>\n",
       "      <td>0.999796</td>\n",
       "      <td>0.819361</td>\n",
       "      <td>4.68</td>\n",
       "    </tr>\n",
       "    <tr>\n",
       "      <th>2025-01-11 15:00:00</th>\n",
       "      <td>0.146579</td>\n",
       "      <td>0.471421</td>\n",
       "      <td>0.410636</td>\n",
       "      <td>0.999902</td>\n",
       "      <td>1.000000</td>\n",
       "      <td>0.732249</td>\n",
       "      <td>0.999450</td>\n",
       "      <td>0.811187</td>\n",
       "      <td>4.64</td>\n",
       "    </tr>\n",
       "    <tr>\n",
       "      <th>2025-01-11 16:00:00</th>\n",
       "      <td>0.150335</td>\n",
       "      <td>0.472452</td>\n",
       "      <td>0.413655</td>\n",
       "      <td>0.999745</td>\n",
       "      <td>1.000000</td>\n",
       "      <td>0.736068</td>\n",
       "      <td>0.999651</td>\n",
       "      <td>0.814135</td>\n",
       "      <td>4.63</td>\n",
       "    </tr>\n",
       "    <tr>\n",
       "      <th>2025-01-11 17:00:00</th>\n",
       "      <td>0.152158</td>\n",
       "      <td>0.469234</td>\n",
       "      <td>0.428116</td>\n",
       "      <td>1.000000</td>\n",
       "      <td>0.999876</td>\n",
       "      <td>0.731897</td>\n",
       "      <td>0.999552</td>\n",
       "      <td>0.808624</td>\n",
       "      <td>4.62</td>\n",
       "    </tr>\n",
       "    <tr>\n",
       "      <th>2025-01-11 18:00:00</th>\n",
       "      <td>0.154930</td>\n",
       "      <td>0.470230</td>\n",
       "      <td>0.436000</td>\n",
       "      <td>0.999198</td>\n",
       "      <td>1.000000</td>\n",
       "      <td>0.733322</td>\n",
       "      <td>0.998871</td>\n",
       "      <td>0.806520</td>\n",
       "      <td>4.63</td>\n",
       "    </tr>\n",
       "    <tr>\n",
       "      <th>2025-01-11 19:00:00</th>\n",
       "      <td>0.155837</td>\n",
       "      <td>0.466724</td>\n",
       "      <td>0.431855</td>\n",
       "      <td>0.999999</td>\n",
       "      <td>1.001000</td>\n",
       "      <td>0.729853</td>\n",
       "      <td>0.999192</td>\n",
       "      <td>0.800173</td>\n",
       "      <td>4.61</td>\n",
       "    </tr>\n",
       "  </tbody>\n",
       "</table>\n",
       "</div>"
      ],
      "text/plain": [
       "                         LAVA     MAGIC       STG      USDC       DAI  \\\n",
       "2025-01-11 14:00:00  0.146359  0.474871  0.409888  0.999998  0.999276   \n",
       "2025-01-11 15:00:00  0.146579  0.471421  0.410636  0.999902  1.000000   \n",
       "2025-01-11 16:00:00  0.150335  0.472452  0.413655  0.999745  1.000000   \n",
       "2025-01-11 17:00:00  0.152158  0.469234  0.428116  1.000000  0.999876   \n",
       "2025-01-11 18:00:00  0.154930  0.470230  0.436000  0.999198  1.000000   \n",
       "2025-01-11 19:00:00  0.155837  0.466724  0.431855  0.999999  1.001000   \n",
       "\n",
       "                          ARB      USDT       CRV   ZRO  \n",
       "2025-01-11 14:00:00  0.737405  0.999796  0.819361  4.68  \n",
       "2025-01-11 15:00:00  0.732249  0.999450  0.811187  4.64  \n",
       "2025-01-11 16:00:00  0.736068  0.999651  0.814135  4.63  \n",
       "2025-01-11 17:00:00  0.731897  0.999552  0.808624  4.62  \n",
       "2025-01-11 18:00:00  0.733322  0.998871  0.806520  4.63  \n",
       "2025-01-11 19:00:00  0.729853  0.999192  0.800173  4.61  "
      ]
     },
     "execution_count": 43,
     "metadata": {},
     "output_type": "execute_result"
    }
   ],
   "source": [
    "prices_df"
   ]
  },
  {
   "cell_type": "code",
   "execution_count": 44,
   "metadata": {},
   "outputs": [
    {
     "data": {
      "text/plain": [
       "{'LAVA': '0x11e969e9b3f89cb16d686a03cd8508c9fc0361af',\n",
       " 'MAGIC': '0x539bde0d7dbd336b79148aa742883198bbf60342',\n",
       " 'STG': '0x6694340fc020c5e6b96567843da2df01b2ce1eb6',\n",
       " 'USDC': '0xff970a61a04b1ca14834a43f5de4533ebddb5cc8',\n",
       " 'DAI': '0xda10009cbd5d07dd0cecc66161fc93d7c9000da1',\n",
       " 'ARB': '0x912ce59144191c1204e64559fe8253a0e49e6548',\n",
       " 'USDT': '0xfd086bc7cd5c481dcc9c85ebe478a1c0b69fcbb9',\n",
       " 'CRV': '0x11cdb42b0eb46d95f990bedd4695a6e3fa034978',\n",
       " 'ZRO': '0x6985884c4392d348587b19cb9eaaf157f13271cd'}"
      ]
     },
     "execution_count": 44,
     "metadata": {},
     "output_type": "execute_result"
    }
   ],
   "source": [
    "TOKEN_CONTRACTS"
   ]
  },
  {
   "cell_type": "code",
   "execution_count": 45,
   "metadata": {},
   "outputs": [
    {
     "data": {
      "text/plain": [
       "{'LAVA': 0.155837,\n",
       " 'MAGIC': 0.466724,\n",
       " 'STG': 0.431855,\n",
       " 'USDC': 0.999999,\n",
       " 'DAI': 1.001,\n",
       " 'ARB': 0.729853,\n",
       " 'USDT': 0.999192,\n",
       " 'CRV': 0.800173,\n",
       " 'ZRO': 4.61}"
      ]
     },
     "execution_count": 45,
     "metadata": {},
     "output_type": "execute_result"
    }
   ],
   "source": [
    "latest_prices = {\n",
    "    token: float(prices_df[f\"{token}\"].iloc[-1])\n",
    "    for token in TOKEN_CONTRACTS.keys()\n",
    "    if f\"{token}\" in prices_df.columns\n",
    "}\n",
    "\n",
    "latest_prices"
   ]
  },
  {
   "cell_type": "code",
   "execution_count": 51,
   "metadata": {},
   "outputs": [],
   "source": [
    "model_balances = get_balance(TOKEN_CONTRACTS,TOKEN_DECIMALS,ACCOUNT_ADDRESS,w3)\n",
    "\n",
    "model_balances  \n",
    "\n",
    "model_balances_usd = convert_to_usd(model_balances,latest_prices,TOKEN_CONTRACTS)\n",
    "model_balances_usd\n",
    "\n",
    "available_balance = sum(model_balances_usd.values())\n",
    "available_balance\n",
    "\n",
    "comp_dict = {\n",
    "    f\"{token}\": balance_usd / available_balance\n",
    "    for token, balance_usd in model_balances_usd.items()\n",
    "}\n",
    "\n",
    "# comp_dict[\"date\"] = formatted_today_utc\n",
    "\n",
    "# update_historical_data(comp_dict)\n",
    "\n",
    "portfolio_dict = {\n",
    "    \"Portfolio Value\": available_balance,\n",
    "    \"date\": formatted_today_utc\n",
    "}\n",
    "\n",
    "# update_portfolio_data(portfolio_dict)"
   ]
  },
  {
   "cell_type": "code",
   "execution_count": 52,
   "metadata": {},
   "outputs": [],
   "source": [
    "identity_map = {\n",
    "    \"risk_level\": \"Moderate risk, willing to risk some money for the right investments but not chasing every new opportunity.\",\n",
    "    \"token_preferences\": \"Only tokens appearing in the classifier portfolio.\",\n",
    "    \"mission_statement\": \"Accumulate as much WETH as possible given the available funds.\",\n",
    "}"
   ]
  },
  {
   "cell_type": "code",
   "execution_count": 58,
   "metadata": {},
   "outputs": [],
   "source": [
    "latest_overnight_interbank_rate = interest_rate_dict['Overnight Interbank Rate']"
   ]
  },
  {
   "cell_type": "code",
   "execution_count": 61,
   "metadata": {},
   "outputs": [
    {
     "name": "stdout",
     "output_type": "stream",
     "text": [
      "{'Overnight Interbank Rate': '4.4799999999999995%', '3-Month Rate': '4.46%', '10-Year Rate': '4.38999999999999%'}\n"
     ]
    }
   ],
   "source": [
    "macro_dict = {}\n",
    "\n",
    "for key in interest_rate_dict.keys():\n",
    "    macro_dict[key] = f'{interest_rate_dict[key][\"value\"].iloc[0] * 100}%'\n",
    "print(macro_dict)"
   ]
  },
  {
   "cell_type": "code",
   "execution_count": 62,
   "metadata": {},
   "outputs": [],
   "source": [
    "macro_dict['cpi'] = f'{cpi_data_df_clean_prepared[\"value\"].iloc[0] * 100}%'"
   ]
  },
  {
   "cell_type": "code",
   "execution_count": 63,
   "metadata": {},
   "outputs": [
    {
     "name": "stdout",
     "output_type": "stream",
     "text": [
      "{'Overnight Interbank Rate': '4.4799999999999995%', '3-Month Rate': '4.46%', '10-Year Rate': '4.38999999999999%', 'cpi': '2.74938%'}\n"
     ]
    }
   ],
   "source": [
    "print(macro_dict)"
   ]
  },
  {
   "cell_type": "code",
   "execution_count": 64,
   "metadata": {},
   "outputs": [
    {
     "data": {
      "text/plain": [
       "'Overnight Interbank Rate: 4.4799999999999995%, 3-Month Rate: 4.46%, 10-Year Rate: 4.38999999999999%, cpi: 2.74938%'"
      ]
     },
     "execution_count": 64,
     "metadata": {},
     "output_type": "execute_result"
    }
   ],
   "source": [
    "macro_summary = \", \".join(\n",
    "    f\"{k}: {macro_dict[k]}\"\n",
    "    for k in macro_dict\n",
    ")\n",
    "macro_summary"
   ]
  },
  {
   "cell_type": "code",
   "execution_count": 65,
   "metadata": {},
   "outputs": [],
   "source": [
    "data_summary_list = []\n",
    "for symbol in latest_metrics_df['symbol'].unique():\n",
    "    row = latest_metrics_df[latest_metrics_df['symbol'] == symbol].iloc[0]\n",
    "    text = (\n",
    "        f\"{symbol} stats as of {pd.to_datetime(row['latest_hour']).strftime('%Y-%m-%d %H:%M')}: \"\n",
    "        f\"Excess Return: {row['excess_return']}, \"\n",
    "        f\"Latest Price: ${row['latest_price']}, \"\n",
    "        f\"{days} day Return: {row['token_return']*100}%\"\n",
    "        f\"7 day rolling average: ${row['rolling_7d_avg']}\"\n",
    "        f\"30 day rolling average: ${row['rolling_30d_avg']}\"\n",
    "        f\"{days} day average volume: ${row['avg_vol']}\"\n",
    "        f\"{days} day total volume: ${row['sum_vol']}\"\n",
    "    )\n",
    "    data_summary_list.append(text)\n",
    "\n",
    "# Join the list into a single string with newlines\n",
    "formatted_data_summary = \"\\n\".join(data_summary_list)"
   ]
  },
  {
   "cell_type": "code",
   "execution_count": 66,
   "metadata": {},
   "outputs": [
    {
     "data": {
      "text/plain": [
       "'LAVA stats as of 2025-01-11 19:00: Excess Return: 0.003140439471311955, Latest Price: $0.155837, 7 day Return: 0.39426638750000004%7 day rolling average: $0.165598745630 day rolling average: $0.16580436177 day average volume: $215.3308622337 day total volume: $3855929.75\\nSTG stats as of 2025-01-11 19:00: Excess Return: 0.024947513136311956, Latest Price: $0.431855, 7 day Return: 2.574973754%7 day rolling average: $0.451722112430 day rolling average: $0.45308028727 day average volume: $189.8978008027 day total volume: $2226931.51\\nUSDC stats as of 2025-01-11 19:00: Excess Return: 0.00033206074131195444, Latest Price: $1.0, 7 day Return: 0.1134285145%7 day rolling average: $1.0000341630 day rolling average: $1.0000245217 day average volume: $794.3664412087 day total volume: $160840139.55\\nZRO stats as of 2025-01-11 19:00: Excess Return: -0.20322436970368804, Latest Price: $4.61, 7 day Return: -20.24221453%7 day rolling average: $5.20491124330 day rolling average: $5.2575531917 day average volume: $484.8412701917 day total volume: $6153120.56\\nUSDT stats as of 2025-01-11 19:00: Excess Return: -0.0009443190386880455, Latest Price: $0.999192, 7 day Return: -0.014209463500000002%7 day rolling average: $0.999970455630 day rolling average: $0.99996075537 day average volume: $1395.1184195227 day total volume: $605898534.48\\nDAI stats as of 2025-01-11 19:00: Excess Return: 0.0002167949573119545, Latest Price: $1.001, 7 day Return: 0.10190193609999999%7 day rolling average: $1.00008994130 day rolling average: $1.0000113787 day average volume: $820.1296011277 day total volume: $11349773.55\\nCRV stats as of 2025-01-11 19:00: Excess Return: -0.26669855470368803, Latest Price: $0.800173, 7 day Return: -26.589633029999998%7 day rolling average: $0.915789366930 day rolling average: $0.93149150537 day average volume: $883.9660832757 day total volume: $6262899.7\\nMAGIC stats as of 2025-01-11 19:00: Excess Return: -0.13150165220368804, Latest Price: $0.466724, 7 day Return: -13.069942779999998%7 day rolling average: $0.535271396430 day rolling average: $0.53733407987 day average volume: $288.1380519167 day total volume: $5849778.73\\nARB stats as of 2025-01-11 19:00: Excess Return: -0.12561261180368805, Latest Price: $0.729853, 7 day Return: -12.48103874%7 day rolling average: $0.829242751530 day rolling average: $0.83066327137 day average volume: $823.7987682467 day total volume: $223379626.4'"
      ]
     },
     "execution_count": 66,
     "metadata": {},
     "output_type": "execute_result"
    }
   ],
   "source": [
    "formatted_data_summary"
   ]
  },
  {
   "cell_type": "code",
   "execution_count": 68,
   "metadata": {},
   "outputs": [
    {
     "data": {
      "text/plain": [
       "array(['LAVA', 'MAGIC', 'STG', 'USDC', 'DAI', 'ARB', 'USDT', 'CRV', 'ZRO'],\n",
       "      dtype=object)"
      ]
     },
     "execution_count": 68,
     "metadata": {},
     "output_type": "execute_result"
    }
   ],
   "source": [
    "assets = classifier_data['symbol'].unique()\n",
    "assets"
   ]
  },
  {
   "cell_type": "code",
   "execution_count": 69,
   "metadata": {},
   "outputs": [],
   "source": [
    "recent_headlines = (\"*ROBINHOOD: CRYPTO TRADING VOLUMES OVER $30B, UP 600% YOY\\n\"\n",
    "                     \"*FED’S MUSALEM: TIME MAY BE APPROACHING TO SLOW OR PAUSE RATE CUTS\\n\")\n",
    "\n",
    "chat_summary = \"Bob is happy with the Ethereum roadmap and has been hearing more people talk about it.\\n\"\n",
    "\n",
    "chat_and_data_summary = chat_summary + recent_headlines"
   ]
  },
  {
   "cell_type": "code",
   "execution_count": 70,
   "metadata": {},
   "outputs": [],
   "source": [
    "user_message = (\n",
    "    \"# Instructions:\\n\"\n",
    "    \"Here are some details about my trading portfolio. Please help me make decisions to rebalance it based on the provided data.\\n\"\n",
    "    \"# Personality\\n\"\n",
    "    f\"{identity_map.get('chat_personality')}\\n\"\n",
    "    \"# Risk Level\\n\"\n",
    "    f\"{identity_map.get('risk_level')}\\n\"\n",
    "    \"This represents the total $USD value of the account, including positions, margin, and available funds.\\n\"\n",
    "    \"# Available Balance\\n\"\n",
    "    f\"{available_balance}\\n\"\n",
    "    \"Portions of this 'available_balance' can be used for placing new orders or modifying existing positions.\\n\"\n",
    "    \"Always leave a fraction of the total 'available_balance' as a safety buffer for unforeseen volatility.\\n\"\n",
    "    \"The 'available_balance' is shared by all positions, so it is important to keep track of the available value and adjust your position sizes accordingly.\\n\"\n",
    "    \"# Open Positions\\n\"\n",
    "    f\"{comp_dict}\\n\"\n",
    "    \"# Here is the most recent information I want to base my decisions on:\\n\"\n",
    "    f\"{formatted_data_summary}\\n\"\n",
    "    \"# Here is additional macro economic data for context\\n\"\n",
    "    f\"{macro_summary}\\n\"\n",
    "    \"\\n\"\n",
    "    \"# Please provide a JSON dictionary matching the following format:\\n\"\n",
    "    \"```json\\n\"\n",
    "    \"{\\n\"\n",
    "    \"  \\\"target_composition\\\": [\\n\"\n",
    "    \"    {\\n\"\n",
    "    \"      \\\"asset\\\": \\\"ETH\\\",\\n\"\n",
    "    \"      \\\"weight\\\": 0.50,\\n\"\n",
    "    \"      \\\"reasoning\\\": \\\"ETH has a strong Sharpe Ratio and good recent performance.\\\"\\n\"\n",
    "    \"    },\\n\"\n",
    "    \"    {\\n\"\n",
    "    \"      \\\"asset\\\": \\\"BTC\\\",\\n\"\n",
    "    \"      \\\"weight\\\": 0.25,\\n\"\n",
    "    \"      \\\"reasoning\\\": \\\"BTC remains a large-cap store of value with moderate performance.\\\"\\n\"\n",
    "    \"    },\\n\"\n",
    "    \"    {\\n\"\n",
    "    \"      \\\"asset\\\": \\\"ADA\\\",\\n\"\n",
    "    \"      \\\"weight\\\": 0.25,\\n\"\n",
    "    \"      \\\"reasoning\\\": \\\"ADA presents an opportunity for growth given recent metrics.\\\"\\n\"\n",
    "    \"    }\\n\"\n",
    "    \"  ]\\n\"\n",
    "    \"}\\n\"\n",
    "    \"```\\n\"\n",
    "    \"\\n\"\n",
    "    \"### Requirements:\\n\"\n",
    "    \"- The sum of all `weight` values **must equal 1**.\\n\"\n",
    "    \"- Provide a brief `reasoning` for each asset.\\n\"\n",
    "    \"- Provide **only** the JSON response. **No** extra text or explanation outside the JSON.\\n\"\n",
    "    \"- Each `weight` must be a decimal between 0 and 1.\\n\"\n",
    ")\n"
   ]
  },
  {
   "cell_type": "code",
   "execution_count": 71,
   "metadata": {},
   "outputs": [
    {
     "data": {
      "text/plain": [
       "'# Instructions:\\nHere are some details about my trading portfolio. Please help me make decisions to rebalance it based on the provided data.\\n# Personality\\nNone\\n# Risk Level\\nModerate risk, willing to risk some money for the right investments but not chasing every new opportunity.\\nThis represents the total $USD value of the account, including positions, margin, and available funds.\\n# Available Balance\\n1.643884462891\\nPortions of this \\'available_balance\\' can be used for placing new orders or modifying existing positions.\\nAlways leave a fraction of the total \\'available_balance\\' as a safety buffer for unforeseen volatility.\\nThe \\'available_balance\\' is shared by all positions, so it is important to keep track of the available value and adjust your position sizes accordingly.\\n# Open Positions\\n{\\'LAVA\\': 1.0, \\'MAGIC\\': 0.0, \\'STG\\': 0.0, \\'USDC\\': 0.0, \\'DAI\\': 0.0, \\'ARB\\': 0.0, \\'USDT\\': 0.0, \\'CRV\\': 0.0, \\'ZRO\\': 0.0}\\n# Here is the most recent information I want to base my decisions on:\\nLAVA stats as of 2025-01-11 19:00: Excess Return: 0.003140439471311955, Latest Price: $0.155837, 7 day Return: 0.39426638750000004%7 day rolling average: $0.165598745630 day rolling average: $0.16580436177 day average volume: $215.3308622337 day total volume: $3855929.75\\nSTG stats as of 2025-01-11 19:00: Excess Return: 0.024947513136311956, Latest Price: $0.431855, 7 day Return: 2.574973754%7 day rolling average: $0.451722112430 day rolling average: $0.45308028727 day average volume: $189.8978008027 day total volume: $2226931.51\\nUSDC stats as of 2025-01-11 19:00: Excess Return: 0.00033206074131195444, Latest Price: $1.0, 7 day Return: 0.1134285145%7 day rolling average: $1.0000341630 day rolling average: $1.0000245217 day average volume: $794.3664412087 day total volume: $160840139.55\\nZRO stats as of 2025-01-11 19:00: Excess Return: -0.20322436970368804, Latest Price: $4.61, 7 day Return: -20.24221453%7 day rolling average: $5.20491124330 day rolling average: $5.2575531917 day average volume: $484.8412701917 day total volume: $6153120.56\\nUSDT stats as of 2025-01-11 19:00: Excess Return: -0.0009443190386880455, Latest Price: $0.999192, 7 day Return: -0.014209463500000002%7 day rolling average: $0.999970455630 day rolling average: $0.99996075537 day average volume: $1395.1184195227 day total volume: $605898534.48\\nDAI stats as of 2025-01-11 19:00: Excess Return: 0.0002167949573119545, Latest Price: $1.001, 7 day Return: 0.10190193609999999%7 day rolling average: $1.00008994130 day rolling average: $1.0000113787 day average volume: $820.1296011277 day total volume: $11349773.55\\nCRV stats as of 2025-01-11 19:00: Excess Return: -0.26669855470368803, Latest Price: $0.800173, 7 day Return: -26.589633029999998%7 day rolling average: $0.915789366930 day rolling average: $0.93149150537 day average volume: $883.9660832757 day total volume: $6262899.7\\nMAGIC stats as of 2025-01-11 19:00: Excess Return: -0.13150165220368804, Latest Price: $0.466724, 7 day Return: -13.069942779999998%7 day rolling average: $0.535271396430 day rolling average: $0.53733407987 day average volume: $288.1380519167 day total volume: $5849778.73\\nARB stats as of 2025-01-11 19:00: Excess Return: -0.12561261180368805, Latest Price: $0.729853, 7 day Return: -12.48103874%7 day rolling average: $0.829242751530 day rolling average: $0.83066327137 day average volume: $823.7987682467 day total volume: $223379626.4\\n# Here is additional macro economic data for context\\nOvernight Interbank Rate: 4.4799999999999995%, 3-Month Rate: 4.46%, 10-Year Rate: 4.38999999999999%, cpi: 2.74938%\\n\\n# Please provide a JSON dictionary matching the following format:\\n```json\\n{\\n  \"target_composition\": [\\n    {\\n      \"asset\": \"ETH\",\\n      \"weight\": 0.50,\\n      \"reasoning\": \"ETH has a strong Sharpe Ratio and good recent performance.\"\\n    },\\n    {\\n      \"asset\": \"BTC\",\\n      \"weight\": 0.25,\\n      \"reasoning\": \"BTC remains a large-cap store of value with moderate performance.\"\\n    },\\n    {\\n      \"asset\": \"ADA\",\\n      \"weight\": 0.25,\\n      \"reasoning\": \"ADA presents an opportunity for growth given recent metrics.\"\\n    }\\n  ]\\n}\\n```\\n\\n### Requirements:\\n- The sum of all `weight` values **must equal 1**.\\n- Provide a brief `reasoning` for each asset.\\n- Provide **only** the JSON response. **No** extra text or explanation outside the JSON.\\n- Each `weight` must be a decimal between 0 and 1.\\n'"
      ]
     },
     "execution_count": 71,
     "metadata": {},
     "output_type": "execute_result"
    }
   ],
   "source": [
    "user_message"
   ]
  },
  {
   "cell_type": "code",
   "execution_count": 72,
   "metadata": {},
   "outputs": [],
   "source": [
    "system_prompt = (\n",
    "    \"# Instructions:\\n\"\n",
    "    \"Act as a knowledgeable cryptocurrency assistant helping users manage and optimize their trading portfolio.\\n\"\n",
    "    \"Users understand that trading cryptocurrency is inherently risky and seek to make informed, strategic decisions to maximize their returns.\\n\"\n",
    "    \"You will be provided with the following data:\\n\"\n",
    "    \"- `available_balance`: Represents the user's total available USD value for making new trades.\\n\"\n",
    "    \"- `risk_level`: Indicates the user's risk tolerance (e.g., Low, Moderate, High).\\n\"\n",
    "    \"- `current_positions`: A dictionary mapping cryptocurrency symbols to their current USD value holdings (e.g., {'ETH': 1500, 'BTC': 1000}).\\n\"\n",
    "    \"- `market_data`: Recent performance metrics for each asset, including Sharpe Ratio, Excess Return, Latest Price, and 60-Day Return (e.g., {'ETH': {'sharpe_ratio': 1.5, 'excess_return': 0.05, 'latest_price': 3000, '60d_return': 20.0}, ...}).\\n\"\n",
    "    \"\\n\"\n",
    "    \"Your primary objective is to provide a rebalance strategy that aims to maximize the portfolio's returns while adhering to the following guidelines:\\n\"\n",
    "    \"\\n\"\n",
    "    \"## **Risk Management:**\\n\"\n",
    "    \"- Ensure that no individual asset exceeds the `available_balance` if you choose to buy or hold more of it.\\n\"\n",
    "    \"- Maintain a safety buffer within the `available_balance` to handle market volatility and unforeseen events.\\n\"\n",
    "    \"- Respect the user's `risk_level` by adjusting allocations accordingly.\\n\"\n",
    "    \"- No asset should be more than 80% of the portfolio.\\n\"\n",
    "    \"- Avoid allocations below 0.1 USD in absolute terms, to ensure meaningful positions.\\n\"\n",
    "    \"- There should only be one stablecoin per target composition.  For example, if it is best to include 50% in a stablecoin, choose just one stablecoin.\"\n",
    "    \"\\n\"\n",
    "    \"## **Performance Optimization:**\\n\"\n",
    "    \"- Prioritize assets with higher Sharpe Ratios and Excess Returns to maximize risk-adjusted returns.\\n\"\n",
    "    \"- Consider reallocating from underperforming assets to those with strong performance metrics.\\n\"\n",
    "    \"- Ensure diversification to spread risk while seeking high-return opportunities.\\n\"\n",
    "    \"\\n\"\n",
    "    \"## **Target Composition:**\\n\"\n",
    "    \"Instead of listing positions to open, modify, or maintain, **provide a single portfolio composition** where each asset has a `weight` (fraction of total portfolio) and a short `reasoning`.\\n\"\n",
    "    \"- **Asset**: The cryptocurrency symbol (e.g., ETH, BTC).\\n\"\n",
    "    \"- **Weight**: A decimal in [0, 1], where the sum of all weights must equal 1.0.\\n\"\n",
    "    \"- **Reasoning**: A concise explanation for why the asset is allocated that weight.\\n\"\n",
    "    \"\\n\"\n",
    "    \"## **Output Format:**\\n\"\n",
    "    \"Provide a JSON dictionary with the following structure:\\n\"\n",
    "    \"```json\\n\"\n",
    "    \"{\\n\"\n",
    "    \"  \\\"target_composition\\\": [\\n\"\n",
    "    \"    {\\n\"\n",
    "    \"      \\\"asset\\\": \\\"ETH\\\",\\n\"\n",
    "    \"      \\\"weight\\\": 0.50,\\n\"\n",
    "    \"      \\\"reasoning\\\": \\\"ETH has a strong Sharpe Ratio and robust recent performance.\\\"\\n\"\n",
    "    \"    },\\n\"\n",
    "    \"    {\\n\"\n",
    "    \"      \\\"asset\\\": \\\"BTC\\\",\\n\"\n",
    "    \"      \\\"weight\\\": 0.30,\\n\"\n",
    "    \"      \\\"reasoning\\\": \\\"BTC remains a large-cap with moderate performance.\\\"\\n\"\n",
    "    \"    },\\n\"\n",
    "    \"    {\\n\"\n",
    "    \"      \\\"asset\\\": \\\"SOL\\\",\\n\"\n",
    "    \"      \\\"weight\\\": 0.20,\\n\"\n",
    "    \"      \\\"reasoning\\\": \\\"SOL presents growth potential given recent metrics.\\\"\\n\"\n",
    "    \"    }\\n\"\n",
    "    \"  ]\\n\"\n",
    "    \"}\\n\"\n",
    "    \"```\\n\"\n",
    "    \"\\n\"\n",
    "    \"### Requirements:\\n\"\n",
    "    \"- All `weight` values **must sum to 1.0**.\\n\"\n",
    "    \"- Provide a brief `reasoning` for each asset.\\n\"\n",
    "    \"- **No additional fields** other than `target_composition`.\\n\"\n",
    "    \"- Provide **only** the JSON response. **No** extra text or explanation outside the JSON.\\n\"\n",
    ")\n"
   ]
  },
  {
   "cell_type": "code",
   "execution_count": 73,
   "metadata": {},
   "outputs": [],
   "source": [
    "# append our messages to the chat\n",
    "model = \"gpt-4o-2024-08-06\"\n",
    "messages = [\n",
    "    {\"role\": \"system\", \"content\": system_prompt},\n",
    "    {\"role\": \"user\", \"content\": user_message},\n",
    "]\n"
   ]
  },
  {
   "cell_type": "code",
   "execution_count": 74,
   "metadata": {},
   "outputs": [],
   "source": [
    "import json\n"
   ]
  },
  {
   "cell_type": "code",
   "execution_count": 75,
   "metadata": {},
   "outputs": [
    {
     "data": {
      "text/plain": [
       "{'LAVA': 1.0,\n",
       " 'MAGIC': 0.0,\n",
       " 'STG': 0.0,\n",
       " 'USDC': 0.0,\n",
       " 'DAI': 0.0,\n",
       " 'ARB': 0.0,\n",
       " 'USDT': 0.0,\n",
       " 'CRV': 0.0,\n",
       " 'ZRO': 0.0}"
      ]
     },
     "execution_count": 75,
     "metadata": {},
     "output_type": "execute_result"
    }
   ],
   "source": [
    "comp_dict"
   ]
  },
  {
   "cell_type": "code",
   "execution_count": 76,
   "metadata": {},
   "outputs": [],
   "source": [
    "from pydantic import BaseModel, Field\n",
    "from typing import List\n",
    "\n",
    "class CompositionItem(BaseModel):\n",
    "    asset: str = Field(..., description=\"The cryptocurrency symbol, e.g., ETH, BTC.\")\n",
    "    weight: float = Field(..., description=\"Fraction of total portfolio in [0,1]. The sum of all weights should be 1.\")\n",
    "    reasoning: str = Field(..., description=\"A brief explanation for why this allocation is chosen.\")\n",
    "\n",
    "class Rebalance(BaseModel):\n",
    "    target_composition: List[CompositionItem] = Field(\n",
    "        default_factory=list,\n",
    "        description=\"A list of target allocations for each asset.\"\n",
    "    )\n",
    "\n",
    "class PositionReasoning(BaseModel):\n",
    "    \"\"\"\n",
    "    This model wraps the Rebalance object under 'rebalance'.\n",
    "    \"\"\"\n",
    "    rebalance: Rebalance = Field(\n",
    "        default_factory=Rebalance,\n",
    "        description=\"All target composition details.\"\n",
    "    )\n"
   ]
  },
  {
   "cell_type": "code",
   "execution_count": 77,
   "metadata": {},
   "outputs": [
    {
     "name": "stdout",
     "output_type": "stream",
     "text": [
      "Rebalance Strategy: {'target_composition': [{'asset': 'LAVA', 'weight': 0.4, 'reasoning': 'LAVA has positive excess return and recent positive 7-day return, suggesting potential for growth.'}, {'asset': 'STG', 'weight': 0.35, 'reasoning': 'STG exhibits a strong excess return and a positive 7-day return, indicating robust recent performance.'}, {'asset': 'USDC', 'weight': 0.25, 'reasoning': 'USDC is included for stability and liquidity, helping manage risk with a stablecoin allocation.'}]}\n"
     ]
    }
   ],
   "source": [
    "completion = openai_client.beta.chat.completions.parse(\n",
    "    model=model,\n",
    "    messages=messages,\n",
    "    response_format=PositionReasoning,\n",
    ")\n",
    "\n",
    "try:\n",
    "    # Access the content of the first choice\n",
    "    response_content = completion.choices[0].message.content\n",
    "\n",
    "    # Parse the JSON string into a Python dictionary\n",
    "    result = json.loads(response_content)\n",
    "\n",
    "    # Access the rebalance dictionary\n",
    "    rebalance_dict = result.get(\"rebalance\", {})\n",
    "\n",
    "    print(\"Rebalance Strategy:\", rebalance_dict)\n",
    "except json.JSONDecodeError as e:\n",
    "    print(\"Error decoding JSON:\", e)\n",
    "    print(\"Raw response:\", completion.choices[0].message.content)"
   ]
  },
  {
   "cell_type": "code",
   "execution_count": 78,
   "metadata": {},
   "outputs": [
    {
     "data": {
      "text/plain": [
       "[{'asset': 'LAVA',\n",
       "  'weight': 0.4,\n",
       "  'reasoning': 'LAVA has positive excess return and recent positive 7-day return, suggesting potential for growth.'},\n",
       " {'asset': 'STG',\n",
       "  'weight': 0.35,\n",
       "  'reasoning': 'STG exhibits a strong excess return and a positive 7-day return, indicating robust recent performance.'},\n",
       " {'asset': 'USDC',\n",
       "  'weight': 0.25,\n",
       "  'reasoning': 'USDC is included for stability and liquidity, helping manage risk with a stablecoin allocation.'}]"
      ]
     },
     "execution_count": 78,
     "metadata": {},
     "output_type": "execute_result"
    }
   ],
   "source": [
    "rebalance_dict['target_composition']"
   ]
  },
  {
   "cell_type": "code",
   "execution_count": 79,
   "metadata": {},
   "outputs": [
    {
     "data": {
      "text/html": [
       "<div>\n",
       "<style scoped>\n",
       "    .dataframe tbody tr th:only-of-type {\n",
       "        vertical-align: middle;\n",
       "    }\n",
       "\n",
       "    .dataframe tbody tr th {\n",
       "        vertical-align: top;\n",
       "    }\n",
       "\n",
       "    .dataframe thead th {\n",
       "        text-align: right;\n",
       "    }\n",
       "</style>\n",
       "<table border=\"1\" class=\"dataframe\">\n",
       "  <thead>\n",
       "    <tr style=\"text-align: right;\">\n",
       "      <th></th>\n",
       "      <th>symbol</th>\n",
       "      <th>token_address</th>\n",
       "    </tr>\n",
       "  </thead>\n",
       "  <tbody>\n",
       "    <tr>\n",
       "      <th>0</th>\n",
       "      <td>LAVA</td>\n",
       "      <td>0x11e969e9b3f89cb16d686a03cd8508c9fc0361af</td>\n",
       "    </tr>\n",
       "    <tr>\n",
       "      <th>1</th>\n",
       "      <td>STG</td>\n",
       "      <td>0x6694340fc020c5e6b96567843da2df01b2ce1eb6</td>\n",
       "    </tr>\n",
       "    <tr>\n",
       "      <th>2</th>\n",
       "      <td>USDC</td>\n",
       "      <td>0xff970a61a04b1ca14834a43f5de4533ebddb5cc8</td>\n",
       "    </tr>\n",
       "    <tr>\n",
       "      <th>3</th>\n",
       "      <td>ZRO</td>\n",
       "      <td>0x6985884c4392d348587b19cb9eaaf157f13271cd</td>\n",
       "    </tr>\n",
       "    <tr>\n",
       "      <th>4</th>\n",
       "      <td>USDT</td>\n",
       "      <td>0xfd086bc7cd5c481dcc9c85ebe478a1c0b69fcbb9</td>\n",
       "    </tr>\n",
       "    <tr>\n",
       "      <th>5</th>\n",
       "      <td>DAI</td>\n",
       "      <td>0xda10009cbd5d07dd0cecc66161fc93d7c9000da1</td>\n",
       "    </tr>\n",
       "    <tr>\n",
       "      <th>6</th>\n",
       "      <td>CRV</td>\n",
       "      <td>0x11cdb42b0eb46d95f990bedd4695a6e3fa034978</td>\n",
       "    </tr>\n",
       "    <tr>\n",
       "      <th>7</th>\n",
       "      <td>MAGIC</td>\n",
       "      <td>0x539bde0d7dbd336b79148aa742883198bbf60342</td>\n",
       "    </tr>\n",
       "    <tr>\n",
       "      <th>8</th>\n",
       "      <td>USDC</td>\n",
       "      <td>0xaf88d065e77c8cc2239327c5edb3a432268e5831</td>\n",
       "    </tr>\n",
       "    <tr>\n",
       "      <th>9</th>\n",
       "      <td>ARB</td>\n",
       "      <td>0x912ce59144191c1204e64559fe8253a0e49e6548</td>\n",
       "    </tr>\n",
       "  </tbody>\n",
       "</table>\n",
       "</div>"
      ],
      "text/plain": [
       "  symbol                               token_address\n",
       "0   LAVA  0x11e969e9b3f89cb16d686a03cd8508c9fc0361af\n",
       "1    STG  0x6694340fc020c5e6b96567843da2df01b2ce1eb6\n",
       "2   USDC  0xff970a61a04b1ca14834a43f5de4533ebddb5cc8\n",
       "3    ZRO  0x6985884c4392d348587b19cb9eaaf157f13271cd\n",
       "4   USDT  0xfd086bc7cd5c481dcc9c85ebe478a1c0b69fcbb9\n",
       "5    DAI  0xda10009cbd5d07dd0cecc66161fc93d7c9000da1\n",
       "6    CRV  0x11cdb42b0eb46d95f990bedd4695a6e3fa034978\n",
       "7  MAGIC  0x539bde0d7dbd336b79148aa742883198bbf60342\n",
       "8   USDC  0xaf88d065e77c8cc2239327c5edb3a432268e5831\n",
       "9    ARB  0x912ce59144191c1204e64559fe8253a0e49e6548"
      ]
     },
     "execution_count": 79,
     "metadata": {},
     "output_type": "execute_result"
    }
   ],
   "source": [
    "latest_metrics_df[['symbol','token_address']]"
   ]
  },
  {
   "cell_type": "code",
   "execution_count": 80,
   "metadata": {},
   "outputs": [],
   "source": [
    "factory = '0x1F98431c8aD98523631AE4a59f267346ea31F984'\n",
    "router = '0x5E325eDA8064b456f4781070C0738d849c824258'\n",
    "version = 3"
   ]
  },
  {
   "cell_type": "code",
   "execution_count": 81,
   "metadata": {},
   "outputs": [],
   "source": [
    "uniswap = Uniswap(address=ACCOUNT_ADDRESS, private_key=PRIVATE_KEY, version=version, provider=gateway,router_contract_addr=router,factory_contract_addr=factory)"
   ]
  },
  {
   "cell_type": "code",
   "execution_count": 84,
   "metadata": {},
   "outputs": [],
   "source": [
    "rebalance_list = rebalance_dict[\"target_composition\"]"
   ]
  },
  {
   "cell_type": "code",
   "execution_count": 85,
   "metadata": {},
   "outputs": [
    {
     "name": "stdout",
     "output_type": "stream",
     "text": [
      "{'LAVA': 0.4, 'MAGIC': 0.0, 'STG': 0.35, 'USDC': 0.25, 'DAI': 0.0, 'ARB': 0.0, 'USDT': 0.0, 'CRV': 0.0, 'ZRO': 0.0}\n"
     ]
    }
   ],
   "source": [
    "new_compositions = {\n",
    "    token: next(\n",
    "        (item[\"weight\"] for item in rebalance_list if item[\"asset\"] == token),\n",
    "        0.0  # default if not found\n",
    "    )\n",
    "    for token in TOKEN_CONTRACTS\n",
    "}\n",
    "\n",
    "print(new_compositions)"
   ]
  },
  {
   "cell_type": "code",
   "execution_count": 86,
   "metadata": {},
   "outputs": [
    {
     "name": "stdout",
     "output_type": "stream",
     "text": [
      "Selling 10.548743 LAVA for WETH\n"
     ]
    },
    {
     "name": "stderr",
     "output_type": "stream",
     "text": [
      "Approving 0x11e969e9B3f89cB16D686a03Cd8508C9fC0361AF...\n",
      "No fee set, assuming 0.3%\n"
     ]
    },
    {
     "name": "stdout",
     "output_type": "stream",
     "text": [
      "Waiting 19 seconds before the next call...\n",
      "Total WETH balance after selling: 0.000449 WETH\n",
      "Buying LAVA with 0.000180 WETH\n"
     ]
    },
    {
     "name": "stderr",
     "output_type": "stream",
     "text": [
      "Approving 0x82aF49447D8a07e3bd95BD0d56f35241523fBab1...\n"
     ]
    },
    {
     "name": "stdout",
     "output_type": "stream",
     "text": [
      "Waiting 26 seconds before the next call...\n",
      "Buying STG with 0.000157 WETH\n",
      "Waiting 26 seconds before the next call...\n",
      "Buying USDC with 0.000112 WETH\n",
      "Waiting 23 seconds before the next call...\n",
      "Final WETH balance: 0.000000 WETH\n",
      "Rebalancing info saved to 'data/live_rebal_results.csv'.\n"
     ]
    }
   ],
   "source": [
    "rebalance_portfolio(\n",
    "    uniswap, \n",
    "    TOKEN_CONTRACTS, \n",
    "    TOKEN_DECIMALS, \n",
    "    new_compositions, \n",
    "    ACCOUNT_ADDRESS\n",
    ")"
   ]
  },
  {
   "cell_type": "code",
   "execution_count": 87,
   "metadata": {},
   "outputs": [
    {
     "name": "stdout",
     "output_type": "stream",
     "text": [
      "Balances for account 0xFA475d5FB90C4b90D929a64732DA6De38a966416: {'LAVA': 1.21423, 'MAGIC': 0.0, 'STG': 1.2030749924394333, 'USDC': 0.366237, 'DAI': 0.0, 'ARB': 0.0, 'USDT': 0.0, 'CRV': 0.0, 'ZRO': 0.0}\n",
      "balances: dict_keys(['LAVA', 'MAGIC', 'STG', 'USDC', 'DAI', 'ARB', 'USDT', 'CRV', 'ZRO'])\n",
      "TOKEN_CONTRACTS.keys(): dict_keys(['LAVA', 'MAGIC', 'STG', 'USDC', 'DAI', 'ARB', 'USDT', 'CRV', 'ZRO'])\n",
      "comp_dict: {'LAVA': 0.17601837426613623, 'MAGIC': 0.0, 'STG': 0.4833003607373583, 'USDC': 0.3406812649965055, 'DAI': 0.0, 'ARB': 0.0, 'USDT': 0.0, 'CRV': 0.0, 'ZRO': 0.0}\n",
      "portfolio value: {'Portfolio Value': 1.0750125451329313, 'date': '2025-01-11 19:00:00'}\n"
     ]
    }
   ],
   "source": [
    "model_balances = get_balance(TOKEN_CONTRACTS,TOKEN_DECIMALS,ACCOUNT_ADDRESS,w3)\n",
    "\n",
    "model_balances  \n",
    "\n",
    "model_balances_usd = convert_to_usd(model_balances,latest_prices,TOKEN_CONTRACTS)\n",
    "model_balances_usd\n",
    "\n",
    "available_balance = sum(model_balances_usd.values())\n",
    "available_balance\n",
    "\n",
    "comp_dict = {\n",
    "    f\"{token}\": balance_usd / available_balance\n",
    "    for token, balance_usd in model_balances_usd.items()\n",
    "}\n",
    "\n",
    "print(f'comp_dict: {comp_dict}')\n",
    "\n",
    "# comp_dict[\"date\"] = formatted_today_utc\n",
    "\n",
    "# update_historical_data(comp_dict)\n",
    "\n",
    "portfolio_dict = {\n",
    "    \"Portfolio Value\": available_balance,\n",
    "    \"date\": formatted_today_utc\n",
    "}\n",
    "\n",
    "print(f'portfolio value: {portfolio_dict}')\n",
    "\n",
    "# update_portfolio_data(portfolio_dict)"
   ]
  },
  {
   "cell_type": "code",
   "execution_count": null,
   "metadata": {},
   "outputs": [],
   "source": []
  }
 ],
 "metadata": {
  "kernelspec": {
   "display_name": "encode_env",
   "language": "python",
   "name": "encode_env"
  },
  "language_info": {
   "codemirror_mode": {
    "name": "ipython",
    "version": 3
   },
   "file_extension": ".py",
   "mimetype": "text/x-python",
   "name": "python",
   "nbconvert_exporter": "python",
   "pygments_lexer": "ipython3",
   "version": "3.11.9"
  }
 },
 "nbformat": 4,
 "nbformat_minor": 4
}
