{
 "cells": [
  {
   "cell_type": "code",
   "execution_count": 1,
   "metadata": {},
   "outputs": [
    {
     "data": {
      "text/plain": [
       "True"
      ]
     },
     "execution_count": 1,
     "metadata": {},
     "output_type": "execute_result"
    }
   ],
   "source": [
    "from dotenv import load_dotenv\n",
    "import os\n",
    "from web3 import Web3\n",
    "from eth_account import Account\n",
    "import pandas as pd\n",
    "import time\n",
    "import random\n",
    "import math\n",
    "from diskcache import Cache\n",
    "import datetime as dt\n",
    "from datetime import timedelta\n",
    "\n",
    "\n",
    "load_dotenv()"
   ]
  },
  {
   "cell_type": "code",
   "execution_count": 2,
   "metadata": {},
   "outputs": [],
   "source": [
    "OPENAI_API_KEY = os.getenv('OPENAI_API_KEY')\n",
    "flipside_api_key = os.getenv(\"FLIPSIDE_API_KEY\")\n",
    "\n",
    "ACCOUNT_ADDRESS = os.getenv('ACCOUNT_ADDRESS')\n",
    "PRIVATE_KEY = os.getenv('PRIVATE_KEY')\n",
    "GATEWAY = os.getenv('ARBITRUM_GATEWAY')"
   ]
  },
  {
   "cell_type": "code",
   "execution_count": 3,
   "metadata": {},
   "outputs": [],
   "source": [
    "from openai import OpenAI\n",
    "openai_client = OpenAI(api_key=OPENAI_API_KEY)"
   ]
  },
  {
   "cell_type": "code",
   "execution_count": 4,
   "metadata": {},
   "outputs": [],
   "source": [
    "os.chdir('..')"
   ]
  },
  {
   "cell_type": "code",
   "execution_count": 5,
   "metadata": {},
   "outputs": [
    {
     "name": "stderr",
     "output_type": "stream",
     "text": [
      "2025-01-11 12:19:30.268 WARNING streamlit.runtime.caching.cache_data_api: No runtime found, using MemoryCacheStorageManager\n"
     ]
    },
    {
     "name": "stdout",
     "output_type": "stream",
     "text": [
      "Current Directory: E:\\Projects\\encode hackathon\n"
     ]
    }
   ],
   "source": [
    "from python_scripts.web3_utils import *\n",
    "from python_scripts.apis import token_classifier_portfolio, flipside_api_results\n",
    "from python_scripts.macro_data import main as macro_main\n",
    "from sql_queries.queries import latest_portfolio_metrics"
   ]
  },
  {
   "cell_type": "code",
   "execution_count": 6,
   "metadata": {},
   "outputs": [],
   "source": [
    "cache = Cache('classifier_data')"
   ]
  },
  {
   "cell_type": "code",
   "execution_count": 7,
   "metadata": {},
   "outputs": [],
   "source": [
    "def network(chain):\n",
    "        if chain == 'gnosis':\n",
    "            primary_gateway = GNOSIS_GATEWAY  # Replace with your Infura URL\n",
    "            backup_gateway = 'https://lb.nodies.app/v1/406d8dcc043f4cb3959ed7d6673d311a'  # Your backup gateway\n",
    "        elif chain == 'arbitrum':\n",
    "            primary_gateway = GATEWAY  # Replace with your Infura URL\n",
    "            backup_gateway = GATEWAY\n",
    "        elif chain == 'optimism':\n",
    "            primary_gateway = OPTIMISM_GATEWAY  # Replace with your Infura URL\n",
    "            backup_gateway = OPTIMISM_GATEWAY\n",
    "        elif chain == 'ethereum':\n",
    "            primary_gateway = ETHEREUM_GATEWAY  # Replace with your Infura URL\n",
    "            backup_gateway = ETHEREUM_GATEWAY\n",
    "\n",
    "        print(f'Gateway: {primary_gateway}')\n",
    "\n",
    "        for gateway in [primary_gateway, backup_gateway]:\n",
    "            w3 = Web3(Web3.HTTPProvider(gateway))\n",
    "            if w3.is_connected():\n",
    "                try:\n",
    "                    latest_block = w3.eth.get_block('latest')['number']  # Only try this if connected\n",
    "                    print(f\"Connected to {chain} via {gateway}: {latest_block} block\")\n",
    "                    return w3, gateway\n",
    "                except Exception as e:\n",
    "                    print(f\"Connected to {gateway} but failed to fetch latest block. Error: {e}\")\n",
    "            else:\n",
    "                print(f\"Failed to connect to {chain} via {gateway}. Trying next gateway...\")\n",
    "\n",
    "        raise ConnectionError(f\"Failed to connect to {chain} network using both primary and backup gateways.\")"
   ]
  },
  {
   "cell_type": "code",
   "execution_count": 8,
   "metadata": {},
   "outputs": [
    {
     "name": "stdout",
     "output_type": "stream",
     "text": [
      "Gateway: https://arb-mainnet.g.alchemy.com/v2/sDx1aRO1I82_YWxxUK9S_jnDXHTXEqFl\n",
      "Connected to arbitrum via https://arb-mainnet.g.alchemy.com/v2/sDx1aRO1I82_YWxxUK9S_jnDXHTXEqFl: 294373183 block\n"
     ]
    }
   ],
   "source": [
    "chain = 'arbitrum'\n",
    "\n",
    "w3, gateway = network(chain)\n",
    "\n",
    "account = Account.from_key(PRIVATE_KEY)\n",
    "w3.eth.default_account = account.address"
   ]
  },
  {
   "cell_type": "code",
   "execution_count": 9,
   "metadata": {},
   "outputs": [],
   "source": [
    "# import json\n",
    "\n",
    "# # Define the path to your ABI file\n",
    "# mlAMPL_abi_file_path = \"abi/mlAMPL.json\"\n",
    "# WETH_abi_file_path = \"abi/weth_abi.json\"\n",
    "# bonding_abi_file_path = \"abi/bonding_contract_abi.json\"\n",
    "# lp_manager_path = 'abi/nftmanager.json'\n",
    "# staking_path = 'abi/staking_abi.json'\n",
    "# erc20_abi_path = 'abi/erc20_abi.json'\n",
    "# nft_factory_path = 'abi/nft_factory.json'\n",
    "# pool_abi_path = 'abi/pool_abi.json'\n",
    "\n",
    "# abi_paths = [mlAMPL_abi_file_path, WETH_abi_file_path, bonding_abi_file_path,lp_manager_path,staking_path,erc20_abi_path,nft_factory_path,pool_abi_path]\n",
    "# abis = {}\n",
    "\n",
    "# for path in abi_paths:\n",
    "#     with open(path, \"r\") as file:\n",
    "#         abis[path] = json.load(file)\n",
    "\n",
    "# print(abis)\n"
   ]
  },
  {
   "cell_type": "code",
   "execution_count": 10,
   "metadata": {},
   "outputs": [],
   "source": [
    "def data_cleaning(df,dropna=True,ffill=False):\n",
    "    clean_df = clean_prices(df)\n",
    "    clean_df = to_time(clean_df)\n",
    "    if dropna == True:\n",
    "        # clean_df = clean_df.dropna(axis=1, how='any')\n",
    "        clean_df = clean_df.dropna()\n",
    "    if ffill == True:\n",
    "        clean_df = clean_df.resample('h').ffill().bfill()\n",
    "\n",
    "    if '__row_index' in clean_df.columns:\n",
    "        clean_df.drop(columns=['__row_index'], inplace=True)\n",
    "\n",
    "    return clean_df\n",
    "\n",
    "def to_time(df):\n",
    "    time_cols = ['date','dt','hour','time','day','month','year','week','timestamp','date(utc)','block_timestamp']\n",
    "    for col in df.columns:\n",
    "        if col.lower() in time_cols and col.lower() != 'timestamp':\n",
    "            df[col] = pd.to_datetime(df[col])\n",
    "            df.set_index(col, inplace=True)\n",
    "        elif col.lower() == 'timestamp':\n",
    "            df[col] = pd.to_datetime(df[col], unit='ms')\n",
    "            df.set_index(col, inplace=True)\n",
    "    print(df.index)\n",
    "    return df \n",
    "\n",
    "def clean_prices(prices_df):\n",
    "    print('cleaning prices')\n",
    "    # Pivot the dataframe\n",
    "    prices_df = prices_df.drop_duplicates(subset=['hour', 'symbol'])\n",
    "    prices_df_pivot = prices_df.pivot(\n",
    "        index='hour',\n",
    "        columns='symbol',\n",
    "        values='price'\n",
    "    )\n",
    "    prices_df_pivot = prices_df_pivot.reset_index()\n",
    "\n",
    "    # Rename the columns by combining 'symbol' with a suffix\n",
    "    prices_df_pivot.columns = ['hour'] + [f'{col}_Price' for col in prices_df_pivot.columns[1:]]\n",
    "    \n",
    "    print(f'cleaned prices: {prices_df_pivot}')\n",
    "    return prices_df_pivot"
   ]
  },
  {
   "cell_type": "code",
   "execution_count": 11,
   "metadata": {},
   "outputs": [],
   "source": [
    "def pull_data(function,path,model_name, api=False,start_date=None):\n",
    "    print(f'function:{function},start_date:{start_date},path:{path},api:{api},model_name: {model_name}')\n",
    "\n",
    "    if api:\n",
    "        print(f'api True')\n",
    "        # Parse dates into datetime format for consistency\n",
    "        start_date = dt.datetime.strptime(start_date, '%Y-%m-%d %H:%M:%S')\n",
    "        \n",
    "        # Use formatted date strings as needed in the dao_advisor_portfolio and lst_portfolio_prices functions\n",
    "        prices = function(start_date.strftime('%Y-%m-%d %H:%M:%S'))\n",
    "        \n",
    "        prices_df = flipside_api_results(prices, flipside_api_key)\n",
    "\n",
    "        prices_df.to_csv(path)\n",
    "    else:\n",
    "        print(f'api False')\n",
    "        prices_df = pd.read_csv(path)\n",
    "\n",
    "    dataset = {\n",
    "        f'portfolio': prices_df\n",
    "    }\n",
    "\n",
    "    return dataset"
   ]
  },
  {
   "cell_type": "code",
   "execution_count": 12,
   "metadata": {},
   "outputs": [],
   "source": [
    "def prices_data_func(network,\n",
    "                     api_key,use_cached_data,name,days=None,\n",
    "                     function=None,start_date=None,\n",
    "                     backtest_period=None,filtered_assets=None):\n",
    "    \n",
    "    if start_date is None and backtest_period is None:\n",
    "        raise KeyError(\"Provide either a start date or backtest_period\")\n",
    "    \n",
    "    print(f\"backtest days: {(pd.to_datetime(dt.datetime.now(dt.timezone.utc).strftime('%Y-%m-%d %H:00:00')) - pd.to_datetime(start_date)).days}\")\n",
    "    \n",
    "    if backtest_period is None:\n",
    "        backtest_period = (pd.to_datetime(dt.datetime.now(dt.timezone.utc).strftime('%Y-%m-%d %H:00:00')) - pd.to_datetime(start_date)).days * 24\n",
    "        if backtest_period < 1:\n",
    "            backtest_period = 1\n",
    "\n",
    "    if function is None:\n",
    "\n",
    "        data = token_classifier_portfolio(\n",
    "            network=network,\n",
    "            days=days,\n",
    "            name=name,\n",
    "            api_key = api_key,\n",
    "            use_cached_data=use_cached_data,\n",
    "            start_date = start_date,\n",
    "            prices_only=True\n",
    "        )\n",
    "\n",
    "        prices_df = data_cleaning(data['portfolio'])\n",
    "        prices_df\n",
    "    else: \n",
    "        data = pull_data(function=function,start_date=start_date, path=f'data/{name}.csv', api=not use_cached_data,model_name=name)\n",
    "        prices_df = data_cleaning(data['portfolio'])\n",
    "        prices_df = prices_df[prices_df.index >= start_date].dropna()\n",
    "        prices_df\n",
    "\n",
    "    # prices_df.columns = prices_df.columns.str.replace('_Price','')\n",
    "    filtered_assets_with_price = [f\"{asset}_Price\" for asset in filtered_assets]\n",
    "\n",
    "\n",
    "    return data, prices_df[filtered_assets_with_price]"
   ]
  },
  {
   "cell_type": "code",
   "execution_count": 13,
   "metadata": {},
   "outputs": [],
   "source": [
    "def prepare_data_for_simulation(price_timeseries, start_date, end_date):\n",
    "    \"\"\"\n",
    "    Ensure price_timeseries has entries for start_date and end_date.\n",
    "    If not, fill in these dates using the last available data.\n",
    "    \"\"\"\n",
    "    # Ensure 'ds' is in datetime format\n",
    "    # price_timeseries['hour'] = pd.to_datetime(price_timeseries['hour'])\n",
    "    \n",
    "    # Set the index to 'ds' for easier manipulation\n",
    "    # if price_timeseries.index.name != 'hour':\n",
    "    #     price_timeseries.set_index('hour', inplace=True)\n",
    "\n",
    "    print(f'price index: {price_timeseries.index}')\n",
    "\n",
    "    price_timeseries.index = price_timeseries.index.tz_localize(None)\n",
    "    \n",
    "    # Check if start_date and end_date exist in the data\n",
    "    required_dates = pd.date_range(start=start_date, end=end_date, freq='H')\n",
    "    all_dates = price_timeseries.index.union(required_dates)\n",
    "    \n",
    "    # Reindex the dataframe to ensure all dates from start to end are present\n",
    "    price_timeseries = price_timeseries.reindex(all_dates)\n",
    "    \n",
    "    # Forward fill to handle NaN values if any dates were missing\n",
    "    price_timeseries.fillna(method='ffill', inplace=True)\n",
    "\n",
    "    # Reset index if necessary or keep the datetime index based on further needs\n",
    "    # price_timeseries.reset_index(inplace=True, drop=False)\n",
    "    # price_timeseries.rename(columns={'index': 'hour'}, inplace=True)\n",
    "    # price_timeseries.set_index('hour',inplace=True)\n",
    "    \n",
    "    return price_timeseries\n"
   ]
  },
  {
   "cell_type": "code",
   "execution_count": 14,
   "metadata": {},
   "outputs": [],
   "source": [
    "network = chain\n",
    "\n",
    "model = f'{network}_classifier'\n",
    "\n",
    "params = cache.get(f'{model} params')\n",
    "classifier_data = cache.get(f'{model}_portfolio')\n",
    "original_prices_df = cache.get(f'{model}_prices')\n",
    "days = params['days']"
   ]
  },
  {
   "cell_type": "code",
   "execution_count": 15,
   "metadata": {},
   "outputs": [
    {
     "data": {
      "text/plain": [
       "{'model': 'arbitrum_classifier',\n",
       " 'days': 7,\n",
       " 'top': 20,\n",
       " 'network': 'arbitrum',\n",
       " 'backtest_period': 4380,\n",
       " 'start_date': '2024-07-08'}"
      ]
     },
     "execution_count": 15,
     "metadata": {},
     "output_type": "execute_result"
    }
   ],
   "source": [
    "params"
   ]
  },
  {
   "cell_type": "code",
   "execution_count": 16,
   "metadata": {},
   "outputs": [
    {
     "data": {
      "text/html": [
       "<div>\n",
       "<style scoped>\n",
       "    .dataframe tbody tr th:only-of-type {\n",
       "        vertical-align: middle;\n",
       "    }\n",
       "\n",
       "    .dataframe tbody tr th {\n",
       "        vertical-align: top;\n",
       "    }\n",
       "\n",
       "    .dataframe thead th {\n",
       "        text-align: right;\n",
       "    }\n",
       "</style>\n",
       "<table border=\"1\" class=\"dataframe\">\n",
       "  <thead>\n",
       "    <tr style=\"text-align: right;\">\n",
       "      <th></th>\n",
       "      <th>symbol</th>\n",
       "      <th>token_address</th>\n",
       "      <th>sharpe_ratio</th>\n",
       "      <th>excess_return</th>\n",
       "      <th>latest_price</th>\n",
       "      <th>latest_hour</th>\n",
       "      <th>stddev_30d</th>\n",
       "      <th>volume</th>\n",
       "      <th>average_order</th>\n",
       "      <th>sixty_d_return</th>\n",
       "      <th>__row_index</th>\n",
       "      <th>original_latest_hour</th>\n",
       "    </tr>\n",
       "  </thead>\n",
       "  <tbody>\n",
       "    <tr>\n",
       "      <th>0</th>\n",
       "      <td>LAVA</td>\n",
       "      <td>0x11e969e9b3f89cb16d686a03cd8508c9fc0361af</td>\n",
       "      <td>31.123394</td>\n",
       "      <td>0.891667</td>\n",
       "      <td>0.173335</td>\n",
       "      <td>2025-01-06 16:00:00+00:00</td>\n",
       "      <td>0.028649</td>\n",
       "      <td>2.867698e+06</td>\n",
       "      <td>163.262081</td>\n",
       "      <td>0.892469</td>\n",
       "      <td>0</td>\n",
       "      <td>2025-01-06 16:00:00+00:00</td>\n",
       "    </tr>\n",
       "    <tr>\n",
       "      <th>1</th>\n",
       "      <td>MAGIC</td>\n",
       "      <td>0x539bde0d7dbd336b79148aa742883198bbf60342</td>\n",
       "      <td>4.465459</td>\n",
       "      <td>0.399587</td>\n",
       "      <td>0.611536</td>\n",
       "      <td>2025-01-06 16:00:00+00:00</td>\n",
       "      <td>0.089484</td>\n",
       "      <td>8.264843e+06</td>\n",
       "      <td>271.361034</td>\n",
       "      <td>0.400389</td>\n",
       "      <td>1</td>\n",
       "      <td>2025-01-06 16:00:00+00:00</td>\n",
       "    </tr>\n",
       "    <tr>\n",
       "      <th>2</th>\n",
       "      <td>STG</td>\n",
       "      <td>0x6694340fc020c5e6b96567843da2df01b2ce1eb6</td>\n",
       "      <td>4.262890</td>\n",
       "      <td>0.228900</td>\n",
       "      <td>0.491961</td>\n",
       "      <td>2025-01-06 16:00:00+00:00</td>\n",
       "      <td>0.053696</td>\n",
       "      <td>2.324067e+06</td>\n",
       "      <td>192.341905</td>\n",
       "      <td>0.229703</td>\n",
       "      <td>2</td>\n",
       "      <td>2025-01-06 16:00:00+00:00</td>\n",
       "    </tr>\n",
       "    <tr>\n",
       "      <th>3</th>\n",
       "      <td>USDC</td>\n",
       "      <td>0xaf88d065e77c8cc2239327c5edb3a432268e5831</td>\n",
       "      <td>3.525502</td>\n",
       "      <td>0.003190</td>\n",
       "      <td>1.006000</td>\n",
       "      <td>2025-01-06 16:00:00+00:00</td>\n",
       "      <td>0.000905</td>\n",
       "      <td>8.806350e+08</td>\n",
       "      <td>1827.297492</td>\n",
       "      <td>0.003992</td>\n",
       "      <td>3</td>\n",
       "      <td>2025-01-06 16:00:00+00:00</td>\n",
       "    </tr>\n",
       "    <tr>\n",
       "      <th>4</th>\n",
       "      <td>DAI</td>\n",
       "      <td>0xda10009cbd5d07dd0cecc66161fc93d7c9000da1</td>\n",
       "      <td>3.177627</td>\n",
       "      <td>0.005553</td>\n",
       "      <td>1.005000</td>\n",
       "      <td>2025-01-06 16:00:00+00:00</td>\n",
       "      <td>0.001748</td>\n",
       "      <td>1.192044e+07</td>\n",
       "      <td>1055.560284</td>\n",
       "      <td>0.006356</td>\n",
       "      <td>4</td>\n",
       "      <td>2025-01-06 16:00:00+00:00</td>\n",
       "    </tr>\n",
       "    <tr>\n",
       "      <th>5</th>\n",
       "      <td>USDC</td>\n",
       "      <td>0xff970a61a04b1ca14834a43f5de4533ebddb5cc8</td>\n",
       "      <td>2.392183</td>\n",
       "      <td>0.004193</td>\n",
       "      <td>1.006000</td>\n",
       "      <td>2025-01-06 16:00:00+00:00</td>\n",
       "      <td>0.001753</td>\n",
       "      <td>1.330199e+08</td>\n",
       "      <td>831.166548</td>\n",
       "      <td>0.004995</td>\n",
       "      <td>5</td>\n",
       "      <td>2025-01-06 16:00:00+00:00</td>\n",
       "    </tr>\n",
       "    <tr>\n",
       "      <th>6</th>\n",
       "      <td>ARB</td>\n",
       "      <td>0x912ce59144191c1204e64559fe8253a0e49e6548</td>\n",
       "      <td>2.121842</td>\n",
       "      <td>0.271495</td>\n",
       "      <td>0.943365</td>\n",
       "      <td>2025-01-06 16:00:00+00:00</td>\n",
       "      <td>0.127952</td>\n",
       "      <td>1.828342e+08</td>\n",
       "      <td>820.870725</td>\n",
       "      <td>0.272297</td>\n",
       "      <td>6</td>\n",
       "      <td>2025-01-06 16:00:00+00:00</td>\n",
       "    </tr>\n",
       "    <tr>\n",
       "      <th>7</th>\n",
       "      <td>USDT</td>\n",
       "      <td>0xfd086bc7cd5c481dcc9c85ebe478a1c0b69fcbb9</td>\n",
       "      <td>0.905344</td>\n",
       "      <td>0.001566</td>\n",
       "      <td>1.002000</td>\n",
       "      <td>2025-01-06 16:00:00+00:00</td>\n",
       "      <td>0.001729</td>\n",
       "      <td>4.616128e+08</td>\n",
       "      <td>1353.754784</td>\n",
       "      <td>0.002368</td>\n",
       "      <td>7</td>\n",
       "      <td>2025-01-06 16:00:00+00:00</td>\n",
       "    </tr>\n",
       "    <tr>\n",
       "      <th>8</th>\n",
       "      <td>CRV</td>\n",
       "      <td>0x11cdb42b0eb46d95f990bedd4695a6e3fa034978</td>\n",
       "      <td>0.605335</td>\n",
       "      <td>0.069327</td>\n",
       "      <td>1.011000</td>\n",
       "      <td>2025-01-06 16:00:00+00:00</td>\n",
       "      <td>0.114526</td>\n",
       "      <td>9.694287e+06</td>\n",
       "      <td>927.682998</td>\n",
       "      <td>0.070129</td>\n",
       "      <td>8</td>\n",
       "      <td>2025-01-06 16:00:00+00:00</td>\n",
       "    </tr>\n",
       "    <tr>\n",
       "      <th>9</th>\n",
       "      <td>ZRO</td>\n",
       "      <td>0x6985884c4392d348587b19cb9eaaf157f13271cd</td>\n",
       "      <td>0.244965</td>\n",
       "      <td>0.136865</td>\n",
       "      <td>5.950000</td>\n",
       "      <td>2025-01-06 16:00:00+00:00</td>\n",
       "      <td>0.558713</td>\n",
       "      <td>6.521666e+06</td>\n",
       "      <td>468.611463</td>\n",
       "      <td>0.137667</td>\n",
       "      <td>9</td>\n",
       "      <td>2025-01-06 16:00:00+00:00</td>\n",
       "    </tr>\n",
       "  </tbody>\n",
       "</table>\n",
       "</div>"
      ],
      "text/plain": [
       "  symbol                               token_address  sharpe_ratio  \\\n",
       "0   LAVA  0x11e969e9b3f89cb16d686a03cd8508c9fc0361af     31.123394   \n",
       "1  MAGIC  0x539bde0d7dbd336b79148aa742883198bbf60342      4.465459   \n",
       "2    STG  0x6694340fc020c5e6b96567843da2df01b2ce1eb6      4.262890   \n",
       "3   USDC  0xaf88d065e77c8cc2239327c5edb3a432268e5831      3.525502   \n",
       "4    DAI  0xda10009cbd5d07dd0cecc66161fc93d7c9000da1      3.177627   \n",
       "5   USDC  0xff970a61a04b1ca14834a43f5de4533ebddb5cc8      2.392183   \n",
       "6    ARB  0x912ce59144191c1204e64559fe8253a0e49e6548      2.121842   \n",
       "7   USDT  0xfd086bc7cd5c481dcc9c85ebe478a1c0b69fcbb9      0.905344   \n",
       "8    CRV  0x11cdb42b0eb46d95f990bedd4695a6e3fa034978      0.605335   \n",
       "9    ZRO  0x6985884c4392d348587b19cb9eaaf157f13271cd      0.244965   \n",
       "\n",
       "   excess_return  latest_price                latest_hour  stddev_30d  \\\n",
       "0       0.891667      0.173335  2025-01-06 16:00:00+00:00    0.028649   \n",
       "1       0.399587      0.611536  2025-01-06 16:00:00+00:00    0.089484   \n",
       "2       0.228900      0.491961  2025-01-06 16:00:00+00:00    0.053696   \n",
       "3       0.003190      1.006000  2025-01-06 16:00:00+00:00    0.000905   \n",
       "4       0.005553      1.005000  2025-01-06 16:00:00+00:00    0.001748   \n",
       "5       0.004193      1.006000  2025-01-06 16:00:00+00:00    0.001753   \n",
       "6       0.271495      0.943365  2025-01-06 16:00:00+00:00    0.127952   \n",
       "7       0.001566      1.002000  2025-01-06 16:00:00+00:00    0.001729   \n",
       "8       0.069327      1.011000  2025-01-06 16:00:00+00:00    0.114526   \n",
       "9       0.136865      5.950000  2025-01-06 16:00:00+00:00    0.558713   \n",
       "\n",
       "         volume  average_order  sixty_d_return  __row_index  \\\n",
       "0  2.867698e+06     163.262081        0.892469            0   \n",
       "1  8.264843e+06     271.361034        0.400389            1   \n",
       "2  2.324067e+06     192.341905        0.229703            2   \n",
       "3  8.806350e+08    1827.297492        0.003992            3   \n",
       "4  1.192044e+07    1055.560284        0.006356            4   \n",
       "5  1.330199e+08     831.166548        0.004995            5   \n",
       "6  1.828342e+08     820.870725        0.272297            6   \n",
       "7  4.616128e+08    1353.754784        0.002368            7   \n",
       "8  9.694287e+06     927.682998        0.070129            8   \n",
       "9  6.521666e+06     468.611463        0.137667            9   \n",
       "\n",
       "        original_latest_hour  \n",
       "0  2025-01-06 16:00:00+00:00  \n",
       "1  2025-01-06 16:00:00+00:00  \n",
       "2  2025-01-06 16:00:00+00:00  \n",
       "3  2025-01-06 16:00:00+00:00  \n",
       "4  2025-01-06 16:00:00+00:00  \n",
       "5  2025-01-06 16:00:00+00:00  \n",
       "6  2025-01-06 16:00:00+00:00  \n",
       "7  2025-01-06 16:00:00+00:00  \n",
       "8  2025-01-06 16:00:00+00:00  \n",
       "9  2025-01-06 16:00:00+00:00  "
      ]
     },
     "execution_count": 16,
     "metadata": {},
     "output_type": "execute_result"
    }
   ],
   "source": [
    "classifier_data"
   ]
  },
  {
   "cell_type": "code",
   "execution_count": 17,
   "metadata": {},
   "outputs": [
    {
     "data": {
      "text/plain": [
       "'2024-07-30 13:00:00'"
      ]
     },
     "execution_count": 17,
     "metadata": {},
     "output_type": "execute_result"
    }
   ],
   "source": [
    "full_start = original_prices_df.index.min().strftime('%Y-%m-%d %H:00:00')\n",
    "full_start"
   ]
  },
  {
   "cell_type": "code",
   "execution_count": 18,
   "metadata": {},
   "outputs": [
    {
     "data": {
      "text/plain": [
       "array(['LAVA', 'MAGIC', 'STG', 'USDC', 'DAI', 'ARB', 'USDT', 'CRV', 'ZRO'],\n",
       "      dtype=object)"
      ]
     },
     "execution_count": 18,
     "metadata": {},
     "output_type": "execute_result"
    }
   ],
   "source": [
    "filtered_assets = classifier_data['symbol'].unique()\n",
    "filtered_assets"
   ]
  },
  {
   "cell_type": "code",
   "execution_count": 19,
   "metadata": {},
   "outputs": [],
   "source": [
    "data_start_date = dt.datetime.now(dt.timezone.utc) - timedelta(hours=5)\n",
    "data_start_date = data_start_date.strftime('%Y-%m-%d %H:00:00')\n",
    "\n",
    "today_utc = dt.datetime.now(dt.timezone.utc) \n",
    "formatted_today_utc = today_utc.strftime('%Y-%m-%d %H:00:00')\n",
    "\n",
    "data_version = dt.datetime.now(dt.timezone.utc).strftime('%Y-%m-%d %H-00-00')\n",
    "data_version_comp = dt.datetime.now(dt.timezone.utc).strftime('%Y-%m-%d %H:00:00') "
   ]
  },
  {
   "cell_type": "code",
   "execution_count": 20,
   "metadata": {},
   "outputs": [
    {
     "name": "stdout",
     "output_type": "stream",
     "text": [
      "Fetching Interest Rate Data...\n"
     ]
    },
    {
     "ename": "OpenBBError",
     "evalue": "\n[Unexpected Error] -> Exception -> Error with the OECD request: 429",
     "output_type": "error",
     "traceback": [
      "\u001b[1;31m---------------------------------------------------------------------------\u001b[0m",
      "\u001b[1;31mOpenBBError\u001b[0m                               Traceback (most recent call last)",
      "Cell \u001b[1;32mIn[20], line 1\u001b[0m\n\u001b[1;32m----> 1\u001b[0m macro_data \u001b[38;5;241m=\u001b[39m \u001b[43mmacro_main\u001b[49m\u001b[43m(\u001b[49m\u001b[43mformatted_today_utc\u001b[49m\u001b[43m)\u001b[49m\n",
      "File \u001b[1;32mE:\\Projects\\encode hackathon\\python_scripts\\macro_data.py:59\u001b[0m, in \u001b[0;36mmain\u001b[1;34m(current_date, api)\u001b[0m\n\u001b[0;32m     57\u001b[0m \u001b[38;5;28;01mif\u001b[39;00m api \u001b[38;5;241m==\u001b[39m \u001b[38;5;28;01mTrue\u001b[39;00m:\n\u001b[0;32m     58\u001b[0m     \u001b[38;5;28mprint\u001b[39m(\u001b[38;5;124m\"\u001b[39m\u001b[38;5;124mFetching Interest Rate Data...\u001b[39m\u001b[38;5;124m\"\u001b[39m)\n\u001b[1;32m---> 59\u001b[0m     interest_rate_data \u001b[38;5;241m=\u001b[39m \u001b[43mget_interest_rate_data\u001b[49m\u001b[43m(\u001b[49m\u001b[43m)\u001b[49m\n\u001b[0;32m     60\u001b[0m     \u001b[38;5;66;03m# for key, value in interest_rate_data.items():\u001b[39;00m\n\u001b[0;32m     61\u001b[0m     \u001b[38;5;66;03m#     print(f\"{key}:\\n{value}\\n\")\u001b[39;00m\n\u001b[0;32m     62\u001b[0m \n\u001b[0;32m     63\u001b[0m     \u001b[38;5;66;03m# Fetch CPI Data\u001b[39;00m\n\u001b[0;32m     64\u001b[0m     \u001b[38;5;28mprint\u001b[39m(\u001b[38;5;124m\"\u001b[39m\u001b[38;5;124mFetching CPI Data...\u001b[39m\u001b[38;5;124m\"\u001b[39m)\n",
      "File \u001b[1;32mE:\\Projects\\encode hackathon\\python_scripts\\macro_data.py:19\u001b[0m, in \u001b[0;36mget_interest_rate_data\u001b[1;34m()\u001b[0m\n\u001b[0;32m     16\u001b[0m durations \u001b[38;5;241m=\u001b[39m {\u001b[38;5;124m'\u001b[39m\u001b[38;5;124mimmediate\u001b[39m\u001b[38;5;124m'\u001b[39m: \u001b[38;5;124m'\u001b[39m\u001b[38;5;124mOvernight Interbank Rate\u001b[39m\u001b[38;5;124m'\u001b[39m, \u001b[38;5;124m'\u001b[39m\u001b[38;5;124mshort\u001b[39m\u001b[38;5;124m'\u001b[39m: \u001b[38;5;124m'\u001b[39m\u001b[38;5;124m3-Month Rate\u001b[39m\u001b[38;5;124m'\u001b[39m, \u001b[38;5;124m'\u001b[39m\u001b[38;5;124mlong\u001b[39m\u001b[38;5;124m'\u001b[39m: \u001b[38;5;124m'\u001b[39m\u001b[38;5;124m10-Year Rate\u001b[39m\u001b[38;5;124m'\u001b[39m}\n\u001b[0;32m     18\u001b[0m \u001b[38;5;28;01mfor\u001b[39;00m duration, description \u001b[38;5;129;01min\u001b[39;00m durations\u001b[38;5;241m.\u001b[39mitems():\n\u001b[1;32m---> 19\u001b[0m     data[description] \u001b[38;5;241m=\u001b[39m \u001b[43mobb\u001b[49m\u001b[38;5;241;43m.\u001b[39;49m\u001b[43meconomy\u001b[49m\u001b[38;5;241;43m.\u001b[39;49m\u001b[43minterest_rates\u001b[49m\u001b[43m(\u001b[49m\n\u001b[0;32m     20\u001b[0m \u001b[43m        \u001b[49m\u001b[43mprovider\u001b[49m\u001b[38;5;241;43m=\u001b[39;49m\u001b[38;5;124;43m'\u001b[39;49m\u001b[38;5;124;43moecd\u001b[39;49m\u001b[38;5;124;43m'\u001b[39;49m\u001b[43m,\u001b[49m\u001b[43m \u001b[49m\n\u001b[0;32m     21\u001b[0m \u001b[43m        \u001b[49m\u001b[43mcountry\u001b[49m\u001b[38;5;241;43m=\u001b[39;49m\u001b[38;5;124;43m'\u001b[39;49m\u001b[38;5;124;43munited_states\u001b[39;49m\u001b[38;5;124;43m'\u001b[39;49m\u001b[43m,\u001b[49m\u001b[43m \u001b[49m\n\u001b[0;32m     22\u001b[0m \u001b[43m        \u001b[49m\u001b[43mduration\u001b[49m\u001b[38;5;241;43m=\u001b[39;49m\u001b[43mduration\u001b[49m\u001b[43m,\u001b[49m\n\u001b[0;32m     23\u001b[0m \u001b[43m        \u001b[49m\u001b[43mfrequency\u001b[49m\u001b[38;5;241;43m=\u001b[39;49m\u001b[38;5;124;43m'\u001b[39;49m\u001b[38;5;124;43mmonthly\u001b[39;49m\u001b[38;5;124;43m'\u001b[39;49m\n\u001b[0;32m     24\u001b[0m \u001b[43m    \u001b[49m\u001b[43m)\u001b[49m\n\u001b[0;32m     26\u001b[0m \u001b[38;5;28;01mreturn\u001b[39;00m data\n",
      "File \u001b[1;32mE:\\Projects\\encode hackathon\\encode_hack\\Lib\\site-packages\\openbb_core\\app\\static\\utils\\decorators.py:101\u001b[0m, in \u001b[0;36mexception_handler.<locals>.wrapper\u001b[1;34m(*f_args, **f_kwargs)\u001b[0m\n\u001b[0;32m     99\u001b[0m         \u001b[38;5;28;01mraise\u001b[39;00m OpenBBError(\u001b[38;5;124mf\u001b[39m\u001b[38;5;124m\"\u001b[39m\u001b[38;5;130;01m\\n\u001b[39;00m\u001b[38;5;124m[Error] -> \u001b[39m\u001b[38;5;132;01m{\u001b[39;00me\u001b[38;5;132;01m}\u001b[39;00m\u001b[38;5;124m\"\u001b[39m)\u001b[38;5;241m.\u001b[39mwith_traceback(tb) \u001b[38;5;28;01mfrom\u001b[39;00m \u001b[38;5;28;01mNone\u001b[39;00m\n\u001b[0;32m    100\u001b[0m     \u001b[38;5;28;01mif\u001b[39;00m \u001b[38;5;28misinstance\u001b[39m(e, \u001b[38;5;167;01mException\u001b[39;00m):\n\u001b[1;32m--> 101\u001b[0m         \u001b[38;5;28;01mraise\u001b[39;00m OpenBBError(\n\u001b[0;32m    102\u001b[0m             \u001b[38;5;124mf\u001b[39m\u001b[38;5;124m\"\u001b[39m\u001b[38;5;130;01m\\n\u001b[39;00m\u001b[38;5;124m[Unexpected Error] -> \u001b[39m\u001b[38;5;132;01m{\u001b[39;00me\u001b[38;5;241m.\u001b[39m\u001b[38;5;18m__class__\u001b[39m\u001b[38;5;241m.\u001b[39m\u001b[38;5;18m__name__\u001b[39m\u001b[38;5;132;01m}\u001b[39;00m\u001b[38;5;124m -> \u001b[39m\u001b[38;5;132;01m{\u001b[39;00me\u001b[38;5;132;01m}\u001b[39;00m\u001b[38;5;124m\"\u001b[39m\n\u001b[0;32m    103\u001b[0m         )\u001b[38;5;241m.\u001b[39mwith_traceback(tb) \u001b[38;5;28;01mfrom\u001b[39;00m \u001b[38;5;28;01mNone\u001b[39;00m\n\u001b[0;32m    105\u001b[0m \u001b[38;5;28;01mreturn\u001b[39;00m \u001b[38;5;28;01mNone\u001b[39;00m\n",
      "File \u001b[1;32mE:\\Projects\\encode hackathon\\encode_hack\\Lib\\site-packages\\openbb_oecd\\models\\country_interest_rates.py:141\u001b[0m, in \u001b[0;36mOecdCountryInterestRatesFetcher.extract_data\u001b[1;34m(query, credentials, **kwargs)\u001b[0m\n\u001b[0;32m    139\u001b[0m response \u001b[38;5;241m=\u001b[39m make_request(url, headers\u001b[38;5;241m=\u001b[39mheaders, timeout\u001b[38;5;241m=\u001b[39m\u001b[38;5;241m20\u001b[39m)\n\u001b[0;32m    140\u001b[0m \u001b[38;5;28;01mif\u001b[39;00m response\u001b[38;5;241m.\u001b[39mstatus_code \u001b[38;5;241m!=\u001b[39m \u001b[38;5;241m200\u001b[39m:\n\u001b[1;32m--> 141\u001b[0m     \u001b[38;5;28;01mraise\u001b[39;00m \u001b[38;5;167;01mException\u001b[39;00m(\u001b[38;5;124mf\u001b[39m\u001b[38;5;124m\"\u001b[39m\u001b[38;5;124mError with the OECD request: \u001b[39m\u001b[38;5;132;01m{\u001b[39;00mresponse\u001b[38;5;241m.\u001b[39mstatus_code\u001b[38;5;132;01m}\u001b[39;00m\u001b[38;5;124m\"\u001b[39m)\n\u001b[0;32m    142\u001b[0m df \u001b[38;5;241m=\u001b[39m read_csv(StringIO(response\u001b[38;5;241m.\u001b[39mtext))\u001b[38;5;241m.\u001b[39mget(\n\u001b[0;32m    143\u001b[0m     [\u001b[38;5;124m\"\u001b[39m\u001b[38;5;124mREF_AREA\u001b[39m\u001b[38;5;124m\"\u001b[39m, \u001b[38;5;124m\"\u001b[39m\u001b[38;5;124mTIME_PERIOD\u001b[39m\u001b[38;5;124m\"\u001b[39m, \u001b[38;5;124m\"\u001b[39m\u001b[38;5;124mOBS_VALUE\u001b[39m\u001b[38;5;124m\"\u001b[39m]\n\u001b[0;32m    144\u001b[0m )\n\u001b[0;32m    145\u001b[0m \u001b[38;5;28;01mif\u001b[39;00m df\u001b[38;5;241m.\u001b[39mempty:\n",
      "\u001b[1;31mOpenBBError\u001b[0m: \n[Unexpected Error] -> Exception -> Error with the OECD request: 429"
     ]
    }
   ],
   "source": [
    "macro_data = macro_main(formatted_today_utc)"
   ]
  },
  {
   "cell_type": "code",
   "execution_count": 21,
   "metadata": {},
   "outputs": [
    {
     "data": {
      "text/plain": [
       "'2025-01-11 12:00:00'"
      ]
     },
     "execution_count": 21,
     "metadata": {},
     "output_type": "execute_result"
    }
   ],
   "source": [
    "start_date = str(data_start_date)\n",
    "end_date = dt.datetime.now(dt.timezone.utc).strftime('%Y-%m-%d %H:00:00') \n",
    "\n",
    "start_date"
   ]
  },
  {
   "cell_type": "code",
   "execution_count": 22,
   "metadata": {},
   "outputs": [
    {
     "data": {
      "text/plain": [
       "'2025-01-11 17:00:00'"
      ]
     },
     "execution_count": 22,
     "metadata": {},
     "output_type": "execute_result"
    }
   ],
   "source": [
    "end_date"
   ]
  },
  {
   "cell_type": "code",
   "execution_count": 23,
   "metadata": {},
   "outputs": [
    {
     "name": "stdout",
     "output_type": "stream",
     "text": [
      "backtest days: 0\n",
      "use_cached_data: False\n",
      "volume_threshold: 1\n",
      "start_date: 2025-01-11 12:00:00\n",
      "data_start_str: 2024-07-08 04:00:00\n",
      "Beginning: '2025-01-11 12:00:00'\n",
      "Query not completed. Retrying in 30 seconds...\n",
      "cleaning prices\n",
      "cleaned prices:                        hour  ARB_Price  CRV_Price  DAI_Price  LAVA_Price  \\\n",
      "0  2025-01-11T12:00:00.000Z   0.736588   0.819947   1.000000    0.143798   \n",
      "1  2025-01-11T13:00:00.000Z   0.740618   0.825797   0.998560    0.146932   \n",
      "2  2025-01-11T14:00:00.000Z   0.737405   0.819361   0.999276    0.146359   \n",
      "3  2025-01-11T15:00:00.000Z   0.732249   0.811187   1.000000    0.146579   \n",
      "4  2025-01-11T16:00:00.000Z   0.732417   0.814135   1.000000    0.153532   \n",
      "\n",
      "   MAGIC_Price  STG_Price  USDC_Price  USDT_Price  ZRO_Price  \n",
      "0     0.476683   0.407951    1.000000    1.000000       4.66  \n",
      "1     0.480520   0.409601    1.000000    0.999616       4.69  \n",
      "2     0.474871   0.409888    0.999998    0.999796       4.68  \n",
      "3     0.471421   0.410636    0.999332    0.999450       4.64  \n",
      "4     0.472452   0.413655    0.999745    0.999651       4.63  \n",
      "DatetimeIndex(['2025-01-11 12:00:00+00:00', '2025-01-11 13:00:00+00:00',\n",
      "               '2025-01-11 14:00:00+00:00', '2025-01-11 15:00:00+00:00',\n",
      "               '2025-01-11 16:00:00+00:00'],\n",
      "              dtype='datetime64[ns, UTC]', name='hour', freq=None)\n",
      "price index: DatetimeIndex(['2025-01-11 12:00:00+00:00', '2025-01-11 13:00:00+00:00',\n",
      "               '2025-01-11 14:00:00+00:00', '2025-01-11 15:00:00+00:00',\n",
      "               '2025-01-11 16:00:00+00:00'],\n",
      "              dtype='datetime64[ns, UTC]', name='hour', freq=None)\n"
     ]
    },
    {
     "name": "stderr",
     "output_type": "stream",
     "text": [
      "C:\\Users\\brandyns pc\\AppData\\Local\\Temp\\ipykernel_55368\\3188632879.py:18: FutureWarning: 'H' is deprecated and will be removed in a future version, please use 'h' instead.\n",
      "  required_dates = pd.date_range(start=start_date, end=end_date, freq='H')\n",
      "C:\\Users\\brandyns pc\\AppData\\Local\\Temp\\ipykernel_55368\\3188632879.py:25: FutureWarning: DataFrame.fillna with 'method' is deprecated and will raise in a future version. Use obj.ffill() or obj.bfill() instead.\n",
      "  price_timeseries.fillna(method='ffill', inplace=True)\n"
     ]
    }
   ],
   "source": [
    "data, prices_df = prices_data_func(\n",
    "                            network=network, \n",
    "                            name=model,\n",
    "                            api_key=flipside_api_key,\n",
    "                            use_cached_data=False,\n",
    "                            function=None,\n",
    "                            start_date=start_date,\n",
    "                            filtered_assets=filtered_assets\n",
    "                            )\n",
    "        \n",
    "prices_df = prepare_data_for_simulation(prices_df, start_date, end_date)"
   ]
  },
  {
   "cell_type": "code",
   "execution_count": 24,
   "metadata": {},
   "outputs": [],
   "source": [
    "# prices_df.columns"
   ]
  },
  {
   "cell_type": "code",
   "execution_count": 25,
   "metadata": {},
   "outputs": [],
   "source": [
    "# import pandas as pd\n",
    "# print(pd.__version__)\n"
   ]
  },
  {
   "cell_type": "code",
   "execution_count": 26,
   "metadata": {},
   "outputs": [
    {
     "data": {
      "text/html": [
       "<div>\n",
       "<style scoped>\n",
       "    .dataframe tbody tr th:only-of-type {\n",
       "        vertical-align: middle;\n",
       "    }\n",
       "\n",
       "    .dataframe tbody tr th {\n",
       "        vertical-align: top;\n",
       "    }\n",
       "\n",
       "    .dataframe thead th {\n",
       "        text-align: right;\n",
       "    }\n",
       "</style>\n",
       "<table border=\"1\" class=\"dataframe\">\n",
       "  <thead>\n",
       "    <tr style=\"text-align: right;\">\n",
       "      <th></th>\n",
       "      <th>LAVA</th>\n",
       "      <th>MAGIC</th>\n",
       "      <th>STG</th>\n",
       "      <th>USDC</th>\n",
       "      <th>DAI</th>\n",
       "      <th>ARB</th>\n",
       "      <th>USDT</th>\n",
       "      <th>CRV</th>\n",
       "      <th>ZRO</th>\n",
       "    </tr>\n",
       "  </thead>\n",
       "  <tbody>\n",
       "    <tr>\n",
       "      <th>2025-01-11 12:00:00</th>\n",
       "      <td>0.143798</td>\n",
       "      <td>0.476683</td>\n",
       "      <td>0.407951</td>\n",
       "      <td>1.000000</td>\n",
       "      <td>1.000000</td>\n",
       "      <td>0.736588</td>\n",
       "      <td>1.000000</td>\n",
       "      <td>0.819947</td>\n",
       "      <td>4.66</td>\n",
       "    </tr>\n",
       "    <tr>\n",
       "      <th>2025-01-11 13:00:00</th>\n",
       "      <td>0.146932</td>\n",
       "      <td>0.480520</td>\n",
       "      <td>0.409601</td>\n",
       "      <td>1.000000</td>\n",
       "      <td>0.998560</td>\n",
       "      <td>0.740618</td>\n",
       "      <td>0.999616</td>\n",
       "      <td>0.825797</td>\n",
       "      <td>4.69</td>\n",
       "    </tr>\n",
       "    <tr>\n",
       "      <th>2025-01-11 14:00:00</th>\n",
       "      <td>0.146359</td>\n",
       "      <td>0.474871</td>\n",
       "      <td>0.409888</td>\n",
       "      <td>0.999998</td>\n",
       "      <td>0.999276</td>\n",
       "      <td>0.737405</td>\n",
       "      <td>0.999796</td>\n",
       "      <td>0.819361</td>\n",
       "      <td>4.68</td>\n",
       "    </tr>\n",
       "    <tr>\n",
       "      <th>2025-01-11 15:00:00</th>\n",
       "      <td>0.146579</td>\n",
       "      <td>0.471421</td>\n",
       "      <td>0.410636</td>\n",
       "      <td>0.999332</td>\n",
       "      <td>1.000000</td>\n",
       "      <td>0.732249</td>\n",
       "      <td>0.999450</td>\n",
       "      <td>0.811187</td>\n",
       "      <td>4.64</td>\n",
       "    </tr>\n",
       "    <tr>\n",
       "      <th>2025-01-11 16:00:00</th>\n",
       "      <td>0.153532</td>\n",
       "      <td>0.472452</td>\n",
       "      <td>0.413655</td>\n",
       "      <td>0.999745</td>\n",
       "      <td>1.000000</td>\n",
       "      <td>0.732417</td>\n",
       "      <td>0.999651</td>\n",
       "      <td>0.814135</td>\n",
       "      <td>4.63</td>\n",
       "    </tr>\n",
       "    <tr>\n",
       "      <th>2025-01-11 17:00:00</th>\n",
       "      <td>0.153532</td>\n",
       "      <td>0.472452</td>\n",
       "      <td>0.413655</td>\n",
       "      <td>0.999745</td>\n",
       "      <td>1.000000</td>\n",
       "      <td>0.732417</td>\n",
       "      <td>0.999651</td>\n",
       "      <td>0.814135</td>\n",
       "      <td>4.63</td>\n",
       "    </tr>\n",
       "  </tbody>\n",
       "</table>\n",
       "</div>"
      ],
      "text/plain": [
       "                         LAVA     MAGIC       STG      USDC       DAI  \\\n",
       "2025-01-11 12:00:00  0.143798  0.476683  0.407951  1.000000  1.000000   \n",
       "2025-01-11 13:00:00  0.146932  0.480520  0.409601  1.000000  0.998560   \n",
       "2025-01-11 14:00:00  0.146359  0.474871  0.409888  0.999998  0.999276   \n",
       "2025-01-11 15:00:00  0.146579  0.471421  0.410636  0.999332  1.000000   \n",
       "2025-01-11 16:00:00  0.153532  0.472452  0.413655  0.999745  1.000000   \n",
       "2025-01-11 17:00:00  0.153532  0.472452  0.413655  0.999745  1.000000   \n",
       "\n",
       "                          ARB      USDT       CRV   ZRO  \n",
       "2025-01-11 12:00:00  0.736588  1.000000  0.819947  4.66  \n",
       "2025-01-11 13:00:00  0.740618  0.999616  0.825797  4.69  \n",
       "2025-01-11 14:00:00  0.737405  0.999796  0.819361  4.68  \n",
       "2025-01-11 15:00:00  0.732249  0.999450  0.811187  4.64  \n",
       "2025-01-11 16:00:00  0.732417  0.999651  0.814135  4.63  \n",
       "2025-01-11 17:00:00  0.732417  0.999651  0.814135  4.63  "
      ]
     },
     "execution_count": 26,
     "metadata": {},
     "output_type": "execute_result"
    }
   ],
   "source": [
    "prices_df.columns = [col.replace('_Price', '') for col in prices_df.columns]\n",
    "prices_df"
   ]
  },
  {
   "cell_type": "code",
   "execution_count": 27,
   "metadata": {},
   "outputs": [
    {
     "data": {
      "text/plain": [
       "<web3.main.Web3 at 0x1ffc528dd90>"
      ]
     },
     "execution_count": 27,
     "metadata": {},
     "output_type": "execute_result"
    }
   ],
   "source": [
    "w3"
   ]
  },
  {
   "cell_type": "code",
   "execution_count": 28,
   "metadata": {},
   "outputs": [],
   "source": [
    "def rebalance_portfolio(\n",
    "    uniswap, \n",
    "    token_contracts, \n",
    "    token_decimals, \n",
    "    target_compositions, \n",
    "    account_address, \n",
    "):\n",
    "    \"\"\"\n",
    "    Rebalances the portfolio by selling all tokens into WETH and then buying target allocations using WETH.\n",
    "\n",
    "    Parameters:\n",
    "    - uniswap: Initialized Uniswap class instance.\n",
    "    - token_contracts: Dict of token addresses.\n",
    "    - token_decimals: Dict of token decimals.\n",
    "    - target_compositions: Dict of target compositions as fractions summing to 1.\n",
    "    - account_address: ETH wallet address.\n",
    "    - web3: Initialized Web3 instance.\n",
    "    \"\"\"\n",
    "\n",
    "    # WETH address and checksum\n",
    "    WETH_ADDRESS = '0x82aF49447D8a07e3bd95BD0d56f35241523fBab1'\n",
    "    checksum_weth_address = Web3.to_checksum_address(WETH_ADDRESS)\n",
    "\n",
    "    # Step 1: Convert Token Addresses to Checksum Format\n",
    "    checksum_addresses = {token: Web3.to_checksum_address(address) for token, address in token_contracts.items()}\n",
    "\n",
    "    # Step 2: Sell All Current Token Holdings into WETH\n",
    "    for token, address in checksum_addresses.items():\n",
    "        try:\n",
    "            balance_wei = uniswap.get_token_balance(address)\n",
    "            balance = balance_wei / 10**token_decimals[token]\n",
    "            \n",
    "            # Adjust the balance to avoid precision issues (round down to 6 decimal places)\n",
    "            adjusted_balance = math.floor(balance * 10**8) / 10**8\n",
    "            \n",
    "            if adjusted_balance > 0:\n",
    "                amount_to_sell = int(adjusted_balance * 10**token_decimals[token])\n",
    "                print(f\"Selling {adjusted_balance:.6f} {token} for WETH\")\n",
    "                uniswap.make_trade(\n",
    "                    checksum_addresses[token],\n",
    "                    checksum_weth_address,  # WETH as output token\n",
    "                    amount_to_sell\n",
    "                )\n",
    "                wait_time = random.randint(15, 30)\n",
    "                print(f\"Waiting {wait_time} seconds before the next call...\")\n",
    "                time.sleep(wait_time)\n",
    "        except Exception as e:\n",
    "            print(f\"Error selling {token}: {e}\")\n",
    "\n",
    "    # Step 3: Get Current WETH Balance\n",
    "    weth_balance_wei = uniswap.get_token_balance(checksum_weth_address)\n",
    "    weth_balance = weth_balance_wei / 10**18\n",
    "    print(f\"Total WETH balance after selling: {weth_balance:.6f} WETH\")\n",
    "\n",
    "    # Step 4: Buy Target Tokens Based on Target Compositions\n",
    "    for token, target_weight in target_compositions.items():\n",
    "        if target_weight > 0:\n",
    "            weth_to_spend = weth_balance * target_weight\n",
    "            \n",
    "            # Adjust the WETH amount to avoid precision issues (round down to 6 decimal places)\n",
    "            adjusted_weth_to_spend = math.floor(weth_to_spend * 10**8) / 10**8\n",
    "\n",
    "            if adjusted_weth_to_spend <= 0:\n",
    "                continue\n",
    "\n",
    "            try:\n",
    "                print(f\"Buying {token} with {adjusted_weth_to_spend:.6f} WETH\")\n",
    "\n",
    "                uniswap.make_trade(\n",
    "                    checksum_weth_address,        # WETH as input token\n",
    "                    checksum_addresses[token],    # Target token\n",
    "                    int(adjusted_weth_to_spend * 10**18),  # Convert WETH amount to wei\n",
    "                    fee=3000                      # Assuming 0.3% fee pool for Uniswap V3\n",
    "                )\n",
    "\n",
    "                wait_time = random.randint(15, 30)\n",
    "                print(f\"Waiting {wait_time} seconds before the next call...\")\n",
    "                time.sleep(wait_time)\n",
    "\n",
    "            except Exception as e:\n",
    "                print(f\"Error buying {token}: {e}\")\n",
    "\n",
    "    # Step 5: Log the Rebalancing Info\n",
    "    final_weth_balance = uniswap.get_token_balance(checksum_weth_address) / 10**18\n",
    "    print(f\"Final WETH balance: {final_weth_balance:.6f} WETH\")\n",
    "\n",
    "    rebal_info = {\n",
    "        \"account_address\": account_address,\n",
    "        \"initial_weth_balance\": weth_balance,\n",
    "        \"final_weth_balance\": final_weth_balance,\n",
    "        \"purchases\": target_compositions,\n",
    "    }\n",
    "\n",
    "    # Save rebalancing info to CSV\n",
    "    rebal_df = pd.DataFrame([rebal_info])\n",
    "    rebal_df.to_csv('data/live_rebal_results.csv', index=False)\n",
    "    print(\"Rebalancing info saved to 'data/live_rebal_results.csv'.\")"
   ]
  },
  {
   "cell_type": "code",
   "execution_count": 29,
   "metadata": {},
   "outputs": [],
   "source": [
    "metrics_query = latest_portfolio_metrics(classifier_data['token_address'], network, days, dt.datetime.now(dt.timezone.utc).strftime('%Y-%m-%d'))"
   ]
  },
  {
   "cell_type": "code",
   "execution_count": 30,
   "metadata": {},
   "outputs": [
    {
     "name": "stdout",
     "output_type": "stream",
     "text": [
      "Query not completed. Retrying in 30 seconds...\n"
     ]
    }
   ],
   "source": [
    "latest_metrics_df = flipside_api_results(metrics_query, flipside_api_key)"
   ]
  },
  {
   "cell_type": "code",
   "execution_count": 31,
   "metadata": {},
   "outputs": [
    {
     "data": {
      "text/html": [
       "<div>\n",
       "<style scoped>\n",
       "    .dataframe tbody tr th:only-of-type {\n",
       "        vertical-align: middle;\n",
       "    }\n",
       "\n",
       "    .dataframe tbody tr th {\n",
       "        vertical-align: top;\n",
       "    }\n",
       "\n",
       "    .dataframe thead th {\n",
       "        text-align: right;\n",
       "    }\n",
       "</style>\n",
       "<table border=\"1\" class=\"dataframe\">\n",
       "  <thead>\n",
       "    <tr style=\"text-align: right;\">\n",
       "      <th></th>\n",
       "      <th>symbol</th>\n",
       "      <th>token_address</th>\n",
       "      <th>sharpe_ratio</th>\n",
       "      <th>excess_return</th>\n",
       "      <th>latest_price</th>\n",
       "      <th>latest_hour</th>\n",
       "      <th>stddev_30d</th>\n",
       "      <th>rolling_7d_avg</th>\n",
       "      <th>token_return</th>\n",
       "      <th>rolling_30d_avg</th>\n",
       "      <th>avg_vol</th>\n",
       "      <th>sum_vol</th>\n",
       "      <th>__row_index</th>\n",
       "    </tr>\n",
       "  </thead>\n",
       "  <tbody>\n",
       "    <tr>\n",
       "      <th>0</th>\n",
       "      <td>USDT</td>\n",
       "      <td>0xfd086bc7cd5c481dcc9c85ebe478a1c0b69fcbb9</td>\n",
       "      <td>None</td>\n",
       "      <td>None</td>\n",
       "      <td>0.999651</td>\n",
       "      <td>2025-01-11T16:00:00.000Z</td>\n",
       "      <td>0.001438</td>\n",
       "      <td>0.999968</td>\n",
       "      <td>0.000317</td>\n",
       "      <td>0.999954</td>\n",
       "      <td>1409.524415</td>\n",
       "      <td>5.982867e+08</td>\n",
       "      <td>0</td>\n",
       "    </tr>\n",
       "    <tr>\n",
       "      <th>1</th>\n",
       "      <td>CRV</td>\n",
       "      <td>0x11cdb42b0eb46d95f990bedd4695a6e3fa034978</td>\n",
       "      <td>None</td>\n",
       "      <td>None</td>\n",
       "      <td>0.814135</td>\n",
       "      <td>2025-01-11T16:00:00.000Z</td>\n",
       "      <td>0.113305</td>\n",
       "      <td>0.920468</td>\n",
       "      <td>-0.253087</td>\n",
       "      <td>0.933541</td>\n",
       "      <td>888.868335</td>\n",
       "      <td>6.237189e+06</td>\n",
       "      <td>1</td>\n",
       "    </tr>\n",
       "    <tr>\n",
       "      <th>2</th>\n",
       "      <td>USDC</td>\n",
       "      <td>0xaf88d065e77c8cc2239327c5edb3a432268e5831</td>\n",
       "      <td>None</td>\n",
       "      <td>None</td>\n",
       "      <td>0.999916</td>\n",
       "      <td>2025-01-11T16:00:00.000Z</td>\n",
       "      <td>0.000846</td>\n",
       "      <td>1.000024</td>\n",
       "      <td>0.000457</td>\n",
       "      <td>1.000011</td>\n",
       "      <td>2024.853506</td>\n",
       "      <td>1.232919e+09</td>\n",
       "      <td>2</td>\n",
       "    </tr>\n",
       "    <tr>\n",
       "      <th>3</th>\n",
       "      <td>DAI</td>\n",
       "      <td>0xda10009cbd5d07dd0cecc66161fc93d7c9000da1</td>\n",
       "      <td>None</td>\n",
       "      <td>None</td>\n",
       "      <td>1.000000</td>\n",
       "      <td>2025-01-11T16:00:00.000Z</td>\n",
       "      <td>0.001610</td>\n",
       "      <td>1.000079</td>\n",
       "      <td>0.000019</td>\n",
       "      <td>1.000007</td>\n",
       "      <td>831.008586</td>\n",
       "      <td>1.122277e+07</td>\n",
       "      <td>3</td>\n",
       "    </tr>\n",
       "    <tr>\n",
       "      <th>4</th>\n",
       "      <td>LAVA</td>\n",
       "      <td>0x11e969e9b3f89cb16d686a03cd8508c9fc0361af</td>\n",
       "      <td>None</td>\n",
       "      <td>None</td>\n",
       "      <td>0.153532</td>\n",
       "      <td>2025-01-11T16:00:00.000Z</td>\n",
       "      <td>0.036791</td>\n",
       "      <td>0.165948</td>\n",
       "      <td>-0.010908</td>\n",
       "      <td>0.166013</td>\n",
       "      <td>216.160874</td>\n",
       "      <td>3.744555e+06</td>\n",
       "      <td>4</td>\n",
       "    </tr>\n",
       "    <tr>\n",
       "      <th>5</th>\n",
       "      <td>USDC</td>\n",
       "      <td>0xff970a61a04b1ca14834a43f5de4533ebddb5cc8</td>\n",
       "      <td>None</td>\n",
       "      <td>None</td>\n",
       "      <td>0.999745</td>\n",
       "      <td>2025-01-11T16:00:00.000Z</td>\n",
       "      <td>0.001697</td>\n",
       "      <td>1.000037</td>\n",
       "      <td>0.000879</td>\n",
       "      <td>1.000032</td>\n",
       "      <td>799.668146</td>\n",
       "      <td>1.584902e+08</td>\n",
       "      <td>5</td>\n",
       "    </tr>\n",
       "    <tr>\n",
       "      <th>6</th>\n",
       "      <td>ZRO</td>\n",
       "      <td>0x6985884c4392d348587b19cb9eaaf157f13271cd</td>\n",
       "      <td>None</td>\n",
       "      <td>None</td>\n",
       "      <td>4.630000</td>\n",
       "      <td>2025-01-11T16:00:00.000Z</td>\n",
       "      <td>0.602420</td>\n",
       "      <td>5.225089</td>\n",
       "      <td>-0.198962</td>\n",
       "      <td>5.267892</td>\n",
       "      <td>487.216524</td>\n",
       "      <td>6.117978e+06</td>\n",
       "      <td>6</td>\n",
       "    </tr>\n",
       "    <tr>\n",
       "      <th>7</th>\n",
       "      <td>MAGIC</td>\n",
       "      <td>0x539bde0d7dbd336b79148aa742883198bbf60342</td>\n",
       "      <td>None</td>\n",
       "      <td>None</td>\n",
       "      <td>0.472452</td>\n",
       "      <td>2025-01-11T16:00:00.000Z</td>\n",
       "      <td>0.071942</td>\n",
       "      <td>0.536947</td>\n",
       "      <td>-0.120031</td>\n",
       "      <td>0.538447</td>\n",
       "      <td>288.088149</td>\n",
       "      <td>5.764932e+06</td>\n",
       "      <td>7</td>\n",
       "    </tr>\n",
       "    <tr>\n",
       "      <th>8</th>\n",
       "      <td>STG</td>\n",
       "      <td>0x6694340fc020c5e6b96567843da2df01b2ce1eb6</td>\n",
       "      <td>None</td>\n",
       "      <td>None</td>\n",
       "      <td>0.413655</td>\n",
       "      <td>2025-01-11T16:00:00.000Z</td>\n",
       "      <td>0.058103</td>\n",
       "      <td>0.452631</td>\n",
       "      <td>-0.017479</td>\n",
       "      <td>0.453425</td>\n",
       "      <td>191.097720</td>\n",
       "      <td>2.173737e+06</td>\n",
       "      <td>8</td>\n",
       "    </tr>\n",
       "    <tr>\n",
       "      <th>9</th>\n",
       "      <td>ARB</td>\n",
       "      <td>0x912ce59144191c1204e64559fe8253a0e49e6548</td>\n",
       "      <td>None</td>\n",
       "      <td>None</td>\n",
       "      <td>0.732417</td>\n",
       "      <td>2025-01-11T16:00:00.000Z</td>\n",
       "      <td>0.099533</td>\n",
       "      <td>0.831742</td>\n",
       "      <td>-0.121736</td>\n",
       "      <td>0.832248</td>\n",
       "      <td>827.088733</td>\n",
       "      <td>2.209468e+08</td>\n",
       "      <td>9</td>\n",
       "    </tr>\n",
       "  </tbody>\n",
       "</table>\n",
       "</div>"
      ],
      "text/plain": [
       "  symbol                               token_address sharpe_ratio  \\\n",
       "0   USDT  0xfd086bc7cd5c481dcc9c85ebe478a1c0b69fcbb9         None   \n",
       "1    CRV  0x11cdb42b0eb46d95f990bedd4695a6e3fa034978         None   \n",
       "2   USDC  0xaf88d065e77c8cc2239327c5edb3a432268e5831         None   \n",
       "3    DAI  0xda10009cbd5d07dd0cecc66161fc93d7c9000da1         None   \n",
       "4   LAVA  0x11e969e9b3f89cb16d686a03cd8508c9fc0361af         None   \n",
       "5   USDC  0xff970a61a04b1ca14834a43f5de4533ebddb5cc8         None   \n",
       "6    ZRO  0x6985884c4392d348587b19cb9eaaf157f13271cd         None   \n",
       "7  MAGIC  0x539bde0d7dbd336b79148aa742883198bbf60342         None   \n",
       "8    STG  0x6694340fc020c5e6b96567843da2df01b2ce1eb6         None   \n",
       "9    ARB  0x912ce59144191c1204e64559fe8253a0e49e6548         None   \n",
       "\n",
       "  excess_return  latest_price               latest_hour  stddev_30d  \\\n",
       "0          None      0.999651  2025-01-11T16:00:00.000Z    0.001438   \n",
       "1          None      0.814135  2025-01-11T16:00:00.000Z    0.113305   \n",
       "2          None      0.999916  2025-01-11T16:00:00.000Z    0.000846   \n",
       "3          None      1.000000  2025-01-11T16:00:00.000Z    0.001610   \n",
       "4          None      0.153532  2025-01-11T16:00:00.000Z    0.036791   \n",
       "5          None      0.999745  2025-01-11T16:00:00.000Z    0.001697   \n",
       "6          None      4.630000  2025-01-11T16:00:00.000Z    0.602420   \n",
       "7          None      0.472452  2025-01-11T16:00:00.000Z    0.071942   \n",
       "8          None      0.413655  2025-01-11T16:00:00.000Z    0.058103   \n",
       "9          None      0.732417  2025-01-11T16:00:00.000Z    0.099533   \n",
       "\n",
       "   rolling_7d_avg  token_return  rolling_30d_avg      avg_vol       sum_vol  \\\n",
       "0        0.999968      0.000317         0.999954  1409.524415  5.982867e+08   \n",
       "1        0.920468     -0.253087         0.933541   888.868335  6.237189e+06   \n",
       "2        1.000024      0.000457         1.000011  2024.853506  1.232919e+09   \n",
       "3        1.000079      0.000019         1.000007   831.008586  1.122277e+07   \n",
       "4        0.165948     -0.010908         0.166013   216.160874  3.744555e+06   \n",
       "5        1.000037      0.000879         1.000032   799.668146  1.584902e+08   \n",
       "6        5.225089     -0.198962         5.267892   487.216524  6.117978e+06   \n",
       "7        0.536947     -0.120031         0.538447   288.088149  5.764932e+06   \n",
       "8        0.452631     -0.017479         0.453425   191.097720  2.173737e+06   \n",
       "9        0.831742     -0.121736         0.832248   827.088733  2.209468e+08   \n",
       "\n",
       "   __row_index  \n",
       "0            0  \n",
       "1            1  \n",
       "2            2  \n",
       "3            3  \n",
       "4            4  \n",
       "5            5  \n",
       "6            6  \n",
       "7            7  \n",
       "8            8  \n",
       "9            9  "
      ]
     },
     "execution_count": 31,
     "metadata": {},
     "output_type": "execute_result"
    }
   ],
   "source": [
    "latest_metrics_df"
   ]
  },
  {
   "cell_type": "code",
   "execution_count": 32,
   "metadata": {},
   "outputs": [
    {
     "data": {
      "text/plain": [
       "{'LAVA': '0x11e969e9b3f89cb16d686a03cd8508c9fc0361af',\n",
       " 'MAGIC': '0x539bde0d7dbd336b79148aa742883198bbf60342',\n",
       " 'STG': '0x6694340fc020c5e6b96567843da2df01b2ce1eb6',\n",
       " 'USDC': '0xff970a61a04b1ca14834a43f5de4533ebddb5cc8',\n",
       " 'DAI': '0xda10009cbd5d07dd0cecc66161fc93d7c9000da1',\n",
       " 'ARB': '0x912ce59144191c1204e64559fe8253a0e49e6548',\n",
       " 'USDT': '0xfd086bc7cd5c481dcc9c85ebe478a1c0b69fcbb9',\n",
       " 'CRV': '0x11cdb42b0eb46d95f990bedd4695a6e3fa034978',\n",
       " 'ZRO': '0x6985884c4392d348587b19cb9eaaf157f13271cd'}"
      ]
     },
     "execution_count": 32,
     "metadata": {},
     "output_type": "execute_result"
    }
   ],
   "source": [
    "portfolio = classifier_data[['symbol','token_address']]\n",
    "\n",
    "TOKEN_CONTRACTS = {\n",
    "    row['symbol']: row['token_address'] for _, row in portfolio.iterrows()\n",
    "}\n",
    "\n",
    "TOKEN_DECIMALS = get_token_decimals(TOKEN_CONTRACTS,w3)\n",
    "\n",
    "\n",
    "TOKEN_CONTRACTS"
   ]
  },
  {
   "cell_type": "code",
   "execution_count": 33,
   "metadata": {},
   "outputs": [
    {
     "data": {
      "text/plain": [
       "{'LAVA': 6,\n",
       " 'MAGIC': 18,\n",
       " 'STG': 18,\n",
       " 'USDC': 6,\n",
       " 'DAI': 18,\n",
       " 'ARB': 18,\n",
       " 'USDT': 6,\n",
       " 'CRV': 18,\n",
       " 'ZRO': 18}"
      ]
     },
     "execution_count": 33,
     "metadata": {},
     "output_type": "execute_result"
    }
   ],
   "source": [
    "TOKEN_DECIMALS"
   ]
  },
  {
   "cell_type": "code",
   "execution_count": 34,
   "metadata": {},
   "outputs": [
    {
     "name": "stdout",
     "output_type": "stream",
     "text": [
      "Balances for account 0xFA475d5FB90C4b90D929a64732DA6De38a966416: {'LAVA': 10.548743, 'MAGIC': 0.0, 'STG': 0.0, 'USDC': 0.0, 'DAI': 0.0, 'ARB': 0.0, 'USDT': 0.0, 'CRV': 0.0, 'ZRO': 0.0}\n"
     ]
    },
    {
     "data": {
      "text/plain": [
       "{'LAVA': 10.548743,\n",
       " 'MAGIC': 0.0,\n",
       " 'STG': 0.0,\n",
       " 'USDC': 0.0,\n",
       " 'DAI': 0.0,\n",
       " 'ARB': 0.0,\n",
       " 'USDT': 0.0,\n",
       " 'CRV': 0.0,\n",
       " 'ZRO': 0.0}"
      ]
     },
     "execution_count": 34,
     "metadata": {},
     "output_type": "execute_result"
    }
   ],
   "source": [
    "model_balances = get_balance(TOKEN_CONTRACTS,TOKEN_DECIMALS,ACCOUNT_ADDRESS,w3)\n",
    "\n",
    "model_balances  "
   ]
  },
  {
   "cell_type": "code",
   "execution_count": 35,
   "metadata": {},
   "outputs": [
    {
     "data": {
      "text/html": [
       "<div>\n",
       "<style scoped>\n",
       "    .dataframe tbody tr th:only-of-type {\n",
       "        vertical-align: middle;\n",
       "    }\n",
       "\n",
       "    .dataframe tbody tr th {\n",
       "        vertical-align: top;\n",
       "    }\n",
       "\n",
       "    .dataframe thead th {\n",
       "        text-align: right;\n",
       "    }\n",
       "</style>\n",
       "<table border=\"1\" class=\"dataframe\">\n",
       "  <thead>\n",
       "    <tr style=\"text-align: right;\">\n",
       "      <th></th>\n",
       "      <th>LAVA</th>\n",
       "      <th>MAGIC</th>\n",
       "      <th>STG</th>\n",
       "      <th>USDC</th>\n",
       "      <th>DAI</th>\n",
       "      <th>ARB</th>\n",
       "      <th>USDT</th>\n",
       "      <th>CRV</th>\n",
       "      <th>ZRO</th>\n",
       "    </tr>\n",
       "  </thead>\n",
       "  <tbody>\n",
       "    <tr>\n",
       "      <th>2025-01-11 12:00:00</th>\n",
       "      <td>0.143798</td>\n",
       "      <td>0.476683</td>\n",
       "      <td>0.407951</td>\n",
       "      <td>1.000000</td>\n",
       "      <td>1.000000</td>\n",
       "      <td>0.736588</td>\n",
       "      <td>1.000000</td>\n",
       "      <td>0.819947</td>\n",
       "      <td>4.66</td>\n",
       "    </tr>\n",
       "    <tr>\n",
       "      <th>2025-01-11 13:00:00</th>\n",
       "      <td>0.146932</td>\n",
       "      <td>0.480520</td>\n",
       "      <td>0.409601</td>\n",
       "      <td>1.000000</td>\n",
       "      <td>0.998560</td>\n",
       "      <td>0.740618</td>\n",
       "      <td>0.999616</td>\n",
       "      <td>0.825797</td>\n",
       "      <td>4.69</td>\n",
       "    </tr>\n",
       "    <tr>\n",
       "      <th>2025-01-11 14:00:00</th>\n",
       "      <td>0.146359</td>\n",
       "      <td>0.474871</td>\n",
       "      <td>0.409888</td>\n",
       "      <td>0.999998</td>\n",
       "      <td>0.999276</td>\n",
       "      <td>0.737405</td>\n",
       "      <td>0.999796</td>\n",
       "      <td>0.819361</td>\n",
       "      <td>4.68</td>\n",
       "    </tr>\n",
       "    <tr>\n",
       "      <th>2025-01-11 15:00:00</th>\n",
       "      <td>0.146579</td>\n",
       "      <td>0.471421</td>\n",
       "      <td>0.410636</td>\n",
       "      <td>0.999332</td>\n",
       "      <td>1.000000</td>\n",
       "      <td>0.732249</td>\n",
       "      <td>0.999450</td>\n",
       "      <td>0.811187</td>\n",
       "      <td>4.64</td>\n",
       "    </tr>\n",
       "    <tr>\n",
       "      <th>2025-01-11 16:00:00</th>\n",
       "      <td>0.153532</td>\n",
       "      <td>0.472452</td>\n",
       "      <td>0.413655</td>\n",
       "      <td>0.999745</td>\n",
       "      <td>1.000000</td>\n",
       "      <td>0.732417</td>\n",
       "      <td>0.999651</td>\n",
       "      <td>0.814135</td>\n",
       "      <td>4.63</td>\n",
       "    </tr>\n",
       "    <tr>\n",
       "      <th>2025-01-11 17:00:00</th>\n",
       "      <td>0.153532</td>\n",
       "      <td>0.472452</td>\n",
       "      <td>0.413655</td>\n",
       "      <td>0.999745</td>\n",
       "      <td>1.000000</td>\n",
       "      <td>0.732417</td>\n",
       "      <td>0.999651</td>\n",
       "      <td>0.814135</td>\n",
       "      <td>4.63</td>\n",
       "    </tr>\n",
       "  </tbody>\n",
       "</table>\n",
       "</div>"
      ],
      "text/plain": [
       "                         LAVA     MAGIC       STG      USDC       DAI  \\\n",
       "2025-01-11 12:00:00  0.143798  0.476683  0.407951  1.000000  1.000000   \n",
       "2025-01-11 13:00:00  0.146932  0.480520  0.409601  1.000000  0.998560   \n",
       "2025-01-11 14:00:00  0.146359  0.474871  0.409888  0.999998  0.999276   \n",
       "2025-01-11 15:00:00  0.146579  0.471421  0.410636  0.999332  1.000000   \n",
       "2025-01-11 16:00:00  0.153532  0.472452  0.413655  0.999745  1.000000   \n",
       "2025-01-11 17:00:00  0.153532  0.472452  0.413655  0.999745  1.000000   \n",
       "\n",
       "                          ARB      USDT       CRV   ZRO  \n",
       "2025-01-11 12:00:00  0.736588  1.000000  0.819947  4.66  \n",
       "2025-01-11 13:00:00  0.740618  0.999616  0.825797  4.69  \n",
       "2025-01-11 14:00:00  0.737405  0.999796  0.819361  4.68  \n",
       "2025-01-11 15:00:00  0.732249  0.999450  0.811187  4.64  \n",
       "2025-01-11 16:00:00  0.732417  0.999651  0.814135  4.63  \n",
       "2025-01-11 17:00:00  0.732417  0.999651  0.814135  4.63  "
      ]
     },
     "execution_count": 35,
     "metadata": {},
     "output_type": "execute_result"
    }
   ],
   "source": [
    "prices_df"
   ]
  },
  {
   "cell_type": "code",
   "execution_count": 36,
   "metadata": {},
   "outputs": [
    {
     "data": {
      "text/plain": [
       "{'LAVA': '0x11e969e9b3f89cb16d686a03cd8508c9fc0361af',\n",
       " 'MAGIC': '0x539bde0d7dbd336b79148aa742883198bbf60342',\n",
       " 'STG': '0x6694340fc020c5e6b96567843da2df01b2ce1eb6',\n",
       " 'USDC': '0xff970a61a04b1ca14834a43f5de4533ebddb5cc8',\n",
       " 'DAI': '0xda10009cbd5d07dd0cecc66161fc93d7c9000da1',\n",
       " 'ARB': '0x912ce59144191c1204e64559fe8253a0e49e6548',\n",
       " 'USDT': '0xfd086bc7cd5c481dcc9c85ebe478a1c0b69fcbb9',\n",
       " 'CRV': '0x11cdb42b0eb46d95f990bedd4695a6e3fa034978',\n",
       " 'ZRO': '0x6985884c4392d348587b19cb9eaaf157f13271cd'}"
      ]
     },
     "execution_count": 36,
     "metadata": {},
     "output_type": "execute_result"
    }
   ],
   "source": [
    "TOKEN_CONTRACTS"
   ]
  },
  {
   "cell_type": "code",
   "execution_count": 37,
   "metadata": {},
   "outputs": [
    {
     "data": {
      "text/plain": [
       "{'LAVA': 0.1535317779,\n",
       " 'MAGIC': 0.472452,\n",
       " 'STG': 0.413655,\n",
       " 'USDC': 0.999745,\n",
       " 'DAI': 1.0,\n",
       " 'ARB': 0.7324165994,\n",
       " 'USDT': 0.999651,\n",
       " 'CRV': 0.814135,\n",
       " 'ZRO': 4.63}"
      ]
     },
     "execution_count": 37,
     "metadata": {},
     "output_type": "execute_result"
    }
   ],
   "source": [
    "latest_prices = {\n",
    "    token: float(prices_df[f\"{token}\"].iloc[-1])\n",
    "    for token in TOKEN_CONTRACTS.keys()\n",
    "    if f\"{token}\" in prices_df.columns\n",
    "}\n",
    "\n",
    "latest_prices"
   ]
  },
  {
   "cell_type": "code",
   "execution_count": 38,
   "metadata": {},
   "outputs": [
    {
     "name": "stdout",
     "output_type": "stream",
     "text": [
      "balances: dict_keys(['LAVA', 'MAGIC', 'STG', 'USDC', 'DAI', 'ARB', 'USDT', 'CRV', 'ZRO'])\n",
      "TOKEN_CONTRACTS.keys(): dict_keys(['LAVA', 'MAGIC', 'STG', 'USDC', 'DAI', 'ARB', 'USDT', 'CRV', 'ZRO'])\n"
     ]
    },
    {
     "data": {
      "text/plain": [
       "{'LAVA': 1.6195672674001798,\n",
       " 'MAGIC': 0.0,\n",
       " 'STG': 0.0,\n",
       " 'USDC': 0.0,\n",
       " 'DAI': 0.0,\n",
       " 'ARB': 0.0,\n",
       " 'USDT': 0.0,\n",
       " 'CRV': 0.0,\n",
       " 'ZRO': 0.0}"
      ]
     },
     "execution_count": 38,
     "metadata": {},
     "output_type": "execute_result"
    }
   ],
   "source": [
    "model_balances_usd = convert_to_usd(model_balances,latest_prices,TOKEN_CONTRACTS)\n",
    "model_balances_usd"
   ]
  },
  {
   "cell_type": "code",
   "execution_count": 39,
   "metadata": {},
   "outputs": [
    {
     "data": {
      "text/plain": [
       "1.6195672674001798"
      ]
     },
     "execution_count": 39,
     "metadata": {},
     "output_type": "execute_result"
    }
   ],
   "source": [
    "available_balance = sum(model_balances_usd.values())\n",
    "available_balance"
   ]
  },
  {
   "cell_type": "code",
   "execution_count": 40,
   "metadata": {},
   "outputs": [
    {
     "data": {
      "text/plain": [
       "1.6195672674001798"
      ]
     },
     "execution_count": 40,
     "metadata": {},
     "output_type": "execute_result"
    }
   ],
   "source": [
    "available_balance"
   ]
  },
  {
   "cell_type": "code",
   "execution_count": 41,
   "metadata": {},
   "outputs": [],
   "source": [
    "comp_dict = {\n",
    "    f\"{token}\": balance_usd / available_balance\n",
    "    for token, balance_usd in model_balances_usd.items()\n",
    "}\n",
    "\n",
    "# comp_dict[\"date\"] = formatted_today_utc"
   ]
  },
  {
   "cell_type": "code",
   "execution_count": 42,
   "metadata": {},
   "outputs": [
    {
     "data": {
      "text/plain": [
       "{'LAVA': 1.0,\n",
       " 'MAGIC': 0.0,\n",
       " 'STG': 0.0,\n",
       " 'USDC': 0.0,\n",
       " 'DAI': 0.0,\n",
       " 'ARB': 0.0,\n",
       " 'USDT': 0.0,\n",
       " 'CRV': 0.0,\n",
       " 'ZRO': 0.0}"
      ]
     },
     "execution_count": 42,
     "metadata": {},
     "output_type": "execute_result"
    }
   ],
   "source": [
    "comp_dict"
   ]
  },
  {
   "cell_type": "code",
   "execution_count": 43,
   "metadata": {},
   "outputs": [],
   "source": [
    "# update_historical_data(comp_dict)\n",
    "\n",
    "portfolio_dict = {\n",
    "    \"Portfolio Value\": available_balance,\n",
    "    \"date\": formatted_today_utc\n",
    "}\n",
    "\n",
    "# update_portfolio_data(portfolio_dict)"
   ]
  },
  {
   "cell_type": "code",
   "execution_count": 44,
   "metadata": {},
   "outputs": [],
   "source": [
    "identity_map = {\n",
    "    \"risk_level\": \"Moderate risk, willing to risk some money for the right investments but not chasing every new opportunity.\",\n",
    "    \"token_preferences\": \"Only tokens appearing in the classifier portfolio.\",\n",
    "    \"mission_statement\": \"Accumulate as much WETH as possible given the available funds.\",\n",
    "}"
   ]
  },
  {
   "cell_type": "code",
   "execution_count": 45,
   "metadata": {},
   "outputs": [
    {
     "data": {
      "text/html": [
       "<div>\n",
       "<style scoped>\n",
       "    .dataframe tbody tr th:only-of-type {\n",
       "        vertical-align: middle;\n",
       "    }\n",
       "\n",
       "    .dataframe tbody tr th {\n",
       "        vertical-align: top;\n",
       "    }\n",
       "\n",
       "    .dataframe thead th {\n",
       "        text-align: right;\n",
       "    }\n",
       "</style>\n",
       "<table border=\"1\" class=\"dataframe\">\n",
       "  <thead>\n",
       "    <tr style=\"text-align: right;\">\n",
       "      <th></th>\n",
       "      <th>LAVA</th>\n",
       "      <th>MAGIC</th>\n",
       "      <th>STG</th>\n",
       "      <th>USDC</th>\n",
       "      <th>DAI</th>\n",
       "      <th>ARB</th>\n",
       "      <th>USDT</th>\n",
       "      <th>CRV</th>\n",
       "      <th>ZRO</th>\n",
       "    </tr>\n",
       "  </thead>\n",
       "  <tbody>\n",
       "    <tr>\n",
       "      <th>2025-01-11 12:00:00</th>\n",
       "      <td>0.143798</td>\n",
       "      <td>0.476683</td>\n",
       "      <td>0.407951</td>\n",
       "      <td>1.000000</td>\n",
       "      <td>1.000000</td>\n",
       "      <td>0.736588</td>\n",
       "      <td>1.000000</td>\n",
       "      <td>0.819947</td>\n",
       "      <td>4.66</td>\n",
       "    </tr>\n",
       "    <tr>\n",
       "      <th>2025-01-11 13:00:00</th>\n",
       "      <td>0.146932</td>\n",
       "      <td>0.480520</td>\n",
       "      <td>0.409601</td>\n",
       "      <td>1.000000</td>\n",
       "      <td>0.998560</td>\n",
       "      <td>0.740618</td>\n",
       "      <td>0.999616</td>\n",
       "      <td>0.825797</td>\n",
       "      <td>4.69</td>\n",
       "    </tr>\n",
       "    <tr>\n",
       "      <th>2025-01-11 14:00:00</th>\n",
       "      <td>0.146359</td>\n",
       "      <td>0.474871</td>\n",
       "      <td>0.409888</td>\n",
       "      <td>0.999998</td>\n",
       "      <td>0.999276</td>\n",
       "      <td>0.737405</td>\n",
       "      <td>0.999796</td>\n",
       "      <td>0.819361</td>\n",
       "      <td>4.68</td>\n",
       "    </tr>\n",
       "    <tr>\n",
       "      <th>2025-01-11 15:00:00</th>\n",
       "      <td>0.146579</td>\n",
       "      <td>0.471421</td>\n",
       "      <td>0.410636</td>\n",
       "      <td>0.999332</td>\n",
       "      <td>1.000000</td>\n",
       "      <td>0.732249</td>\n",
       "      <td>0.999450</td>\n",
       "      <td>0.811187</td>\n",
       "      <td>4.64</td>\n",
       "    </tr>\n",
       "    <tr>\n",
       "      <th>2025-01-11 16:00:00</th>\n",
       "      <td>0.153532</td>\n",
       "      <td>0.472452</td>\n",
       "      <td>0.413655</td>\n",
       "      <td>0.999745</td>\n",
       "      <td>1.000000</td>\n",
       "      <td>0.732417</td>\n",
       "      <td>0.999651</td>\n",
       "      <td>0.814135</td>\n",
       "      <td>4.63</td>\n",
       "    </tr>\n",
       "    <tr>\n",
       "      <th>2025-01-11 17:00:00</th>\n",
       "      <td>0.153532</td>\n",
       "      <td>0.472452</td>\n",
       "      <td>0.413655</td>\n",
       "      <td>0.999745</td>\n",
       "      <td>1.000000</td>\n",
       "      <td>0.732417</td>\n",
       "      <td>0.999651</td>\n",
       "      <td>0.814135</td>\n",
       "      <td>4.63</td>\n",
       "    </tr>\n",
       "  </tbody>\n",
       "</table>\n",
       "</div>"
      ],
      "text/plain": [
       "                         LAVA     MAGIC       STG      USDC       DAI  \\\n",
       "2025-01-11 12:00:00  0.143798  0.476683  0.407951  1.000000  1.000000   \n",
       "2025-01-11 13:00:00  0.146932  0.480520  0.409601  1.000000  0.998560   \n",
       "2025-01-11 14:00:00  0.146359  0.474871  0.409888  0.999998  0.999276   \n",
       "2025-01-11 15:00:00  0.146579  0.471421  0.410636  0.999332  1.000000   \n",
       "2025-01-11 16:00:00  0.153532  0.472452  0.413655  0.999745  1.000000   \n",
       "2025-01-11 17:00:00  0.153532  0.472452  0.413655  0.999745  1.000000   \n",
       "\n",
       "                          ARB      USDT       CRV   ZRO  \n",
       "2025-01-11 12:00:00  0.736588  1.000000  0.819947  4.66  \n",
       "2025-01-11 13:00:00  0.740618  0.999616  0.825797  4.69  \n",
       "2025-01-11 14:00:00  0.737405  0.999796  0.819361  4.68  \n",
       "2025-01-11 15:00:00  0.732249  0.999450  0.811187  4.64  \n",
       "2025-01-11 16:00:00  0.732417  0.999651  0.814135  4.63  \n",
       "2025-01-11 17:00:00  0.732417  0.999651  0.814135  4.63  "
      ]
     },
     "execution_count": 45,
     "metadata": {},
     "output_type": "execute_result"
    }
   ],
   "source": [
    "prices_df"
   ]
  },
  {
   "cell_type": "code",
   "execution_count": 46,
   "metadata": {},
   "outputs": [
    {
     "data": {
      "text/plain": [
       "0    2025-01-06 16:00:00+00:00\n",
       "1    2025-01-06 16:00:00+00:00\n",
       "2    2025-01-06 16:00:00+00:00\n",
       "3    2025-01-06 16:00:00+00:00\n",
       "4    2025-01-06 16:00:00+00:00\n",
       "5    2025-01-06 16:00:00+00:00\n",
       "6    2025-01-06 16:00:00+00:00\n",
       "7    2025-01-06 16:00:00+00:00\n",
       "8    2025-01-06 16:00:00+00:00\n",
       "9    2025-01-06 16:00:00+00:00\n",
       "Name: latest_hour, dtype: object"
      ]
     },
     "execution_count": 46,
     "metadata": {},
     "output_type": "execute_result"
    }
   ],
   "source": [
    "classifier_data['latest_hour']"
   ]
  },
  {
   "cell_type": "code",
   "execution_count": 47,
   "metadata": {},
   "outputs": [
    {
     "data": {
      "text/plain": [
       "7"
      ]
     },
     "execution_count": 47,
     "metadata": {},
     "output_type": "execute_result"
    }
   ],
   "source": [
    "params['days']"
   ]
  },
  {
   "cell_type": "code",
   "execution_count": 48,
   "metadata": {},
   "outputs": [],
   "source": [
    "data_summary_list = []\n",
    "for symbol in latest_metrics_df['symbol'].unique():\n",
    "    row = latest_metrics_df[latest_metrics_df['symbol'] == symbol].iloc[0]\n",
    "    text = (\n",
    "        f\"{symbol} stats as of {pd.to_datetime(row['latest_hour']).strftime('%Y-%m-%d %H:%M')}: \"\n",
    "        f\"Sharpe Ratio: {row['sharpe_ratio']}, \"\n",
    "        f\"Excess Return: {row['excess_return']}, \"\n",
    "        f\"Latest Price: ${row['latest_price']}, \"\n",
    "        f\"60D Return: {row['token_return']*100}%\"\n",
    "    )\n",
    "    data_summary_list.append(text)\n",
    "\n",
    "# Join the list into a single string with newlines\n",
    "formatted_data_summary = \"\\n\".join(data_summary_list)"
   ]
  },
  {
   "cell_type": "code",
   "execution_count": 49,
   "metadata": {},
   "outputs": [
    {
     "data": {
      "text/plain": [
       "'USDT stats as of 2025-01-11 16:00: Sharpe Ratio: None, Excess Return: None, Latest Price: $0.999651, 60D Return: 0.031721126270000004%\\nCRV stats as of 2025-01-11 16:00: Sharpe Ratio: None, Excess Return: None, Latest Price: $0.814135, 60D Return: -25.3087156%\\nUSDC stats as of 2025-01-11 16:00: Sharpe Ratio: None, Excess Return: None, Latest Price: $0.999916, 60D Return: 0.04572473708%\\nDAI stats as of 2025-01-11 16:00: Sharpe Ratio: None, Excess Return: None, Latest Price: $1.0, 60D Return: 0.001900036101%\\nLAVA stats as of 2025-01-11 16:00: Sharpe Ratio: None, Excess Return: None, Latest Price: $0.1535317779, 60D Return: -1.090817941%\\nZRO stats as of 2025-01-11 16:00: Sharpe Ratio: None, Excess Return: None, Latest Price: $4.63, 60D Return: -19.89619377%\\nMAGIC stats as of 2025-01-11 16:00: Sharpe Ratio: None, Excess Return: None, Latest Price: $0.472452, 60D Return: -12.0030695%\\nSTG stats as of 2025-01-11 16:00: Sharpe Ratio: None, Excess Return: None, Latest Price: $0.413655, 60D Return: -1.747922872%\\nARB stats as of 2025-01-11 16:00: Sharpe Ratio: None, Excess Return: None, Latest Price: $0.7324165994, 60D Return: -12.173629499999999%'"
      ]
     },
     "execution_count": 49,
     "metadata": {},
     "output_type": "execute_result"
    }
   ],
   "source": [
    "formatted_data_summary"
   ]
  },
  {
   "cell_type": "code",
   "execution_count": 50,
   "metadata": {},
   "outputs": [
    {
     "data": {
      "text/plain": [
       "'USDT stats as of 2025-01-11 16:00: Sharpe Ratio: None, Excess Return: None, Latest Price: $0.999651, 60D Return: 0.031721126270000004%\\nCRV stats as of 2025-01-11 16:00: Sharpe Ratio: None, Excess Return: None, Latest Price: $0.814135, 60D Return: -25.3087156%\\nUSDC stats as of 2025-01-11 16:00: Sharpe Ratio: None, Excess Return: None, Latest Price: $0.999916, 60D Return: 0.04572473708%\\nDAI stats as of 2025-01-11 16:00: Sharpe Ratio: None, Excess Return: None, Latest Price: $1.0, 60D Return: 0.001900036101%\\nLAVA stats as of 2025-01-11 16:00: Sharpe Ratio: None, Excess Return: None, Latest Price: $0.1535317779, 60D Return: -1.090817941%\\nZRO stats as of 2025-01-11 16:00: Sharpe Ratio: None, Excess Return: None, Latest Price: $4.63, 60D Return: -19.89619377%\\nMAGIC stats as of 2025-01-11 16:00: Sharpe Ratio: None, Excess Return: None, Latest Price: $0.472452, 60D Return: -12.0030695%\\nSTG stats as of 2025-01-11 16:00: Sharpe Ratio: None, Excess Return: None, Latest Price: $0.413655, 60D Return: -1.747922872%\\nARB stats as of 2025-01-11 16:00: Sharpe Ratio: None, Excess Return: None, Latest Price: $0.7324165994, 60D Return: -12.173629499999999%'"
      ]
     },
     "execution_count": 50,
     "metadata": {},
     "output_type": "execute_result"
    }
   ],
   "source": [
    "formatted_data_summary"
   ]
  },
  {
   "cell_type": "code",
   "execution_count": 51,
   "metadata": {},
   "outputs": [
    {
     "data": {
      "text/plain": [
       "array(['LAVA', 'MAGIC', 'STG', 'USDC', 'DAI', 'ARB', 'USDT', 'CRV', 'ZRO'],\n",
       "      dtype=object)"
      ]
     },
     "execution_count": 51,
     "metadata": {},
     "output_type": "execute_result"
    }
   ],
   "source": [
    "assets = classifier_data['symbol'].unique()\n",
    "assets"
   ]
  },
  {
   "cell_type": "code",
   "execution_count": 52,
   "metadata": {},
   "outputs": [],
   "source": [
    "recent_headlines = (\"*ROBINHOOD: CRYPTO TRADING VOLUMES OVER $30B, UP 600% YOY\\n\"\n",
    "                     \"*FED’S MUSALEM: TIME MAY BE APPROACHING TO SLOW OR PAUSE RATE CUTS\\n\")\n",
    "\n",
    "chat_summary = \"Bob is happy with the Ethereum roadmap and has been hearing more people talk about it.\\n\"\n",
    "\n",
    "chat_and_data_summary = chat_summary + recent_headlines"
   ]
  },
  {
   "cell_type": "code",
   "execution_count": 53,
   "metadata": {},
   "outputs": [],
   "source": [
    "user_message = (\n",
    "    \"# Instructions:\\n\"\n",
    "    \"Here are some details about my trading portfolio. Please help me make decisions to rebalance it based on the provided data.\\n\"\n",
    "    \"# Personality\\n\"\n",
    "    f\"{identity_map.get('chat_personality')}\\n\"\n",
    "    \"# Risk Level\\n\"\n",
    "    f\"{identity_map.get('risk_level')}\\n\"\n",
    "    \"This represents the total $USD value of the account, including positions, margin, and available funds.\\n\"\n",
    "    \"# Available Balance\\n\"\n",
    "    f\"{available_balance}\\n\"\n",
    "    \"Portions of this 'available_balance' can be used for placing new orders or modifying existing positions.\\n\"\n",
    "    \"Always leave a fraction of the total 'available_balance' as a safety buffer for unforeseen volatility.\\n\"\n",
    "    \"The 'available_balance' is shared by all positions, so it is important to keep track of the available value and adjust your position sizes accordingly.\\n\"\n",
    "    \"# Open Positions\\n\"\n",
    "    f\"{comp_dict}\\n\"\n",
    "    \"# Here is the most recent information I want to base my decisions on:\\n\"\n",
    "    f\"{formatted_data_summary}\\n\"\n",
    "    \"# Please provide a JSON dictionary matching the following Pydantic model for rebalance strategy, determining the optimal target allocations based on the market data provided:\\n\"\n",
    "    \"\"\"\n",
    "    {\n",
    "        \"positions_to_maintain\": [\n",
    "            {\n",
    "                \"asset\": \"ETH\",\n",
    "                \"size\": 1500,\n",
    "                \"reasoning\": \"ETH has a high Sharpe Ratio and strong performance, aligning with the strategy to maximize returns.\"\n",
    "            }\n",
    "        ],\n",
    "        \"positions_to_modify\": [\n",
    "            {\n",
    "                \"asset\": \"BTC\",\n",
    "                \"size\": 0,\n",
    "                \"reasoning\": \"BTC's recent metrics suggest underperformance relative to market conditions.\"\n",
    "            }\n",
    "        ],\n",
    "        \"positions_to_open\": [\n",
    "            {\n",
    "                \"asset\": \"ADA\",\n",
    "                \"size\": 500,\n",
    "                \"reasoning\": \"ADA presents a promising growth opportunity aligned with current market trends.\"\n",
    "            }\n",
    "        ]\n",
    "    }\n",
    "    \"\"\"\n",
    "    \"Provide only the JSON response without any additional text.\"\n",
    ")\n"
   ]
  },
  {
   "cell_type": "code",
   "execution_count": 54,
   "metadata": {},
   "outputs": [
    {
     "data": {
      "text/plain": [
       "'# Instructions:\\nHere are some details about my trading portfolio. Please help me make decisions to rebalance it based on the provided data.\\n# Personality\\nNone\\n# Risk Level\\nModerate risk, willing to risk some money for the right investments but not chasing every new opportunity.\\nThis represents the total $USD value of the account, including positions, margin, and available funds.\\n# Available Balance\\n1.6195672674001798\\nPortions of this \\'available_balance\\' can be used for placing new orders or modifying existing positions.\\nAlways leave a fraction of the total \\'available_balance\\' as a safety buffer for unforeseen volatility.\\nThe \\'available_balance\\' is shared by all positions, so it is important to keep track of the available value and adjust your position sizes accordingly.\\n# Open Positions\\n{\\'LAVA\\': 1.0, \\'MAGIC\\': 0.0, \\'STG\\': 0.0, \\'USDC\\': 0.0, \\'DAI\\': 0.0, \\'ARB\\': 0.0, \\'USDT\\': 0.0, \\'CRV\\': 0.0, \\'ZRO\\': 0.0}\\n# Here is the most recent information I want to base my decisions on:\\nUSDT stats as of 2025-01-11 16:00: Sharpe Ratio: None, Excess Return: None, Latest Price: $0.999651, 60D Return: 0.031721126270000004%\\nCRV stats as of 2025-01-11 16:00: Sharpe Ratio: None, Excess Return: None, Latest Price: $0.814135, 60D Return: -25.3087156%\\nUSDC stats as of 2025-01-11 16:00: Sharpe Ratio: None, Excess Return: None, Latest Price: $0.999916, 60D Return: 0.04572473708%\\nDAI stats as of 2025-01-11 16:00: Sharpe Ratio: None, Excess Return: None, Latest Price: $1.0, 60D Return: 0.001900036101%\\nLAVA stats as of 2025-01-11 16:00: Sharpe Ratio: None, Excess Return: None, Latest Price: $0.1535317779, 60D Return: -1.090817941%\\nZRO stats as of 2025-01-11 16:00: Sharpe Ratio: None, Excess Return: None, Latest Price: $4.63, 60D Return: -19.89619377%\\nMAGIC stats as of 2025-01-11 16:00: Sharpe Ratio: None, Excess Return: None, Latest Price: $0.472452, 60D Return: -12.0030695%\\nSTG stats as of 2025-01-11 16:00: Sharpe Ratio: None, Excess Return: None, Latest Price: $0.413655, 60D Return: -1.747922872%\\nARB stats as of 2025-01-11 16:00: Sharpe Ratio: None, Excess Return: None, Latest Price: $0.7324165994, 60D Return: -12.173629499999999%\\n# Please provide a JSON dictionary matching the following Pydantic model for rebalance strategy, determining the optimal target allocations based on the market data provided:\\n\\n    {\\n        \"positions_to_maintain\": [\\n            {\\n                \"asset\": \"ETH\",\\n                \"size\": 1500,\\n                \"reasoning\": \"ETH has a high Sharpe Ratio and strong performance, aligning with the strategy to maximize returns.\"\\n            }\\n        ],\\n        \"positions_to_modify\": [\\n            {\\n                \"asset\": \"BTC\",\\n                \"size\": 0,\\n                \"reasoning\": \"BTC\\'s recent metrics suggest underperformance relative to market conditions.\"\\n            }\\n        ],\\n        \"positions_to_open\": [\\n            {\\n                \"asset\": \"ADA\",\\n                \"size\": 500,\\n                \"reasoning\": \"ADA presents a promising growth opportunity aligned with current market trends.\"\\n            }\\n        ]\\n    }\\n    Provide only the JSON response without any additional text.'"
      ]
     },
     "execution_count": 54,
     "metadata": {},
     "output_type": "execute_result"
    }
   ],
   "source": [
    "user_message"
   ]
  },
  {
   "cell_type": "code",
   "execution_count": 55,
   "metadata": {},
   "outputs": [],
   "source": [
    "system_prompt = (\n",
    "    \"# Instructions:\\n\"\n",
    "    \"Act as a knowledgeable cryptocurrency assistant helping users manage and optimize their trading portfolio.\\n\"\n",
    "    \"Users understand that trading cryptocurrency is inherently risky and seek to make informed, strategic decisions to maximize their returns.\\n\"\n",
    "    \"You will be provided with the following data:\\n\"\n",
    "    \"- `available_balance`: Represents the user's total available USD value for making new trades.\\n\"\n",
    "    \"- `risk_level`: Indicates the user's risk tolerance (e.g., Low, Moderate, High).\\n\"\n",
    "    \"- `current_positions`: A dictionary mapping cryptocurrency symbols to their current USD value holdings (e.g., {'ETH': 1500, 'BTC': 1000}).\\n\"\n",
    "    \"- `market_data`: Recent performance metrics for each asset, including Sharpe Ratio, Excess Return, Latest Price, and 60-Day Return (e.g., {'ETH': {'sharpe_ratio': 1.5, 'excess_return': 0.05, 'latest_price': 3000, '60d_return': 20.0}, ...}).\\n\"\n",
    "    \n",
    "    \"Your primary objective is to provide a rebalance strategy that aims to maximize the portfolio's returns while adhering to the following guidelines:\\n\"\n",
    "    \n",
    "    \"## **Risk Management:**\\n\"\n",
    "    \"- Ensure that no individual trade exceeds the `available_balance`.\\n\"\n",
    "    \"- Maintain a safety buffer within the `available_balance` to handle market volatility and unforeseen events.\\n\"\n",
    "    \"- Respect the user's `risk_level` by adjusting trade sizes accordingly.\\n\"\n",
    "    \"- Avoid suggesting trades below 10 USD to ensure meaningful portfolio adjustments.\\n\"\n",
    "    \n",
    "    \"## **Performance Optimization:**\\n\"\n",
    "    \"- Prioritize assets with higher Sharpe Ratios and Excess Returns to maximize risk-adjusted returns.\\n\"\n",
    "    \"- Consider reallocating funds from underperforming assets to those with strong recent performance metrics.\\n\"\n",
    "    \"- Ensure diversification to spread risk while targeting high-return opportunities.\\n\"\n",
    "    \n",
    "    \"## **Trade Recommendations:**\\n\"\n",
    "    \"You may suggest the following actions:\\n\"\n",
    "    \"- **Create a New Position:** Track in the list ```positions_to_open```.\\n\"\n",
    "    \"- **Modify or Close an Existing Position:** Track in the list ```positions_to_modify```.\\n\"\n",
    "    \"- **Maintain an Existing Position:** Track in the list ```positions_to_maintain```.\\n\"\n",
    "    \n",
    "    \"## **Fields for Each Recommendation:**\\n\"\n",
    "    \"- `asset`: The cryptocurrency symbol (e.g., ETH, BTC).\\n\"\n",
    "    \"- `size`: The size of the trade denominated in USD. It must be greater than 10 USD and should not use up the entire `available_balance`, leaving enough funds for risk management and flexibility.\\n\"\n",
    "    \"  \\t- Example: 1500 # If the `available_balance` is 1500, use at most 1400 for trades, keeping 100 as a buffer.\\n\"\n",
    "    \"- `reasoning`: A concise explanation for the decision.\\n\"\n",
    "    \"  \\t- Example: ['ETH has a high Sharpe Ratio and significant 60-day return, indicating strong performance.', 'BTC's recent metrics suggest underperformance relative to target allocations.', 'ADA presents a promising growth opportunity aligned with target allocations.']\\n\"\n",
    "    \n",
    "    \"## **Example Recommendation:**\\n\"\n",
    "    \"- **Asset:** ETH\\n\"\n",
    "    \"- **Size:** 1500\\n\"\n",
    "    \"- **Reasoning:** 'ETH has a high Sharpe Ratio and significant 60-day return, indicating strong performance. Increasing position aligns with the strategy to maximize returns.'\\n\"\n",
    "    \n",
    "    \"## **Output Format:**\\n\"\n",
    "    \"Provide a JSON dictionary with the following structure:\\n\"\n",
    "    \"```json\\n\"\n",
    "    \"{\\n\"\n",
    "    \"  \\\"positions_to_open\\\": [\\n\"\n",
    "    \"    {\\n\"\n",
    "    \"      \\\"asset\\\": \\\"ADA\\\",\\n\"\n",
    "    \"      \\\"size\\\": 500,\\n\"\n",
    "    \"      \\\"reasoning\\\": \\\"ADA presents a promising growth opportunity aligned with target allocations.\\\"\\n\"\n",
    "    \"    }\\n\"\n",
    "    \"  ],\\n\"\n",
    "    \"  \\\"positions_to_modify\\\": [\\n\"\n",
    "    \"    {\\n\"\n",
    "    \"      \\\"asset\\\": \\\"BTC\\\",\\n\"\n",
    "    \"      \\\"size\\\": 0,\\n\"\n",
    "    \"      \\\"reasoning\\\": \\\"BTC's recent metrics suggest underperformance relative to target allocations.\\\"\\n\"\n",
    "    \"    }\\n\"\n",
    "    \"  ],\\n\"\n",
    "    \"  \\\"positions_to_maintain\\\": [\\n\"\n",
    "    \"    {\\n\"\n",
    "    \"      \\\"asset\\\": \\\"ETH\\\",\\n\"\n",
    "    \"      \\\"size\\\": 1500,\\n\"\n",
    "    \"      \\\"reasoning\\\": \\\"ETH has a high Sharpe Ratio and strong performance, aligning with the strategy to maximize returns.\\\"\\n\"\n",
    "    \"    }\\n\"\n",
    "    \"  ]\\n\"\n",
    "    \"}\\n\"\n",
    "    \"```\\n\"\n",
    "    \n",
    "    \"Provide only the JSON response without any additional text.\"\n",
    ")\n"
   ]
  },
  {
   "cell_type": "code",
   "execution_count": 56,
   "metadata": {},
   "outputs": [],
   "source": [
    "# append our messages to the chat\n",
    "model = \"gpt-4o-2024-08-06\"\n",
    "messages = [\n",
    "    {\"role\": \"system\", \"content\": system_prompt},\n",
    "    {\"role\": \"user\", \"content\": user_message},\n",
    "]\n"
   ]
  },
  {
   "cell_type": "code",
   "execution_count": 57,
   "metadata": {},
   "outputs": [],
   "source": [
    "import json\n"
   ]
  },
  {
   "cell_type": "code",
   "execution_count": 58,
   "metadata": {},
   "outputs": [
    {
     "data": {
      "text/plain": [
       "{'LAVA': 1.0,\n",
       " 'MAGIC': 0.0,\n",
       " 'STG': 0.0,\n",
       " 'USDC': 0.0,\n",
       " 'DAI': 0.0,\n",
       " 'ARB': 0.0,\n",
       " 'USDT': 0.0,\n",
       " 'CRV': 0.0,\n",
       " 'ZRO': 0.0}"
      ]
     },
     "execution_count": 58,
     "metadata": {},
     "output_type": "execute_result"
    }
   ],
   "source": [
    "comp_dict"
   ]
  },
  {
   "cell_type": "code",
   "execution_count": 59,
   "metadata": {},
   "outputs": [],
   "source": [
    "from pydantic import BaseModel, Field\n",
    "from typing import List\n"
   ]
  },
  {
   "cell_type": "code",
   "execution_count": 60,
   "metadata": {},
   "outputs": [],
   "source": [
    "class Position(BaseModel):\n",
    "    asset: str = Field(..., description=\"The cryptocurrency symbol, e.g., ETH, BTC\")\n",
    "    size: float = Field(..., description=\"The size of the trade in USD\")\n",
    "    reasoning: str = Field(..., description=\"The reasoning behind the trade decision\")\n",
    "\n",
    "# Define the PositionReasoning model\n",
    "class PositionReasoning(BaseModel):\n",
    "    positions_to_open: List[Position] = Field(\n",
    "        default_factory=list,\n",
    "        description=\"Positions to open.\"\n",
    "    )\n",
    "    positions_to_modify: List[Position] = Field(\n",
    "        default_factory=list,\n",
    "        description=\"Positions to modify or close.\"\n",
    "    )\n",
    "    positions_to_maintain: List[Position] = Field(\n",
    "        default_factory=list,\n",
    "        description=\"Positions to maintain without changes.\"\n",
    "    )"
   ]
  },
  {
   "cell_type": "code",
   "execution_count": 61,
   "metadata": {},
   "outputs": [
    {
     "name": "stdout",
     "output_type": "stream",
     "text": [
      "Rebalance Strategy: {}\n"
     ]
    }
   ],
   "source": [
    "completion = openai_client.beta.chat.completions.parse(\n",
    "    model=model,\n",
    "    messages=messages,\n",
    "    response_format=PositionReasoning,\n",
    ")\n",
    "\n",
    "try:\n",
    "    # Access the content of the first choice\n",
    "    response_content = completion.choices[0].message.content\n",
    "\n",
    "    # Parse the JSON string into a Python dictionary\n",
    "    result = json.loads(response_content)\n",
    "\n",
    "    # Access the rebalance dictionary\n",
    "    rebalance_dict = result.get(\"rebalance\", {})\n",
    "\n",
    "    print(\"Rebalance Strategy:\", rebalance_dict)\n",
    "except json.JSONDecodeError as e:\n",
    "    print(\"Error decoding JSON:\", e)\n",
    "    print(\"Raw response:\", completion.choices[0].message.content)"
   ]
  },
  {
   "cell_type": "code",
   "execution_count": 62,
   "metadata": {},
   "outputs": [
    {
     "data": {
      "text/plain": [
       "[ParsedChoice[PositionReasoning](finish_reason='stop', index=0, logprobs=None, message=ParsedChatCompletionMessage[PositionReasoning](content='{\"positions_to_open\":[],\"positions_to_modify\":[],\"positions_to_maintain\":[{\"asset\":\"LAVA\",\"size\":1.0,\"reasoning\":\"Maintaining the minimal position size in LAVA due to insufficient available balance and moderate risk approach.\"}]}', refusal=None, role='assistant', audio=None, function_call=None, tool_calls=[], parsed=PositionReasoning(positions_to_open=[], positions_to_modify=[], positions_to_maintain=[Position(asset='LAVA', size=1.0, reasoning='Maintaining the minimal position size in LAVA due to insufficient available balance and moderate risk approach.')])))]"
      ]
     },
     "execution_count": 62,
     "metadata": {},
     "output_type": "execute_result"
    }
   ],
   "source": [
    "completion.choices"
   ]
  },
  {
   "cell_type": "code",
   "execution_count": null,
   "metadata": {},
   "outputs": [],
   "source": []
  }
 ],
 "metadata": {
  "kernelspec": {
   "display_name": "encode_env",
   "language": "python",
   "name": "encode_env"
  },
  "language_info": {
   "codemirror_mode": {
    "name": "ipython",
    "version": 3
   },
   "file_extension": ".py",
   "mimetype": "text/x-python",
   "name": "python",
   "nbconvert_exporter": "python",
   "pygments_lexer": "ipython3",
   "version": "3.11.9"
  }
 },
 "nbformat": 4,
 "nbformat_minor": 4
}
