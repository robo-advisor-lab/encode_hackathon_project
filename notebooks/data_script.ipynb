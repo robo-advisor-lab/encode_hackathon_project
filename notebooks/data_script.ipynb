{
 "cells": [
  {
   "cell_type": "code",
   "execution_count": 1,
   "metadata": {},
   "outputs": [
    {
     "data": {
      "text/plain": [
       "True"
      ]
     },
     "execution_count": 1,
     "metadata": {},
     "output_type": "execute_result"
    }
   ],
   "source": [
    "from dotenv import load_dotenv\n",
    "import os\n",
    "from web3 import Web3\n",
    "from eth_account import Account\n",
    "import pandas as pd\n",
    "import time\n",
    "import random\n",
    "import math\n",
    "from diskcache import Cache\n",
    "import datetime as dt\n",
    "from datetime import timedelta\n",
    "from uniswap import Uniswap\n",
    "import json\n",
    "from pydantic import BaseModel, Field\n",
    "from typing import List\n",
    "import numpy as np\n",
    "from openai import OpenAI\n",
    "import requests\n",
    "import plotly.express as px\n",
    "\n",
    "load_dotenv()"
   ]
  },
  {
   "cell_type": "code",
   "execution_count": 2,
   "metadata": {},
   "outputs": [],
   "source": [
    "OPENAI_API_KEY = os.getenv('OPENAI_API_KEY')\n",
    "flipside_api_key = os.getenv(\"FLIPSIDE_API_KEY\")\n",
    "FRED_API_KEY = os.getenv('FRED_API_KEY')\n",
    "\n",
    "ACCOUNT_ADDRESS = os.getenv('ACCOUNT_ADDRESS')\n",
    "PRIVATE_KEY = os.getenv('PRIVATE_KEY')\n",
    "GATEWAY = os.getenv('ARBITRUM_GATEWAY')"
   ]
  },
  {
   "cell_type": "code",
   "execution_count": 3,
   "metadata": {},
   "outputs": [],
   "source": [
    "os.chdir('..')"
   ]
  },
  {
   "cell_type": "code",
   "execution_count": 4,
   "metadata": {},
   "outputs": [],
   "source": [
    "cache = Cache('classifier_data')"
   ]
  },
  {
   "cell_type": "code",
   "execution_count": 5,
   "metadata": {},
   "outputs": [],
   "source": [
    "historical_data = cache.get(f'historical_data', pd.DataFrame())\n",
    "historical_port_values = cache.get(f'historical_port_values', pd.DataFrame())\n",
    "oracle_prices = cache.get(f'oracle_prices',pd.DataFrame())\n",
    "last_rebalance_time = cache.get(f'last_rebalance_time', None)\n",
    "model_actions = cache.get(f'actions', pd.DataFrame()) "
   ]
  },
  {
   "cell_type": "code",
   "execution_count": 6,
   "metadata": {},
   "outputs": [
    {
     "name": "stderr",
     "output_type": "stream",
     "text": [
      "2025-01-12 15:25:11.252 WARNING streamlit.runtime.caching.cache_data_api: No runtime found, using MemoryCacheStorageManager\n"
     ]
    },
    {
     "name": "stdout",
     "output_type": "stream",
     "text": [
      "Current Directory: e:\\Projects\\encode hackathon\n"
     ]
    }
   ],
   "source": [
    "from python_scripts.web3_utils import *\n",
    "from python_scripts.apis import token_classifier_portfolio, flipside_api_results\n",
    "from python_scripts.macro_data import main as macro_main\n",
    "from sql_queries.queries import latest_portfolio_metrics\n",
    "from python_scripts.utils import fetch_and_process_tbill_data, prepare_data_for_simulation, calculate_cumulative_return"
   ]
  },
  {
   "cell_type": "code",
   "execution_count": 7,
   "metadata": {},
   "outputs": [],
   "source": [
    "def get_latest_model_data(base_url='http://127.0.0.1:5012'):\n",
    "    url = f'{base_url}/cached-data'\n",
    "    response = requests.get(url)\n",
    "    data = response.json()\n",
    "    print(data)\n",
    "    return data"
   ]
  },
  {
   "cell_type": "code",
   "execution_count": 8,
   "metadata": {},
   "outputs": [],
   "source": [
    "def data_cleaning(df,dropna=True,ffill=False):\n",
    "    clean_df = clean_prices(df)\n",
    "    clean_df = to_time(clean_df)\n",
    "    if dropna == True:\n",
    "        # clean_df = clean_df.dropna(axis=1, how='any')\n",
    "        clean_df = clean_df.dropna()\n",
    "    if ffill == True:\n",
    "        clean_df = clean_df.resample('h').ffill().bfill()\n",
    "\n",
    "    if '__row_index' in clean_df.columns:\n",
    "        clean_df.drop(columns=['__row_index'], inplace=True)\n",
    "\n",
    "    return clean_df\n",
    "\n",
    "def to_time(df):\n",
    "    time_cols = ['date','dt','hour','time','day','month','year','week','timestamp','date(utc)','block_timestamp']\n",
    "    for col in df.columns:\n",
    "        if col.lower() in time_cols and col.lower() != 'timestamp':\n",
    "            df[col] = pd.to_datetime(df[col])\n",
    "            df.set_index(col, inplace=True)\n",
    "        elif col.lower() == 'timestamp':\n",
    "            df[col] = pd.to_datetime(df[col], unit='ms')\n",
    "            df.set_index(col, inplace=True)\n",
    "    print(df.index)\n",
    "    return df \n",
    "\n",
    "def clean_prices(prices_df):\n",
    "    print('cleaning prices')\n",
    "    # Pivot the dataframe\n",
    "    prices_df = prices_df.drop_duplicates(subset=['hour', 'symbol'])\n",
    "    prices_df_pivot = prices_df.pivot(\n",
    "        index='hour',\n",
    "        columns='symbol',\n",
    "        values='price'\n",
    "    )\n",
    "    prices_df_pivot = prices_df_pivot.reset_index()\n",
    "\n",
    "    # Rename the columns by combining 'symbol' with a suffix\n",
    "    prices_df_pivot.columns = ['hour'] + [f'{col}_Price' for col in prices_df_pivot.columns[1:]]\n",
    "    \n",
    "    print(f'cleaned prices: {prices_df_pivot}')\n",
    "    return prices_df_pivot"
   ]
  },
  {
   "cell_type": "code",
   "execution_count": 9,
   "metadata": {},
   "outputs": [],
   "source": [
    "def network_def(chain):\n",
    "        if chain == 'gnosis':\n",
    "            primary_gateway = GNOSIS_GATEWAY  # Replace with your Infura URL\n",
    "            backup_gateway = 'https://lb.nodies.app/v1/406d8dcc043f4cb3959ed7d6673d311a'  # Your backup gateway\n",
    "        elif chain == 'arbitrum':\n",
    "            primary_gateway = GATEWAY  # Replace with your Infura URL\n",
    "            backup_gateway = GATEWAY\n",
    "        elif chain == 'optimism':\n",
    "            primary_gateway = OPTIMISM_GATEWAY  # Replace with your Infura URL\n",
    "            backup_gateway = OPTIMISM_GATEWAY\n",
    "        elif chain == 'ethereum':\n",
    "            primary_gateway = ETHEREUM_GATEWAY  # Replace with your Infura URL\n",
    "            backup_gateway = ETHEREUM_GATEWAY\n",
    "\n",
    "        print(f'Gateway: {primary_gateway}')\n",
    "\n",
    "        for gateway in [primary_gateway, backup_gateway]:\n",
    "            w3 = Web3(Web3.HTTPProvider(gateway))\n",
    "            if w3.is_connected():\n",
    "                try:\n",
    "                    latest_block = w3.eth.get_block('latest')['number']  # Only try this if connected\n",
    "                    print(f\"Connected to {chain} via {gateway}: {latest_block} block\")\n",
    "                    return w3, gateway\n",
    "                except Exception as e:\n",
    "                    print(f\"Connected to {gateway} but failed to fetch latest block. Error: {e}\")\n",
    "            else:\n",
    "                print(f\"Failed to connect to {chain} via {gateway}. Trying next gateway...\")\n",
    "\n",
    "        raise ConnectionError(f\"Failed to connect to {chain} network using both primary and backup gateways.\")"
   ]
  },
  {
   "cell_type": "code",
   "execution_count": 10,
   "metadata": {},
   "outputs": [],
   "source": [
    "def pull_data(function,path,model_name, api=False,start_date=None):\n",
    "    print(f'function:{function},start_date:{start_date},path:{path},api:{api},model_name: {model_name}')\n",
    "\n",
    "    if api:\n",
    "        print(f'api True')\n",
    "        # Parse dates into datetime format for consistency\n",
    "        start_date = dt.datetime.strptime(start_date, '%Y-%m-%d %H:%M:%S')\n",
    "        \n",
    "        # Use formatted date strings as needed in the dao_advisor_portfolio and lst_portfolio_prices functions\n",
    "        prices = function(start_date.strftime('%Y-%m-%d %H:%M:%S'))\n",
    "        \n",
    "        prices_df = flipside_api_results(prices, flipside_api_key)\n",
    "\n",
    "        prices_df.to_csv(path)\n",
    "    else:\n",
    "        print(f'api False')\n",
    "        prices_df = pd.read_csv(path)\n",
    "\n",
    "    dataset = {\n",
    "        f'portfolio': prices_df\n",
    "    }\n",
    "\n",
    "    return dataset"
   ]
  },
  {
   "cell_type": "code",
   "execution_count": 11,
   "metadata": {},
   "outputs": [],
   "source": [
    "def prices_data_func(network,\n",
    "                     api_key,use_cached_data,name,days=None,\n",
    "                     function=None,start_date=None,\n",
    "                     backtest_period=None,filtered_assets=None):\n",
    "    \n",
    "    if start_date is None and backtest_period is None:\n",
    "        raise KeyError(\"Provide either a start date or backtest_period\")\n",
    "    \n",
    "    print(f\"backtest days: {(pd.to_datetime(dt.datetime.now(dt.timezone.utc).strftime('%Y-%m-%d %H:00:00')) - pd.to_datetime(start_date)).days}\")\n",
    "    \n",
    "    if backtest_period is None:\n",
    "        backtest_period = (pd.to_datetime(dt.datetime.now(dt.timezone.utc).strftime('%Y-%m-%d %H:00:00')) - pd.to_datetime(start_date)).days * 24\n",
    "        if backtest_period < 1:\n",
    "            backtest_period = 1\n",
    "\n",
    "    if function is None:\n",
    "\n",
    "        data = token_classifier_portfolio(\n",
    "            network=network,\n",
    "            days=days,\n",
    "            name=name,\n",
    "            api_key = api_key,\n",
    "            use_cached_data=use_cached_data,\n",
    "            start_date = start_date,\n",
    "            prices_only=True\n",
    "        )\n",
    "\n",
    "        prices_df = data_cleaning(data['portfolio'])\n",
    "        prices_df\n",
    "    else: \n",
    "        data = pull_data(function=function,start_date=start_date, path=f'data/{name}.csv', api=not use_cached_data,model_name=name)\n",
    "        prices_df = data_cleaning(data['portfolio'])\n",
    "        prices_df = prices_df[prices_df.index >= start_date].dropna()\n",
    "        prices_df\n",
    "\n",
    "    # prices_df.columns = prices_df.columns.str.replace('_Price','')\n",
    "    filtered_assets_with_price = [f\"{asset}_Price\" for asset in filtered_assets]\n",
    "\n",
    "\n",
    "    return data, prices_df[filtered_assets_with_price]"
   ]
  },
  {
   "cell_type": "code",
   "execution_count": 12,
   "metadata": {},
   "outputs": [],
   "source": [
    "def update_historical_data(live_comp):\n",
    "    global historical_data\n",
    "    new_data = pd.DataFrame([live_comp])\n",
    "    historical_data = pd.concat([historical_data, new_data]).reset_index(drop=True)\n",
    "    historical_data.drop_duplicates(subset='date', keep='last', inplace=True)\n",
    "    cache.set(f'historical_data', historical_data)\n",
    "\n",
    "def update_portfolio_data(values):\n",
    "    global historical_port_values\n",
    "    print(f'values: {values}')\n",
    "    values = pd.DataFrame([values])\n",
    "    historical_port_values = pd.concat([historical_port_values, values]).reset_index(drop=True)\n",
    "    historical_port_values.drop_duplicates(subset='date', keep='last', inplace=True)\n",
    "    cache.set(f'historical_port_values', historical_port_values)\n",
    "\n",
    "def update_price_data(values):\n",
    "    global oracle_prices\n",
    "\n",
    "    # Ensure the 'hour' column exists by resetting index if necessary\n",
    "    if isinstance(values.index, pd.DatetimeIndex):\n",
    "        values = values.reset_index().rename(columns={'index': 'hour'})\n",
    "    \n",
    "    if 'hour' not in values.columns:\n",
    "        raise ValueError(\"The provided DataFrame must have a 'hour' column.\")\n",
    "\n",
    "    # Concatenate the new values with the existing oracle_prices\n",
    "    oracle_prices = pd.concat([oracle_prices, values]).drop_duplicates(subset='hour', keep='last').reset_index(drop=True)\n",
    "    \n",
    "    # Cache the updated oracle_prices\n",
    "    cache.set(f'oracle_prices', oracle_prices)\n",
    "\n",
    "    print(f'Updated oracle_prices:\\n{oracle_prices}')\n",
    "\n",
    "def update_model_actions(actions):\n",
    "    global model_actions\n",
    "    print(f'model actions before update: {model_actions}')\n",
    "    new_data = pd.DataFrame(actions)\n",
    "    print(f'new data: {new_data}')\n",
    "    model_actions = pd.concat([model_actions, new_data]).reset_index(drop=True)\n",
    "    model_actions.drop_duplicates(subset='Date', keep='last', inplace=True)\n",
    "    cache.set(f'actions', model_actions)"
   ]
  },
  {
   "cell_type": "code",
   "execution_count": 42,
   "metadata": {},
   "outputs": [
    {
     "name": "stdout",
     "output_type": "stream",
     "text": [
      "{'last_run (UTC)': '2025-01-12 20:00:00', 'model_response': {'rebalance': {'target_composition': [{'asset': 'USDC', 'reasoning': 'USDC is chosen due to its stability, important for maintaining a moderate-risk portfolio.', 'weight': 0.45}, {'asset': 'STG', 'reasoning': 'STG has shown positive recent performance, offering some growth potential.', 'weight': 0.2}, {'asset': 'CRV', 'reasoning': 'Despite recent declines, CRV has substantial market volume that might stabilize.', 'weight': 0.15}, {'asset': 'LAVA', 'reasoning': 'LAVA is maintained at a lower weight due to negative returns but keeps potential for recovery.', 'weight': 0.1}, {'asset': 'USDT', 'reasoning': 'Provides additional stability alongside USDC, balancing the higher volatility in other assets.', 'weight': 0.1}]}}, 'next_run (UTC)': 'Sun, 19 Jan 2025 20:37:37 GMT', 'prior_comp': {'ARB': 0.0, 'CRV': 0.2812656446191395, 'DAI': 0.0, 'LAVA': 0.15342397251269518, 'MAGIC': 0.0, 'STG': 4.75258353176345e-09, 'USDC': 0.5653103122359494, 'USDT': 0.0, 'ZRO': 6.587963239417609e-08}, 'system_prompt': '# Instructions:\\nAct as a knowledgeable cryptocurrency assistant helping users manage and optimize their trading portfolio.\\nUsers understand that trading cryptocurrency is inherently risky and seek to make informed, strategic decisions to maximize their returns.\\nYou will be provided with the following data:\\n- `available_balance`: Represents the user\\'s total available USD value for making new trades.\\n- `risk_level`: Indicates the user\\'s risk tolerance (e.g., Low, Moderate, High).\\n- `current_positions`: A dictionary mapping cryptocurrency symbols to their current USD value holdings (e.g., {\\'ETH\\': 1500, \\'BTC\\': 1000}).\\n- `market_data`: Recent performance metrics for each asset, including Sharpe Ratio, Excess Return, Latest Price, and 60-Day Return (e.g., {\\'ETH\\': {\\'sharpe_ratio\\': 1.5, \\'excess_return\\': 0.05, \\'latest_price\\': 3000, \\'60d_return\\': 20.0}, ...}).\\n\\nYour primary objective is to provide a rebalance strategy that aims to maximize the portfolio\\'s returns while adhering to the following guidelines:\\n\\n## **Risk Management:**\\n- Ensure that no individual asset exceeds the `available_balance` if you choose to buy or hold more of it.\\n- Maintain a safety buffer within the `available_balance` to handle market volatility and unforeseen events.\\n- Respect the user\\'s `risk_level` by adjusting allocations accordingly.\\n- No asset may be more than 80% of the portfolio.\\n- Avoid allocations below 0.1 USD in absolute terms, to ensure meaningful positions.\\n- There should only be one stablecoin per target composition.  For example, if it is best to include 50% in a stablecoin, choose just one stablecoin.\\n## **Performance Optimization:**\\n- Prioritize assets with higher Sharpe Ratios and Excess Returns to maximize risk-adjusted returns.\\n- Consider reallocating from underperforming assets to those with strong performance metrics.\\n- Ensure diversification to spread risk while seeking high-return opportunities.\\n\\n## **Target Composition:**\\nInstead of listing positions to open, modify, or maintain, **provide a single portfolio composition** where each asset has a `weight` (fraction of total portfolio) and a short `reasoning`.\\n- **Asset**: The cryptocurrency symbol (e.g., ETH, BTC).\\n- **Weight**: A decimal in [0, 1], where the sum of all weights must equal 1.0.\\n- **Reasoning**: A concise explanation for why the asset is allocated that weight.\\n\\n**Remember, no asset may be more than 80% (0.8 composition) of the portfolio.**\\n## **Output Format:**\\nProvide a JSON dictionary with the following structure:\\n```json\\n{\\n  \"target_composition\": [\\n    {\\n      \"asset\": \"ETH\",\\n      \"weight\": 0.50,\\n      \"reasoning\": \"ETH has a strong Sharpe Ratio and robust recent performance.\"\\n    },\\n    {\\n      \"asset\": \"BTC\",\\n      \"weight\": 0.30,\\n      \"reasoning\": \"BTC remains a large-cap with moderate performance.\"\\n    },\\n    {\\n      \"asset\": \"SOL\",\\n      \"weight\": 0.20,\\n      \"reasoning\": \"SOL presents growth potential given recent metrics.\"\\n    }\\n  ]\\n}\\n```\\n\\n### Requirements:\\n- All `weight` values **must sum to 1.0**.\\n- Provide a brief `reasoning` for each asset.\\n- **No additional fields** other than `target_composition`.\\n- Provide **only** the JSON response. **No** extra text or explanation outside the JSON.\\n', 'target_comp': {'ARB': 0.0, 'CRV': 0.15, 'DAI': 0.0, 'LAVA': 0.1, 'MAGIC': 0.0, 'STG': 0.2, 'USDC': 0.45, 'USDT': 0.1, 'ZRO': 0.0}, 'user_message': '# Instructions:\\nHere are some details about my trading portfolio. Please help me make decisions to rebalance it based on the provided data.\\n# Personality\\nNone\\n# Risk Level\\nModerate risk, willing to risk some money for the right investments but not chasing every new opportunity.\\nThis represents the total $USD value of the account, including positions, margin, and available funds.\\n# Available Balance\\n0.6390816813707957\\nPortions of this \\'available_balance\\' can be used for placing new orders or modifying existing positions.\\nAlways leave a fraction of the total \\'available_balance\\' as a safety buffer for unforeseen volatility.\\nThe \\'available_balance\\' is shared by all positions, so it is important to keep track of the available value and adjust your position sizes accordingly.\\n# Open Positions\\n{\\'LAVA\\': 0.15342397251269518, \\'MAGIC\\': 0.0, \\'STG\\': 4.75258353176345e-09, \\'USDC\\': 0.5653103122359494, \\'DAI\\': 0.0, \\'ARB\\': 0.0, \\'USDT\\': 0.0, \\'CRV\\': 0.2812656446191395, \\'ZRO\\': 6.587963239417609e-08}\\n# Here is the most recent information I want to base my decisions on:\\nLAVA stats as of 2025-01-12 20:00: Excess Return: -0.0005557308575383231, sharpe ratio: -0.025832819831247546 Latest Price: $0.147082, 7 day Return: -16.26034775% 7 day rolling average: $0.1624903846 30 day rolling average: $0.163384418 7 day average volume: $205.164114226 7 day total volume: $3563495.5 \\nCRV stats as of 2025-01-12 20:00: Excess Return: -0.0012369011796731803, sharpe ratio: -0.09626613498749875 Latest Price: $0.828287, 7 day Return: -21.63793756% 7 day rolling average: $0.885302716 30 day rolling average: $0.9012759735 7 day average volume: $855.55684571 7 day total volume: $6371331.83 \\nSTG stats as of 2025-01-12 20:00: Excess Return: -0.00030254076465313905, sharpe ratio: -0.021457166306654975 Latest Price: $0.484105, 7 day Return: 5.578757974% 7 day rolling average: $0.4458218284 30 day rolling average: $0.4512629841 7 day average volume: $183.916620432 7 day total volume: $1922664.35 \\nUSDT stats as of 2025-01-12 20:00: Excess Return: -9.09507520790601e-06, sharpe ratio: -0.004551406683225666 Latest Price: $0.99994, 7 day Return: 0.03331309205% 7 day rolling average: $0.999914284 30 day rolling average: $0.9999078889 7 day average volume: $1376.62591184 7 day total volume: $592626442.04 \\nDAI stats as of 2025-01-12 20:00: Excess Return: -1.9505371266258165e-05, sharpe ratio: -0.008787542495012672 Latest Price: $0.999112, 7 day Return: -0.18861138859999999% 7 day rolling average: $1.000030337 30 day rolling average: $1.000055354 7 day average volume: $800.266278824 7 day total volume: $11348576.1 \\nZRO stats as of 2025-01-12 20:00: Excess Return: -0.0012011470103026982, sharpe ratio: -0.12184014527764171 Latest Price: $4.64, 7 day Return: -19.44444444% 7 day rolling average: $5.052899408 30 day rolling average: $5.117883598 7 day average volume: $473.727478592 7 day total volume: $5974650.96 \\nUSDC stats as of 2025-01-12 20:00: Excess Return: -4.8319284713931375e-06, sharpe ratio: -0.0028795194696363165 Latest Price: $0.999902, 7 day Return: -0.0098% 7 day rolling average: $1.000024024 30 day rolling average: $1.000010688 7 day average volume: $2010.779805488 7 day total volume: $1221693507.98 \\nMAGIC stats as of 2025-01-12 20:00: Excess Return: -0.001238683010824367, sharpe ratio: -0.10585841127394288 Latest Price: $0.473832, 7 day Return: -24.32406533% 7 day rolling average: $0.5159945207 30 day rolling average: $0.5251221746 7 day average volume: $289.559629331 7 day total volume: $4312122.0 \\nARB stats as of 2025-01-12 20:00: Excess Return: -0.0010967747911814578, sharpe ratio: -0.12243758190109066 Latest Price: $0.739661, 7 day Return: -17.422282759999998% 7 day rolling average: $0.8061522899 30 day rolling average: $0.8154345026 7 day average volume: $793.384931426 7 day total volume: $199115816.24 \\n# Here is additional macro economic data for context\\nOvernight Interbank Rate: 4.4799999999999995%, 3-Month Rate: 4.46%, 10-Year Rate: 4.38999999999999%, cpi: 2.74938%\\n\\n# Please provide a JSON dictionary matching the following format:\\n```json\\n{\\n  \"target_composition\": [\\n    {\\n      \"asset\": \"ETH\",\\n      \"weight\": 0.50,\\n      \"reasoning\": \"ETH has a strong Sharpe Ratio and good recent performance.\"\\n    },\\n    {\\n      \"asset\": \"BTC\",\\n      \"weight\": 0.25,\\n      \"reasoning\": \"BTC remains a large-cap store of value with moderate performance.\"\\n    },\\n    {\\n      \"asset\": \"ADA\",\\n      \"weight\": 0.25,\\n      \"reasoning\": \"ADA presents an opportunity for growth given recent metrics.\"\\n    }\\n  ]\\n}\\n```\\n\\n### Requirements:\\n- The sum of all `weight` values **must equal 1**.\\n- Provide a brief `reasoning` for each asset.\\n- Provide **only** the JSON response. **No** extra text or explanation outside the JSON.\\n- Each `weight` must be a decimal between 0 and 1.\\n'}\n"
     ]
    }
   ],
   "source": [
    "model_data = get_latest_model_data()"
   ]
  },
  {
   "cell_type": "code",
   "execution_count": 14,
   "metadata": {},
   "outputs": [],
   "source": [
    "next_run = model_data['next_run (UTC)']\n",
    "user_message = model_data['user_message']\n",
    "system_prompt = model_data['system_prompt']"
   ]
  },
  {
   "cell_type": "code",
   "execution_count": 15,
   "metadata": {},
   "outputs": [
    {
     "data": {
      "text/plain": [
       "'2025-01-12 20:00:00'"
      ]
     },
     "execution_count": 15,
     "metadata": {},
     "output_type": "execute_result"
    }
   ],
   "source": [
    "last_run = model_data['last_run (UTC)']\n",
    "last_run"
   ]
  },
  {
   "cell_type": "code",
   "execution_count": 16,
   "metadata": {},
   "outputs": [
    {
     "data": {
      "text/plain": [
       "{'target_composition': [{'asset': 'USDC',\n",
       "   'reasoning': 'USDC will provide stability and acts as a safety buffer in a volatile environment, especially given the poor performance metrics of other assets.',\n",
       "   'weight': 0.5},\n",
       "  {'asset': 'LAVA',\n",
       "   'reasoning': 'LAVA, while showing negative metrics, can retain a portion due to its existing position and potential to recover.',\n",
       "   'weight': 0.25},\n",
       "  {'asset': 'CRV',\n",
       "   'reasoning': 'CRV has a larger market presence compared to other assets with similar poor metrics, offering potential upside with diversification.',\n",
       "   'weight': 0.25}]}"
      ]
     },
     "execution_count": 16,
     "metadata": {},
     "output_type": "execute_result"
    }
   ],
   "source": [
    "model_resonse = model_data['model_response'].get('rebalance')\n",
    "model_resonse"
   ]
  },
  {
   "cell_type": "code",
   "execution_count": 17,
   "metadata": {},
   "outputs": [
    {
     "data": {
      "text/plain": [
       "{'ARB': 0.0,\n",
       " 'CRV': 0.25,\n",
       " 'DAI': 0.0,\n",
       " 'LAVA': 0.25,\n",
       " 'MAGIC': 0.0,\n",
       " 'STG': 0.0,\n",
       " 'USDC': 0.5,\n",
       " 'USDT': 0.0,\n",
       " 'ZRO': 0.0}"
      ]
     },
     "execution_count": 17,
     "metadata": {},
     "output_type": "execute_result"
    }
   ],
   "source": [
    "latest_target = model_data['target_comp']\n",
    "latest_target"
   ]
  },
  {
   "cell_type": "code",
   "execution_count": 18,
   "metadata": {},
   "outputs": [
    {
     "data": {
      "text/plain": [
       "{'ARB': 0.0,\n",
       " 'CRV': 0.0,\n",
       " 'DAI': 0.0,\n",
       " 'LAVA': 0.11923067253569794,\n",
       " 'MAGIC': 0.0,\n",
       " 'STG': 0.3340539925390671,\n",
       " 'USDC': 0.54671527762027,\n",
       " 'USDT': 0.0,\n",
       " 'ZRO': 5.730496503063168e-08}"
      ]
     },
     "execution_count": 18,
     "metadata": {},
     "output_type": "execute_result"
    }
   ],
   "source": [
    "prior_comp = model_data['prior_comp']\n",
    "prior_comp"
   ]
  },
  {
   "cell_type": "code",
   "execution_count": 19,
   "metadata": {},
   "outputs": [],
   "source": [
    "network = 'arbitrum'\n",
    "\n",
    "model = f'{network}_classifier'\n",
    "\n",
    "params = cache.get(f'{model} params')\n",
    "classifier_data = cache.get(f'{model}_portfolio')\n",
    "original_prices_df = cache.get(f'{model}_prices')\n",
    "days = params['days']"
   ]
  },
  {
   "cell_type": "code",
   "execution_count": 20,
   "metadata": {},
   "outputs": [],
   "source": [
    "data_start_date = dt.datetime.now(dt.timezone.utc) - timedelta(days=days)\n",
    "data_start_date = data_start_date.strftime('%Y-%m-%d %H:00:00')\n",
    "\n",
    "today_utc = dt.datetime.now(dt.timezone.utc) \n",
    "formatted_today_utc = today_utc.strftime('%Y-%m-%d %H:00:00')\n",
    "\n",
    "data_version = dt.datetime.now(dt.timezone.utc).strftime('%Y-%m-%d %H-00-00')\n",
    "data_version_comp = dt.datetime.now(dt.timezone.utc).strftime('%Y-%m-%d %H:00:00') "
   ]
  },
  {
   "cell_type": "code",
   "execution_count": 21,
   "metadata": {},
   "outputs": [
    {
     "data": {
      "text/plain": [
       "'2025-01-05 20:00:00'"
      ]
     },
     "execution_count": 21,
     "metadata": {},
     "output_type": "execute_result"
    }
   ],
   "source": [
    "start_date = str(data_start_date)\n",
    "end_date = dt.datetime.now(dt.timezone.utc).strftime('%Y-%m-%d %H:00:00') \n",
    "\n",
    "start_date"
   ]
  },
  {
   "cell_type": "code",
   "execution_count": 22,
   "metadata": {},
   "outputs": [],
   "source": [
    "filtered_assets = classifier_data['symbol'].unique()"
   ]
  },
  {
   "cell_type": "code",
   "execution_count": 23,
   "metadata": {},
   "outputs": [
    {
     "name": "stdout",
     "output_type": "stream",
     "text": [
      "backtest days: 7\n",
      "use_cached_data: False\n",
      "volume_threshold: 1\n",
      "start_date: 2025-01-05 20:00:00\n",
      "data_start_str: 2024-07-08 04:00:00\n",
      "Beginning: '2025-01-05 20:00:00'\n"
     ]
    },
    {
     "name": "stdout",
     "output_type": "stream",
     "text": [
      "cleaning prices\n",
      "cleaned prices:                          hour  ARB_Price  CRV_Price  DAI_Price  LAVA_Price  \\\n",
      "0    2025-01-05T20:00:00.000Z   0.894672   1.033000   1.002000    0.167994   \n",
      "1    2025-01-05T21:00:00.000Z   0.902264   1.034000   0.999918    0.168680   \n",
      "2    2025-01-05T22:00:00.000Z   0.898862   1.032000   1.000000    0.174682   \n",
      "3    2025-01-05T23:00:00.000Z   0.911411   1.039000   1.002000    0.173347   \n",
      "4    2025-01-06T00:00:00.000Z   0.916952   1.033000   0.999999    0.174486   \n",
      "..                        ...        ...        ...        ...         ...   \n",
      "164  2025-01-12T16:00:00.000Z   0.732592   0.834279   0.999153    0.151856   \n",
      "165  2025-01-12T17:00:00.000Z   0.740609   0.841566   0.999949    0.149409   \n",
      "166  2025-01-12T18:00:00.000Z   0.740173   0.841159   1.001000    0.148100   \n",
      "167  2025-01-12T19:00:00.000Z   0.742616   0.839837   0.999708    0.148144   \n",
      "168  2025-01-12T20:00:00.000Z   0.739661   0.828287   0.999112    0.147082   \n",
      "\n",
      "     MAGIC_Price  STG_Price  USDC_Price  USDT_Price  ZRO_Price  \n",
      "0       0.589797   0.517389    1.000000    1.001000       5.72  \n",
      "1       0.589621   0.514892    1.000000    0.999506       5.73  \n",
      "2       0.588101   0.516916    0.999397    1.000000       5.74  \n",
      "3       0.593901   0.526687    1.000000    1.000000       5.80  \n",
      "4       0.591682   0.522981    0.998669    0.999203       5.80  \n",
      "..           ...        ...         ...         ...        ...  \n",
      "164     0.471107   0.463508    0.999901    0.999617       4.64  \n",
      "165     0.476402   0.470199    0.999460    0.999522       4.66  \n",
      "166     0.476104   0.492838    0.999902    0.999799       4.66  \n",
      "167     0.477373   0.486522    0.999913    1.000000       4.66  \n",
      "168     0.473832   0.484105    0.999755    0.999940       4.64  \n",
      "\n",
      "[169 rows x 10 columns]\n",
      "DatetimeIndex(['2025-01-05 20:00:00+00:00', '2025-01-05 21:00:00+00:00',\n",
      "               '2025-01-05 22:00:00+00:00', '2025-01-05 23:00:00+00:00',\n",
      "               '2025-01-06 00:00:00+00:00', '2025-01-06 01:00:00+00:00',\n",
      "               '2025-01-06 02:00:00+00:00', '2025-01-06 03:00:00+00:00',\n",
      "               '2025-01-06 04:00:00+00:00', '2025-01-06 05:00:00+00:00',\n",
      "               ...\n",
      "               '2025-01-12 11:00:00+00:00', '2025-01-12 12:00:00+00:00',\n",
      "               '2025-01-12 13:00:00+00:00', '2025-01-12 14:00:00+00:00',\n",
      "               '2025-01-12 15:00:00+00:00', '2025-01-12 16:00:00+00:00',\n",
      "               '2025-01-12 17:00:00+00:00', '2025-01-12 18:00:00+00:00',\n",
      "               '2025-01-12 19:00:00+00:00', '2025-01-12 20:00:00+00:00'],\n",
      "              dtype='datetime64[ns, UTC]', name='hour', length=169, freq=None)\n",
      "price index: DatetimeIndex(['2025-01-05 20:00:00+00:00', '2025-01-05 21:00:00+00:00',\n",
      "               '2025-01-05 22:00:00+00:00', '2025-01-05 23:00:00+00:00',\n",
      "               '2025-01-06 00:00:00+00:00', '2025-01-06 01:00:00+00:00',\n",
      "               '2025-01-06 02:00:00+00:00', '2025-01-06 03:00:00+00:00',\n",
      "               '2025-01-06 04:00:00+00:00', '2025-01-06 05:00:00+00:00',\n",
      "               ...\n",
      "               '2025-01-12 11:00:00+00:00', '2025-01-12 12:00:00+00:00',\n",
      "               '2025-01-12 13:00:00+00:00', '2025-01-12 14:00:00+00:00',\n",
      "               '2025-01-12 15:00:00+00:00', '2025-01-12 16:00:00+00:00',\n",
      "               '2025-01-12 17:00:00+00:00', '2025-01-12 18:00:00+00:00',\n",
      "               '2025-01-12 19:00:00+00:00', '2025-01-12 20:00:00+00:00'],\n",
      "              dtype='datetime64[ns, UTC]', name='hour', length=169, freq=None)\n"
     ]
    },
    {
     "name": "stderr",
     "output_type": "stream",
     "text": [
      "e:\\Projects\\encode hackathon\\python_scripts\\utils.py:286: FutureWarning: 'H' is deprecated and will be removed in a future version, please use 'h' instead.\n",
      "  required_dates = pd.date_range(start=start_date, end=end_date, freq='H')\n",
      "e:\\Projects\\encode hackathon\\python_scripts\\utils.py:293: FutureWarning: DataFrame.fillna with 'method' is deprecated and will raise in a future version. Use obj.ffill() or obj.bfill() instead.\n",
      "  price_timeseries.fillna(method='ffill', inplace=True)\n"
     ]
    }
   ],
   "source": [
    "data, prices_df = prices_data_func(\n",
    "                            network=network, \n",
    "                            name=model,\n",
    "                            api_key=flipside_api_key,\n",
    "                            use_cached_data=False,\n",
    "                            function=None,\n",
    "                            start_date=start_date,\n",
    "                            filtered_assets=filtered_assets\n",
    "                            )\n",
    "        \n",
    "prices_df = prepare_data_for_simulation(prices_df, start_date, end_date)"
   ]
  },
  {
   "cell_type": "code",
   "execution_count": 24,
   "metadata": {},
   "outputs": [
    {
     "name": "stdout",
     "output_type": "stream",
     "text": [
      "Gateway: https://arb-mainnet.g.alchemy.com/v2/U23ynFAHtx1ks0s08WXlr2WR8Bs07Nsk\n",
      "Connected to arbitrum via https://arb-mainnet.g.alchemy.com/v2/U23ynFAHtx1ks0s08WXlr2WR8Bs07Nsk: 294760523 block\n"
     ]
    }
   ],
   "source": [
    "chain = params['network']\n",
    "\n",
    "w3, gateway = network_def(chain)\n",
    "\n",
    "account = Account.from_key(PRIVATE_KEY)\n",
    "w3.eth.default_account = account.address"
   ]
  },
  {
   "cell_type": "code",
   "execution_count": 25,
   "metadata": {},
   "outputs": [],
   "source": [
    "portfolio = classifier_data[['symbol','token_address']]\n",
    "\n",
    "TOKEN_CONTRACTS = {\n",
    "    row['symbol']: row['token_address'] for _, row in portfolio.iterrows()\n",
    "}\n",
    "\n",
    "TOKEN_DECIMALS = get_token_decimals(TOKEN_CONTRACTS,w3)"
   ]
  },
  {
   "cell_type": "code",
   "execution_count": 26,
   "metadata": {},
   "outputs": [
    {
     "data": {
      "text/html": [
       "<div>\n",
       "<style scoped>\n",
       "    .dataframe tbody tr th:only-of-type {\n",
       "        vertical-align: middle;\n",
       "    }\n",
       "\n",
       "    .dataframe tbody tr th {\n",
       "        vertical-align: top;\n",
       "    }\n",
       "\n",
       "    .dataframe thead th {\n",
       "        text-align: right;\n",
       "    }\n",
       "</style>\n",
       "<table border=\"1\" class=\"dataframe\">\n",
       "  <thead>\n",
       "    <tr style=\"text-align: right;\">\n",
       "      <th></th>\n",
       "      <th>LAVA</th>\n",
       "      <th>MAGIC</th>\n",
       "      <th>STG</th>\n",
       "      <th>USDC</th>\n",
       "      <th>DAI</th>\n",
       "      <th>ARB</th>\n",
       "      <th>USDT</th>\n",
       "      <th>CRV</th>\n",
       "      <th>ZRO</th>\n",
       "    </tr>\n",
       "    <tr>\n",
       "      <th>hour</th>\n",
       "      <th></th>\n",
       "      <th></th>\n",
       "      <th></th>\n",
       "      <th></th>\n",
       "      <th></th>\n",
       "      <th></th>\n",
       "      <th></th>\n",
       "      <th></th>\n",
       "      <th></th>\n",
       "    </tr>\n",
       "  </thead>\n",
       "  <tbody>\n",
       "    <tr>\n",
       "      <th>2025-01-05 21:00:00</th>\n",
       "      <td>0.004083</td>\n",
       "      <td>-0.000298</td>\n",
       "      <td>-0.004826</td>\n",
       "      <td>0.000000</td>\n",
       "      <td>-0.002078</td>\n",
       "      <td>0.008486</td>\n",
       "      <td>-0.001493</td>\n",
       "      <td>0.000968</td>\n",
       "      <td>0.001748</td>\n",
       "    </tr>\n",
       "    <tr>\n",
       "      <th>2025-01-05 22:00:00</th>\n",
       "      <td>0.035582</td>\n",
       "      <td>-0.002578</td>\n",
       "      <td>0.003931</td>\n",
       "      <td>-0.000603</td>\n",
       "      <td>0.000082</td>\n",
       "      <td>-0.003771</td>\n",
       "      <td>0.000494</td>\n",
       "      <td>-0.001934</td>\n",
       "      <td>0.001745</td>\n",
       "    </tr>\n",
       "    <tr>\n",
       "      <th>2025-01-05 23:00:00</th>\n",
       "      <td>-0.007642</td>\n",
       "      <td>0.009862</td>\n",
       "      <td>0.018902</td>\n",
       "      <td>0.000603</td>\n",
       "      <td>0.002000</td>\n",
       "      <td>0.013961</td>\n",
       "      <td>0.000000</td>\n",
       "      <td>0.006783</td>\n",
       "      <td>0.010453</td>\n",
       "    </tr>\n",
       "    <tr>\n",
       "      <th>2025-01-06 00:00:00</th>\n",
       "      <td>0.006571</td>\n",
       "      <td>-0.003736</td>\n",
       "      <td>-0.007036</td>\n",
       "      <td>-0.001331</td>\n",
       "      <td>-0.001997</td>\n",
       "      <td>0.006080</td>\n",
       "      <td>-0.000797</td>\n",
       "      <td>-0.005775</td>\n",
       "      <td>0.000000</td>\n",
       "    </tr>\n",
       "    <tr>\n",
       "      <th>2025-01-06 01:00:00</th>\n",
       "      <td>-0.000149</td>\n",
       "      <td>-0.002993</td>\n",
       "      <td>0.026749</td>\n",
       "      <td>0.001333</td>\n",
       "      <td>-0.001084</td>\n",
       "      <td>-0.001517</td>\n",
       "      <td>0.000446</td>\n",
       "      <td>-0.003872</td>\n",
       "      <td>0.000000</td>\n",
       "    </tr>\n",
       "    <tr>\n",
       "      <th>...</th>\n",
       "      <td>...</td>\n",
       "      <td>...</td>\n",
       "      <td>...</td>\n",
       "      <td>...</td>\n",
       "      <td>...</td>\n",
       "      <td>...</td>\n",
       "      <td>...</td>\n",
       "      <td>...</td>\n",
       "      <td>...</td>\n",
       "    </tr>\n",
       "    <tr>\n",
       "      <th>2025-01-12 16:00:00</th>\n",
       "      <td>-0.012338</td>\n",
       "      <td>-0.001064</td>\n",
       "      <td>0.025052</td>\n",
       "      <td>0.000038</td>\n",
       "      <td>-0.001845</td>\n",
       "      <td>-0.000904</td>\n",
       "      <td>-0.000244</td>\n",
       "      <td>-0.003576</td>\n",
       "      <td>0.000000</td>\n",
       "    </tr>\n",
       "    <tr>\n",
       "      <th>2025-01-12 17:00:00</th>\n",
       "      <td>-0.016114</td>\n",
       "      <td>0.011239</td>\n",
       "      <td>0.014436</td>\n",
       "      <td>-0.000441</td>\n",
       "      <td>0.000797</td>\n",
       "      <td>0.010943</td>\n",
       "      <td>-0.000095</td>\n",
       "      <td>0.008734</td>\n",
       "      <td>0.004310</td>\n",
       "    </tr>\n",
       "    <tr>\n",
       "      <th>2025-01-12 18:00:00</th>\n",
       "      <td>-0.008761</td>\n",
       "      <td>-0.000626</td>\n",
       "      <td>0.048148</td>\n",
       "      <td>0.000442</td>\n",
       "      <td>0.001051</td>\n",
       "      <td>-0.000589</td>\n",
       "      <td>0.000277</td>\n",
       "      <td>-0.000484</td>\n",
       "      <td>0.000000</td>\n",
       "    </tr>\n",
       "    <tr>\n",
       "      <th>2025-01-12 19:00:00</th>\n",
       "      <td>0.000297</td>\n",
       "      <td>0.002665</td>\n",
       "      <td>-0.012816</td>\n",
       "      <td>0.000011</td>\n",
       "      <td>-0.001291</td>\n",
       "      <td>0.003301</td>\n",
       "      <td>0.000201</td>\n",
       "      <td>-0.001572</td>\n",
       "      <td>0.000000</td>\n",
       "    </tr>\n",
       "    <tr>\n",
       "      <th>2025-01-12 20:00:00</th>\n",
       "      <td>-0.007169</td>\n",
       "      <td>-0.007418</td>\n",
       "      <td>-0.004968</td>\n",
       "      <td>-0.000158</td>\n",
       "      <td>-0.000596</td>\n",
       "      <td>-0.003979</td>\n",
       "      <td>-0.000060</td>\n",
       "      <td>-0.013753</td>\n",
       "      <td>-0.004292</td>\n",
       "    </tr>\n",
       "  </tbody>\n",
       "</table>\n",
       "<p>168 rows × 9 columns</p>\n",
       "</div>"
      ],
      "text/plain": [
       "                         LAVA     MAGIC       STG      USDC       DAI  \\\n",
       "hour                                                                    \n",
       "2025-01-05 21:00:00  0.004083 -0.000298 -0.004826  0.000000 -0.002078   \n",
       "2025-01-05 22:00:00  0.035582 -0.002578  0.003931 -0.000603  0.000082   \n",
       "2025-01-05 23:00:00 -0.007642  0.009862  0.018902  0.000603  0.002000   \n",
       "2025-01-06 00:00:00  0.006571 -0.003736 -0.007036 -0.001331 -0.001997   \n",
       "2025-01-06 01:00:00 -0.000149 -0.002993  0.026749  0.001333 -0.001084   \n",
       "...                       ...       ...       ...       ...       ...   \n",
       "2025-01-12 16:00:00 -0.012338 -0.001064  0.025052  0.000038 -0.001845   \n",
       "2025-01-12 17:00:00 -0.016114  0.011239  0.014436 -0.000441  0.000797   \n",
       "2025-01-12 18:00:00 -0.008761 -0.000626  0.048148  0.000442  0.001051   \n",
       "2025-01-12 19:00:00  0.000297  0.002665 -0.012816  0.000011 -0.001291   \n",
       "2025-01-12 20:00:00 -0.007169 -0.007418 -0.004968 -0.000158 -0.000596   \n",
       "\n",
       "                          ARB      USDT       CRV       ZRO  \n",
       "hour                                                         \n",
       "2025-01-05 21:00:00  0.008486 -0.001493  0.000968  0.001748  \n",
       "2025-01-05 22:00:00 -0.003771  0.000494 -0.001934  0.001745  \n",
       "2025-01-05 23:00:00  0.013961  0.000000  0.006783  0.010453  \n",
       "2025-01-06 00:00:00  0.006080 -0.000797 -0.005775  0.000000  \n",
       "2025-01-06 01:00:00 -0.001517  0.000446 -0.003872  0.000000  \n",
       "...                       ...       ...       ...       ...  \n",
       "2025-01-12 16:00:00 -0.000904 -0.000244 -0.003576  0.000000  \n",
       "2025-01-12 17:00:00  0.010943 -0.000095  0.008734  0.004310  \n",
       "2025-01-12 18:00:00 -0.000589  0.000277 -0.000484  0.000000  \n",
       "2025-01-12 19:00:00  0.003301  0.000201 -0.001572  0.000000  \n",
       "2025-01-12 20:00:00 -0.003979 -0.000060 -0.013753 -0.004292  \n",
       "\n",
       "[168 rows x 9 columns]"
      ]
     },
     "execution_count": 26,
     "metadata": {},
     "output_type": "execute_result"
    }
   ],
   "source": [
    "prices_df.columns = [col.replace('_Price', '') for col in prices_df.columns]\n",
    "prices_df.set_index('hour',inplace=True)\n",
    "prices_returns = prices_df.pct_change().dropna()\n",
    "prices_returns"
   ]
  },
  {
   "cell_type": "code",
   "execution_count": 27,
   "metadata": {},
   "outputs": [],
   "source": [
    "latest_prices = {\n",
    "    token: float(prices_df[f\"{token}\"].iloc[-1])\n",
    "    for token in TOKEN_CONTRACTS.keys()\n",
    "    if f\"{token}\" in prices_df.columns\n",
    "}"
   ]
  },
  {
   "cell_type": "code",
   "execution_count": 28,
   "metadata": {},
   "outputs": [
    {
     "name": "stdout",
     "output_type": "stream",
     "text": [
      "Balances for account 0xFA475d5FB90C4b90D929a64732DA6De38a966416: {'LAVA': 0.666638, 'MAGIC': 0.0, 'STG': 6.274029548e-09, 'USDC': 0.361368, 'DAI': 0.0, 'ARB': 0.0, 'USDT': 0.0, 'CRV': 0.21701622876495752, 'ZRO': 9.073807379e-09}\n",
      "balances: dict_keys(['LAVA', 'MAGIC', 'STG', 'USDC', 'DAI', 'ARB', 'USDT', 'CRV', 'ZRO'])\n",
      "TOKEN_CONTRACTS.keys(): dict_keys(['LAVA', 'MAGIC', 'STG', 'USDC', 'DAI', 'ARB', 'USDT', 'CRV', 'ZRO'])\n",
      "comp_dict: {'LAVA': 0.15342397251269518, 'MAGIC': 0.0, 'STG': 4.75258353176345e-09, 'USDC': 0.5653103122359494, 'DAI': 0.0, 'ARB': 0.0, 'USDT': 0.0, 'CRV': 0.2812656446191395, 'ZRO': 6.587963239417609e-08}\n",
      "portfolio value: {'Portfolio Value': 0.6390816813707957, 'date': '2025-01-12 20:00:00'}\n",
      "values: {'Portfolio Value': 0.6390816813707957, 'date': '2025-01-12 20:00:00'}\n"
     ]
    }
   ],
   "source": [
    "model_balances = get_balance(TOKEN_CONTRACTS,TOKEN_DECIMALS,ACCOUNT_ADDRESS,w3)\n",
    "\n",
    "model_balances  \n",
    "\n",
    "model_balances_usd = convert_to_usd(model_balances,latest_prices,TOKEN_CONTRACTS)\n",
    "model_balances_usd\n",
    "\n",
    "available_balance = sum(model_balances_usd.values())\n",
    "available_balance\n",
    "\n",
    "comp_dict = {\n",
    "    f\"{token}\": balance_usd / available_balance\n",
    "    for token, balance_usd in model_balances_usd.items()\n",
    "}\n",
    "\n",
    "print(f'comp_dict: {comp_dict}')\n",
    "\n",
    "comp_dict[\"date\"] = formatted_today_utc\n",
    "\n",
    "update_historical_data(comp_dict)\n",
    "\n",
    "portfolio_dict = {\n",
    "    \"Portfolio Value\": available_balance,\n",
    "    \"date\": formatted_today_utc\n",
    "}\n",
    "\n",
    "print(f'portfolio value: {portfolio_dict}')\n",
    "\n",
    "update_portfolio_data(portfolio_dict)"
   ]
  },
  {
   "cell_type": "code",
   "execution_count": 29,
   "metadata": {},
   "outputs": [],
   "source": [
    "comp_df = pd.DataFrame([comp_dict]).set_index('date')"
   ]
  },
  {
   "cell_type": "code",
   "execution_count": 30,
   "metadata": {},
   "outputs": [],
   "source": [
    "comp_df = comp_df.reset_index().drop(columns='date')"
   ]
  },
  {
   "cell_type": "code",
   "execution_count": 31,
   "metadata": {},
   "outputs": [],
   "source": [
    "data = comp_df.iloc[0]\n",
    "data = data[data != 0]  # Filter out assets with zero weight\n",
    "\n",
    "# Convert the series to a DataFrame for plotting\n",
    "df_for_pie = pd.DataFrame({'Asset': data.index, 'Weight': data.values})"
   ]
  },
  {
   "cell_type": "code",
   "execution_count": 32,
   "metadata": {},
   "outputs": [
    {
     "data": {
      "application/vnd.plotly.v1+json": {
       "config": {
        "plotlyServerURL": "https://plot.ly"
       },
       "data": [
        {
         "domain": {
          "x": [
           0,
           1
          ],
          "y": [
           0,
           1
          ]
         },
         "hovertemplate": "Asset=%{label}<br>Weight=%{value}<extra></extra>",
         "labels": [
          "LAVA",
          "STG",
          "USDC",
          "CRV",
          "ZRO"
         ],
         "legendgroup": "",
         "name": "",
         "showlegend": true,
         "type": "pie",
         "values": [
          0.15342397251269518,
          4.75258353176345e-9,
          0.5653103122359494,
          0.2812656446191395,
          6.587963239417609e-8
         ]
        }
       ],
       "layout": {
        "legend": {
         "tracegroupgap": 0
        },
        "piecolorway": [
         "#636EFA",
         "#EF553B",
         "#00CC96",
         "#AB63FA",
         "#FFA15A",
         "#19D3F3",
         "#FF6692",
         "#B6E880",
         "#FF97FF",
         "#FECB52"
        ],
        "template": {
         "data": {
          "candlestick": [
           {
            "decreasing": {
             "line": {
              "color": "#000033"
             }
            },
            "increasing": {
             "line": {
              "color": "#000032"
             }
            },
            "type": "candlestick"
           }
          ],
          "contour": [
           {
            "colorscale": [
             [
              0,
              "#000011"
             ],
             [
              0.1111111111111111,
              "#000012"
             ],
             [
              0.2222222222222222,
              "#000013"
             ],
             [
              0.3333333333333333,
              "#000014"
             ],
             [
              0.4444444444444444,
              "#000015"
             ],
             [
              0.5555555555555556,
              "#000016"
             ],
             [
              0.6666666666666666,
              "#000017"
             ],
             [
              0.7777777777777778,
              "#000018"
             ],
             [
              0.8888888888888888,
              "#000019"
             ],
             [
              1,
              "#000020"
             ]
            ],
            "type": "contour"
           }
          ],
          "contourcarpet": [
           {
            "colorscale": [
             [
              0,
              "#000011"
             ],
             [
              0.1111111111111111,
              "#000012"
             ],
             [
              0.2222222222222222,
              "#000013"
             ],
             [
              0.3333333333333333,
              "#000014"
             ],
             [
              0.4444444444444444,
              "#000015"
             ],
             [
              0.5555555555555556,
              "#000016"
             ],
             [
              0.6666666666666666,
              "#000017"
             ],
             [
              0.7777777777777778,
              "#000018"
             ],
             [
              0.8888888888888888,
              "#000019"
             ],
             [
              1,
              "#000020"
             ]
            ],
            "type": "contourcarpet"
           }
          ],
          "heatmap": [
           {
            "colorscale": [
             [
              0,
              "#000011"
             ],
             [
              0.1111111111111111,
              "#000012"
             ],
             [
              0.2222222222222222,
              "#000013"
             ],
             [
              0.3333333333333333,
              "#000014"
             ],
             [
              0.4444444444444444,
              "#000015"
             ],
             [
              0.5555555555555556,
              "#000016"
             ],
             [
              0.6666666666666666,
              "#000017"
             ],
             [
              0.7777777777777778,
              "#000018"
             ],
             [
              0.8888888888888888,
              "#000019"
             ],
             [
              1,
              "#000020"
             ]
            ],
            "type": "heatmap"
           }
          ],
          "histogram2d": [
           {
            "colorscale": [
             [
              0,
              "#000011"
             ],
             [
              0.1111111111111111,
              "#000012"
             ],
             [
              0.2222222222222222,
              "#000013"
             ],
             [
              0.3333333333333333,
              "#000014"
             ],
             [
              0.4444444444444444,
              "#000015"
             ],
             [
              0.5555555555555556,
              "#000016"
             ],
             [
              0.6666666666666666,
              "#000017"
             ],
             [
              0.7777777777777778,
              "#000018"
             ],
             [
              0.8888888888888888,
              "#000019"
             ],
             [
              1,
              "#000020"
             ]
            ],
            "type": "histogram2d"
           }
          ],
          "icicle": [
           {
            "textfont": {
             "color": "white"
            },
            "type": "icicle"
           }
          ],
          "sankey": [
           {
            "textfont": {
             "color": "#000036"
            },
            "type": "sankey"
           }
          ],
          "scatter": [
           {
            "marker": {
             "line": {
              "width": 0
             }
            },
            "type": "scatter"
           }
          ],
          "table": [
           {
            "cells": {
             "fill": {
              "color": "#000038"
             },
             "font": {
              "color": "#000037"
             },
             "line": {
              "color": "#000039"
             }
            },
            "header": {
             "fill": {
              "color": "#000040"
             },
             "font": {
              "color": "#000036"
             },
             "line": {
              "color": "#000039"
             }
            },
            "type": "table"
           }
          ],
          "waterfall": [
           {
            "connector": {
             "line": {
              "color": "#000036",
              "width": 2
             }
            },
            "decreasing": {
             "marker": {
              "color": "#000033"
             }
            },
            "increasing": {
             "marker": {
              "color": "#000032"
             }
            },
            "totals": {
             "marker": {
              "color": "#000034"
             }
            },
            "type": "waterfall"
           }
          ]
         },
         "layout": {
          "coloraxis": {
           "colorscale": [
            [
             0,
             "#000011"
            ],
            [
             0.1111111111111111,
             "#000012"
            ],
            [
             0.2222222222222222,
             "#000013"
            ],
            [
             0.3333333333333333,
             "#000014"
            ],
            [
             0.4444444444444444,
             "#000015"
            ],
            [
             0.5555555555555556,
             "#000016"
            ],
            [
             0.6666666666666666,
             "#000017"
            ],
            [
             0.7777777777777778,
             "#000018"
            ],
            [
             0.8888888888888888,
             "#000019"
            ],
            [
             1,
             "#000020"
            ]
           ]
          },
          "colorscale": {
           "diverging": [
            [
             0,
             "#000021"
            ],
            [
             0.1,
             "#000022"
            ],
            [
             0.2,
             "#000023"
            ],
            [
             0.3,
             "#000024"
            ],
            [
             0.4,
             "#000025"
            ],
            [
             0.5,
             "#000026"
            ],
            [
             0.6,
             "#000027"
            ],
            [
             0.7,
             "#000028"
            ],
            [
             0.8,
             "#000029"
            ],
            [
             0.9,
             "#000030"
            ],
            [
             1,
             "#000031"
            ]
           ],
           "sequential": [
            [
             0,
             "#000011"
            ],
            [
             0.1111111111111111,
             "#000012"
            ],
            [
             0.2222222222222222,
             "#000013"
            ],
            [
             0.3333333333333333,
             "#000014"
            ],
            [
             0.4444444444444444,
             "#000015"
            ],
            [
             0.5555555555555556,
             "#000016"
            ],
            [
             0.6666666666666666,
             "#000017"
            ],
            [
             0.7777777777777778,
             "#000018"
            ],
            [
             0.8888888888888888,
             "#000019"
            ],
            [
             1,
             "#000020"
            ]
           ],
           "sequentialminus": [
            [
             0,
             "#000011"
            ],
            [
             0.1111111111111111,
             "#000012"
            ],
            [
             0.2222222222222222,
             "#000013"
            ],
            [
             0.3333333333333333,
             "#000014"
            ],
            [
             0.4444444444444444,
             "#000015"
            ],
            [
             0.5555555555555556,
             "#000016"
            ],
            [
             0.6666666666666666,
             "#000017"
            ],
            [
             0.7777777777777778,
             "#000018"
            ],
            [
             0.8888888888888888,
             "#000019"
            ],
            [
             1,
             "#000020"
            ]
           ]
          },
          "colorway": [
           "#000001",
           "#000002",
           "#000003",
           "#000004",
           "#000005",
           "#000006",
           "#000007",
           "#000008",
           "#000009",
           "#000010"
          ]
         }
        },
        "title": {
         "text": "Portfolio Composition as of 2025-01-12 20:00:00"
        }
       }
      }
     },
     "metadata": {},
     "output_type": "display_data"
    }
   ],
   "source": [
    "fig1 = px.pie(\n",
    "    df_for_pie,\n",
    "    names='Asset',               # Column name for labels\n",
    "    values='Weight',             # Column name for values\n",
    "    title=f\"Portfolio Composition as of {formatted_today_utc}\",\n",
    "    color_discrete_sequence=px.colors.qualitative.Plotly\n",
    ")\n",
    "fig1.show()\n"
   ]
  },
  {
   "cell_type": "code",
   "execution_count": 33,
   "metadata": {},
   "outputs": [
    {
     "data": {
      "application/vnd.plotly.v1+json": {
       "config": {
        "plotlyServerURL": "https://plot.ly"
       },
       "data": [
        {
         "hovertemplate": "date=%{x}<br>Portfolio Value=%{y}<extra></extra>",
         "legendgroup": "",
         "marker": {
          "color": "#636EFA",
          "symbol": "circle"
         },
         "mode": "markers",
         "name": "",
         "orientation": "v",
         "showlegend": false,
         "type": "scatter",
         "x": [
          "2025-01-12 19:00:00",
          "2025-01-12 20:00:00"
         ],
         "xaxis": "x",
         "y": [
          0.9072228355583538,
          0.6390816813707957
         ],
         "yaxis": "y"
        }
       ],
       "layout": {
        "legend": {
         "tracegroupgap": 0
        },
        "template": {
         "data": {
          "candlestick": [
           {
            "decreasing": {
             "line": {
              "color": "#000033"
             }
            },
            "increasing": {
             "line": {
              "color": "#000032"
             }
            },
            "type": "candlestick"
           }
          ],
          "contour": [
           {
            "colorscale": [
             [
              0,
              "#000011"
             ],
             [
              0.1111111111111111,
              "#000012"
             ],
             [
              0.2222222222222222,
              "#000013"
             ],
             [
              0.3333333333333333,
              "#000014"
             ],
             [
              0.4444444444444444,
              "#000015"
             ],
             [
              0.5555555555555556,
              "#000016"
             ],
             [
              0.6666666666666666,
              "#000017"
             ],
             [
              0.7777777777777778,
              "#000018"
             ],
             [
              0.8888888888888888,
              "#000019"
             ],
             [
              1,
              "#000020"
             ]
            ],
            "type": "contour"
           }
          ],
          "contourcarpet": [
           {
            "colorscale": [
             [
              0,
              "#000011"
             ],
             [
              0.1111111111111111,
              "#000012"
             ],
             [
              0.2222222222222222,
              "#000013"
             ],
             [
              0.3333333333333333,
              "#000014"
             ],
             [
              0.4444444444444444,
              "#000015"
             ],
             [
              0.5555555555555556,
              "#000016"
             ],
             [
              0.6666666666666666,
              "#000017"
             ],
             [
              0.7777777777777778,
              "#000018"
             ],
             [
              0.8888888888888888,
              "#000019"
             ],
             [
              1,
              "#000020"
             ]
            ],
            "type": "contourcarpet"
           }
          ],
          "heatmap": [
           {
            "colorscale": [
             [
              0,
              "#000011"
             ],
             [
              0.1111111111111111,
              "#000012"
             ],
             [
              0.2222222222222222,
              "#000013"
             ],
             [
              0.3333333333333333,
              "#000014"
             ],
             [
              0.4444444444444444,
              "#000015"
             ],
             [
              0.5555555555555556,
              "#000016"
             ],
             [
              0.6666666666666666,
              "#000017"
             ],
             [
              0.7777777777777778,
              "#000018"
             ],
             [
              0.8888888888888888,
              "#000019"
             ],
             [
              1,
              "#000020"
             ]
            ],
            "type": "heatmap"
           }
          ],
          "histogram2d": [
           {
            "colorscale": [
             [
              0,
              "#000011"
             ],
             [
              0.1111111111111111,
              "#000012"
             ],
             [
              0.2222222222222222,
              "#000013"
             ],
             [
              0.3333333333333333,
              "#000014"
             ],
             [
              0.4444444444444444,
              "#000015"
             ],
             [
              0.5555555555555556,
              "#000016"
             ],
             [
              0.6666666666666666,
              "#000017"
             ],
             [
              0.7777777777777778,
              "#000018"
             ],
             [
              0.8888888888888888,
              "#000019"
             ],
             [
              1,
              "#000020"
             ]
            ],
            "type": "histogram2d"
           }
          ],
          "icicle": [
           {
            "textfont": {
             "color": "white"
            },
            "type": "icicle"
           }
          ],
          "sankey": [
           {
            "textfont": {
             "color": "#000036"
            },
            "type": "sankey"
           }
          ],
          "scatter": [
           {
            "marker": {
             "line": {
              "width": 0
             }
            },
            "type": "scatter"
           }
          ],
          "table": [
           {
            "cells": {
             "fill": {
              "color": "#000038"
             },
             "font": {
              "color": "#000037"
             },
             "line": {
              "color": "#000039"
             }
            },
            "header": {
             "fill": {
              "color": "#000040"
             },
             "font": {
              "color": "#000036"
             },
             "line": {
              "color": "#000039"
             }
            },
            "type": "table"
           }
          ],
          "waterfall": [
           {
            "connector": {
             "line": {
              "color": "#000036",
              "width": 2
             }
            },
            "decreasing": {
             "marker": {
              "color": "#000033"
             }
            },
            "increasing": {
             "marker": {
              "color": "#000032"
             }
            },
            "totals": {
             "marker": {
              "color": "#000034"
             }
            },
            "type": "waterfall"
           }
          ]
         },
         "layout": {
          "coloraxis": {
           "colorscale": [
            [
             0,
             "#000011"
            ],
            [
             0.1111111111111111,
             "#000012"
            ],
            [
             0.2222222222222222,
             "#000013"
            ],
            [
             0.3333333333333333,
             "#000014"
            ],
            [
             0.4444444444444444,
             "#000015"
            ],
            [
             0.5555555555555556,
             "#000016"
            ],
            [
             0.6666666666666666,
             "#000017"
            ],
            [
             0.7777777777777778,
             "#000018"
            ],
            [
             0.8888888888888888,
             "#000019"
            ],
            [
             1,
             "#000020"
            ]
           ]
          },
          "colorscale": {
           "diverging": [
            [
             0,
             "#000021"
            ],
            [
             0.1,
             "#000022"
            ],
            [
             0.2,
             "#000023"
            ],
            [
             0.3,
             "#000024"
            ],
            [
             0.4,
             "#000025"
            ],
            [
             0.5,
             "#000026"
            ],
            [
             0.6,
             "#000027"
            ],
            [
             0.7,
             "#000028"
            ],
            [
             0.8,
             "#000029"
            ],
            [
             0.9,
             "#000030"
            ],
            [
             1,
             "#000031"
            ]
           ],
           "sequential": [
            [
             0,
             "#000011"
            ],
            [
             0.1111111111111111,
             "#000012"
            ],
            [
             0.2222222222222222,
             "#000013"
            ],
            [
             0.3333333333333333,
             "#000014"
            ],
            [
             0.4444444444444444,
             "#000015"
            ],
            [
             0.5555555555555556,
             "#000016"
            ],
            [
             0.6666666666666666,
             "#000017"
            ],
            [
             0.7777777777777778,
             "#000018"
            ],
            [
             0.8888888888888888,
             "#000019"
            ],
            [
             1,
             "#000020"
            ]
           ],
           "sequentialminus": [
            [
             0,
             "#000011"
            ],
            [
             0.1111111111111111,
             "#000012"
            ],
            [
             0.2222222222222222,
             "#000013"
            ],
            [
             0.3333333333333333,
             "#000014"
            ],
            [
             0.4444444444444444,
             "#000015"
            ],
            [
             0.5555555555555556,
             "#000016"
            ],
            [
             0.6666666666666666,
             "#000017"
            ],
            [
             0.7777777777777778,
             "#000018"
            ],
            [
             0.8888888888888888,
             "#000019"
            ],
            [
             1,
             "#000020"
            ]
           ]
          },
          "colorway": [
           "#000001",
           "#000002",
           "#000003",
           "#000004",
           "#000005",
           "#000006",
           "#000007",
           "#000008",
           "#000009",
           "#000010"
          ]
         }
        },
        "title": {
         "text": "Portfolio Value ($) Time Series Through 2025-01-12 20:00:00"
        },
        "xaxis": {
         "anchor": "y",
         "domain": [
          0,
          1
         ],
         "title": {
          "text": "date"
         }
        },
        "yaxis": {
         "anchor": "x",
         "domain": [
          0,
          1
         ],
         "title": {
          "text": "Portfolio Value"
         }
        }
       }
      }
     },
     "metadata": {},
     "output_type": "display_data"
    }
   ],
   "source": [
    "fig2 = px.scatter(\n",
    "    historical_port_values,\n",
    "    x='date',\n",
    "    y='Portfolio Value',\n",
    "    title=f\"Portfolio Value ($) Time Series Through {formatted_today_utc}\",\n",
    "    color_discrete_sequence=px.colors.qualitative.Plotly\n",
    ")\n",
    "\n",
    "fig2.show()"
   ]
  },
  {
   "cell_type": "code",
   "execution_count": 34,
   "metadata": {},
   "outputs": [],
   "source": [
    "melted = historical_data.melt(id_vars=['date'], \n",
    "                              var_name='Asset', \n",
    "                              value_name='Weight')\n"
   ]
  },
  {
   "cell_type": "code",
   "execution_count": 35,
   "metadata": {},
   "outputs": [],
   "source": [
    "melted = melted[melted['Weight'] > 0]"
   ]
  },
  {
   "cell_type": "code",
   "execution_count": 36,
   "metadata": {},
   "outputs": [
    {
     "data": {
      "application/vnd.plotly.v1+json": {
       "config": {
        "plotlyServerURL": "https://plot.ly"
       },
       "data": [
        {
         "alignmentgroup": "True",
         "hovertemplate": "Asset=LAVA<br>date=%{x}<br>Weight=%{y}<extra></extra>",
         "legendgroup": "LAVA",
         "marker": {
          "color": "#636EFA",
          "pattern": {
           "shape": ""
          }
         },
         "name": "LAVA",
         "offsetgroup": "LAVA",
         "orientation": "v",
         "showlegend": true,
         "textposition": "auto",
         "type": "bar",
         "x": [
          "2025-01-12 19:00:00",
          "2025-01-12 20:00:00"
         ],
         "xaxis": "x",
         "y": [
          0.04136003044600004,
          0.15342397251269518
         ],
         "yaxis": "y"
        },
        {
         "alignmentgroup": "True",
         "hovertemplate": "Asset=STG<br>date=%{x}<br>Weight=%{y}<extra></extra>",
         "legendgroup": "STG",
         "marker": {
          "color": "#EF553B",
          "pattern": {
           "shape": ""
          }
         },
         "name": "STG",
         "offsetgroup": "STG",
         "orientation": "v",
         "showlegend": true,
         "textposition": "auto",
         "type": "bar",
         "x": [
          "2025-01-12 19:00:00",
          "2025-01-12 20:00:00"
         ],
         "xaxis": "x",
         "y": [
          0.10756976330549686,
          4.75258353176345e-9
         ],
         "yaxis": "y"
        },
        {
         "alignmentgroup": "True",
         "hovertemplate": "Asset=USDC<br>date=%{x}<br>Weight=%{y}<extra></extra>",
         "legendgroup": "USDC",
         "marker": {
          "color": "#00CC96",
          "pattern": {
           "shape": ""
          }
         },
         "name": "USDC",
         "offsetgroup": "USDC",
         "orientation": "v",
         "showlegend": true,
         "textposition": "auto",
         "type": "bar",
         "x": [
          "2025-01-12 19:00:00",
          "2025-01-12 20:00:00"
         ],
         "xaxis": "x",
         "y": [
          0.8510702062485032,
          0.5653103122359494
         ],
         "yaxis": "y"
        },
        {
         "alignmentgroup": "True",
         "hovertemplate": "Asset=CRV<br>date=%{x}<br>Weight=%{y}<extra></extra>",
         "legendgroup": "CRV",
         "marker": {
          "color": "#AB63FA",
          "pattern": {
           "shape": ""
          }
         },
         "name": "CRV",
         "offsetgroup": "CRV",
         "orientation": "v",
         "showlegend": true,
         "textposition": "auto",
         "type": "bar",
         "x": [
          "2025-01-12 20:00:00"
         ],
         "xaxis": "x",
         "y": [
          0.2812656446191395
         ],
         "yaxis": "y"
        },
        {
         "alignmentgroup": "True",
         "hovertemplate": "Asset=ZRO<br>date=%{x}<br>Weight=%{y}<extra></extra>",
         "legendgroup": "ZRO",
         "marker": {
          "color": "#FFA15A",
          "pattern": {
           "shape": ""
          }
         },
         "name": "ZRO",
         "offsetgroup": "ZRO",
         "orientation": "v",
         "showlegend": true,
         "textposition": "auto",
         "type": "bar",
         "x": [
          "2025-01-12 20:00:00"
         ],
         "xaxis": "x",
         "y": [
          6.587963239417609e-8
         ],
         "yaxis": "y"
        }
       ],
       "layout": {
        "barmode": "relative",
        "legend": {
         "title": {
          "text": "Asset"
         },
         "tracegroupgap": 0
        },
        "template": {
         "data": {
          "candlestick": [
           {
            "decreasing": {
             "line": {
              "color": "#000033"
             }
            },
            "increasing": {
             "line": {
              "color": "#000032"
             }
            },
            "type": "candlestick"
           }
          ],
          "contour": [
           {
            "colorscale": [
             [
              0,
              "#000011"
             ],
             [
              0.1111111111111111,
              "#000012"
             ],
             [
              0.2222222222222222,
              "#000013"
             ],
             [
              0.3333333333333333,
              "#000014"
             ],
             [
              0.4444444444444444,
              "#000015"
             ],
             [
              0.5555555555555556,
              "#000016"
             ],
             [
              0.6666666666666666,
              "#000017"
             ],
             [
              0.7777777777777778,
              "#000018"
             ],
             [
              0.8888888888888888,
              "#000019"
             ],
             [
              1,
              "#000020"
             ]
            ],
            "type": "contour"
           }
          ],
          "contourcarpet": [
           {
            "colorscale": [
             [
              0,
              "#000011"
             ],
             [
              0.1111111111111111,
              "#000012"
             ],
             [
              0.2222222222222222,
              "#000013"
             ],
             [
              0.3333333333333333,
              "#000014"
             ],
             [
              0.4444444444444444,
              "#000015"
             ],
             [
              0.5555555555555556,
              "#000016"
             ],
             [
              0.6666666666666666,
              "#000017"
             ],
             [
              0.7777777777777778,
              "#000018"
             ],
             [
              0.8888888888888888,
              "#000019"
             ],
             [
              1,
              "#000020"
             ]
            ],
            "type": "contourcarpet"
           }
          ],
          "heatmap": [
           {
            "colorscale": [
             [
              0,
              "#000011"
             ],
             [
              0.1111111111111111,
              "#000012"
             ],
             [
              0.2222222222222222,
              "#000013"
             ],
             [
              0.3333333333333333,
              "#000014"
             ],
             [
              0.4444444444444444,
              "#000015"
             ],
             [
              0.5555555555555556,
              "#000016"
             ],
             [
              0.6666666666666666,
              "#000017"
             ],
             [
              0.7777777777777778,
              "#000018"
             ],
             [
              0.8888888888888888,
              "#000019"
             ],
             [
              1,
              "#000020"
             ]
            ],
            "type": "heatmap"
           }
          ],
          "histogram2d": [
           {
            "colorscale": [
             [
              0,
              "#000011"
             ],
             [
              0.1111111111111111,
              "#000012"
             ],
             [
              0.2222222222222222,
              "#000013"
             ],
             [
              0.3333333333333333,
              "#000014"
             ],
             [
              0.4444444444444444,
              "#000015"
             ],
             [
              0.5555555555555556,
              "#000016"
             ],
             [
              0.6666666666666666,
              "#000017"
             ],
             [
              0.7777777777777778,
              "#000018"
             ],
             [
              0.8888888888888888,
              "#000019"
             ],
             [
              1,
              "#000020"
             ]
            ],
            "type": "histogram2d"
           }
          ],
          "icicle": [
           {
            "textfont": {
             "color": "white"
            },
            "type": "icicle"
           }
          ],
          "sankey": [
           {
            "textfont": {
             "color": "#000036"
            },
            "type": "sankey"
           }
          ],
          "scatter": [
           {
            "marker": {
             "line": {
              "width": 0
             }
            },
            "type": "scatter"
           }
          ],
          "table": [
           {
            "cells": {
             "fill": {
              "color": "#000038"
             },
             "font": {
              "color": "#000037"
             },
             "line": {
              "color": "#000039"
             }
            },
            "header": {
             "fill": {
              "color": "#000040"
             },
             "font": {
              "color": "#000036"
             },
             "line": {
              "color": "#000039"
             }
            },
            "type": "table"
           }
          ],
          "waterfall": [
           {
            "connector": {
             "line": {
              "color": "#000036",
              "width": 2
             }
            },
            "decreasing": {
             "marker": {
              "color": "#000033"
             }
            },
            "increasing": {
             "marker": {
              "color": "#000032"
             }
            },
            "totals": {
             "marker": {
              "color": "#000034"
             }
            },
            "type": "waterfall"
           }
          ]
         },
         "layout": {
          "coloraxis": {
           "colorscale": [
            [
             0,
             "#000011"
            ],
            [
             0.1111111111111111,
             "#000012"
            ],
            [
             0.2222222222222222,
             "#000013"
            ],
            [
             0.3333333333333333,
             "#000014"
            ],
            [
             0.4444444444444444,
             "#000015"
            ],
            [
             0.5555555555555556,
             "#000016"
            ],
            [
             0.6666666666666666,
             "#000017"
            ],
            [
             0.7777777777777778,
             "#000018"
            ],
            [
             0.8888888888888888,
             "#000019"
            ],
            [
             1,
             "#000020"
            ]
           ]
          },
          "colorscale": {
           "diverging": [
            [
             0,
             "#000021"
            ],
            [
             0.1,
             "#000022"
            ],
            [
             0.2,
             "#000023"
            ],
            [
             0.3,
             "#000024"
            ],
            [
             0.4,
             "#000025"
            ],
            [
             0.5,
             "#000026"
            ],
            [
             0.6,
             "#000027"
            ],
            [
             0.7,
             "#000028"
            ],
            [
             0.8,
             "#000029"
            ],
            [
             0.9,
             "#000030"
            ],
            [
             1,
             "#000031"
            ]
           ],
           "sequential": [
            [
             0,
             "#000011"
            ],
            [
             0.1111111111111111,
             "#000012"
            ],
            [
             0.2222222222222222,
             "#000013"
            ],
            [
             0.3333333333333333,
             "#000014"
            ],
            [
             0.4444444444444444,
             "#000015"
            ],
            [
             0.5555555555555556,
             "#000016"
            ],
            [
             0.6666666666666666,
             "#000017"
            ],
            [
             0.7777777777777778,
             "#000018"
            ],
            [
             0.8888888888888888,
             "#000019"
            ],
            [
             1,
             "#000020"
            ]
           ],
           "sequentialminus": [
            [
             0,
             "#000011"
            ],
            [
             0.1111111111111111,
             "#000012"
            ],
            [
             0.2222222222222222,
             "#000013"
            ],
            [
             0.3333333333333333,
             "#000014"
            ],
            [
             0.4444444444444444,
             "#000015"
            ],
            [
             0.5555555555555556,
             "#000016"
            ],
            [
             0.6666666666666666,
             "#000017"
            ],
            [
             0.7777777777777778,
             "#000018"
            ],
            [
             0.8888888888888888,
             "#000019"
            ],
            [
             1,
             "#000020"
            ]
           ]
          },
          "colorway": [
           "#000001",
           "#000002",
           "#000003",
           "#000004",
           "#000005",
           "#000006",
           "#000007",
           "#000008",
           "#000009",
           "#000010"
          ]
         }
        },
        "title": {
         "text": "Portfolio Composition Over Time"
        },
        "xaxis": {
         "anchor": "y",
         "domain": [
          0,
          1
         ],
         "title": {
          "text": "date"
         }
        },
        "yaxis": {
         "anchor": "x",
         "domain": [
          0,
          1
         ],
         "title": {
          "text": "Weight"
         }
        }
       }
      }
     },
     "metadata": {},
     "output_type": "display_data"
    }
   ],
   "source": [
    "fig3 = px.bar(\n",
    "    melted,\n",
    "    x='date',\n",
    "    y='Weight',\n",
    "    color='Asset',\n",
    "    title='Portfolio Composition Over Time',\n",
    "    color_discrete_sequence=px.colors.qualitative.Plotly\n",
    ")\n",
    "\n",
    "fig3.show()\n"
   ]
  },
  {
   "cell_type": "code",
   "execution_count": 37,
   "metadata": {},
   "outputs": [
    {
     "data": {
      "text/plain": [
       "{'target_composition': [{'asset': 'USDC',\n",
       "   'reasoning': 'USDC will provide stability and acts as a safety buffer in a volatile environment, especially given the poor performance metrics of other assets.',\n",
       "   'weight': 0.5},\n",
       "  {'asset': 'LAVA',\n",
       "   'reasoning': 'LAVA, while showing negative metrics, can retain a portion due to its existing position and potential to recover.',\n",
       "   'weight': 0.25},\n",
       "  {'asset': 'CRV',\n",
       "   'reasoning': 'CRV has a larger market presence compared to other assets with similar poor metrics, offering potential upside with diversification.',\n",
       "   'weight': 0.25}]}"
      ]
     },
     "execution_count": 37,
     "metadata": {},
     "output_type": "execute_result"
    }
   ],
   "source": [
    "model_resonse"
   ]
  },
  {
   "cell_type": "code",
   "execution_count": 38,
   "metadata": {},
   "outputs": [
    {
     "data": {
      "text/plain": [
       "'2025-01-12 20:00:00'"
      ]
     },
     "execution_count": 38,
     "metadata": {},
     "output_type": "execute_result"
    }
   ],
   "source": [
    "last_run"
   ]
  },
  {
   "cell_type": "code",
   "execution_count": 39,
   "metadata": {},
   "outputs": [
    {
     "data": {
      "text/plain": [
       "'Sun, 19 Jan 2025 20:18:48 GMT'"
      ]
     },
     "execution_count": 39,
     "metadata": {},
     "output_type": "execute_result"
    }
   ],
   "source": [
    "next_run"
   ]
  },
  {
   "cell_type": "code",
   "execution_count": 40,
   "metadata": {},
   "outputs": [
    {
     "data": {
      "text/plain": [
       "'# Instructions:\\nHere are some details about my trading portfolio. Please help me make decisions to rebalance it based on the provided data.\\n# Personality\\nNone\\n# Risk Level\\nModerate risk, willing to risk some money for the right investments but not chasing every new opportunity.\\nThis represents the total $USD value of the account, including positions, margin, and available funds.\\n# Available Balance\\n0.7347088723648053\\nPortions of this \\'available_balance\\' can be used for placing new orders or modifying existing positions.\\nAlways leave a fraction of the total \\'available_balance\\' as a safety buffer for unforeseen volatility.\\nThe \\'available_balance\\' is shared by all positions, so it is important to keep track of the available value and adjust your position sizes accordingly.\\n# Open Positions\\n{\\'LAVA\\': 0.11923067253569794, \\'MAGIC\\': 0.0, \\'STG\\': 0.3340539925390671, \\'USDC\\': 0.54671527762027, \\'DAI\\': 0.0, \\'ARB\\': 0.0, \\'USDT\\': 0.0, \\'CRV\\': 0.0, \\'ZRO\\': 5.730496503063168e-08}\\n# Here is the most recent information I want to base my decisions on:\\nSTG stats as of 2025-01-12 20:00: Excess Return: -0.00030254076465313905, sharpe ratio: -0.021457166306654975 Latest Price: $0.484105, 7 day Return: 5.578757974% 7 day rolling average: $0.4458218284 30 day rolling average: $0.4512629841 7 day average volume: $183.916620432 7 day total volume: $1922664.35 \\nARB stats as of 2025-01-12 20:00: Excess Return: -0.0010967747911814578, sharpe ratio: -0.12243758190109066 Latest Price: $0.739661, 7 day Return: -17.422282759999998% 7 day rolling average: $0.8061522899 30 day rolling average: $0.8154345026 7 day average volume: $793.384931426 7 day total volume: $199115816.24 \\nLAVA stats as of 2025-01-12 20:00: Excess Return: -0.0005557308575383231, sharpe ratio: -0.025832819831247546 Latest Price: $0.147082, 7 day Return: -16.26034775% 7 day rolling average: $0.1624903846 30 day rolling average: $0.163384418 7 day average volume: $205.164114226 7 day total volume: $3563495.5 \\nDAI stats as of 2025-01-12 20:00: Excess Return: -1.9505371266258165e-05, sharpe ratio: -0.008787542495012672 Latest Price: $0.999112, 7 day Return: -0.18861138859999999% 7 day rolling average: $1.000030337 30 day rolling average: $1.000055354 7 day average volume: $800.266278824 7 day total volume: $11348576.1 \\nUSDC stats as of 2025-01-12 20:00: Excess Return: -4.8319284713931375e-06, sharpe ratio: -0.0028795194696363165 Latest Price: $0.999755, 7 day Return: -0.0245% 7 day rolling average: $1.000022544 30 day rolling average: $1.000034016 7 day average volume: $777.736512617 7 day total volume: $155396421.64 \\nMAGIC stats as of 2025-01-12 20:00: Excess Return: -0.001238683010824367, sharpe ratio: -0.10585841127394288 Latest Price: $0.473832, 7 day Return: -24.32406533% 7 day rolling average: $0.5159945207 30 day rolling average: $0.5251221746 7 day average volume: $289.559629331 7 day total volume: $4312122.0 \\nZRO stats as of 2025-01-12 20:00: Excess Return: -0.0012011470103026982, sharpe ratio: -0.12184014527764171 Latest Price: $4.64, 7 day Return: -19.44444444% 7 day rolling average: $5.052899408 30 day rolling average: $5.117883598 7 day average volume: $473.727478592 7 day total volume: $5974650.96 \\nUSDT stats as of 2025-01-12 20:00: Excess Return: -9.09507520790601e-06, sharpe ratio: -0.004551406683225666 Latest Price: $0.99994, 7 day Return: 0.03331309205% 7 day rolling average: $0.999914284 30 day rolling average: $0.9999078889 7 day average volume: $1376.62591184 7 day total volume: $592626442.04 \\nCRV stats as of 2025-01-12 20:00: Excess Return: -0.0012369011796731803, sharpe ratio: -0.09626613498749875 Latest Price: $0.828287, 7 day Return: -21.63793756% 7 day rolling average: $0.885302716 30 day rolling average: $0.9012759735 7 day average volume: $855.55684571 7 day total volume: $6371331.83 \\n# Here is additional macro economic data for context\\nOvernight Interbank Rate: 4.4799999999999995%, 3-Month Rate: 4.46%, 10-Year Rate: 4.38999999999999%, cpi: 2.74938%\\n\\n# Please provide a JSON dictionary matching the following format:\\n```json\\n{\\n  \"target_composition\": [\\n    {\\n      \"asset\": \"ETH\",\\n      \"weight\": 0.50,\\n      \"reasoning\": \"ETH has a strong Sharpe Ratio and good recent performance.\"\\n    },\\n    {\\n      \"asset\": \"BTC\",\\n      \"weight\": 0.25,\\n      \"reasoning\": \"BTC remains a large-cap store of value with moderate performance.\"\\n    },\\n    {\\n      \"asset\": \"ADA\",\\n      \"weight\": 0.25,\\n      \"reasoning\": \"ADA presents an opportunity for growth given recent metrics.\"\\n    }\\n  ]\\n}\\n```\\n\\n### Requirements:\\n- The sum of all `weight` values **must equal 1**.\\n- Provide a brief `reasoning` for each asset.\\n- Provide **only** the JSON response. **No** extra text or explanation outside the JSON.\\n- Each `weight` must be a decimal between 0 and 1.\\n'"
      ]
     },
     "execution_count": 40,
     "metadata": {},
     "output_type": "execute_result"
    }
   ],
   "source": [
    "user_message"
   ]
  },
  {
   "cell_type": "code",
   "execution_count": 41,
   "metadata": {},
   "outputs": [
    {
     "data": {
      "text/plain": [
       "'# Instructions:\\nAct as a knowledgeable cryptocurrency assistant helping users manage and optimize their trading portfolio.\\nUsers understand that trading cryptocurrency is inherently risky and seek to make informed, strategic decisions to maximize their returns.\\nYou will be provided with the following data:\\n- `available_balance`: Represents the user\\'s total available USD value for making new trades.\\n- `risk_level`: Indicates the user\\'s risk tolerance (e.g., Low, Moderate, High).\\n- `current_positions`: A dictionary mapping cryptocurrency symbols to their current USD value holdings (e.g., {\\'ETH\\': 1500, \\'BTC\\': 1000}).\\n- `market_data`: Recent performance metrics for each asset, including Sharpe Ratio, Excess Return, Latest Price, and 60-Day Return (e.g., {\\'ETH\\': {\\'sharpe_ratio\\': 1.5, \\'excess_return\\': 0.05, \\'latest_price\\': 3000, \\'60d_return\\': 20.0}, ...}).\\n\\nYour primary objective is to provide a rebalance strategy that aims to maximize the portfolio\\'s returns while adhering to the following guidelines:\\n\\n## **Risk Management:**\\n- Ensure that no individual asset exceeds the `available_balance` if you choose to buy or hold more of it.\\n- Maintain a safety buffer within the `available_balance` to handle market volatility and unforeseen events.\\n- Respect the user\\'s `risk_level` by adjusting allocations accordingly.\\n- No asset may be more than 80% of the portfolio.\\n- Avoid allocations below 0.1 USD in absolute terms, to ensure meaningful positions.\\n- There should only be one stablecoin per target composition.  For example, if it is best to include 50% in a stablecoin, choose just one stablecoin.\\n## **Performance Optimization:**\\n- Prioritize assets with higher Sharpe Ratios and Excess Returns to maximize risk-adjusted returns.\\n- Consider reallocating from underperforming assets to those with strong performance metrics.\\n- Ensure diversification to spread risk while seeking high-return opportunities.\\n\\n## **Target Composition:**\\nInstead of listing positions to open, modify, or maintain, **provide a single portfolio composition** where each asset has a `weight` (fraction of total portfolio) and a short `reasoning`.\\n- **Asset**: The cryptocurrency symbol (e.g., ETH, BTC).\\n- **Weight**: A decimal in [0, 1], where the sum of all weights must equal 1.0.\\n- **Reasoning**: A concise explanation for why the asset is allocated that weight.\\n\\n**Remember, no asset may be more than 80% (0.8 composition) of the portfolio.**\\n## **Output Format:**\\nProvide a JSON dictionary with the following structure:\\n```json\\n{\\n  \"target_composition\": [\\n    {\\n      \"asset\": \"ETH\",\\n      \"weight\": 0.50,\\n      \"reasoning\": \"ETH has a strong Sharpe Ratio and robust recent performance.\"\\n    },\\n    {\\n      \"asset\": \"BTC\",\\n      \"weight\": 0.30,\\n      \"reasoning\": \"BTC remains a large-cap with moderate performance.\"\\n    },\\n    {\\n      \"asset\": \"SOL\",\\n      \"weight\": 0.20,\\n      \"reasoning\": \"SOL presents growth potential given recent metrics.\"\\n    }\\n  ]\\n}\\n```\\n\\n### Requirements:\\n- All `weight` values **must sum to 1.0**.\\n- Provide a brief `reasoning` for each asset.\\n- **No additional fields** other than `target_composition`.\\n- Provide **only** the JSON response. **No** extra text or explanation outside the JSON.\\n'"
      ]
     },
     "execution_count": 41,
     "metadata": {},
     "output_type": "execute_result"
    }
   ],
   "source": [
    "system_prompt"
   ]
  }
 ],
 "metadata": {
  "kernelspec": {
   "display_name": "encode_env",
   "language": "python",
   "name": "encode_env"
  },
  "language_info": {
   "codemirror_mode": {
    "name": "ipython",
    "version": 3
   },
   "file_extension": ".py",
   "mimetype": "text/x-python",
   "name": "python",
   "nbconvert_exporter": "python",
   "pygments_lexer": "ipython3",
   "version": "3.11.9"
  }
 },
 "nbformat": 4,
 "nbformat_minor": 2
}
