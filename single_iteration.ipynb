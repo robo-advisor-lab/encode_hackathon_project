{
 "cells": [
  {
   "cell_type": "markdown",
   "metadata": {},
   "source": [
    "# Single iteration example\n",
    "Once you're happy with the first version of your functionality, you can build a scheduler around this to run on a regular basis or listen for events. The simplest possible version of a scheduler is a while loop. "
   ]
  },
  {
   "cell_type": "markdown",
   "metadata": {},
   "source": [
    "## Setup openai client\n",
    "We use Openai's GPT-4o model for this example, but you are free to use any model you want."
   ]
  },
  {
   "cell_type": "code",
   "execution_count": 4,
   "metadata": {},
   "outputs": [
    {
     "data": {
      "text/plain": [
       "True"
      ]
     },
     "execution_count": 4,
     "metadata": {},
     "output_type": "execute_result"
    }
   ],
   "source": [
    "from dotenv import load_dotenv\n",
    "import os\n",
    "\n",
    "load_dotenv()"
   ]
  },
  {
   "cell_type": "code",
   "execution_count": 5,
   "metadata": {},
   "outputs": [],
   "source": [
    "OPENAI_API_KEY = os.getenv('OPENAI_API_KEY')"
   ]
  },
  {
   "cell_type": "code",
   "execution_count": 6,
   "metadata": {},
   "outputs": [],
   "source": [
    "\n",
    "from openai import OpenAI\n",
    "openai_client = OpenAI(api_key=OPENAI_API_KEY)\n",
    "\n",
    "# if you're getting an error here, ensure your envirornment is setup and that you have exported an openai api key\n",
    "# export OPENAI_API_KEY=\"your_api_key_here\""
   ]
  },
  {
   "cell_type": "markdown",
   "metadata": {},
   "source": [
    "## Setup hyperliquid sdk \n",
    "We use the hyperliquid L1 netowrk for this example, but you are free to use any app/chain you want.\n",
    "Hyperliquid offers a great SDK for python, fast settlement times for trades, and friendly user interface."
   ]
  },
  {
   "cell_type": "code",
   "execution_count": 7,
   "metadata": {},
   "outputs": [
    {
     "name": "stdout",
     "output_type": "stream",
     "text": [
      "{\n",
      "  \"marginSummary\": {\n",
      "    \"accountValue\": \"326762.754905\",\n",
      "    \"totalNtlPos\": \"53182.20944\",\n",
      "    \"totalRawUsd\": \"350864.329725\",\n",
      "    \"totalMarginUsed\": \"2684.400327\"\n",
      "  },\n",
      "  \"crossMarginSummary\": {\n",
      "    \"accountValue\": \"326762.754905\",\n",
      "    \"totalNtlPos\": \"53182.20944\",\n",
      "    \"totalRawUsd\": \"350864.329725\",\n",
      "    \"totalMarginUsed\": \"2684.400327\"\n",
      "  },\n",
      "  \"crossMaintenanceMarginUsed\": \"531.822092\",\n",
      "  \"withdrawable\": \"324078.354578\",\n",
      "  \"assetPositions\": [\n",
      "    {\n",
      "      \"type\": \"oneWay\",\n",
      "      \"position\": {\n",
      "        \"coin\": \"ATOM\",\n",
      "        \"szi\": \"491.45\",\n",
      "        \"leverage\": {\n",
      "          \"type\": \"cross\",\n",
      "          \"value\": 20\n",
      "        },\n",
      "        \"entryPx\": \"10.9725\",\n",
      "        \"positionValue\": \"5013.7729\",\n",
      "        \"unrealizedPnl\": \"-378.662225\",\n",
      "        \"returnOnEquity\": \"-1.40442014\",\n",
      "        \"liquidationPx\": null,\n",
      "        \"marginUsed\": \"250.688645\",\n",
      "        \"maxLeverage\": 50,\n",
      "        \"cumFunding\": {\n",
      "          \"allTime\": \"-1698.946681\",\n",
      "          \"sinceOpen\": \"-1698.946681\",\n",
      "          \"sinceChange\": \"4.559296\"\n",
      "        }\n",
      "      }\n",
      "    },\n",
      "    {\n",
      "      \"type\": \"oneWay\",\n",
      "      \"position\": {\n",
      "        \"coin\": \"BTC\",\n",
      "        \"szi\": \"-0.15792\",\n",
      "        \"leverage\": {\n",
      "          \"type\": \"cross\",\n",
      "          \"value\": 20\n",
      "        },\n",
      "        \"entryPx\": \"31538.2\",\n",
      "        \"positionValue\": \"15757.41552\",\n",
      "        \"unrealizedPnl\": \"-10776.902976\",\n",
      "        \"returnOnEquity\": \"-43.27628083\",\n",
      "        \"liquidationPx\": \"2145126.26074739\",\n",
      "        \"marginUsed\": \"787.870776\",\n",
      "        \"maxLeverage\": 50,\n",
      "        \"cumFunding\": {\n",
      "          \"allTime\": \"-6143.719569\",\n",
      "          \"sinceOpen\": \"-6143.719569\",\n",
      "          \"sinceChange\": \"-6346.345171\"\n",
      "        }\n",
      "      }\n",
      "    },\n",
      "    {\n",
      "      \"type\": \"oneWay\",\n",
      "      \"position\": {\n",
      "        \"coin\": \"ETH\",\n",
      "        \"szi\": \"-2.8225\",\n",
      "        \"leverage\": {\n",
      "          \"type\": \"cross\",\n",
      "          \"value\": 20\n",
      "        },\n",
      "        \"entryPx\": \"2008.46\",\n",
      "        \"positionValue\": \"11376.65075\",\n",
      "        \"unrealizedPnl\": \"-5707.7724\",\n",
      "        \"returnOnEquity\": \"-20.13721956\",\n",
      "        \"liquidationPx\": \"118468.58257829\",\n",
      "        \"marginUsed\": \"568.832537\",\n",
      "        \"maxLeverage\": 50,\n",
      "        \"cumFunding\": {\n",
      "          \"allTime\": \"-8257.821943\",\n",
      "          \"sinceOpen\": \"-8257.821943\",\n",
      "          \"sinceChange\": \"-8418.180037\"\n",
      "        }\n",
      "      }\n",
      "    },\n",
      "    {\n",
      "      \"type\": \"oneWay\",\n",
      "      \"position\": {\n",
      "        \"coin\": \"BNB\",\n",
      "        \"szi\": \"-14.872\",\n",
      "        \"leverage\": {\n",
      "          \"type\": \"cross\",\n",
      "          \"value\": 20\n",
      "        },\n",
      "        \"entryPx\": \"346.33\",\n",
      "        \"positionValue\": \"11014.9468\",\n",
      "        \"unrealizedPnl\": \"-5864.321567\",\n",
      "        \"returnOnEquity\": \"-22.7712998\",\n",
      "        \"liquidationPx\": \"22459.37805119\",\n",
      "        \"marginUsed\": \"550.74734\",\n",
      "        \"maxLeverage\": 50,\n",
      "        \"cumFunding\": {\n",
      "          \"allTime\": \"-2385.321776\",\n",
      "          \"sinceOpen\": \"-2385.321776\",\n",
      "          \"sinceChange\": \"-2401.266557\"\n",
      "        }\n",
      "      }\n",
      "    },\n",
      "    {\n",
      "      \"type\": \"oneWay\",\n",
      "      \"position\": {\n",
      "        \"coin\": \"GMT\",\n",
      "        \"szi\": \"232.0\",\n",
      "        \"leverage\": {\n",
      "          \"type\": \"cross\",\n",
      "          \"value\": 2\n",
      "        },\n",
      "        \"entryPx\": \"0.323488\",\n",
      "        \"positionValue\": \"56.19968\",\n",
      "        \"unrealizedPnl\": \"-18.849536\",\n",
      "        \"returnOnEquity\": \"-0.50232466\",\n",
      "        \"liquidationPx\": null,\n",
      "        \"marginUsed\": \"28.09984\",\n",
      "        \"maxLeverage\": 50,\n",
      "        \"cumFunding\": {\n",
      "          \"allTime\": \"189.359807\",\n",
      "          \"sinceOpen\": \"189.359807\",\n",
      "          \"sinceChange\": \"6.643201\"\n",
      "        }\n",
      "      }\n",
      "    },\n",
      "    {\n",
      "      \"type\": \"oneWay\",\n",
      "      \"position\": {\n",
      "        \"coin\": \"DYDX\",\n",
      "        \"szi\": \"-200.7\",\n",
      "        \"leverage\": {\n",
      "          \"type\": \"cross\",\n",
      "          \"value\": 20\n",
      "        },\n",
      "        \"entryPx\": \"3.0287\",\n",
      "        \"positionValue\": \"492.87906\",\n",
      "        \"unrealizedPnl\": \"114.98103\",\n",
      "        \"returnOnEquity\": \"3.78314128\",\n",
      "        \"liquidationPx\": \"1611.82761653\",\n",
      "        \"marginUsed\": \"24.643953\",\n",
      "        \"maxLeverage\": 50,\n",
      "        \"cumFunding\": {\n",
      "          \"allTime\": \"-1114.899495\",\n",
      "          \"sinceOpen\": \"-40.839461\",\n",
      "          \"sinceChange\": \"-40.839461\"\n",
      "        }\n",
      "      }\n",
      "    },\n",
      "    {\n",
      "      \"type\": \"oneWay\",\n",
      "      \"position\": {\n",
      "        \"coin\": \"APE\",\n",
      "        \"szi\": \"2689.3\",\n",
      "        \"leverage\": {\n",
      "          \"type\": \"cross\",\n",
      "          \"value\": 20\n",
      "        },\n",
      "        \"entryPx\": \"3.82611\",\n",
      "        \"positionValue\": \"5031.94923\",\n",
      "        \"unrealizedPnl\": \"-5257.608393\",\n",
      "        \"returnOnEquity\": \"-10.21930891\",\n",
      "        \"liquidationPx\": null,\n",
      "        \"marginUsed\": \"251.597461\",\n",
      "        \"maxLeverage\": 50,\n",
      "        \"cumFunding\": {\n",
      "          \"allTime\": \"287.345104\",\n",
      "          \"sinceOpen\": \"287.345104\",\n",
      "          \"sinceChange\": \"287.345104\"\n",
      "        }\n",
      "      }\n",
      "    },\n",
      "    {\n",
      "      \"type\": \"oneWay\",\n",
      "      \"position\": {\n",
      "        \"coin\": \"OP\",\n",
      "        \"szi\": \"1646.9\",\n",
      "        \"leverage\": {\n",
      "          \"type\": \"cross\",\n",
      "          \"value\": 20\n",
      "        },\n",
      "        \"entryPx\": \"2.0938\",\n",
      "        \"positionValue\": \"4438.3955\",\n",
      "        \"unrealizedPnl\": \"990.099812\",\n",
      "        \"returnOnEquity\": \"5.74254589\",\n",
      "        \"liquidationPx\": null,\n",
      "        \"marginUsed\": \"221.919775\",\n",
      "        \"maxLeverage\": 50,\n",
      "        \"cumFunding\": {\n",
      "          \"allTime\": \"811.615335\",\n",
      "          \"sinceOpen\": \"811.615335\",\n",
      "          \"sinceChange\": \"653.813639\"\n",
      "        }\n",
      "      }\n",
      "    }\n",
      "  ],\n",
      "  \"time\": 1733581079972\n",
      "}\n"
     ]
    }
   ],
   "source": [
    "from hyperliquid.info import Info\n",
    "from hyperliquid.utils import constants\n",
    "import json\n",
    "\n",
    "info = Info(constants.TESTNET_API_URL, skip_ws=True)\n",
    "\n",
    "# This is an example address, when you start trading this should be replaced with your address\n",
    "user_state = info.user_state(\"0xcd5051944f780a621ee62e39e493c489668acf4d\") \n",
    "print(json.dumps(user_state, indent=2))\n",
    "\n",
    "# if you're getting an error or no user_state here make sure your environment variables are set correctly and that all requirements are installed"
   ]
  },
  {
   "cell_type": "markdown",
   "metadata": {},
   "source": [
    "## Define example identity of a user\n",
    "This can be personalized for each individual user. We'll end up passing these fields to our prompts later, so that the same agent system can be used by many people with different goals and values. \n",
    "\n",
    "\n",
    "To think about: what other fields might be useful here? Are there sources of data you could gather from users instead of asking these questions directly? Ex: If I gave you my wallet address, what info would be helpful there? How would you gather and analyze that?"
   ]
  },
  {
   "cell_type": "code",
   "execution_count": 3,
   "metadata": {},
   "outputs": [],
   "source": [
    "\n",
    "identity_map = {\n",
    "    \"risk_level\": \"Moderate risk, willing to risk some money for the right investments but not chasing every new opportunity.\",\n",
    "    \"token_preferences\": \"Likes ETH more than BTC, doesnt like SOL\",\n",
    "    \"mission_statement\": \"Accumulate as much ETH as possible given the available funds.\",\n",
    "}"
   ]
  },
  {
   "cell_type": "markdown",
   "metadata": {},
   "source": [
    "## Gather onchain data for the user's wallet\n",
    "Info on prices, balances, available assets, etc.\n"
   ]
  },
  {
   "cell_type": "code",
   "execution_count": 4,
   "metadata": {},
   "outputs": [],
   "source": [
    "# the amount available to withdraw is approximately equal to the balance available to trade\n",
    "# there is room for a better way to track this\n",
    "available_balance = user_state.get('withdrawable') # denominated in USD"
   ]
  },
  {
   "cell_type": "code",
   "execution_count": 5,
   "metadata": {},
   "outputs": [],
   "source": [
    "# We're also going to take a look at the current positions that are open, and format them for use with our models\n",
    "positions = user_state.get('assetPositions')\n",
    "positions_for_llm = ''\n",
    "if positions:\n",
    "    for position in positions:\n",
    "        position = position.get('position')\n",
    "        position_for_llm = f\"Current {position.get('coin')} position: size {position.get('szi')} {position.get('coin')}, value of {position.get('positionValue')} usd, leverage {position.get('leverage').get('value')}, and unrealizedPnl {position.get('unrealizedPnl')} usd. The max leverage for this position is {position.get('maxLeverage')}.\\n\"\n",
    "        positions_for_llm += position_for_llm"
   ]
  },
  {
   "cell_type": "markdown",
   "metadata": {},
   "source": [
    "## Gather all additional information\n",
    "This is a great place to experiment with different data sources, for this example we'll simulate a summarization of a chat users might have with in chat, and some recent headlines."
   ]
  },
  {
   "cell_type": "code",
   "execution_count": 6,
   "metadata": {},
   "outputs": [],
   "source": [
    "recent_headlines = (\"*ROBINHOOD: CRYPTO TRADING VOLUMES OVER $30B, UP 600% YOY\\n\"\n",
    "                     \"*FED’S MUSALEM: TIME MAY BE APPROACHING TO SLOW OR PAUSE RATE CUTS\\n\")\n",
    "\n",
    "chat_summary = \"Bob is happy with the Ethereum roadmap and has been hearing more people talk about it.\\n\"\n",
    "\n",
    "chat_and_data_summary = chat_summary + recent_headlines"
   ]
  },
  {
   "cell_type": "markdown",
   "metadata": {},
   "source": [
    "## Create our prompts\n",
    "\n",
    "We do this with markdown because OpenAI models respond well to this format, however you can use any format you like.\n",
    "\n",
    "This is structured as a system prompt that remains fixed for all users, and a user prompt unique to each user."
   ]
  },
  {
   "cell_type": "code",
   "execution_count": 7,
   "metadata": {},
   "outputs": [],
   "source": [
    "system_prompt = (\n",
    "    \"# Instructions:\\n\"\n",
    "    \"Act as a helpful cryptocurrency assistant helping users manage their trading portfolio.\\n\"\n",
    "    \"They understand it is inherently risky to trade cryptocurrency, and they want to make sure they are making informed decisions.\\n\"\n",
    "    \"You will be given a `available_balance` representing the user's total available value to make new trades with, a list of available assets, a risk level, and a list of their current positions.\\n\"\n",
    "    \"Think carefully through all scenarios and please provide your best guidance and reasoning for this decision.\\n\"\n",
    "    \"The USD value of each individual trade should not exceed the `available_balance`, and trades should be sized to allow for sufficient 'available_balance' to handle market volatility or unforeseen events.\\n\"\n",
    "    \"Do not suggest or provide reasoning for order where your suggested order size (for both new and addition to existing positions) is less than 10 USD.\\n\"\n",
    "    \"Ensure that there is enough margin available to support the trade size and leverage. Adjust leverage or order size accordingly, if required, while remaining within the 10 USD per order limit. If not possible, then do not suggest a new position and instead recommend to the user to deposit additional funds.\\n\"\n",
    "    \"# Available Options:\\n\"\n",
    "    \"- create a new position which should be tracked in the list ```positions_to_open```\\n\"\n",
    "    \"- modify or close an existing position which should be tracked in the list ```positions_to_modify```\\n\"\n",
    "    \"- maintain an existing position without changes which should be tracked in the list ```positions_to_maintain```\\n\"\n",
    "    \"# Fields for each option:\\n\"\n",
    "    \"- asset: the asset to trade\\n\"\n",
    "    \"\\t- example: ETH\\n\"\n",
    "    \"- direction: the direction to trade\\n\"\n",
    "    \"\\t- example: long, short\\n\"\n",
    "    \"- size: the size of the trade denominated in USD. It has to be bigger than 10 and should not use up the entire 'available_balance', leaving enough funds available for risk management and flexibility.\\n\"\n",
    "    \"\\t- the trade size should be greater than 10 USD even when modifying an existing position.\\n\"\n",
    "    \"\\t- example: 90 # If the 'available_balance' is 90, use at most 80 for the sum of all trades, keeping 10 as a buffer. Ensure trades are sized to allow for sufficient 'available_balance' to handle market volatility or unforeseen events.\\n\"\n",
    "    \"- leverage: the leverage to use for the trade\\n\"\n",
    "    \"\\t- example: 10\\n\"\n",
    "    \"- reasoning: the reasoning for the decision\\n\"\n",
    "    \"\\t- example: ['People value Alice's opinion and she really likes ETH here.', 'ETH price is low right now, volume is high compared to yesterday.', 'ETH is a solid long term investment.']\\n\"\n",
    ")"
   ]
  },
  {
   "cell_type": "code",
   "execution_count": 8,
   "metadata": {},
   "outputs": [],
   "source": [
    "user_message = (\n",
    "    \"# Instructions:\\n\"\n",
    "    \"Here are some details about me, can you help me make decisions about my trading portfolio?\\n\"\n",
    "    \"# Personality\\n\"\n",
    "    f\"{identity_map.get('chat_personality')}\\n\"\n",
    "    \"# Risk Level\\n\"\n",
    "    f\"{identity_map.get('risk_level')}\\n\"\n",
    "    \"This represents the total $USD value of the account, including positions, margin, and available funds.\\n\"\n",
    "    \"# Available Balance\\n\"\n",
    "    f\"{available_balance}\\n\"\n",
    "    \"Portions of this 'available_balance' can be used for placing new orders or modifying existing positions.\\n\"\n",
    "    \"Always leave a fraction of total 'available_balance' as a safety buffer for unforeseen volatility.\\n\"\n",
    "    \"The 'available_balance' is shared by all positions, so it is important to keep track of the available value and adjust your position sizes accordingly.\\n\"\n",
    "    \"# Open Positions\\n\"\n",
    "    f\"{positions_for_llm}\\n\"\n",
    "    \"# Here is the most recent information I want to base my decisions on:\\n\"\n",
    "    f\"{chat_and_data_summary}\\n\"\n",
    ")\n",
    "\n"
   ]
  },
  {
   "cell_type": "code",
   "execution_count": 9,
   "metadata": {},
   "outputs": [],
   "source": [
    "# append our messages to the chat\n",
    "model = \"gpt-4o-2024-08-06\"\n",
    "messages = [\n",
    "    {\"role\": \"system\", \"content\": system_prompt},\n",
    "    {\"role\": \"user\", \"content\": user_message},\n",
    "]\n"
   ]
  },
  {
   "cell_type": "markdown",
   "metadata": {},
   "source": [
    "# Define our response format\n",
    "\n",
    "We don't want to receive a response of unstructured text, so we'll define a custom response format.\n",
    "We need to be able to act on this information, and need the result in a consistent format. \n",
    "\n",
    "You could choose to use tool calling here as well, however we choose not to because we don't always need to call a tool. Ex: if we're maintaining a positioin we might as well do nothing, instead of calling some position to maintain tool.\n",
    "\n",
    "\n",
    "You can read more about structured output vs. tool calling [here](https://platform.openai.com/docs/guides/structured-outputs)"
   ]
  },
  {
   "cell_type": "code",
   "execution_count": 10,
   "metadata": {},
   "outputs": [],
   "source": [
    "from pydantic import BaseModel, Field\n",
    "from typing import Literal\n",
    "\n",
    "# This class will be used to submit the trades\n",
    "class Position(BaseModel):\n",
    "    market: str = Field(..., description=\"The asset to trade\")\n",
    "    direction: Literal[\"long\", \"short\"] = Field(\n",
    "        ...,\n",
    "        description=\"The direction to trade\",\n",
    "    )\n",
    "    size: float = Field(\n",
    "        ...,\n",
    "        description=\"The size of the trade denominated in USD. It should be greater than 10.\",\n",
    "    )\n",
    "    reasoning: list[str] = Field(\n",
    "        default_factory=list,\n",
    "        description=\"The reasoning for the decision\",\n",
    "    )\n",
    "    leverage: int | None = Field(None, description=\"Optional leverage multiplier\")\n",
    "\n",
    "\n",
    "class PositionReasoning(BaseModel):\n",
    "    positions_to_maintain: list[Position] = Field(\n",
    "        default_factory=list,\n",
    "        description=\"Positions to maintain without changes\",\n",
    "    )\n",
    "    positions_to_modify: list[Position] = Field(\n",
    "        default_factory=list,\n",
    "        description=\"Positions to modify or close\",\n",
    "    )\n",
    "    positions_to_open: list[Position] = Field(\n",
    "        default_factory=list,\n",
    "        description=\"Positions to open\",\n",
    "    )"
   ]
  },
  {
   "cell_type": "markdown",
   "metadata": {},
   "source": [
    "## Make our call"
   ]
  },
  {
   "cell_type": "code",
   "execution_count": 11,
   "metadata": {},
   "outputs": [
    {
     "data": {
      "text/plain": [
       "{'positions_to_maintain': [{'market': 'ATOM',\n",
       "   'direction': 'long',\n",
       "   'size': 5123.8577,\n",
       "   'reasoning': ['The ATOM position is small in terms of overall balance and has only a moderate unrealized loss.',\n",
       "    'There might be potential for ATOM to recover as market sentiment improves.'],\n",
       "   'leverage': 20},\n",
       "  {'market': 'BTC',\n",
       "   'direction': 'short',\n",
       "   'size': 15224.59344,\n",
       "   'reasoning': [\"The BTC short position has a significant loss, suggesting that the market might have moved against this position already. It's important to evaluate before making any quick decisions, considering broader market trends.\"],\n",
       "   'leverage': 20},\n",
       "  {'market': 'BNB',\n",
       "   'direction': 'short',\n",
       "   'size': 11442.21936,\n",
       "   'reasoning': ['Similar to BTC, the BNB short is under pressure.',\n",
       "    'Maintaining it for now while monitoring the market closely.'],\n",
       "   'leverage': 20},\n",
       "  {'market': 'GMT',\n",
       "   'direction': 'long',\n",
       "   'size': 59.26208,\n",
       "   'reasoning': [\"The current size of the position is too small to influence major decisions, and the loss is minor. Keeping it open as it doesn't significantly impact the portfolio.\"],\n",
       "   'leverage': 2},\n",
       "  {'market': 'DYDX',\n",
       "   'direction': 'short',\n",
       "   'size': 379.24272,\n",
       "   'reasoning': ['DYDX is one of the few positions with an unrealized profit.',\n",
       "    'Maintaining it to potentially capture further gains.'],\n",
       "   'leverage': 20},\n",
       "  {'market': 'OP',\n",
       "   'direction': 'long',\n",
       "   'size': 4285.72787,\n",
       "   'reasoning': [\"The OP position is profitable and doesn't tie up a large share of the available balance.\",\n",
       "    'There is potential for further gains if the general market conditions improve.'],\n",
       "   'leverage': 20}],\n",
       " 'positions_to_modify': [{'market': 'ETH',\n",
       "   'direction': 'long',\n",
       "   'size': 10523.8125,\n",
       "   'reasoning': ['With positive sentiment growing around Ethereum due to the roadmap updates, it could be a strategic time to change the short ETH position to a long position to capitalize on potential price recovery.',\n",
       "    'The loss in the short ETH position suggests the market might have moved opposite to the position. Therefore, we switch the position direction while leaving room for volatility.',\n",
       "    'Ensure size change allows for maintaining a balance as a hedge against unforeseen market moves.'],\n",
       "   'leverage': 10}],\n",
       " 'positions_to_open': [{'market': 'APE',\n",
       "   'direction': 'long',\n",
       "   'size': 5375.64177,\n",
       "   'reasoning': [\"The APE position is currently at a significant loss. Given the available balance and the potential upside due to Robinhood's increased trading volume, converting this into a long position might capture upside potential.\",\n",
       "    \"Additionally, with overall market conditions looking more favorable, there's an expectation that altcoins like APE could rally.\"],\n",
       "   'leverage': 5}]}"
      ]
     },
     "execution_count": 11,
     "metadata": {},
     "output_type": "execute_result"
    }
   ],
   "source": [
    "completion = openai_client.beta.chat.completions.parse(\n",
    "    model=model,\n",
    "    messages=messages,\n",
    "    response_format=PositionReasoning,\n",
    ")\n",
    "\n",
    "result = completion.choices[0].message.parsed\n",
    "result.model_dump()"
   ]
  },
  {
   "cell_type": "markdown",
   "metadata": {},
   "source": [
    "## Submit our trades (Incomplete example for testing)\n",
    "\n",
    "For positions_to_maintain there is no action required, but it's helpful to log and explain the \"reasoning\" to users\n",
    "positions_to_open and positions_to_modify both require submitting orders onchain. \n",
    "\n",
    "\n",
    "If you wish to start trading before updates to this notebook are available, you can refer to the [hyperliquid-python-sdk.](https://github.com/hyperliquid-dex/hyperliquid-python-sdk) "
   ]
  },
  {
   "cell_type": "code",
   "execution_count": 12,
   "metadata": {},
   "outputs": [
    {
     "data": {
      "text/plain": [
       "[Position(market='APE', direction='long', size=5375.64177, reasoning=[\"The APE position is currently at a significant loss. Given the available balance and the potential upside due to Robinhood's increased trading volume, converting this into a long position might capture upside potential.\", \"Additionally, with overall market conditions looking more favorable, there's an expectation that altcoins like APE could rally.\"], leverage=5)]"
      ]
     },
     "execution_count": 12,
     "metadata": {},
     "output_type": "execute_result"
    }
   ],
   "source": [
    "result.positions_to_open"
   ]
  },
  {
   "cell_type": "code",
   "execution_count": 13,
   "metadata": {},
   "outputs": [
    {
     "data": {
      "text/plain": [
       "'APE'"
      ]
     },
     "execution_count": 13,
     "metadata": {},
     "output_type": "execute_result"
    }
   ],
   "source": [
    "result.positions_to_open[0].market"
   ]
  },
  {
   "cell_type": "code",
   "execution_count": 14,
   "metadata": {},
   "outputs": [
    {
     "data": {
      "text/plain": [
       "'long'"
      ]
     },
     "execution_count": 14,
     "metadata": {},
     "output_type": "execute_result"
    }
   ],
   "source": [
    "result.positions_to_open[0].direction"
   ]
  },
  {
   "cell_type": "code",
   "execution_count": 15,
   "metadata": {},
   "outputs": [
    {
     "data": {
      "text/plain": [
       "5375.64177"
      ]
     },
     "execution_count": 15,
     "metadata": {},
     "output_type": "execute_result"
    }
   ],
   "source": [
    "result.positions_to_open[0].size"
   ]
  },
  {
   "cell_type": "code",
   "execution_count": 16,
   "metadata": {},
   "outputs": [
    {
     "data": {
      "text/plain": [
       "5"
      ]
     },
     "execution_count": 16,
     "metadata": {},
     "output_type": "execute_result"
    }
   ],
   "source": [
    "result.positions_to_open[0].leverage"
   ]
  },
  {
   "cell_type": "code",
   "execution_count": 17,
   "metadata": {},
   "outputs": [
    {
     "data": {
      "text/plain": [
       "[\"The APE position is currently at a significant loss. Given the available balance and the potential upside due to Robinhood's increased trading volume, converting this into a long position might capture upside potential.\",\n",
       " \"Additionally, with overall market conditions looking more favorable, there's an expectation that altcoins like APE could rally.\"]"
      ]
     },
     "execution_count": 17,
     "metadata": {},
     "output_type": "execute_result"
    }
   ],
   "source": [
    "result.positions_to_open[0].reasoning"
   ]
  }
 ],
 "metadata": {
  "kernelspec": {
   "display_name": "encode_env",
   "language": "python",
   "name": "encode_env"
  },
  "language_info": {
   "codemirror_mode": {
    "name": "ipython",
    "version": 3
   },
   "file_extension": ".py",
   "mimetype": "text/x-python",
   "name": "python",
   "nbconvert_exporter": "python",
   "pygments_lexer": "ipython3",
   "version": "3.11.9"
  }
 },
 "nbformat": 4,
 "nbformat_minor": 2
}
